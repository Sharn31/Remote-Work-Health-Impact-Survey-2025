{
 "cells": [
  {
   "cell_type": "markdown",
   "id": "0dd34771-5d29-48a2-9bb5-e00b16d78587",
   "metadata": {},
   "source": [
    "## Import Libraries"
   ]
  },
  {
   "cell_type": "code",
   "execution_count": 1,
   "id": "c1676ed0-8a4e-4ce9-95dc-3ae42d033eee",
   "metadata": {},
   "outputs": [],
   "source": [
    "import numpy as np\n",
    "import pandas as pd\n",
    "import matplotlib.pyplot as plt\n",
    "import seaborn as sns \n",
    "import plotly.express as px\n"
   ]
  },
  {
   "cell_type": "markdown",
   "id": "4179ade4-44f3-4d01-bf94-5596ad42807b",
   "metadata": {},
   "source": [
    "## Load the DataSet"
   ]
  },
  {
   "cell_type": "code",
   "execution_count": null,
   "id": "c176693f-3281-4d38-b9f1-4665eb0493f3",
   "metadata": {},
   "outputs": [
    {
     "data": {
      "text/html": [
       "<div>\n",
       "<style scoped>\n",
       "    .dataframe tbody tr th:only-of-type {\n",
       "        vertical-align: middle;\n",
       "    }\n",
       "\n",
       "    .dataframe tbody tr th {\n",
       "        vertical-align: top;\n",
       "    }\n",
       "\n",
       "    .dataframe thead th {\n",
       "        text-align: right;\n",
       "    }\n",
       "</style>\n",
       "<table border=\"1\" class=\"dataframe\">\n",
       "  <thead>\n",
       "    <tr style=\"text-align: right;\">\n",
       "      <th></th>\n",
       "      <th>Survey_Date</th>\n",
       "      <th>Age</th>\n",
       "      <th>Gender</th>\n",
       "      <th>Region</th>\n",
       "      <th>Industry</th>\n",
       "      <th>Job_Role</th>\n",
       "      <th>Work_Arrangement</th>\n",
       "      <th>Hours_Per_Week</th>\n",
       "      <th>Mental_Health_Status</th>\n",
       "      <th>Burnout_Level</th>\n",
       "      <th>Work_Life_Balance_Score</th>\n",
       "      <th>Physical_Health_Issues</th>\n",
       "      <th>Social_Isolation_Score</th>\n",
       "      <th>Salary_Range</th>\n",
       "    </tr>\n",
       "  </thead>\n",
       "  <tbody>\n",
       "    <tr>\n",
       "      <th>0</th>\n",
       "      <td>2025-06-01</td>\n",
       "      <td>27</td>\n",
       "      <td>Female</td>\n",
       "      <td>Asia</td>\n",
       "      <td>Professional Services</td>\n",
       "      <td>Data Analyst</td>\n",
       "      <td>Onsite</td>\n",
       "      <td>64</td>\n",
       "      <td>Stress Disorder</td>\n",
       "      <td>High</td>\n",
       "      <td>3</td>\n",
       "      <td>Shoulder Pain; Neck Pain</td>\n",
       "      <td>2</td>\n",
       "      <td>$40K-60K</td>\n",
       "    </tr>\n",
       "    <tr>\n",
       "      <th>1</th>\n",
       "      <td>2025-06-01</td>\n",
       "      <td>37</td>\n",
       "      <td>Female</td>\n",
       "      <td>Asia</td>\n",
       "      <td>Professional Services</td>\n",
       "      <td>Data Analyst</td>\n",
       "      <td>Onsite</td>\n",
       "      <td>37</td>\n",
       "      <td>Stress Disorder</td>\n",
       "      <td>High</td>\n",
       "      <td>4</td>\n",
       "      <td>Back Pain</td>\n",
       "      <td>2</td>\n",
       "      <td>$80K-100K</td>\n",
       "    </tr>\n",
       "    <tr>\n",
       "      <th>2</th>\n",
       "      <td>2025-06-01</td>\n",
       "      <td>32</td>\n",
       "      <td>Female</td>\n",
       "      <td>Africa</td>\n",
       "      <td>Education</td>\n",
       "      <td>Business Analyst</td>\n",
       "      <td>Onsite</td>\n",
       "      <td>36</td>\n",
       "      <td>ADHD</td>\n",
       "      <td>High</td>\n",
       "      <td>3</td>\n",
       "      <td>Shoulder Pain; Eye Strain</td>\n",
       "      <td>2</td>\n",
       "      <td>$80K-100K</td>\n",
       "    </tr>\n",
       "    <tr>\n",
       "      <th>3</th>\n",
       "      <td>2025-06-01</td>\n",
       "      <td>40</td>\n",
       "      <td>Female</td>\n",
       "      <td>Europe</td>\n",
       "      <td>Education</td>\n",
       "      <td>Data Analyst</td>\n",
       "      <td>Onsite</td>\n",
       "      <td>63</td>\n",
       "      <td>ADHD</td>\n",
       "      <td>Medium</td>\n",
       "      <td>1</td>\n",
       "      <td>Shoulder Pain; Eye Strain</td>\n",
       "      <td>2</td>\n",
       "      <td>$60K-80K</td>\n",
       "    </tr>\n",
       "    <tr>\n",
       "      <th>4</th>\n",
       "      <td>2025-06-01</td>\n",
       "      <td>30</td>\n",
       "      <td>Male</td>\n",
       "      <td>South America</td>\n",
       "      <td>Manufacturing</td>\n",
       "      <td>DevOps Engineer</td>\n",
       "      <td>Hybrid</td>\n",
       "      <td>65</td>\n",
       "      <td>NaN</td>\n",
       "      <td>Medium</td>\n",
       "      <td>5</td>\n",
       "      <td>NaN</td>\n",
       "      <td>4</td>\n",
       "      <td>$60K-80K</td>\n",
       "    </tr>\n",
       "    <tr>\n",
       "      <th>...</th>\n",
       "      <td>...</td>\n",
       "      <td>...</td>\n",
       "      <td>...</td>\n",
       "      <td>...</td>\n",
       "      <td>...</td>\n",
       "      <td>...</td>\n",
       "      <td>...</td>\n",
       "      <td>...</td>\n",
       "      <td>...</td>\n",
       "      <td>...</td>\n",
       "      <td>...</td>\n",
       "      <td>...</td>\n",
       "      <td>...</td>\n",
       "      <td>...</td>\n",
       "    </tr>\n",
       "    <tr>\n",
       "      <th>3152</th>\n",
       "      <td>2025-06-26</td>\n",
       "      <td>62</td>\n",
       "      <td>Female</td>\n",
       "      <td>South America</td>\n",
       "      <td>Professional Services</td>\n",
       "      <td>Data Analyst</td>\n",
       "      <td>Hybrid</td>\n",
       "      <td>38</td>\n",
       "      <td>PTSD</td>\n",
       "      <td>Medium</td>\n",
       "      <td>4</td>\n",
       "      <td>Shoulder Pain; Neck Pain</td>\n",
       "      <td>3</td>\n",
       "      <td>$80K-100K</td>\n",
       "    </tr>\n",
       "    <tr>\n",
       "      <th>3153</th>\n",
       "      <td>2025-06-26</td>\n",
       "      <td>24</td>\n",
       "      <td>Female</td>\n",
       "      <td>South America</td>\n",
       "      <td>Professional Services</td>\n",
       "      <td>Software Engineer</td>\n",
       "      <td>Remote</td>\n",
       "      <td>54</td>\n",
       "      <td>NaN</td>\n",
       "      <td>Medium</td>\n",
       "      <td>4</td>\n",
       "      <td>Eye Strain</td>\n",
       "      <td>4</td>\n",
       "      <td>$100K-120K</td>\n",
       "    </tr>\n",
       "    <tr>\n",
       "      <th>3154</th>\n",
       "      <td>2025-06-26</td>\n",
       "      <td>45</td>\n",
       "      <td>Female</td>\n",
       "      <td>North America</td>\n",
       "      <td>Professional Services</td>\n",
       "      <td>HR Manager</td>\n",
       "      <td>Onsite</td>\n",
       "      <td>59</td>\n",
       "      <td>PTSD</td>\n",
       "      <td>Medium</td>\n",
       "      <td>1</td>\n",
       "      <td>Shoulder Pain</td>\n",
       "      <td>3</td>\n",
       "      <td>$40K-60K</td>\n",
       "    </tr>\n",
       "    <tr>\n",
       "      <th>3155</th>\n",
       "      <td>2025-06-26</td>\n",
       "      <td>38</td>\n",
       "      <td>Male</td>\n",
       "      <td>North America</td>\n",
       "      <td>Education</td>\n",
       "      <td>Operations Manager</td>\n",
       "      <td>Onsite</td>\n",
       "      <td>52</td>\n",
       "      <td>Depression</td>\n",
       "      <td>Medium</td>\n",
       "      <td>3</td>\n",
       "      <td>Shoulder Pain; Eye Strain; Neck Pain</td>\n",
       "      <td>5</td>\n",
       "      <td>$80K-100K</td>\n",
       "    </tr>\n",
       "    <tr>\n",
       "      <th>3156</th>\n",
       "      <td>2025-06-26</td>\n",
       "      <td>54</td>\n",
       "      <td>Female</td>\n",
       "      <td>North America</td>\n",
       "      <td>Healthcare</td>\n",
       "      <td>Technical Writer</td>\n",
       "      <td>Onsite</td>\n",
       "      <td>39</td>\n",
       "      <td>Burnout</td>\n",
       "      <td>Medium</td>\n",
       "      <td>4</td>\n",
       "      <td>Back Pain; Eye Strain</td>\n",
       "      <td>2</td>\n",
       "      <td>$100K-120K</td>\n",
       "    </tr>\n",
       "  </tbody>\n",
       "</table>\n",
       "<p>3157 rows × 14 columns</p>\n",
       "</div>"
      ],
      "text/plain": [
       "     Survey_Date  Age  Gender         Region               Industry  \\\n",
       "0     2025-06-01   27  Female           Asia  Professional Services   \n",
       "1     2025-06-01   37  Female           Asia  Professional Services   \n",
       "2     2025-06-01   32  Female         Africa              Education   \n",
       "3     2025-06-01   40  Female         Europe              Education   \n",
       "4     2025-06-01   30    Male  South America          Manufacturing   \n",
       "...          ...  ...     ...            ...                    ...   \n",
       "3152  2025-06-26   62  Female  South America  Professional Services   \n",
       "3153  2025-06-26   24  Female  South America  Professional Services   \n",
       "3154  2025-06-26   45  Female  North America  Professional Services   \n",
       "3155  2025-06-26   38    Male  North America              Education   \n",
       "3156  2025-06-26   54  Female  North America             Healthcare   \n",
       "\n",
       "                Job_Role Work_Arrangement  Hours_Per_Week  \\\n",
       "0           Data Analyst           Onsite              64   \n",
       "1           Data Analyst           Onsite              37   \n",
       "2       Business Analyst           Onsite              36   \n",
       "3           Data Analyst           Onsite              63   \n",
       "4        DevOps Engineer           Hybrid              65   \n",
       "...                  ...              ...             ...   \n",
       "3152        Data Analyst           Hybrid              38   \n",
       "3153   Software Engineer           Remote              54   \n",
       "3154          HR Manager           Onsite              59   \n",
       "3155  Operations Manager           Onsite              52   \n",
       "3156    Technical Writer           Onsite              39   \n",
       "\n",
       "     Mental_Health_Status Burnout_Level  Work_Life_Balance_Score  \\\n",
       "0         Stress Disorder          High                        3   \n",
       "1         Stress Disorder          High                        4   \n",
       "2                    ADHD          High                        3   \n",
       "3                    ADHD        Medium                        1   \n",
       "4                     NaN        Medium                        5   \n",
       "...                   ...           ...                      ...   \n",
       "3152                 PTSD        Medium                        4   \n",
       "3153                  NaN        Medium                        4   \n",
       "3154                 PTSD        Medium                        1   \n",
       "3155           Depression        Medium                        3   \n",
       "3156              Burnout        Medium                        4   \n",
       "\n",
       "                    Physical_Health_Issues  Social_Isolation_Score  \\\n",
       "0                 Shoulder Pain; Neck Pain                       2   \n",
       "1                                Back Pain                       2   \n",
       "2                Shoulder Pain; Eye Strain                       2   \n",
       "3                Shoulder Pain; Eye Strain                       2   \n",
       "4                                      NaN                       4   \n",
       "...                                    ...                     ...   \n",
       "3152              Shoulder Pain; Neck Pain                       3   \n",
       "3153                            Eye Strain                       4   \n",
       "3154                         Shoulder Pain                       3   \n",
       "3155  Shoulder Pain; Eye Strain; Neck Pain                       5   \n",
       "3156                 Back Pain; Eye Strain                       2   \n",
       "\n",
       "     Salary_Range  \n",
       "0        $40K-60K  \n",
       "1       $80K-100K  \n",
       "2       $80K-100K  \n",
       "3        $60K-80K  \n",
       "4        $60K-80K  \n",
       "...           ...  \n",
       "3152    $80K-100K  \n",
       "3153   $100K-120K  \n",
       "3154     $40K-60K  \n",
       "3155    $80K-100K  \n",
       "3156   $100K-120K  \n",
       "\n",
       "[3157 rows x 14 columns]"
      ]
     },
     "execution_count": 2,
     "metadata": {},
     "output_type": "execute_result"
    }
   ],
   "source": [
    "\n",
    "df=pd.read_csv('post_pandemic_remote_work_health_impact_2025.csv')\n",
    "df\n",
    "\n",
    "print(\"Project Start\")"
   ]
  },
  {
   "cell_type": "markdown",
   "id": "d0101e8c-d951-41be-88d0-4825a0f10924",
   "metadata": {},
   "source": [
    "## Analyzing the Dataset"
   ]
  },
  {
   "cell_type": "code",
   "execution_count": 3,
   "id": "986c1dbb-947c-4275-afd2-526d4a0baf76",
   "metadata": {},
   "outputs": [
    {
     "name": "stdout",
     "output_type": "stream",
     "text": [
      "<class 'pandas.core.frame.DataFrame'>\n",
      "RangeIndex: 3157 entries, 0 to 3156\n",
      "Data columns (total 14 columns):\n",
      " #   Column                   Non-Null Count  Dtype \n",
      "---  ------                   --------------  ----- \n",
      " 0   Survey_Date              3157 non-null   object\n",
      " 1   Age                      3157 non-null   int64 \n",
      " 2   Gender                   3157 non-null   object\n",
      " 3   Region                   3157 non-null   object\n",
      " 4   Industry                 3157 non-null   object\n",
      " 5   Job_Role                 3157 non-null   object\n",
      " 6   Work_Arrangement         3157 non-null   object\n",
      " 7   Hours_Per_Week           3157 non-null   int64 \n",
      " 8   Mental_Health_Status     2358 non-null   object\n",
      " 9   Burnout_Level            3157 non-null   object\n",
      " 10  Work_Life_Balance_Score  3157 non-null   int64 \n",
      " 11  Physical_Health_Issues   2877 non-null   object\n",
      " 12  Social_Isolation_Score   3157 non-null   int64 \n",
      " 13  Salary_Range             3157 non-null   object\n",
      "dtypes: int64(4), object(10)\n",
      "memory usage: 345.4+ KB\n"
     ]
    }
   ],
   "source": [
    "df.info()"
   ]
  },
  {
   "cell_type": "code",
   "execution_count": 4,
   "id": "d2538fb3-369e-404b-8710-db9fe5b7d7e7",
   "metadata": {},
   "outputs": [
    {
     "data": {
      "text/plain": [
       "(3157, 14)"
      ]
     },
     "execution_count": 4,
     "metadata": {},
     "output_type": "execute_result"
    }
   ],
   "source": [
    "df.shape"
   ]
  },
  {
   "cell_type": "code",
   "execution_count": 5,
   "id": "85fed903-1895-48e6-b100-566a91abc341",
   "metadata": {},
   "outputs": [
    {
     "data": {
      "text/html": [
       "<div>\n",
       "<style scoped>\n",
       "    .dataframe tbody tr th:only-of-type {\n",
       "        vertical-align: middle;\n",
       "    }\n",
       "\n",
       "    .dataframe tbody tr th {\n",
       "        vertical-align: top;\n",
       "    }\n",
       "\n",
       "    .dataframe thead th {\n",
       "        text-align: right;\n",
       "    }\n",
       "</style>\n",
       "<table border=\"1\" class=\"dataframe\">\n",
       "  <thead>\n",
       "    <tr style=\"text-align: right;\">\n",
       "      <th></th>\n",
       "      <th>Survey_Date</th>\n",
       "      <th>Age</th>\n",
       "      <th>Gender</th>\n",
       "      <th>Region</th>\n",
       "      <th>Industry</th>\n",
       "      <th>Job_Role</th>\n",
       "      <th>Work_Arrangement</th>\n",
       "      <th>Hours_Per_Week</th>\n",
       "      <th>Mental_Health_Status</th>\n",
       "      <th>Burnout_Level</th>\n",
       "      <th>Work_Life_Balance_Score</th>\n",
       "      <th>Physical_Health_Issues</th>\n",
       "      <th>Social_Isolation_Score</th>\n",
       "      <th>Salary_Range</th>\n",
       "    </tr>\n",
       "  </thead>\n",
       "  <tbody>\n",
       "    <tr>\n",
       "      <th>0</th>\n",
       "      <td>2025-06-01</td>\n",
       "      <td>27</td>\n",
       "      <td>Female</td>\n",
       "      <td>Asia</td>\n",
       "      <td>Professional Services</td>\n",
       "      <td>Data Analyst</td>\n",
       "      <td>Onsite</td>\n",
       "      <td>64</td>\n",
       "      <td>Stress Disorder</td>\n",
       "      <td>High</td>\n",
       "      <td>3</td>\n",
       "      <td>Shoulder Pain; Neck Pain</td>\n",
       "      <td>2</td>\n",
       "      <td>$40K-60K</td>\n",
       "    </tr>\n",
       "    <tr>\n",
       "      <th>1</th>\n",
       "      <td>2025-06-01</td>\n",
       "      <td>37</td>\n",
       "      <td>Female</td>\n",
       "      <td>Asia</td>\n",
       "      <td>Professional Services</td>\n",
       "      <td>Data Analyst</td>\n",
       "      <td>Onsite</td>\n",
       "      <td>37</td>\n",
       "      <td>Stress Disorder</td>\n",
       "      <td>High</td>\n",
       "      <td>4</td>\n",
       "      <td>Back Pain</td>\n",
       "      <td>2</td>\n",
       "      <td>$80K-100K</td>\n",
       "    </tr>\n",
       "    <tr>\n",
       "      <th>2</th>\n",
       "      <td>2025-06-01</td>\n",
       "      <td>32</td>\n",
       "      <td>Female</td>\n",
       "      <td>Africa</td>\n",
       "      <td>Education</td>\n",
       "      <td>Business Analyst</td>\n",
       "      <td>Onsite</td>\n",
       "      <td>36</td>\n",
       "      <td>ADHD</td>\n",
       "      <td>High</td>\n",
       "      <td>3</td>\n",
       "      <td>Shoulder Pain; Eye Strain</td>\n",
       "      <td>2</td>\n",
       "      <td>$80K-100K</td>\n",
       "    </tr>\n",
       "    <tr>\n",
       "      <th>3</th>\n",
       "      <td>2025-06-01</td>\n",
       "      <td>40</td>\n",
       "      <td>Female</td>\n",
       "      <td>Europe</td>\n",
       "      <td>Education</td>\n",
       "      <td>Data Analyst</td>\n",
       "      <td>Onsite</td>\n",
       "      <td>63</td>\n",
       "      <td>ADHD</td>\n",
       "      <td>Medium</td>\n",
       "      <td>1</td>\n",
       "      <td>Shoulder Pain; Eye Strain</td>\n",
       "      <td>2</td>\n",
       "      <td>$60K-80K</td>\n",
       "    </tr>\n",
       "    <tr>\n",
       "      <th>4</th>\n",
       "      <td>2025-06-01</td>\n",
       "      <td>30</td>\n",
       "      <td>Male</td>\n",
       "      <td>South America</td>\n",
       "      <td>Manufacturing</td>\n",
       "      <td>DevOps Engineer</td>\n",
       "      <td>Hybrid</td>\n",
       "      <td>65</td>\n",
       "      <td>NaN</td>\n",
       "      <td>Medium</td>\n",
       "      <td>5</td>\n",
       "      <td>NaN</td>\n",
       "      <td>4</td>\n",
       "      <td>$60K-80K</td>\n",
       "    </tr>\n",
       "  </tbody>\n",
       "</table>\n",
       "</div>"
      ],
      "text/plain": [
       "  Survey_Date  Age  Gender         Region               Industry  \\\n",
       "0  2025-06-01   27  Female           Asia  Professional Services   \n",
       "1  2025-06-01   37  Female           Asia  Professional Services   \n",
       "2  2025-06-01   32  Female         Africa              Education   \n",
       "3  2025-06-01   40  Female         Europe              Education   \n",
       "4  2025-06-01   30    Male  South America          Manufacturing   \n",
       "\n",
       "           Job_Role Work_Arrangement  Hours_Per_Week Mental_Health_Status  \\\n",
       "0      Data Analyst           Onsite              64      Stress Disorder   \n",
       "1      Data Analyst           Onsite              37      Stress Disorder   \n",
       "2  Business Analyst           Onsite              36                 ADHD   \n",
       "3      Data Analyst           Onsite              63                 ADHD   \n",
       "4   DevOps Engineer           Hybrid              65                  NaN   \n",
       "\n",
       "  Burnout_Level  Work_Life_Balance_Score     Physical_Health_Issues  \\\n",
       "0          High                        3   Shoulder Pain; Neck Pain   \n",
       "1          High                        4                  Back Pain   \n",
       "2          High                        3  Shoulder Pain; Eye Strain   \n",
       "3        Medium                        1  Shoulder Pain; Eye Strain   \n",
       "4        Medium                        5                        NaN   \n",
       "\n",
       "   Social_Isolation_Score Salary_Range  \n",
       "0                       2     $40K-60K  \n",
       "1                       2    $80K-100K  \n",
       "2                       2    $80K-100K  \n",
       "3                       2     $60K-80K  \n",
       "4                       4     $60K-80K  "
      ]
     },
     "execution_count": 5,
     "metadata": {},
     "output_type": "execute_result"
    }
   ],
   "source": [
    "df.head()"
   ]
  },
  {
   "cell_type": "code",
   "execution_count": 6,
   "id": "6e5420d3-492b-4d83-95d2-6a6de40faf3c",
   "metadata": {},
   "outputs": [
    {
     "data": {
      "text/html": [
       "<div>\n",
       "<style scoped>\n",
       "    .dataframe tbody tr th:only-of-type {\n",
       "        vertical-align: middle;\n",
       "    }\n",
       "\n",
       "    .dataframe tbody tr th {\n",
       "        vertical-align: top;\n",
       "    }\n",
       "\n",
       "    .dataframe thead th {\n",
       "        text-align: right;\n",
       "    }\n",
       "</style>\n",
       "<table border=\"1\" class=\"dataframe\">\n",
       "  <thead>\n",
       "    <tr style=\"text-align: right;\">\n",
       "      <th></th>\n",
       "      <th>Survey_Date</th>\n",
       "      <th>Age</th>\n",
       "      <th>Gender</th>\n",
       "      <th>Region</th>\n",
       "      <th>Industry</th>\n",
       "      <th>Job_Role</th>\n",
       "      <th>Work_Arrangement</th>\n",
       "      <th>Hours_Per_Week</th>\n",
       "      <th>Mental_Health_Status</th>\n",
       "      <th>Burnout_Level</th>\n",
       "      <th>Work_Life_Balance_Score</th>\n",
       "      <th>Physical_Health_Issues</th>\n",
       "      <th>Social_Isolation_Score</th>\n",
       "      <th>Salary_Range</th>\n",
       "    </tr>\n",
       "  </thead>\n",
       "  <tbody>\n",
       "    <tr>\n",
       "      <th>3152</th>\n",
       "      <td>2025-06-26</td>\n",
       "      <td>62</td>\n",
       "      <td>Female</td>\n",
       "      <td>South America</td>\n",
       "      <td>Professional Services</td>\n",
       "      <td>Data Analyst</td>\n",
       "      <td>Hybrid</td>\n",
       "      <td>38</td>\n",
       "      <td>PTSD</td>\n",
       "      <td>Medium</td>\n",
       "      <td>4</td>\n",
       "      <td>Shoulder Pain; Neck Pain</td>\n",
       "      <td>3</td>\n",
       "      <td>$80K-100K</td>\n",
       "    </tr>\n",
       "    <tr>\n",
       "      <th>3153</th>\n",
       "      <td>2025-06-26</td>\n",
       "      <td>24</td>\n",
       "      <td>Female</td>\n",
       "      <td>South America</td>\n",
       "      <td>Professional Services</td>\n",
       "      <td>Software Engineer</td>\n",
       "      <td>Remote</td>\n",
       "      <td>54</td>\n",
       "      <td>NaN</td>\n",
       "      <td>Medium</td>\n",
       "      <td>4</td>\n",
       "      <td>Eye Strain</td>\n",
       "      <td>4</td>\n",
       "      <td>$100K-120K</td>\n",
       "    </tr>\n",
       "    <tr>\n",
       "      <th>3154</th>\n",
       "      <td>2025-06-26</td>\n",
       "      <td>45</td>\n",
       "      <td>Female</td>\n",
       "      <td>North America</td>\n",
       "      <td>Professional Services</td>\n",
       "      <td>HR Manager</td>\n",
       "      <td>Onsite</td>\n",
       "      <td>59</td>\n",
       "      <td>PTSD</td>\n",
       "      <td>Medium</td>\n",
       "      <td>1</td>\n",
       "      <td>Shoulder Pain</td>\n",
       "      <td>3</td>\n",
       "      <td>$40K-60K</td>\n",
       "    </tr>\n",
       "    <tr>\n",
       "      <th>3155</th>\n",
       "      <td>2025-06-26</td>\n",
       "      <td>38</td>\n",
       "      <td>Male</td>\n",
       "      <td>North America</td>\n",
       "      <td>Education</td>\n",
       "      <td>Operations Manager</td>\n",
       "      <td>Onsite</td>\n",
       "      <td>52</td>\n",
       "      <td>Depression</td>\n",
       "      <td>Medium</td>\n",
       "      <td>3</td>\n",
       "      <td>Shoulder Pain; Eye Strain; Neck Pain</td>\n",
       "      <td>5</td>\n",
       "      <td>$80K-100K</td>\n",
       "    </tr>\n",
       "    <tr>\n",
       "      <th>3156</th>\n",
       "      <td>2025-06-26</td>\n",
       "      <td>54</td>\n",
       "      <td>Female</td>\n",
       "      <td>North America</td>\n",
       "      <td>Healthcare</td>\n",
       "      <td>Technical Writer</td>\n",
       "      <td>Onsite</td>\n",
       "      <td>39</td>\n",
       "      <td>Burnout</td>\n",
       "      <td>Medium</td>\n",
       "      <td>4</td>\n",
       "      <td>Back Pain; Eye Strain</td>\n",
       "      <td>2</td>\n",
       "      <td>$100K-120K</td>\n",
       "    </tr>\n",
       "  </tbody>\n",
       "</table>\n",
       "</div>"
      ],
      "text/plain": [
       "     Survey_Date  Age  Gender         Region               Industry  \\\n",
       "3152  2025-06-26   62  Female  South America  Professional Services   \n",
       "3153  2025-06-26   24  Female  South America  Professional Services   \n",
       "3154  2025-06-26   45  Female  North America  Professional Services   \n",
       "3155  2025-06-26   38    Male  North America              Education   \n",
       "3156  2025-06-26   54  Female  North America             Healthcare   \n",
       "\n",
       "                Job_Role Work_Arrangement  Hours_Per_Week  \\\n",
       "3152        Data Analyst           Hybrid              38   \n",
       "3153   Software Engineer           Remote              54   \n",
       "3154          HR Manager           Onsite              59   \n",
       "3155  Operations Manager           Onsite              52   \n",
       "3156    Technical Writer           Onsite              39   \n",
       "\n",
       "     Mental_Health_Status Burnout_Level  Work_Life_Balance_Score  \\\n",
       "3152                 PTSD        Medium                        4   \n",
       "3153                  NaN        Medium                        4   \n",
       "3154                 PTSD        Medium                        1   \n",
       "3155           Depression        Medium                        3   \n",
       "3156              Burnout        Medium                        4   \n",
       "\n",
       "                    Physical_Health_Issues  Social_Isolation_Score  \\\n",
       "3152              Shoulder Pain; Neck Pain                       3   \n",
       "3153                            Eye Strain                       4   \n",
       "3154                         Shoulder Pain                       3   \n",
       "3155  Shoulder Pain; Eye Strain; Neck Pain                       5   \n",
       "3156                 Back Pain; Eye Strain                       2   \n",
       "\n",
       "     Salary_Range  \n",
       "3152    $80K-100K  \n",
       "3153   $100K-120K  \n",
       "3154     $40K-60K  \n",
       "3155    $80K-100K  \n",
       "3156   $100K-120K  "
      ]
     },
     "execution_count": 6,
     "metadata": {},
     "output_type": "execute_result"
    }
   ],
   "source": [
    "df.tail()"
   ]
  },
  {
   "cell_type": "code",
   "execution_count": 7,
   "id": "19473284-bddd-46aa-9761-1331bc221c71",
   "metadata": {},
   "outputs": [
    {
     "data": {
      "text/plain": [
       "Survey_Date                  0\n",
       "Age                          0\n",
       "Gender                       0\n",
       "Region                       0\n",
       "Industry                     0\n",
       "Job_Role                     0\n",
       "Work_Arrangement             0\n",
       "Hours_Per_Week               0\n",
       "Mental_Health_Status       799\n",
       "Burnout_Level                0\n",
       "Work_Life_Balance_Score      0\n",
       "Physical_Health_Issues     280\n",
       "Social_Isolation_Score       0\n",
       "Salary_Range                 0\n",
       "dtype: int64"
      ]
     },
     "execution_count": 7,
     "metadata": {},
     "output_type": "execute_result"
    }
   ],
   "source": [
    "df.isnull().sum()"
   ]
  },
  {
   "cell_type": "code",
   "execution_count": 8,
   "id": "d340fd76-544f-4134-bb45-471cfd816873",
   "metadata": {},
   "outputs": [
    {
     "data": {
      "text/plain": [
       "np.int64(1079)"
      ]
     },
     "execution_count": 8,
     "metadata": {},
     "output_type": "execute_result"
    }
   ],
   "source": [
    "df.isnull().sum().sum()"
   ]
  },
  {
   "cell_type": "code",
   "execution_count": 9,
   "id": "b66fc429-3962-4e6d-9729-0dbe6c2b557f",
   "metadata": {},
   "outputs": [
    {
     "data": {
      "text/html": [
       "<div>\n",
       "<style scoped>\n",
       "    .dataframe tbody tr th:only-of-type {\n",
       "        vertical-align: middle;\n",
       "    }\n",
       "\n",
       "    .dataframe tbody tr th {\n",
       "        vertical-align: top;\n",
       "    }\n",
       "\n",
       "    .dataframe thead th {\n",
       "        text-align: right;\n",
       "    }\n",
       "</style>\n",
       "<table border=\"1\" class=\"dataframe\">\n",
       "  <thead>\n",
       "    <tr style=\"text-align: right;\">\n",
       "      <th></th>\n",
       "      <th>Age</th>\n",
       "      <th>Hours_Per_Week</th>\n",
       "      <th>Work_Life_Balance_Score</th>\n",
       "      <th>Social_Isolation_Score</th>\n",
       "    </tr>\n",
       "  </thead>\n",
       "  <tbody>\n",
       "    <tr>\n",
       "      <th>count</th>\n",
       "      <td>3157.000000</td>\n",
       "      <td>3157.000000</td>\n",
       "      <td>3157.000000</td>\n",
       "      <td>3157.000000</td>\n",
       "    </tr>\n",
       "    <tr>\n",
       "      <th>mean</th>\n",
       "      <td>43.732024</td>\n",
       "      <td>49.904973</td>\n",
       "      <td>2.996516</td>\n",
       "      <td>2.704783</td>\n",
       "    </tr>\n",
       "    <tr>\n",
       "      <th>std</th>\n",
       "      <td>12.661095</td>\n",
       "      <td>8.897699</td>\n",
       "      <td>1.163307</td>\n",
       "      <td>1.188887</td>\n",
       "    </tr>\n",
       "    <tr>\n",
       "      <th>min</th>\n",
       "      <td>22.000000</td>\n",
       "      <td>35.000000</td>\n",
       "      <td>1.000000</td>\n",
       "      <td>1.000000</td>\n",
       "    </tr>\n",
       "    <tr>\n",
       "      <th>25%</th>\n",
       "      <td>33.000000</td>\n",
       "      <td>42.000000</td>\n",
       "      <td>2.000000</td>\n",
       "      <td>2.000000</td>\n",
       "    </tr>\n",
       "    <tr>\n",
       "      <th>50%</th>\n",
       "      <td>44.000000</td>\n",
       "      <td>50.000000</td>\n",
       "      <td>3.000000</td>\n",
       "      <td>3.000000</td>\n",
       "    </tr>\n",
       "    <tr>\n",
       "      <th>75%</th>\n",
       "      <td>55.000000</td>\n",
       "      <td>57.000000</td>\n",
       "      <td>4.000000</td>\n",
       "      <td>4.000000</td>\n",
       "    </tr>\n",
       "    <tr>\n",
       "      <th>max</th>\n",
       "      <td>65.000000</td>\n",
       "      <td>65.000000</td>\n",
       "      <td>5.000000</td>\n",
       "      <td>5.000000</td>\n",
       "    </tr>\n",
       "  </tbody>\n",
       "</table>\n",
       "</div>"
      ],
      "text/plain": [
       "               Age  Hours_Per_Week  Work_Life_Balance_Score  \\\n",
       "count  3157.000000     3157.000000              3157.000000   \n",
       "mean     43.732024       49.904973                 2.996516   \n",
       "std      12.661095        8.897699                 1.163307   \n",
       "min      22.000000       35.000000                 1.000000   \n",
       "25%      33.000000       42.000000                 2.000000   \n",
       "50%      44.000000       50.000000                 3.000000   \n",
       "75%      55.000000       57.000000                 4.000000   \n",
       "max      65.000000       65.000000                 5.000000   \n",
       "\n",
       "       Social_Isolation_Score  \n",
       "count             3157.000000  \n",
       "mean                 2.704783  \n",
       "std                  1.188887  \n",
       "min                  1.000000  \n",
       "25%                  2.000000  \n",
       "50%                  3.000000  \n",
       "75%                  4.000000  \n",
       "max                  5.000000  "
      ]
     },
     "execution_count": 9,
     "metadata": {},
     "output_type": "execute_result"
    }
   ],
   "source": [
    "df.describe()"
   ]
  },
  {
   "cell_type": "code",
   "execution_count": 10,
   "id": "ead63efa-4276-450a-9946-d44efdae3d75",
   "metadata": {},
   "outputs": [
    {
     "data": {
      "text/plain": [
       "Mental_Health_Status\n",
       "PTSD               423\n",
       "Anxiety            394\n",
       "Burnout            392\n",
       "Depression         386\n",
       "ADHD               385\n",
       "Stress Disorder    378\n",
       "Name: count, dtype: int64"
      ]
     },
     "execution_count": 10,
     "metadata": {},
     "output_type": "execute_result"
    }
   ],
   "source": [
    "most_occuring_value=df['Mental_Health_Status'].value_counts()\n",
    "most_occuring_value"
   ]
  },
  {
   "cell_type": "code",
   "execution_count": 11,
   "id": "26b7c2c8-20a7-46da-ac97-bcb5e7ade5a5",
   "metadata": {},
   "outputs": [
    {
     "data": {
      "text/plain": [
       "'PTSD'"
      ]
     },
     "execution_count": 11,
     "metadata": {},
     "output_type": "execute_result"
    }
   ],
   "source": [
    "##Categorical Data:Mental_Health_Status \n",
    "df['Mental_Health_Status'].mode()[0]"
   ]
  },
  {
   "cell_type": "code",
   "execution_count": 12,
   "id": "e588a5e0-17ab-49fd-abbe-6d8603ed43da",
   "metadata": {},
   "outputs": [
    {
     "data": {
      "text/html": [
       "<div>\n",
       "<style scoped>\n",
       "    .dataframe tbody tr th:only-of-type {\n",
       "        vertical-align: middle;\n",
       "    }\n",
       "\n",
       "    .dataframe tbody tr th {\n",
       "        vertical-align: top;\n",
       "    }\n",
       "\n",
       "    .dataframe thead th {\n",
       "        text-align: right;\n",
       "    }\n",
       "</style>\n",
       "<table border=\"1\" class=\"dataframe\">\n",
       "  <thead>\n",
       "    <tr style=\"text-align: right;\">\n",
       "      <th></th>\n",
       "      <th>Survey_Date</th>\n",
       "      <th>Age</th>\n",
       "      <th>Gender</th>\n",
       "      <th>Region</th>\n",
       "      <th>Industry</th>\n",
       "      <th>Job_Role</th>\n",
       "      <th>Work_Arrangement</th>\n",
       "      <th>Hours_Per_Week</th>\n",
       "      <th>Mental_Health_Status</th>\n",
       "      <th>Burnout_Level</th>\n",
       "      <th>Work_Life_Balance_Score</th>\n",
       "      <th>Physical_Health_Issues</th>\n",
       "      <th>Social_Isolation_Score</th>\n",
       "      <th>Salary_Range</th>\n",
       "    </tr>\n",
       "  </thead>\n",
       "  <tbody>\n",
       "    <tr>\n",
       "      <th>0</th>\n",
       "      <td>2025-06-01</td>\n",
       "      <td>27</td>\n",
       "      <td>Female</td>\n",
       "      <td>Asia</td>\n",
       "      <td>Professional Services</td>\n",
       "      <td>Data Analyst</td>\n",
       "      <td>Onsite</td>\n",
       "      <td>64</td>\n",
       "      <td>Stress Disorder</td>\n",
       "      <td>High</td>\n",
       "      <td>3</td>\n",
       "      <td>Shoulder Pain; Neck Pain</td>\n",
       "      <td>2</td>\n",
       "      <td>$40K-60K</td>\n",
       "    </tr>\n",
       "    <tr>\n",
       "      <th>1</th>\n",
       "      <td>2025-06-01</td>\n",
       "      <td>37</td>\n",
       "      <td>Female</td>\n",
       "      <td>Asia</td>\n",
       "      <td>Professional Services</td>\n",
       "      <td>Data Analyst</td>\n",
       "      <td>Onsite</td>\n",
       "      <td>37</td>\n",
       "      <td>Stress Disorder</td>\n",
       "      <td>High</td>\n",
       "      <td>4</td>\n",
       "      <td>Back Pain</td>\n",
       "      <td>2</td>\n",
       "      <td>$80K-100K</td>\n",
       "    </tr>\n",
       "    <tr>\n",
       "      <th>2</th>\n",
       "      <td>2025-06-01</td>\n",
       "      <td>32</td>\n",
       "      <td>Female</td>\n",
       "      <td>Africa</td>\n",
       "      <td>Education</td>\n",
       "      <td>Business Analyst</td>\n",
       "      <td>Onsite</td>\n",
       "      <td>36</td>\n",
       "      <td>ADHD</td>\n",
       "      <td>High</td>\n",
       "      <td>3</td>\n",
       "      <td>Shoulder Pain; Eye Strain</td>\n",
       "      <td>2</td>\n",
       "      <td>$80K-100K</td>\n",
       "    </tr>\n",
       "    <tr>\n",
       "      <th>3</th>\n",
       "      <td>2025-06-01</td>\n",
       "      <td>40</td>\n",
       "      <td>Female</td>\n",
       "      <td>Europe</td>\n",
       "      <td>Education</td>\n",
       "      <td>Data Analyst</td>\n",
       "      <td>Onsite</td>\n",
       "      <td>63</td>\n",
       "      <td>ADHD</td>\n",
       "      <td>Medium</td>\n",
       "      <td>1</td>\n",
       "      <td>Shoulder Pain; Eye Strain</td>\n",
       "      <td>2</td>\n",
       "      <td>$60K-80K</td>\n",
       "    </tr>\n",
       "    <tr>\n",
       "      <th>4</th>\n",
       "      <td>2025-06-01</td>\n",
       "      <td>30</td>\n",
       "      <td>Male</td>\n",
       "      <td>South America</td>\n",
       "      <td>Manufacturing</td>\n",
       "      <td>DevOps Engineer</td>\n",
       "      <td>Hybrid</td>\n",
       "      <td>65</td>\n",
       "      <td>PTSD</td>\n",
       "      <td>Medium</td>\n",
       "      <td>5</td>\n",
       "      <td>NaN</td>\n",
       "      <td>4</td>\n",
       "      <td>$60K-80K</td>\n",
       "    </tr>\n",
       "    <tr>\n",
       "      <th>...</th>\n",
       "      <td>...</td>\n",
       "      <td>...</td>\n",
       "      <td>...</td>\n",
       "      <td>...</td>\n",
       "      <td>...</td>\n",
       "      <td>...</td>\n",
       "      <td>...</td>\n",
       "      <td>...</td>\n",
       "      <td>...</td>\n",
       "      <td>...</td>\n",
       "      <td>...</td>\n",
       "      <td>...</td>\n",
       "      <td>...</td>\n",
       "      <td>...</td>\n",
       "    </tr>\n",
       "    <tr>\n",
       "      <th>3152</th>\n",
       "      <td>2025-06-26</td>\n",
       "      <td>62</td>\n",
       "      <td>Female</td>\n",
       "      <td>South America</td>\n",
       "      <td>Professional Services</td>\n",
       "      <td>Data Analyst</td>\n",
       "      <td>Hybrid</td>\n",
       "      <td>38</td>\n",
       "      <td>PTSD</td>\n",
       "      <td>Medium</td>\n",
       "      <td>4</td>\n",
       "      <td>Shoulder Pain; Neck Pain</td>\n",
       "      <td>3</td>\n",
       "      <td>$80K-100K</td>\n",
       "    </tr>\n",
       "    <tr>\n",
       "      <th>3153</th>\n",
       "      <td>2025-06-26</td>\n",
       "      <td>24</td>\n",
       "      <td>Female</td>\n",
       "      <td>South America</td>\n",
       "      <td>Professional Services</td>\n",
       "      <td>Software Engineer</td>\n",
       "      <td>Remote</td>\n",
       "      <td>54</td>\n",
       "      <td>PTSD</td>\n",
       "      <td>Medium</td>\n",
       "      <td>4</td>\n",
       "      <td>Eye Strain</td>\n",
       "      <td>4</td>\n",
       "      <td>$100K-120K</td>\n",
       "    </tr>\n",
       "    <tr>\n",
       "      <th>3154</th>\n",
       "      <td>2025-06-26</td>\n",
       "      <td>45</td>\n",
       "      <td>Female</td>\n",
       "      <td>North America</td>\n",
       "      <td>Professional Services</td>\n",
       "      <td>HR Manager</td>\n",
       "      <td>Onsite</td>\n",
       "      <td>59</td>\n",
       "      <td>PTSD</td>\n",
       "      <td>Medium</td>\n",
       "      <td>1</td>\n",
       "      <td>Shoulder Pain</td>\n",
       "      <td>3</td>\n",
       "      <td>$40K-60K</td>\n",
       "    </tr>\n",
       "    <tr>\n",
       "      <th>3155</th>\n",
       "      <td>2025-06-26</td>\n",
       "      <td>38</td>\n",
       "      <td>Male</td>\n",
       "      <td>North America</td>\n",
       "      <td>Education</td>\n",
       "      <td>Operations Manager</td>\n",
       "      <td>Onsite</td>\n",
       "      <td>52</td>\n",
       "      <td>Depression</td>\n",
       "      <td>Medium</td>\n",
       "      <td>3</td>\n",
       "      <td>Shoulder Pain; Eye Strain; Neck Pain</td>\n",
       "      <td>5</td>\n",
       "      <td>$80K-100K</td>\n",
       "    </tr>\n",
       "    <tr>\n",
       "      <th>3156</th>\n",
       "      <td>2025-06-26</td>\n",
       "      <td>54</td>\n",
       "      <td>Female</td>\n",
       "      <td>North America</td>\n",
       "      <td>Healthcare</td>\n",
       "      <td>Technical Writer</td>\n",
       "      <td>Onsite</td>\n",
       "      <td>39</td>\n",
       "      <td>Burnout</td>\n",
       "      <td>Medium</td>\n",
       "      <td>4</td>\n",
       "      <td>Back Pain; Eye Strain</td>\n",
       "      <td>2</td>\n",
       "      <td>$100K-120K</td>\n",
       "    </tr>\n",
       "  </tbody>\n",
       "</table>\n",
       "<p>3157 rows × 14 columns</p>\n",
       "</div>"
      ],
      "text/plain": [
       "     Survey_Date  Age  Gender         Region               Industry  \\\n",
       "0     2025-06-01   27  Female           Asia  Professional Services   \n",
       "1     2025-06-01   37  Female           Asia  Professional Services   \n",
       "2     2025-06-01   32  Female         Africa              Education   \n",
       "3     2025-06-01   40  Female         Europe              Education   \n",
       "4     2025-06-01   30    Male  South America          Manufacturing   \n",
       "...          ...  ...     ...            ...                    ...   \n",
       "3152  2025-06-26   62  Female  South America  Professional Services   \n",
       "3153  2025-06-26   24  Female  South America  Professional Services   \n",
       "3154  2025-06-26   45  Female  North America  Professional Services   \n",
       "3155  2025-06-26   38    Male  North America              Education   \n",
       "3156  2025-06-26   54  Female  North America             Healthcare   \n",
       "\n",
       "                Job_Role Work_Arrangement  Hours_Per_Week  \\\n",
       "0           Data Analyst           Onsite              64   \n",
       "1           Data Analyst           Onsite              37   \n",
       "2       Business Analyst           Onsite              36   \n",
       "3           Data Analyst           Onsite              63   \n",
       "4        DevOps Engineer           Hybrid              65   \n",
       "...                  ...              ...             ...   \n",
       "3152        Data Analyst           Hybrid              38   \n",
       "3153   Software Engineer           Remote              54   \n",
       "3154          HR Manager           Onsite              59   \n",
       "3155  Operations Manager           Onsite              52   \n",
       "3156    Technical Writer           Onsite              39   \n",
       "\n",
       "     Mental_Health_Status Burnout_Level  Work_Life_Balance_Score  \\\n",
       "0         Stress Disorder          High                        3   \n",
       "1         Stress Disorder          High                        4   \n",
       "2                    ADHD          High                        3   \n",
       "3                    ADHD        Medium                        1   \n",
       "4                    PTSD        Medium                        5   \n",
       "...                   ...           ...                      ...   \n",
       "3152                 PTSD        Medium                        4   \n",
       "3153                 PTSD        Medium                        4   \n",
       "3154                 PTSD        Medium                        1   \n",
       "3155           Depression        Medium                        3   \n",
       "3156              Burnout        Medium                        4   \n",
       "\n",
       "                    Physical_Health_Issues  Social_Isolation_Score  \\\n",
       "0                 Shoulder Pain; Neck Pain                       2   \n",
       "1                                Back Pain                       2   \n",
       "2                Shoulder Pain; Eye Strain                       2   \n",
       "3                Shoulder Pain; Eye Strain                       2   \n",
       "4                                      NaN                       4   \n",
       "...                                    ...                     ...   \n",
       "3152              Shoulder Pain; Neck Pain                       3   \n",
       "3153                            Eye Strain                       4   \n",
       "3154                         Shoulder Pain                       3   \n",
       "3155  Shoulder Pain; Eye Strain; Neck Pain                       5   \n",
       "3156                 Back Pain; Eye Strain                       2   \n",
       "\n",
       "     Salary_Range  \n",
       "0        $40K-60K  \n",
       "1       $80K-100K  \n",
       "2       $80K-100K  \n",
       "3        $60K-80K  \n",
       "4        $60K-80K  \n",
       "...           ...  \n",
       "3152    $80K-100K  \n",
       "3153   $100K-120K  \n",
       "3154     $40K-60K  \n",
       "3155    $80K-100K  \n",
       "3156   $100K-120K  \n",
       "\n",
       "[3157 rows x 14 columns]"
      ]
     },
     "execution_count": 12,
     "metadata": {},
     "output_type": "execute_result"
    }
   ],
   "source": [
    "#Fill Mental_Health_Status (Categorical) with Mode\n",
    "df.fillna({'Mental_Health_Status':df['Mental_Health_Status'].mode()[0]}, inplace=True)\n",
    "df"
   ]
  },
  {
   "cell_type": "code",
   "execution_count": 13,
   "id": "d130c3af-8479-47c1-9466-6761a9859a3e",
   "metadata": {},
   "outputs": [
    {
     "data": {
      "text/plain": [
       "array(['Shoulder Pain; Neck Pain', 'Back Pain',\n",
       "       'Shoulder Pain; Eye Strain', nan, 'Back Pain; Shoulder Pain',\n",
       "       'Back Pain; Shoulder Pain; Wrist Pain', 'Neck Pain',\n",
       "       'Shoulder Pain', 'Eye Strain; Wrist Pain', 'Back Pain; Eye Strain',\n",
       "       'Back Pain; Shoulder Pain; Eye Strain', 'Back Pain; Wrist Pain',\n",
       "       'Shoulder Pain; Eye Strain; Neck Pain; Wrist Pain', 'Eye Strain',\n",
       "       'Back Pain; Shoulder Pain; Eye Strain; Neck Pain',\n",
       "       'Eye Strain; Neck Pain', 'Shoulder Pain; Eye Strain; Wrist Pain',\n",
       "       'Back Pain; Neck Pain', 'Wrist Pain',\n",
       "       'Back Pain; Shoulder Pain; Neck Pain',\n",
       "       'Back Pain; Eye Strain; Neck Pain',\n",
       "       'Back Pain; Shoulder Pain; Eye Strain; Wrist Pain',\n",
       "       'Shoulder Pain; Eye Strain; Neck Pain', 'Neck Pain; Wrist Pain',\n",
       "       'Back Pain; Eye Strain; Neck Pain; Wrist Pain',\n",
       "       'Back Pain; Eye Strain; Wrist Pain',\n",
       "       'Back Pain; Neck Pain; Wrist Pain', 'Shoulder Pain; Wrist Pain',\n",
       "       'Back Pain; Shoulder Pain; Eye Strain; Neck Pain; Wrist Pain',\n",
       "       'Back Pain; Shoulder Pain; Neck Pain; Wrist Pain',\n",
       "       'Eye Strain; Neck Pain; Wrist Pain',\n",
       "       'Shoulder Pain; Neck Pain; Wrist Pain'], dtype=object)"
      ]
     },
     "execution_count": 13,
     "metadata": {},
     "output_type": "execute_result"
    }
   ],
   "source": [
    "df.Physical_Health_Issues.unique()"
   ]
  },
  {
   "cell_type": "code",
   "execution_count": 14,
   "id": "e44ff127-3963-4c75-8c07-d3fc626b41df",
   "metadata": {},
   "outputs": [
    {
     "data": {
      "text/plain": [
       "Physical_Health_Issues\n",
       "Shoulder Pain; Eye Strain                                      262\n",
       "Back Pain; Eye Strain                                          258\n",
       "Eye Strain                                                     256\n",
       "Back Pain; Shoulder Pain; Eye Strain                           255\n",
       "Back Pain                                                      253\n",
       "Shoulder Pain                                                  235\n",
       "Back Pain; Shoulder Pain                                       218\n",
       "Back Pain; Eye Strain; Neck Pain                                93\n",
       "Neck Pain                                                       92\n",
       "Eye Strain; Neck Pain                                           90\n",
       "Back Pain; Shoulder Pain; Eye Strain; Neck Pain                 88\n",
       "Back Pain; Neck Pain                                            88\n",
       "Shoulder Pain; Neck Pain                                        78\n",
       "Shoulder Pain; Eye Strain; Neck Pain                            76\n",
       "Back Pain; Shoulder Pain; Neck Pain                             68\n",
       "Back Pain; Shoulder Pain; Eye Strain; Wrist Pain                51\n",
       "Wrist Pain                                                      49\n",
       "Back Pain; Wrist Pain                                           46\n",
       "Eye Strain; Wrist Pain                                          43\n",
       "Back Pain; Shoulder Pain; Wrist Pain                            41\n",
       "Shoulder Pain; Eye Strain; Wrist Pain                           38\n",
       "Shoulder Pain; Wrist Pain                                       38\n",
       "Back Pain; Eye Strain; Wrist Pain                               36\n",
       "Neck Pain; Wrist Pain                                           23\n",
       "Back Pain; Shoulder Pain; Neck Pain; Wrist Pain                 19\n",
       "Back Pain; Shoulder Pain; Eye Strain; Neck Pain; Wrist Pain     18\n",
       "Back Pain; Eye Strain; Neck Pain; Wrist Pain                    17\n",
       "Back Pain; Neck Pain; Wrist Pain                                14\n",
       "Eye Strain; Neck Pain; Wrist Pain                               12\n",
       "Shoulder Pain; Eye Strain; Neck Pain; Wrist Pain                11\n",
       "Shoulder Pain; Neck Pain; Wrist Pain                            11\n",
       "Name: count, dtype: int64"
      ]
     },
     "execution_count": 14,
     "metadata": {},
     "output_type": "execute_result"
    }
   ],
   "source": [
    "most_occuring_value=df['Physical_Health_Issues'].value_counts()\n",
    "most_occuring_value\n"
   ]
  },
  {
   "cell_type": "code",
   "execution_count": 15,
   "id": "79d978f0-054a-43eb-8cd6-b52d3eba8293",
   "metadata": {},
   "outputs": [
    {
     "data": {
      "text/plain": [
       "'Shoulder Pain; Eye Strain'"
      ]
     },
     "execution_count": 15,
     "metadata": {},
     "output_type": "execute_result"
    }
   ],
   "source": [
    "##Categorical Data:Mental_Health_Status \n",
    "df['Physical_Health_Issues'].mode()[0]"
   ]
  },
  {
   "cell_type": "code",
   "execution_count": 16,
   "id": "514c00a5-09f3-4ff7-a04b-3d7dda90b1be",
   "metadata": {},
   "outputs": [
    {
     "data": {
      "text/html": [
       "<div>\n",
       "<style scoped>\n",
       "    .dataframe tbody tr th:only-of-type {\n",
       "        vertical-align: middle;\n",
       "    }\n",
       "\n",
       "    .dataframe tbody tr th {\n",
       "        vertical-align: top;\n",
       "    }\n",
       "\n",
       "    .dataframe thead th {\n",
       "        text-align: right;\n",
       "    }\n",
       "</style>\n",
       "<table border=\"1\" class=\"dataframe\">\n",
       "  <thead>\n",
       "    <tr style=\"text-align: right;\">\n",
       "      <th></th>\n",
       "      <th>Survey_Date</th>\n",
       "      <th>Age</th>\n",
       "      <th>Gender</th>\n",
       "      <th>Region</th>\n",
       "      <th>Industry</th>\n",
       "      <th>Job_Role</th>\n",
       "      <th>Work_Arrangement</th>\n",
       "      <th>Hours_Per_Week</th>\n",
       "      <th>Mental_Health_Status</th>\n",
       "      <th>Burnout_Level</th>\n",
       "      <th>Work_Life_Balance_Score</th>\n",
       "      <th>Physical_Health_Issues</th>\n",
       "      <th>Social_Isolation_Score</th>\n",
       "      <th>Salary_Range</th>\n",
       "    </tr>\n",
       "  </thead>\n",
       "  <tbody>\n",
       "    <tr>\n",
       "      <th>0</th>\n",
       "      <td>2025-06-01</td>\n",
       "      <td>27</td>\n",
       "      <td>Female</td>\n",
       "      <td>Asia</td>\n",
       "      <td>Professional Services</td>\n",
       "      <td>Data Analyst</td>\n",
       "      <td>Onsite</td>\n",
       "      <td>64</td>\n",
       "      <td>Stress Disorder</td>\n",
       "      <td>High</td>\n",
       "      <td>3</td>\n",
       "      <td>Shoulder Pain; Neck Pain</td>\n",
       "      <td>2</td>\n",
       "      <td>$40K-60K</td>\n",
       "    </tr>\n",
       "    <tr>\n",
       "      <th>1</th>\n",
       "      <td>2025-06-01</td>\n",
       "      <td>37</td>\n",
       "      <td>Female</td>\n",
       "      <td>Asia</td>\n",
       "      <td>Professional Services</td>\n",
       "      <td>Data Analyst</td>\n",
       "      <td>Onsite</td>\n",
       "      <td>37</td>\n",
       "      <td>Stress Disorder</td>\n",
       "      <td>High</td>\n",
       "      <td>4</td>\n",
       "      <td>Back Pain</td>\n",
       "      <td>2</td>\n",
       "      <td>$80K-100K</td>\n",
       "    </tr>\n",
       "    <tr>\n",
       "      <th>2</th>\n",
       "      <td>2025-06-01</td>\n",
       "      <td>32</td>\n",
       "      <td>Female</td>\n",
       "      <td>Africa</td>\n",
       "      <td>Education</td>\n",
       "      <td>Business Analyst</td>\n",
       "      <td>Onsite</td>\n",
       "      <td>36</td>\n",
       "      <td>ADHD</td>\n",
       "      <td>High</td>\n",
       "      <td>3</td>\n",
       "      <td>Shoulder Pain; Eye Strain</td>\n",
       "      <td>2</td>\n",
       "      <td>$80K-100K</td>\n",
       "    </tr>\n",
       "    <tr>\n",
       "      <th>3</th>\n",
       "      <td>2025-06-01</td>\n",
       "      <td>40</td>\n",
       "      <td>Female</td>\n",
       "      <td>Europe</td>\n",
       "      <td>Education</td>\n",
       "      <td>Data Analyst</td>\n",
       "      <td>Onsite</td>\n",
       "      <td>63</td>\n",
       "      <td>ADHD</td>\n",
       "      <td>Medium</td>\n",
       "      <td>1</td>\n",
       "      <td>Shoulder Pain; Eye Strain</td>\n",
       "      <td>2</td>\n",
       "      <td>$60K-80K</td>\n",
       "    </tr>\n",
       "    <tr>\n",
       "      <th>4</th>\n",
       "      <td>2025-06-01</td>\n",
       "      <td>30</td>\n",
       "      <td>Male</td>\n",
       "      <td>South America</td>\n",
       "      <td>Manufacturing</td>\n",
       "      <td>DevOps Engineer</td>\n",
       "      <td>Hybrid</td>\n",
       "      <td>65</td>\n",
       "      <td>PTSD</td>\n",
       "      <td>Medium</td>\n",
       "      <td>5</td>\n",
       "      <td>Shoulder Pain; Eye Strain</td>\n",
       "      <td>4</td>\n",
       "      <td>$60K-80K</td>\n",
       "    </tr>\n",
       "    <tr>\n",
       "      <th>...</th>\n",
       "      <td>...</td>\n",
       "      <td>...</td>\n",
       "      <td>...</td>\n",
       "      <td>...</td>\n",
       "      <td>...</td>\n",
       "      <td>...</td>\n",
       "      <td>...</td>\n",
       "      <td>...</td>\n",
       "      <td>...</td>\n",
       "      <td>...</td>\n",
       "      <td>...</td>\n",
       "      <td>...</td>\n",
       "      <td>...</td>\n",
       "      <td>...</td>\n",
       "    </tr>\n",
       "    <tr>\n",
       "      <th>3152</th>\n",
       "      <td>2025-06-26</td>\n",
       "      <td>62</td>\n",
       "      <td>Female</td>\n",
       "      <td>South America</td>\n",
       "      <td>Professional Services</td>\n",
       "      <td>Data Analyst</td>\n",
       "      <td>Hybrid</td>\n",
       "      <td>38</td>\n",
       "      <td>PTSD</td>\n",
       "      <td>Medium</td>\n",
       "      <td>4</td>\n",
       "      <td>Shoulder Pain; Neck Pain</td>\n",
       "      <td>3</td>\n",
       "      <td>$80K-100K</td>\n",
       "    </tr>\n",
       "    <tr>\n",
       "      <th>3153</th>\n",
       "      <td>2025-06-26</td>\n",
       "      <td>24</td>\n",
       "      <td>Female</td>\n",
       "      <td>South America</td>\n",
       "      <td>Professional Services</td>\n",
       "      <td>Software Engineer</td>\n",
       "      <td>Remote</td>\n",
       "      <td>54</td>\n",
       "      <td>PTSD</td>\n",
       "      <td>Medium</td>\n",
       "      <td>4</td>\n",
       "      <td>Eye Strain</td>\n",
       "      <td>4</td>\n",
       "      <td>$100K-120K</td>\n",
       "    </tr>\n",
       "    <tr>\n",
       "      <th>3154</th>\n",
       "      <td>2025-06-26</td>\n",
       "      <td>45</td>\n",
       "      <td>Female</td>\n",
       "      <td>North America</td>\n",
       "      <td>Professional Services</td>\n",
       "      <td>HR Manager</td>\n",
       "      <td>Onsite</td>\n",
       "      <td>59</td>\n",
       "      <td>PTSD</td>\n",
       "      <td>Medium</td>\n",
       "      <td>1</td>\n",
       "      <td>Shoulder Pain</td>\n",
       "      <td>3</td>\n",
       "      <td>$40K-60K</td>\n",
       "    </tr>\n",
       "    <tr>\n",
       "      <th>3155</th>\n",
       "      <td>2025-06-26</td>\n",
       "      <td>38</td>\n",
       "      <td>Male</td>\n",
       "      <td>North America</td>\n",
       "      <td>Education</td>\n",
       "      <td>Operations Manager</td>\n",
       "      <td>Onsite</td>\n",
       "      <td>52</td>\n",
       "      <td>Depression</td>\n",
       "      <td>Medium</td>\n",
       "      <td>3</td>\n",
       "      <td>Shoulder Pain; Eye Strain; Neck Pain</td>\n",
       "      <td>5</td>\n",
       "      <td>$80K-100K</td>\n",
       "    </tr>\n",
       "    <tr>\n",
       "      <th>3156</th>\n",
       "      <td>2025-06-26</td>\n",
       "      <td>54</td>\n",
       "      <td>Female</td>\n",
       "      <td>North America</td>\n",
       "      <td>Healthcare</td>\n",
       "      <td>Technical Writer</td>\n",
       "      <td>Onsite</td>\n",
       "      <td>39</td>\n",
       "      <td>Burnout</td>\n",
       "      <td>Medium</td>\n",
       "      <td>4</td>\n",
       "      <td>Back Pain; Eye Strain</td>\n",
       "      <td>2</td>\n",
       "      <td>$100K-120K</td>\n",
       "    </tr>\n",
       "  </tbody>\n",
       "</table>\n",
       "<p>3157 rows × 14 columns</p>\n",
       "</div>"
      ],
      "text/plain": [
       "     Survey_Date  Age  Gender         Region               Industry  \\\n",
       "0     2025-06-01   27  Female           Asia  Professional Services   \n",
       "1     2025-06-01   37  Female           Asia  Professional Services   \n",
       "2     2025-06-01   32  Female         Africa              Education   \n",
       "3     2025-06-01   40  Female         Europe              Education   \n",
       "4     2025-06-01   30    Male  South America          Manufacturing   \n",
       "...          ...  ...     ...            ...                    ...   \n",
       "3152  2025-06-26   62  Female  South America  Professional Services   \n",
       "3153  2025-06-26   24  Female  South America  Professional Services   \n",
       "3154  2025-06-26   45  Female  North America  Professional Services   \n",
       "3155  2025-06-26   38    Male  North America              Education   \n",
       "3156  2025-06-26   54  Female  North America             Healthcare   \n",
       "\n",
       "                Job_Role Work_Arrangement  Hours_Per_Week  \\\n",
       "0           Data Analyst           Onsite              64   \n",
       "1           Data Analyst           Onsite              37   \n",
       "2       Business Analyst           Onsite              36   \n",
       "3           Data Analyst           Onsite              63   \n",
       "4        DevOps Engineer           Hybrid              65   \n",
       "...                  ...              ...             ...   \n",
       "3152        Data Analyst           Hybrid              38   \n",
       "3153   Software Engineer           Remote              54   \n",
       "3154          HR Manager           Onsite              59   \n",
       "3155  Operations Manager           Onsite              52   \n",
       "3156    Technical Writer           Onsite              39   \n",
       "\n",
       "     Mental_Health_Status Burnout_Level  Work_Life_Balance_Score  \\\n",
       "0         Stress Disorder          High                        3   \n",
       "1         Stress Disorder          High                        4   \n",
       "2                    ADHD          High                        3   \n",
       "3                    ADHD        Medium                        1   \n",
       "4                    PTSD        Medium                        5   \n",
       "...                   ...           ...                      ...   \n",
       "3152                 PTSD        Medium                        4   \n",
       "3153                 PTSD        Medium                        4   \n",
       "3154                 PTSD        Medium                        1   \n",
       "3155           Depression        Medium                        3   \n",
       "3156              Burnout        Medium                        4   \n",
       "\n",
       "                    Physical_Health_Issues  Social_Isolation_Score  \\\n",
       "0                 Shoulder Pain; Neck Pain                       2   \n",
       "1                                Back Pain                       2   \n",
       "2                Shoulder Pain; Eye Strain                       2   \n",
       "3                Shoulder Pain; Eye Strain                       2   \n",
       "4                Shoulder Pain; Eye Strain                       4   \n",
       "...                                    ...                     ...   \n",
       "3152              Shoulder Pain; Neck Pain                       3   \n",
       "3153                            Eye Strain                       4   \n",
       "3154                         Shoulder Pain                       3   \n",
       "3155  Shoulder Pain; Eye Strain; Neck Pain                       5   \n",
       "3156                 Back Pain; Eye Strain                       2   \n",
       "\n",
       "     Salary_Range  \n",
       "0        $40K-60K  \n",
       "1       $80K-100K  \n",
       "2       $80K-100K  \n",
       "3        $60K-80K  \n",
       "4        $60K-80K  \n",
       "...           ...  \n",
       "3152    $80K-100K  \n",
       "3153   $100K-120K  \n",
       "3154     $40K-60K  \n",
       "3155    $80K-100K  \n",
       "3156   $100K-120K  \n",
       "\n",
       "[3157 rows x 14 columns]"
      ]
     },
     "execution_count": 16,
     "metadata": {},
     "output_type": "execute_result"
    }
   ],
   "source": [
    "#Fill Physical_Health_Issues (Categorical) with Mode\n",
    "df.fillna({'Physical_Health_Issues':df['Physical_Health_Issues'].mode()[0]}, inplace=True)\n",
    "df"
   ]
  },
  {
   "cell_type": "code",
   "execution_count": 17,
   "id": "996cb070-e658-404a-8bf4-7457a375da76",
   "metadata": {},
   "outputs": [
    {
     "data": {
      "text/plain": [
       "Survey_Date                0\n",
       "Age                        0\n",
       "Gender                     0\n",
       "Region                     0\n",
       "Industry                   0\n",
       "Job_Role                   0\n",
       "Work_Arrangement           0\n",
       "Hours_Per_Week             0\n",
       "Mental_Health_Status       0\n",
       "Burnout_Level              0\n",
       "Work_Life_Balance_Score    0\n",
       "Physical_Health_Issues     0\n",
       "Social_Isolation_Score     0\n",
       "Salary_Range               0\n",
       "dtype: int64"
      ]
     },
     "execution_count": 17,
     "metadata": {},
     "output_type": "execute_result"
    }
   ],
   "source": [
    "df.isnull().sum()"
   ]
  },
  {
   "cell_type": "code",
   "execution_count": 18,
   "id": "4bc5d08f-bfc4-4ef9-b587-fc5f6284d929",
   "metadata": {},
   "outputs": [
    {
     "name": "stdout",
     "output_type": "stream",
     "text": [
      "Numerical Columns: ['Age', 'Hours_Per_Week', 'Work_Life_Balance_Score', 'Social_Isolation_Score']\n"
     ]
    }
   ],
   "source": [
    "## Numerical Columns in the Dataset \n",
    "numerical_cols = df.select_dtypes(include=\"number\").columns\n",
    "print(\"Numerical Columns:\", numerical_cols.tolist())\n",
    "\n"
   ]
  },
  {
   "cell_type": "code",
   "execution_count": 19,
   "id": "dfff1e99-ab72-4c18-b8c1-2ecc88d6322f",
   "metadata": {},
   "outputs": [
    {
     "name": "stdout",
     "output_type": "stream",
     "text": [
      "Categorical Columns: ['Survey_Date', 'Gender', 'Region', 'Industry', 'Job_Role', 'Work_Arrangement', 'Mental_Health_Status', 'Burnout_Level', 'Physical_Health_Issues', 'Salary_Range']\n"
     ]
    }
   ],
   "source": [
    "##Categorical Columns in the Dataset\n",
    "categorical_cols = df.select_dtypes(include=\"object\").columns\n",
    "print(\"Categorical Columns:\", categorical_cols.tolist())"
   ]
  },
  {
   "cell_type": "markdown",
   "id": "0aadfb88-1335-4805-80e0-80fcce148b3b",
   "metadata": {},
   "source": [
    "## Visualization"
   ]
  },
  {
   "cell_type": "code",
   "execution_count": 20,
   "id": "fd5c33d7-7645-4b4d-a651-2473e88d3856",
   "metadata": {},
   "outputs": [
    {
     "data": {
      "text/html": [
       "<div>\n",
       "<style scoped>\n",
       "    .dataframe tbody tr th:only-of-type {\n",
       "        vertical-align: middle;\n",
       "    }\n",
       "\n",
       "    .dataframe tbody tr th {\n",
       "        vertical-align: top;\n",
       "    }\n",
       "\n",
       "    .dataframe thead th {\n",
       "        text-align: right;\n",
       "    }\n",
       "</style>\n",
       "<table border=\"1\" class=\"dataframe\">\n",
       "  <thead>\n",
       "    <tr style=\"text-align: right;\">\n",
       "      <th></th>\n",
       "      <th>Mental_Health_Status</th>\n",
       "      <th>Gender</th>\n",
       "      <th>Count</th>\n",
       "    </tr>\n",
       "  </thead>\n",
       "  <tbody>\n",
       "    <tr>\n",
       "      <th>0</th>\n",
       "      <td>ADHD</td>\n",
       "      <td>Female</td>\n",
       "      <td>199</td>\n",
       "    </tr>\n",
       "    <tr>\n",
       "      <th>1</th>\n",
       "      <td>ADHD</td>\n",
       "      <td>Male</td>\n",
       "      <td>177</td>\n",
       "    </tr>\n",
       "    <tr>\n",
       "      <th>2</th>\n",
       "      <td>ADHD</td>\n",
       "      <td>Non-binary</td>\n",
       "      <td>6</td>\n",
       "    </tr>\n",
       "    <tr>\n",
       "      <th>3</th>\n",
       "      <td>ADHD</td>\n",
       "      <td>Prefer not to say</td>\n",
       "      <td>3</td>\n",
       "    </tr>\n",
       "    <tr>\n",
       "      <th>4</th>\n",
       "      <td>Anxiety</td>\n",
       "      <td>Female</td>\n",
       "      <td>197</td>\n",
       "    </tr>\n",
       "    <tr>\n",
       "      <th>5</th>\n",
       "      <td>Anxiety</td>\n",
       "      <td>Male</td>\n",
       "      <td>177</td>\n",
       "    </tr>\n",
       "    <tr>\n",
       "      <th>6</th>\n",
       "      <td>Anxiety</td>\n",
       "      <td>Non-binary</td>\n",
       "      <td>18</td>\n",
       "    </tr>\n",
       "    <tr>\n",
       "      <th>7</th>\n",
       "      <td>Anxiety</td>\n",
       "      <td>Prefer not to say</td>\n",
       "      <td>2</td>\n",
       "    </tr>\n",
       "    <tr>\n",
       "      <th>8</th>\n",
       "      <td>Burnout</td>\n",
       "      <td>Female</td>\n",
       "      <td>184</td>\n",
       "    </tr>\n",
       "    <tr>\n",
       "      <th>9</th>\n",
       "      <td>Burnout</td>\n",
       "      <td>Male</td>\n",
       "      <td>189</td>\n",
       "    </tr>\n",
       "    <tr>\n",
       "      <th>10</th>\n",
       "      <td>Burnout</td>\n",
       "      <td>Non-binary</td>\n",
       "      <td>12</td>\n",
       "    </tr>\n",
       "    <tr>\n",
       "      <th>11</th>\n",
       "      <td>Burnout</td>\n",
       "      <td>Prefer not to say</td>\n",
       "      <td>7</td>\n",
       "    </tr>\n",
       "    <tr>\n",
       "      <th>12</th>\n",
       "      <td>Depression</td>\n",
       "      <td>Female</td>\n",
       "      <td>173</td>\n",
       "    </tr>\n",
       "    <tr>\n",
       "      <th>13</th>\n",
       "      <td>Depression</td>\n",
       "      <td>Male</td>\n",
       "      <td>199</td>\n",
       "    </tr>\n",
       "    <tr>\n",
       "      <th>14</th>\n",
       "      <td>Depression</td>\n",
       "      <td>Non-binary</td>\n",
       "      <td>10</td>\n",
       "    </tr>\n",
       "    <tr>\n",
       "      <th>15</th>\n",
       "      <td>Depression</td>\n",
       "      <td>Prefer not to say</td>\n",
       "      <td>4</td>\n",
       "    </tr>\n",
       "    <tr>\n",
       "      <th>16</th>\n",
       "      <td>PTSD</td>\n",
       "      <td>Female</td>\n",
       "      <td>560</td>\n",
       "    </tr>\n",
       "    <tr>\n",
       "      <th>17</th>\n",
       "      <td>PTSD</td>\n",
       "      <td>Male</td>\n",
       "      <td>611</td>\n",
       "    </tr>\n",
       "    <tr>\n",
       "      <th>18</th>\n",
       "      <td>PTSD</td>\n",
       "      <td>Non-binary</td>\n",
       "      <td>38</td>\n",
       "    </tr>\n",
       "    <tr>\n",
       "      <th>19</th>\n",
       "      <td>PTSD</td>\n",
       "      <td>Prefer not to say</td>\n",
       "      <td>13</td>\n",
       "    </tr>\n",
       "    <tr>\n",
       "      <th>20</th>\n",
       "      <td>Stress Disorder</td>\n",
       "      <td>Female</td>\n",
       "      <td>187</td>\n",
       "    </tr>\n",
       "    <tr>\n",
       "      <th>21</th>\n",
       "      <td>Stress Disorder</td>\n",
       "      <td>Male</td>\n",
       "      <td>182</td>\n",
       "    </tr>\n",
       "    <tr>\n",
       "      <th>22</th>\n",
       "      <td>Stress Disorder</td>\n",
       "      <td>Non-binary</td>\n",
       "      <td>6</td>\n",
       "    </tr>\n",
       "    <tr>\n",
       "      <th>23</th>\n",
       "      <td>Stress Disorder</td>\n",
       "      <td>Prefer not to say</td>\n",
       "      <td>3</td>\n",
       "    </tr>\n",
       "  </tbody>\n",
       "</table>\n",
       "</div>"
      ],
      "text/plain": [
       "   Mental_Health_Status             Gender  Count\n",
       "0                  ADHD             Female    199\n",
       "1                  ADHD               Male    177\n",
       "2                  ADHD         Non-binary      6\n",
       "3                  ADHD  Prefer not to say      3\n",
       "4               Anxiety             Female    197\n",
       "5               Anxiety               Male    177\n",
       "6               Anxiety         Non-binary     18\n",
       "7               Anxiety  Prefer not to say      2\n",
       "8               Burnout             Female    184\n",
       "9               Burnout               Male    189\n",
       "10              Burnout         Non-binary     12\n",
       "11              Burnout  Prefer not to say      7\n",
       "12           Depression             Female    173\n",
       "13           Depression               Male    199\n",
       "14           Depression         Non-binary     10\n",
       "15           Depression  Prefer not to say      4\n",
       "16                 PTSD             Female    560\n",
       "17                 PTSD               Male    611\n",
       "18                 PTSD         Non-binary     38\n",
       "19                 PTSD  Prefer not to say     13\n",
       "20      Stress Disorder             Female    187\n",
       "21      Stress Disorder               Male    182\n",
       "22      Stress Disorder         Non-binary      6\n",
       "23      Stress Disorder  Prefer not to say      3"
      ]
     },
     "execution_count": 20,
     "metadata": {},
     "output_type": "execute_result"
    }
   ],
   "source": [
    "#Gender vs Mental Health Distribution \n",
    "df_gender_mental_health = df.groupby(['Mental_Health_Status', 'Gender']).size().reset_index(name='Count')\n",
    "df_gender_mental_health "
   ]
  },
  {
   "cell_type": "code",
   "execution_count": 21,
   "id": "5923e423-c01f-4087-84a4-601ef2974ce4",
   "metadata": {},
   "outputs": [
    {
     "data": {
      "application/vnd.plotly.v1+json": {
       "config": {
        "plotlyServerURL": "https://plot.ly"
       },
       "data": [
        {
         "alignmentgroup": "True",
         "hovertemplate": "Gender=Female<br>Mental_Health_Status=%{x}<br>Count=%{y}<extra></extra>",
         "legendgroup": "Female",
         "marker": {
          "color": "#636efa",
          "pattern": {
           "shape": ""
          }
         },
         "name": "Female",
         "offsetgroup": "Female",
         "orientation": "v",
         "showlegend": true,
         "textposition": "auto",
         "type": "bar",
         "x": [
          "ADHD",
          "Anxiety",
          "Burnout",
          "Depression",
          "PTSD",
          "Stress Disorder"
         ],
         "xaxis": "x",
         "y": {
          "_inputArray": {
           "0": 199,
           "1": 197,
           "2": 184,
           "3": 173,
           "4": 560,
           "5": 187,
           "bdata": "xwDFALgArQAwArsA",
           "dtype": "i2",
           "shape": "6"
          },
          "bdata": "xwDFALgArQAwArsA",
          "dtype": "i2"
         },
         "yaxis": "y"
        },
        {
         "alignmentgroup": "True",
         "hovertemplate": "Gender=Male<br>Mental_Health_Status=%{x}<br>Count=%{y}<extra></extra>",
         "legendgroup": "Male",
         "marker": {
          "color": "#EF553B",
          "pattern": {
           "shape": ""
          }
         },
         "name": "Male",
         "offsetgroup": "Male",
         "orientation": "v",
         "showlegend": true,
         "textposition": "auto",
         "type": "bar",
         "x": [
          "ADHD",
          "Anxiety",
          "Burnout",
          "Depression",
          "PTSD",
          "Stress Disorder"
         ],
         "xaxis": "x",
         "y": {
          "_inputArray": {
           "0": 177,
           "1": 177,
           "2": 189,
           "3": 199,
           "4": 611,
           "5": 182,
           "bdata": "sQCxAL0AxwBjArYA",
           "dtype": "i2",
           "shape": "6"
          },
          "bdata": "sQCxAL0AxwBjArYA",
          "dtype": "i2"
         },
         "yaxis": "y"
        },
        {
         "alignmentgroup": "True",
         "hovertemplate": "Gender=Non-binary<br>Mental_Health_Status=%{x}<br>Count=%{y}<extra></extra>",
         "legendgroup": "Non-binary",
         "marker": {
          "color": "#00cc96",
          "pattern": {
           "shape": ""
          }
         },
         "name": "Non-binary",
         "offsetgroup": "Non-binary",
         "orientation": "v",
         "showlegend": true,
         "textposition": "auto",
         "type": "bar",
         "x": [
          "ADHD",
          "Anxiety",
          "Burnout",
          "Depression",
          "PTSD",
          "Stress Disorder"
         ],
         "xaxis": "x",
         "y": {
          "_inputArray": {
           "0": 6,
           "1": 18,
           "2": 12,
           "3": 10,
           "4": 38,
           "5": 6,
           "bdata": "BhIMCiYG",
           "dtype": "i1",
           "shape": "6"
          },
          "bdata": "BhIMCiYG",
          "dtype": "i1"
         },
         "yaxis": "y"
        },
        {
         "alignmentgroup": "True",
         "hovertemplate": "Gender=Prefer not to say<br>Mental_Health_Status=%{x}<br>Count=%{y}<extra></extra>",
         "legendgroup": "Prefer not to say",
         "marker": {
          "color": "#ab63fa",
          "pattern": {
           "shape": ""
          }
         },
         "name": "Prefer not to say",
         "offsetgroup": "Prefer not to say",
         "orientation": "v",
         "showlegend": true,
         "textposition": "auto",
         "type": "bar",
         "x": [
          "ADHD",
          "Anxiety",
          "Burnout",
          "Depression",
          "PTSD",
          "Stress Disorder"
         ],
         "xaxis": "x",
         "y": {
          "_inputArray": {
           "0": 3,
           "1": 2,
           "2": 7,
           "3": 4,
           "4": 13,
           "5": 3,
           "bdata": "AwIHBA0D",
           "dtype": "i1",
           "shape": "6"
          },
          "bdata": "AwIHBA0D",
          "dtype": "i1"
         },
         "yaxis": "y"
        }
       ],
       "layout": {
        "autosize": true,
        "barmode": "group",
        "legend": {
         "title": {
          "text": "Gender"
         },
         "tracegroupgap": 0
        },
        "template": {
         "data": {
          "bar": [
           {
            "error_x": {
             "color": "#2a3f5f"
            },
            "error_y": {
             "color": "#2a3f5f"
            },
            "marker": {
             "line": {
              "color": "#E5ECF6",
              "width": 0.5
             },
             "pattern": {
              "fillmode": "overlay",
              "size": 10,
              "solidity": 0.2
             }
            },
            "type": "bar"
           }
          ],
          "barpolar": [
           {
            "marker": {
             "line": {
              "color": "#E5ECF6",
              "width": 0.5
             },
             "pattern": {
              "fillmode": "overlay",
              "size": 10,
              "solidity": 0.2
             }
            },
            "type": "barpolar"
           }
          ],
          "carpet": [
           {
            "aaxis": {
             "endlinecolor": "#2a3f5f",
             "gridcolor": "white",
             "linecolor": "white",
             "minorgridcolor": "white",
             "startlinecolor": "#2a3f5f"
            },
            "baxis": {
             "endlinecolor": "#2a3f5f",
             "gridcolor": "white",
             "linecolor": "white",
             "minorgridcolor": "white",
             "startlinecolor": "#2a3f5f"
            },
            "type": "carpet"
           }
          ],
          "choropleth": [
           {
            "colorbar": {
             "outlinewidth": 0,
             "ticks": ""
            },
            "type": "choropleth"
           }
          ],
          "contour": [
           {
            "colorbar": {
             "outlinewidth": 0,
             "ticks": ""
            },
            "colorscale": [
             [
              0,
              "#0d0887"
             ],
             [
              0.1111111111111111,
              "#46039f"
             ],
             [
              0.2222222222222222,
              "#7201a8"
             ],
             [
              0.3333333333333333,
              "#9c179e"
             ],
             [
              0.4444444444444444,
              "#bd3786"
             ],
             [
              0.5555555555555556,
              "#d8576b"
             ],
             [
              0.6666666666666666,
              "#ed7953"
             ],
             [
              0.7777777777777778,
              "#fb9f3a"
             ],
             [
              0.8888888888888888,
              "#fdca26"
             ],
             [
              1,
              "#f0f921"
             ]
            ],
            "type": "contour"
           }
          ],
          "contourcarpet": [
           {
            "colorbar": {
             "outlinewidth": 0,
             "ticks": ""
            },
            "type": "contourcarpet"
           }
          ],
          "heatmap": [
           {
            "colorbar": {
             "outlinewidth": 0,
             "ticks": ""
            },
            "colorscale": [
             [
              0,
              "#0d0887"
             ],
             [
              0.1111111111111111,
              "#46039f"
             ],
             [
              0.2222222222222222,
              "#7201a8"
             ],
             [
              0.3333333333333333,
              "#9c179e"
             ],
             [
              0.4444444444444444,
              "#bd3786"
             ],
             [
              0.5555555555555556,
              "#d8576b"
             ],
             [
              0.6666666666666666,
              "#ed7953"
             ],
             [
              0.7777777777777778,
              "#fb9f3a"
             ],
             [
              0.8888888888888888,
              "#fdca26"
             ],
             [
              1,
              "#f0f921"
             ]
            ],
            "type": "heatmap"
           }
          ],
          "histogram": [
           {
            "marker": {
             "pattern": {
              "fillmode": "overlay",
              "size": 10,
              "solidity": 0.2
             }
            },
            "type": "histogram"
           }
          ],
          "histogram2d": [
           {
            "colorbar": {
             "outlinewidth": 0,
             "ticks": ""
            },
            "colorscale": [
             [
              0,
              "#0d0887"
             ],
             [
              0.1111111111111111,
              "#46039f"
             ],
             [
              0.2222222222222222,
              "#7201a8"
             ],
             [
              0.3333333333333333,
              "#9c179e"
             ],
             [
              0.4444444444444444,
              "#bd3786"
             ],
             [
              0.5555555555555556,
              "#d8576b"
             ],
             [
              0.6666666666666666,
              "#ed7953"
             ],
             [
              0.7777777777777778,
              "#fb9f3a"
             ],
             [
              0.8888888888888888,
              "#fdca26"
             ],
             [
              1,
              "#f0f921"
             ]
            ],
            "type": "histogram2d"
           }
          ],
          "histogram2dcontour": [
           {
            "colorbar": {
             "outlinewidth": 0,
             "ticks": ""
            },
            "colorscale": [
             [
              0,
              "#0d0887"
             ],
             [
              0.1111111111111111,
              "#46039f"
             ],
             [
              0.2222222222222222,
              "#7201a8"
             ],
             [
              0.3333333333333333,
              "#9c179e"
             ],
             [
              0.4444444444444444,
              "#bd3786"
             ],
             [
              0.5555555555555556,
              "#d8576b"
             ],
             [
              0.6666666666666666,
              "#ed7953"
             ],
             [
              0.7777777777777778,
              "#fb9f3a"
             ],
             [
              0.8888888888888888,
              "#fdca26"
             ],
             [
              1,
              "#f0f921"
             ]
            ],
            "type": "histogram2dcontour"
           }
          ],
          "mesh3d": [
           {
            "colorbar": {
             "outlinewidth": 0,
             "ticks": ""
            },
            "type": "mesh3d"
           }
          ],
          "parcoords": [
           {
            "line": {
             "colorbar": {
              "outlinewidth": 0,
              "ticks": ""
             }
            },
            "type": "parcoords"
           }
          ],
          "pie": [
           {
            "automargin": true,
            "type": "pie"
           }
          ],
          "scatter": [
           {
            "fillpattern": {
             "fillmode": "overlay",
             "size": 10,
             "solidity": 0.2
            },
            "type": "scatter"
           }
          ],
          "scatter3d": [
           {
            "line": {
             "colorbar": {
              "outlinewidth": 0,
              "ticks": ""
             }
            },
            "marker": {
             "colorbar": {
              "outlinewidth": 0,
              "ticks": ""
             }
            },
            "type": "scatter3d"
           }
          ],
          "scattercarpet": [
           {
            "marker": {
             "colorbar": {
              "outlinewidth": 0,
              "ticks": ""
             }
            },
            "type": "scattercarpet"
           }
          ],
          "scattergeo": [
           {
            "marker": {
             "colorbar": {
              "outlinewidth": 0,
              "ticks": ""
             }
            },
            "type": "scattergeo"
           }
          ],
          "scattergl": [
           {
            "marker": {
             "colorbar": {
              "outlinewidth": 0,
              "ticks": ""
             }
            },
            "type": "scattergl"
           }
          ],
          "scattermap": [
           {
            "marker": {
             "colorbar": {
              "outlinewidth": 0,
              "ticks": ""
             }
            },
            "type": "scattermap"
           }
          ],
          "scattermapbox": [
           {
            "marker": {
             "colorbar": {
              "outlinewidth": 0,
              "ticks": ""
             }
            },
            "type": "scattermapbox"
           }
          ],
          "scatterpolar": [
           {
            "marker": {
             "colorbar": {
              "outlinewidth": 0,
              "ticks": ""
             }
            },
            "type": "scatterpolar"
           }
          ],
          "scatterpolargl": [
           {
            "marker": {
             "colorbar": {
              "outlinewidth": 0,
              "ticks": ""
             }
            },
            "type": "scatterpolargl"
           }
          ],
          "scatterternary": [
           {
            "marker": {
             "colorbar": {
              "outlinewidth": 0,
              "ticks": ""
             }
            },
            "type": "scatterternary"
           }
          ],
          "surface": [
           {
            "colorbar": {
             "outlinewidth": 0,
             "ticks": ""
            },
            "colorscale": [
             [
              0,
              "#0d0887"
             ],
             [
              0.1111111111111111,
              "#46039f"
             ],
             [
              0.2222222222222222,
              "#7201a8"
             ],
             [
              0.3333333333333333,
              "#9c179e"
             ],
             [
              0.4444444444444444,
              "#bd3786"
             ],
             [
              0.5555555555555556,
              "#d8576b"
             ],
             [
              0.6666666666666666,
              "#ed7953"
             ],
             [
              0.7777777777777778,
              "#fb9f3a"
             ],
             [
              0.8888888888888888,
              "#fdca26"
             ],
             [
              1,
              "#f0f921"
             ]
            ],
            "type": "surface"
           }
          ],
          "table": [
           {
            "cells": {
             "fill": {
              "color": "#EBF0F8"
             },
             "line": {
              "color": "white"
             }
            },
            "header": {
             "fill": {
              "color": "#C8D4E3"
             },
             "line": {
              "color": "white"
             }
            },
            "type": "table"
           }
          ]
         },
         "layout": {
          "annotationdefaults": {
           "arrowcolor": "#2a3f5f",
           "arrowhead": 0,
           "arrowwidth": 1
          },
          "autotypenumbers": "strict",
          "coloraxis": {
           "colorbar": {
            "outlinewidth": 0,
            "ticks": ""
           }
          },
          "colorscale": {
           "diverging": [
            [
             0,
             "#8e0152"
            ],
            [
             0.1,
             "#c51b7d"
            ],
            [
             0.2,
             "#de77ae"
            ],
            [
             0.3,
             "#f1b6da"
            ],
            [
             0.4,
             "#fde0ef"
            ],
            [
             0.5,
             "#f7f7f7"
            ],
            [
             0.6,
             "#e6f5d0"
            ],
            [
             0.7,
             "#b8e186"
            ],
            [
             0.8,
             "#7fbc41"
            ],
            [
             0.9,
             "#4d9221"
            ],
            [
             1,
             "#276419"
            ]
           ],
           "sequential": [
            [
             0,
             "#0d0887"
            ],
            [
             0.1111111111111111,
             "#46039f"
            ],
            [
             0.2222222222222222,
             "#7201a8"
            ],
            [
             0.3333333333333333,
             "#9c179e"
            ],
            [
             0.4444444444444444,
             "#bd3786"
            ],
            [
             0.5555555555555556,
             "#d8576b"
            ],
            [
             0.6666666666666666,
             "#ed7953"
            ],
            [
             0.7777777777777778,
             "#fb9f3a"
            ],
            [
             0.8888888888888888,
             "#fdca26"
            ],
            [
             1,
             "#f0f921"
            ]
           ],
           "sequentialminus": [
            [
             0,
             "#0d0887"
            ],
            [
             0.1111111111111111,
             "#46039f"
            ],
            [
             0.2222222222222222,
             "#7201a8"
            ],
            [
             0.3333333333333333,
             "#9c179e"
            ],
            [
             0.4444444444444444,
             "#bd3786"
            ],
            [
             0.5555555555555556,
             "#d8576b"
            ],
            [
             0.6666666666666666,
             "#ed7953"
            ],
            [
             0.7777777777777778,
             "#fb9f3a"
            ],
            [
             0.8888888888888888,
             "#fdca26"
            ],
            [
             1,
             "#f0f921"
            ]
           ]
          },
          "colorway": [
           "#636efa",
           "#EF553B",
           "#00cc96",
           "#ab63fa",
           "#FFA15A",
           "#19d3f3",
           "#FF6692",
           "#B6E880",
           "#FF97FF",
           "#FECB52"
          ],
          "font": {
           "color": "#2a3f5f"
          },
          "geo": {
           "bgcolor": "white",
           "lakecolor": "white",
           "landcolor": "#E5ECF6",
           "showlakes": true,
           "showland": true,
           "subunitcolor": "white"
          },
          "hoverlabel": {
           "align": "left"
          },
          "hovermode": "closest",
          "mapbox": {
           "style": "light"
          },
          "paper_bgcolor": "white",
          "plot_bgcolor": "#E5ECF6",
          "polar": {
           "angularaxis": {
            "gridcolor": "white",
            "linecolor": "white",
            "ticks": ""
           },
           "bgcolor": "#E5ECF6",
           "radialaxis": {
            "gridcolor": "white",
            "linecolor": "white",
            "ticks": ""
           }
          },
          "scene": {
           "xaxis": {
            "backgroundcolor": "#E5ECF6",
            "gridcolor": "white",
            "gridwidth": 2,
            "linecolor": "white",
            "showbackground": true,
            "ticks": "",
            "zerolinecolor": "white"
           },
           "yaxis": {
            "backgroundcolor": "#E5ECF6",
            "gridcolor": "white",
            "gridwidth": 2,
            "linecolor": "white",
            "showbackground": true,
            "ticks": "",
            "zerolinecolor": "white"
           },
           "zaxis": {
            "backgroundcolor": "#E5ECF6",
            "gridcolor": "white",
            "gridwidth": 2,
            "linecolor": "white",
            "showbackground": true,
            "ticks": "",
            "zerolinecolor": "white"
           }
          },
          "shapedefaults": {
           "line": {
            "color": "#2a3f5f"
           }
          },
          "ternary": {
           "aaxis": {
            "gridcolor": "white",
            "linecolor": "white",
            "ticks": ""
           },
           "baxis": {
            "gridcolor": "white",
            "linecolor": "white",
            "ticks": ""
           },
           "bgcolor": "#E5ECF6",
           "caxis": {
            "gridcolor": "white",
            "linecolor": "white",
            "ticks": ""
           }
          },
          "title": {
           "x": 0.05
          },
          "xaxis": {
           "automargin": true,
           "gridcolor": "white",
           "linecolor": "white",
           "ticks": "",
           "title": {
            "standoff": 15
           },
           "zerolinecolor": "white",
           "zerolinewidth": 2
          },
          "yaxis": {
           "automargin": true,
           "gridcolor": "white",
           "linecolor": "white",
           "ticks": "",
           "title": {
            "standoff": 15
           },
           "zerolinecolor": "white",
           "zerolinewidth": 2
          }
         }
        },
        "title": {
         "text": "Gender vs Mental Health Status Distribution",
         "x": 0.5
        },
        "xaxis": {
         "anchor": "y",
         "autorange": true,
         "domain": [
          0,
          1
         ],
         "range": [
          -0.5,
          5.5
         ],
         "title": {
          "text": "Mental_Health_Status"
         },
         "type": "category"
        },
        "yaxis": {
         "anchor": "x",
         "autorange": true,
         "domain": [
          0,
          1
         ],
         "range": [
          0,
          643.1578947368421
         ],
         "title": {
          "text": "Count"
         },
         "type": "linear"
        }
       }
      },
      "image/png": "[encoded data removed]"
     },
     "metadata": {},
     "output_type": "display_data"
    }
   ],
   "source": [
    "fig = px.bar(df_gender_mental_health,x='Mental_Health_Status',y ='Count',color='Gender',barmode='group',\n",
    "             title='Gender vs Mental Health Status Distribution')\n",
    "\n",
    "fig.update_layout( title_x=0.5)\n",
    "    \n",
    "fig.show()\n"
   ]
  },
  {
   "cell_type": "code",
   "execution_count": 22,
   "id": "a3b84833-e96f-4477-b7bb-06afe65684d5",
   "metadata": {},
   "outputs": [
    {
     "data": {
      "text/html": [
       "<div>\n",
       "<style scoped>\n",
       "    .dataframe tbody tr th:only-of-type {\n",
       "        vertical-align: middle;\n",
       "    }\n",
       "\n",
       "    .dataframe tbody tr th {\n",
       "        vertical-align: top;\n",
       "    }\n",
       "\n",
       "    .dataframe thead th {\n",
       "        text-align: right;\n",
       "    }\n",
       "</style>\n",
       "<table border=\"1\" class=\"dataframe\">\n",
       "  <thead>\n",
       "    <tr style=\"text-align: right;\">\n",
       "      <th></th>\n",
       "      <th>Job_Role</th>\n",
       "      <th>Burnout_Level</th>\n",
       "      <th>count</th>\n",
       "    </tr>\n",
       "  </thead>\n",
       "  <tbody>\n",
       "    <tr>\n",
       "      <th>0</th>\n",
       "      <td>Account Manager</td>\n",
       "      <td>High</td>\n",
       "      <td>31</td>\n",
       "    </tr>\n",
       "    <tr>\n",
       "      <th>1</th>\n",
       "      <td>Account Manager</td>\n",
       "      <td>Low</td>\n",
       "      <td>43</td>\n",
       "    </tr>\n",
       "    <tr>\n",
       "      <th>2</th>\n",
       "      <td>Account Manager</td>\n",
       "      <td>Medium</td>\n",
       "      <td>58</td>\n",
       "    </tr>\n",
       "    <tr>\n",
       "      <th>3</th>\n",
       "      <td>Business Analyst</td>\n",
       "      <td>High</td>\n",
       "      <td>47</td>\n",
       "    </tr>\n",
       "    <tr>\n",
       "      <th>4</th>\n",
       "      <td>Business Analyst</td>\n",
       "      <td>Low</td>\n",
       "      <td>27</td>\n",
       "    </tr>\n",
       "    <tr>\n",
       "      <th>...</th>\n",
       "      <td>...</td>\n",
       "      <td>...</td>\n",
       "      <td>...</td>\n",
       "    </tr>\n",
       "    <tr>\n",
       "      <th>67</th>\n",
       "      <td>Technical Writer</td>\n",
       "      <td>Low</td>\n",
       "      <td>28</td>\n",
       "    </tr>\n",
       "    <tr>\n",
       "      <th>68</th>\n",
       "      <td>Technical Writer</td>\n",
       "      <td>Medium</td>\n",
       "      <td>50</td>\n",
       "    </tr>\n",
       "    <tr>\n",
       "      <th>69</th>\n",
       "      <td>UX Designer</td>\n",
       "      <td>High</td>\n",
       "      <td>44</td>\n",
       "    </tr>\n",
       "    <tr>\n",
       "      <th>70</th>\n",
       "      <td>UX Designer</td>\n",
       "      <td>Low</td>\n",
       "      <td>37</td>\n",
       "    </tr>\n",
       "    <tr>\n",
       "      <th>71</th>\n",
       "      <td>UX Designer</td>\n",
       "      <td>Medium</td>\n",
       "      <td>51</td>\n",
       "    </tr>\n",
       "  </tbody>\n",
       "</table>\n",
       "<p>72 rows × 3 columns</p>\n",
       "</div>"
      ],
      "text/plain": [
       "            Job_Role Burnout_Level  count\n",
       "0    Account Manager          High     31\n",
       "1    Account Manager           Low     43\n",
       "2    Account Manager        Medium     58\n",
       "3   Business Analyst          High     47\n",
       "4   Business Analyst           Low     27\n",
       "..               ...           ...    ...\n",
       "67  Technical Writer           Low     28\n",
       "68  Technical Writer        Medium     50\n",
       "69       UX Designer          High     44\n",
       "70       UX Designer           Low     37\n",
       "71       UX Designer        Medium     51\n",
       "\n",
       "[72 rows x 3 columns]"
      ]
     },
     "execution_count": 22,
     "metadata": {},
     "output_type": "execute_result"
    }
   ],
   "source": [
    "df_count=df.groupby(['Job_Role','Burnout_Level']).size().reset_index(name='count')\n",
    "df_count"
   ]
  },
  {
   "cell_type": "code",
   "execution_count": 23,
   "id": "209d4563-9bff-456e-8b80-f64a3d7fe23a",
   "metadata": {},
   "outputs": [
    {
     "data": {
      "application/vnd.plotly.v1+json": {
       "config": {
        "plotlyServerURL": "https://plot.ly"
       },
       "data": [
        {
         "hovertemplate": "Burnout_Level=High<br>Job_Role=%{x}<br>count=%{y}<extra></extra>",
         "legendgroup": "High",
         "marker": {
          "color": "#636efa",
          "pattern": {
           "shape": ""
          }
         },
         "name": "High",
         "orientation": "v",
         "showlegend": true,
         "textposition": "auto",
         "type": "bar",
         "x": [
          "Account Manager",
          "Business Analyst",
          "Consultant",
          "Content Writer",
          "Customer Service Manager",
          "Data Analyst",
          "Data Scientist",
          "DevOps Engineer",
          "Digital Marketing Specialist",
          "Executive Assistant",
          "Financial Analyst",
          "HR Manager",
          "IT Support",
          "Marketing Specialist",
          "Operations Manager",
          "Product Manager",
          "Project Manager",
          "Quality Assurance",
          "Research Scientist",
          "Sales Representative",
          "Social Media Manager",
          "Software Engineer",
          "Technical Writer",
          "UX Designer"
         ],
         "xaxis": "x",
         "y": {
          "_inputArray": {
           "0": 31,
           "1": 47,
           "2": 38,
           "3": 37,
           "4": 44,
           "5": 49,
           "6": 50,
           "7": 49,
           "8": 39,
           "9": 38,
           "10": 35,
           "11": 61,
           "12": 53,
           "13": 43,
           "14": 48,
           "15": 49,
           "16": 43,
           "17": 33,
           "18": 46,
           "19": 38,
           "20": 42,
           "21": 49,
           "22": 40,
           "23": 44,
           "bdata": "Hy8mJSwxMjEnJiM9NSswMSshLiYqMSgs",
           "dtype": "i1",
           "shape": "24"
          },
          "bdata": "Hy8mJSwxMjEnJiM9NSswMSshLiYqMSgs",
          "dtype": "i1"
         },
         "yaxis": "y"
        },
        {
         "hovertemplate": "Burnout_Level=Low<br>Job_Role=%{x}<br>count=%{y}<extra></extra>",
         "legendgroup": "Low",
         "marker": {
          "color": "#EF553B",
          "pattern": {
           "shape": ""
          }
         },
         "name": "Low",
         "orientation": "v",
         "showlegend": true,
         "textposition": "auto",
         "type": "bar",
         "x": [
          "Account Manager",
          "Business Analyst",
          "Consultant",
          "Content Writer",
          "Customer Service Manager",
          "Data Analyst",
          "Data Scientist",
          "DevOps Engineer",
          "Digital Marketing Specialist",
          "Executive Assistant",
          "Financial Analyst",
          "HR Manager",
          "IT Support",
          "Marketing Specialist",
          "Operations Manager",
          "Product Manager",
          "Project Manager",
          "Quality Assurance",
          "Research Scientist",
          "Sales Representative",
          "Social Media Manager",
          "Software Engineer",
          "Technical Writer",
          "UX Designer"
         ],
         "xaxis": "x",
         "y": {
          "_inputArray": {
           "0": 43,
           "1": 27,
           "2": 27,
           "3": 25,
           "4": 35,
           "5": 37,
           "6": 27,
           "7": 40,
           "8": 33,
           "9": 21,
           "10": 29,
           "11": 29,
           "12": 35,
           "13": 28,
           "14": 34,
           "15": 32,
           "16": 30,
           "17": 37,
           "18": 32,
           "19": 21,
           "20": 34,
           "21": 24,
           "22": 28,
           "23": 37,
           "bdata": "KxsbGSMlGyghFR0dIxwiIB4lIBUiGBwl",
           "dtype": "i1",
           "shape": "24"
          },
          "bdata": "KxsbGSMlGyghFR0dIxwiIB4lIBUiGBwl",
          "dtype": "i1"
         },
         "yaxis": "y"
        },
        {
         "hovertemplate": "Burnout_Level=Medium<br>Job_Role=%{x}<br>count=%{y}<extra></extra>",
         "legendgroup": "Medium",
         "marker": {
          "color": "#00cc96",
          "pattern": {
           "shape": ""
          }
         },
         "name": "Medium",
         "orientation": "v",
         "showlegend": true,
         "textposition": "auto",
         "type": "bar",
         "x": [
          "Account Manager",
          "Business Analyst",
          "Consultant",
          "Content Writer",
          "Customer Service Manager",
          "Data Analyst",
          "Data Scientist",
          "DevOps Engineer",
          "Digital Marketing Specialist",
          "Executive Assistant",
          "Financial Analyst",
          "HR Manager",
          "IT Support",
          "Marketing Specialist",
          "Operations Manager",
          "Product Manager",
          "Project Manager",
          "Quality Assurance",
          "Research Scientist",
          "Sales Representative",
          "Social Media Manager",
          "Software Engineer",
          "Technical Writer",
          "UX Designer"
         ],
         "xaxis": "x",
         "y": {
          "_inputArray": {
           "0": 58,
           "1": 57,
           "2": 56,
           "3": 55,
           "4": 65,
           "5": 57,
           "6": 59,
           "7": 60,
           "8": 47,
           "9": 60,
           "10": 52,
           "11": 51,
           "12": 52,
           "13": 48,
           "14": 60,
           "15": 52,
           "16": 63,
           "17": 62,
           "18": 73,
           "19": 55,
           "20": 68,
           "21": 55,
           "22": 50,
           "23": 51,
           "bdata": "Ojk4N0E5OzwvPDQzNDA8ND8+STdENzIz",
           "dtype": "i1",
           "shape": "24"
          },
          "bdata": "Ojk4N0E5OzwvPDQzNDA8ND8+STdENzIz",
          "dtype": "i1"
         },
         "yaxis": "y"
        }
       ],
       "layout": {
        "autosize": true,
        "barmode": "stack",
        "legend": {
         "title": {
          "text": "Burnout_Level"
         },
         "tracegroupgap": 0
        },
        "template": {
         "data": {
          "bar": [
           {
            "error_x": {
             "color": "#2a3f5f"
            },
            "error_y": {
             "color": "#2a3f5f"
            },
            "marker": {
             "line": {
              "color": "#E5ECF6",
              "width": 0.5
             },
             "pattern": {
              "fillmode": "overlay",
              "size": 10,
              "solidity": 0.2
             }
            },
            "type": "bar"
           }
          ],
          "barpolar": [
           {
            "marker": {
             "line": {
              "color": "#E5ECF6",
              "width": 0.5
             },
             "pattern": {
              "fillmode": "overlay",
              "size": 10,
              "solidity": 0.2
             }
            },
            "type": "barpolar"
           }
          ],
          "carpet": [
           {
            "aaxis": {
             "endlinecolor": "#2a3f5f",
             "gridcolor": "white",
             "linecolor": "white",
             "minorgridcolor": "white",
             "startlinecolor": "#2a3f5f"
            },
            "baxis": {
             "endlinecolor": "#2a3f5f",
             "gridcolor": "white",
             "linecolor": "white",
             "minorgridcolor": "white",
             "startlinecolor": "#2a3f5f"
            },
            "type": "carpet"
           }
          ],
          "choropleth": [
           {
            "colorbar": {
             "outlinewidth": 0,
             "ticks": ""
            },
            "type": "choropleth"
           }
          ],
          "contour": [
           {
            "colorbar": {
             "outlinewidth": 0,
             "ticks": ""
            },
            "colorscale": [
             [
              0,
              "#0d0887"
             ],
             [
              0.1111111111111111,
              "#46039f"
             ],
             [
              0.2222222222222222,
              "#7201a8"
             ],
             [
              0.3333333333333333,
              "#9c179e"
             ],
             [
              0.4444444444444444,
              "#bd3786"
             ],
             [
              0.5555555555555556,
              "#d8576b"
             ],
             [
              0.6666666666666666,
              "#ed7953"
             ],
             [
              0.7777777777777778,
              "#fb9f3a"
             ],
             [
              0.8888888888888888,
              "#fdca26"
             ],
             [
              1,
              "#f0f921"
             ]
            ],
            "type": "contour"
           }
          ],
          "contourcarpet": [
           {
            "colorbar": {
             "outlinewidth": 0,
             "ticks": ""
            },
            "type": "contourcarpet"
           }
          ],
          "heatmap": [
           {
            "colorbar": {
             "outlinewidth": 0,
             "ticks": ""
            },
            "colorscale": [
             [
              0,
              "#0d0887"
             ],
             [
              0.1111111111111111,
              "#46039f"
             ],
             [
              0.2222222222222222,
              "#7201a8"
             ],
             [
              0.3333333333333333,
              "#9c179e"
             ],
             [
              0.4444444444444444,
              "#bd3786"
             ],
             [
              0.5555555555555556,
              "#d8576b"
             ],
             [
              0.6666666666666666,
              "#ed7953"
             ],
             [
              0.7777777777777778,
              "#fb9f3a"
             ],
             [
              0.8888888888888888,
              "#fdca26"
             ],
             [
              1,
              "#f0f921"
             ]
            ],
            "type": "heatmap"
           }
          ],
          "histogram": [
           {
            "marker": {
             "pattern": {
              "fillmode": "overlay",
              "size": 10,
              "solidity": 0.2
             }
            },
            "type": "histogram"
           }
          ],
          "histogram2d": [
           {
            "colorbar": {
             "outlinewidth": 0,
             "ticks": ""
            },
            "colorscale": [
             [
              0,
              "#0d0887"
             ],
             [
              0.1111111111111111,
              "#46039f"
             ],
             [
              0.2222222222222222,
              "#7201a8"
             ],
             [
              0.3333333333333333,
              "#9c179e"
             ],
             [
              0.4444444444444444,
              "#bd3786"
             ],
             [
              0.5555555555555556,
              "#d8576b"
             ],
             [
              0.6666666666666666,
              "#ed7953"
             ],
             [
              0.7777777777777778,
              "#fb9f3a"
             ],
             [
              0.8888888888888888,
              "#fdca26"
             ],
             [
              1,
              "#f0f921"
             ]
            ],
            "type": "histogram2d"
           }
          ],
          "histogram2dcontour": [
           {
            "colorbar": {
             "outlinewidth": 0,
             "ticks": ""
            },
            "colorscale": [
             [
              0,
              "#0d0887"
             ],
             [
              0.1111111111111111,
              "#46039f"
             ],
             [
              0.2222222222222222,
              "#7201a8"
             ],
             [
              0.3333333333333333,
              "#9c179e"
             ],
             [
              0.4444444444444444,
              "#bd3786"
             ],
             [
              0.5555555555555556,
              "#d8576b"
             ],
             [
              0.6666666666666666,
              "#ed7953"
             ],
             [
              0.7777777777777778,
              "#fb9f3a"
             ],
             [
              0.8888888888888888,
              "#fdca26"
             ],
             [
              1,
              "#f0f921"
             ]
            ],
            "type": "histogram2dcontour"
           }
          ],
          "mesh3d": [
           {
            "colorbar": {
             "outlinewidth": 0,
             "ticks": ""
            },
            "type": "mesh3d"
           }
          ],
          "parcoords": [
           {
            "line": {
             "colorbar": {
              "outlinewidth": 0,
              "ticks": ""
             }
            },
            "type": "parcoords"
           }
          ],
          "pie": [
           {
            "automargin": true,
            "type": "pie"
           }
          ],
          "scatter": [
           {
            "fillpattern": {
             "fillmode": "overlay",
             "size": 10,
             "solidity": 0.2
            },
            "type": "scatter"
           }
          ],
          "scatter3d": [
           {
            "line": {
             "colorbar": {
              "outlinewidth": 0,
              "ticks": ""
             }
            },
            "marker": {
             "colorbar": {
              "outlinewidth": 0,
              "ticks": ""
             }
            },
            "type": "scatter3d"
           }
          ],
          "scattercarpet": [
           {
            "marker": {
             "colorbar": {
              "outlinewidth": 0,
              "ticks": ""
             }
            },
            "type": "scattercarpet"
           }
          ],
          "scattergeo": [
           {
            "marker": {
             "colorbar": {
              "outlinewidth": 0,
              "ticks": ""
             }
            },
            "type": "scattergeo"
           }
          ],
          "scattergl": [
           {
            "marker": {
             "colorbar": {
              "outlinewidth": 0,
              "ticks": ""
             }
            },
            "type": "scattergl"
           }
          ],
          "scattermap": [
           {
            "marker": {
             "colorbar": {
              "outlinewidth": 0,
              "ticks": ""
             }
            },
            "type": "scattermap"
           }
          ],
          "scattermapbox": [
           {
            "marker": {
             "colorbar": {
              "outlinewidth": 0,
              "ticks": ""
             }
            },
            "type": "scattermapbox"
           }
          ],
          "scatterpolar": [
           {
            "marker": {
             "colorbar": {
              "outlinewidth": 0,
              "ticks": ""
             }
            },
            "type": "scatterpolar"
           }
          ],
          "scatterpolargl": [
           {
            "marker": {
             "colorbar": {
              "outlinewidth": 0,
              "ticks": ""
             }
            },
            "type": "scatterpolargl"
           }
          ],
          "scatterternary": [
           {
            "marker": {
             "colorbar": {
              "outlinewidth": 0,
              "ticks": ""
             }
            },
            "type": "scatterternary"
           }
          ],
          "surface": [
           {
            "colorbar": {
             "outlinewidth": 0,
             "ticks": ""
            },
            "colorscale": [
             [
              0,
              "#0d0887"
             ],
             [
              0.1111111111111111,
              "#46039f"
             ],
             [
              0.2222222222222222,
              "#7201a8"
             ],
             [
              0.3333333333333333,
              "#9c179e"
             ],
             [
              0.4444444444444444,
              "#bd3786"
             ],
             [
              0.5555555555555556,
              "#d8576b"
             ],
             [
              0.6666666666666666,
              "#ed7953"
             ],
             [
              0.7777777777777778,
              "#fb9f3a"
             ],
             [
              0.8888888888888888,
              "#fdca26"
             ],
             [
              1,
              "#f0f921"
             ]
            ],
            "type": "surface"
           }
          ],
          "table": [
           {
            "cells": {
             "fill": {
              "color": "#EBF0F8"
             },
             "line": {
              "color": "white"
             }
            },
            "header": {
             "fill": {
              "color": "#C8D4E3"
             },
             "line": {
              "color": "white"
             }
            },
            "type": "table"
           }
          ]
         },
         "layout": {
          "annotationdefaults": {
           "arrowcolor": "#2a3f5f",
           "arrowhead": 0,
           "arrowwidth": 1
          },
          "autotypenumbers": "strict",
          "coloraxis": {
           "colorbar": {
            "outlinewidth": 0,
            "ticks": ""
           }
          },
          "colorscale": {
           "diverging": [
            [
             0,
             "#8e0152"
            ],
            [
             0.1,
             "#c51b7d"
            ],
            [
             0.2,
             "#de77ae"
            ],
            [
             0.3,
             "#f1b6da"
            ],
            [
             0.4,
             "#fde0ef"
            ],
            [
             0.5,
             "#f7f7f7"
            ],
            [
             0.6,
             "#e6f5d0"
            ],
            [
             0.7,
             "#b8e186"
            ],
            [
             0.8,
             "#7fbc41"
            ],
            [
             0.9,
             "#4d9221"
            ],
            [
             1,
             "#276419"
            ]
           ],
           "sequential": [
            [
             0,
             "#0d0887"
            ],
            [
             0.1111111111111111,
             "#46039f"
            ],
            [
             0.2222222222222222,
             "#7201a8"
            ],
            [
             0.3333333333333333,
             "#9c179e"
            ],
            [
             0.4444444444444444,
             "#bd3786"
            ],
            [
             0.5555555555555556,
             "#d8576b"
            ],
            [
             0.6666666666666666,
             "#ed7953"
            ],
            [
             0.7777777777777778,
             "#fb9f3a"
            ],
            [
             0.8888888888888888,
             "#fdca26"
            ],
            [
             1,
             "#f0f921"
            ]
           ],
           "sequentialminus": [
            [
             0,
             "#0d0887"
            ],
            [
             0.1111111111111111,
             "#46039f"
            ],
            [
             0.2222222222222222,
             "#7201a8"
            ],
            [
             0.3333333333333333,
             "#9c179e"
            ],
            [
             0.4444444444444444,
             "#bd3786"
            ],
            [
             0.5555555555555556,
             "#d8576b"
            ],
            [
             0.6666666666666666,
             "#ed7953"
            ],
            [
             0.7777777777777778,
             "#fb9f3a"
            ],
            [
             0.8888888888888888,
             "#fdca26"
            ],
            [
             1,
             "#f0f921"
            ]
           ]
          },
          "colorway": [
           "#636efa",
           "#EF553B",
           "#00cc96",
           "#ab63fa",
           "#FFA15A",
           "#19d3f3",
           "#FF6692",
           "#B6E880",
           "#FF97FF",
           "#FECB52"
          ],
          "font": {
           "color": "#2a3f5f"
          },
          "geo": {
           "bgcolor": "white",
           "lakecolor": "white",
           "landcolor": "#E5ECF6",
           "showlakes": true,
           "showland": true,
           "subunitcolor": "white"
          },
          "hoverlabel": {
           "align": "left"
          },
          "hovermode": "closest",
          "mapbox": {
           "style": "light"
          },
          "paper_bgcolor": "white",
          "plot_bgcolor": "#E5ECF6",
          "polar": {
           "angularaxis": {
            "gridcolor": "white",
            "linecolor": "white",
            "ticks": ""
           },
           "bgcolor": "#E5ECF6",
           "radialaxis": {
            "gridcolor": "white",
            "linecolor": "white",
            "ticks": ""
           }
          },
          "scene": {
           "xaxis": {
            "backgroundcolor": "#E5ECF6",
            "gridcolor": "white",
            "gridwidth": 2,
            "linecolor": "white",
            "showbackground": true,
            "ticks": "",
            "zerolinecolor": "white"
           },
           "yaxis": {
            "backgroundcolor": "#E5ECF6",
            "gridcolor": "white",
            "gridwidth": 2,
            "linecolor": "white",
            "showbackground": true,
            "ticks": "",
            "zerolinecolor": "white"
           },
           "zaxis": {
            "backgroundcolor": "#E5ECF6",
            "gridcolor": "white",
            "gridwidth": 2,
            "linecolor": "white",
            "showbackground": true,
            "ticks": "",
            "zerolinecolor": "white"
           }
          },
          "shapedefaults": {
           "line": {
            "color": "#2a3f5f"
           }
          },
          "ternary": {
           "aaxis": {
            "gridcolor": "white",
            "linecolor": "white",
            "ticks": ""
           },
           "baxis": {
            "gridcolor": "white",
            "linecolor": "white",
            "ticks": ""
           },
           "bgcolor": "#E5ECF6",
           "caxis": {
            "gridcolor": "white",
            "linecolor": "white",
            "ticks": ""
           }
          },
          "title": {
           "x": 0.05
          },
          "xaxis": {
           "automargin": true,
           "gridcolor": "white",
           "linecolor": "white",
           "ticks": "",
           "title": {
            "standoff": 15
           },
           "zerolinecolor": "white",
           "zerolinewidth": 2
          },
          "yaxis": {
           "automargin": true,
           "gridcolor": "white",
           "linecolor": "white",
           "ticks": "",
           "title": {
            "standoff": 15
           },
           "zerolinecolor": "white",
           "zerolinewidth": 2
          }
         }
        },
        "title": {
         "text": "Job Role vs Burnout Level",
         "x": 0.5
        },
        "xaxis": {
         "anchor": "y",
         "autorange": true,
         "domain": [
          0,
          1
         ],
         "range": [
          -0.5,
          23.5
         ],
         "title": {
          "text": "Job_Role"
         },
         "type": "category"
        },
        "yaxis": {
         "anchor": "x",
         "autorange": true,
         "domain": [
          0,
          1
         ],
         "range": [
          0,
          158.94736842105263
         ],
         "title": {
          "text": "count"
         },
         "type": "linear"
        }
       }
      }
     },
     "metadata": {},
     "output_type": "display_data"
    }
   ],
   "source": [
    "fig=px.bar(df_count,x='Job_Role',y='count',color='Burnout_Level',title='Job Role vs Burnout Level',barmode='stack')\n",
    "fig.update_layout(title_x=0.5)\n",
    "fig.show()\n"
   ]
  },
  {
   "cell_type": "code",
   "execution_count": 24,
   "id": "545447a1-15bf-4c69-b6b5-611cf1cfc90d",
   "metadata": {},
   "outputs": [
    {
     "data": {
      "application/vnd.plotly.v1+json": {
       "config": {
        "plotlyServerURL": "https://plot.ly"
       },
       "data": [
        {
         "alignmentgroup": "True",
         "hovertemplate": "Work_Arrangement=%{x}<br>Social_Isolation_Score=%{y}<extra></extra>",
         "legendgroup": "Onsite",
         "marker": {
          "color": "#636efa"
         },
         "name": "Onsite",
         "notched": false,
         "offsetgroup": "Onsite",
         "orientation": "v",
         "showlegend": true,
         "type": "box",
         "x": [
          "Onsite",
          "Onsite",
          "Onsite",
          "Onsite",
          "Onsite",
          "Onsite",
          "Onsite",
          "Onsite",
          "Onsite",
          "Onsite",
          "Onsite",
          "Onsite",
          "Onsite",
          "Onsite",
          "Onsite",
          "Onsite",
          "Onsite",
          "Onsite",
          "Onsite",
          "Onsite",
          "Onsite",
          "Onsite",
          "Onsite",
          "Onsite",
          "Onsite",
          "Onsite",
          "Onsite",
          "Onsite",
          "Onsite",
          "Onsite",
          "Onsite",
          "Onsite",
          "Onsite",
          "Onsite",
          "Onsite",
          "Onsite",
          "Onsite",
          "Onsite",
          "Onsite",
          "Onsite",
          "Onsite",
          "Onsite",
          "Onsite",
          "Onsite",
          "Onsite",
          "Onsite",
          "Onsite",
          "Onsite",
          "Onsite",
          "Onsite",
          "Onsite",
          "Onsite",
          "Onsite",
          "Onsite",
          "Onsite",
          "Onsite",
          "Onsite",
          "Onsite",
          "Onsite",
          "Onsite",
          "Onsite",
          "Onsite",
          "Onsite",
          "Onsite",
          "Onsite",
          "Onsite",
          "Onsite",
          "Onsite",
          "Onsite",
          "Onsite",
          "Onsite",
          "Onsite",
          "Onsite",
          "Onsite",
          "Onsite",
          "Onsite",
          "Onsite",
          "Onsite",
          "Onsite",
          "Onsite",
          "Onsite",
          "Onsite",
          "Onsite",
          "Onsite",
          "Onsite",
          "Onsite",
          "Onsite",
          "Onsite",
          "Onsite",
          "Onsite",
          "Onsite",
          "Onsite",
          "Onsite",
          "Onsite",
          "Onsite",
          "Onsite",
          "Onsite",
          "Onsite",
          "Onsite",
          "Onsite",
          "Onsite",
          "Onsite",
          "Onsite",
          "Onsite",
          "Onsite",
          "Onsite",
          "Onsite",
          "Onsite",
          "Onsite",
          "Onsite",
          "Onsite",
          "Onsite",
          "Onsite",
          "Onsite",
          "Onsite",
          "Onsite",
          "Onsite",
          "Onsite",
          "Onsite",
          "Onsite",
          "Onsite",
          "Onsite",
          "Onsite",
          "Onsite",
          "Onsite",
          "Onsite",
          "Onsite",
          "Onsite",
          "Onsite",
          "Onsite",
          "Onsite",
          "Onsite",
          "Onsite",
          "Onsite",
          "Onsite",
          "Onsite",
          "Onsite",
          "Onsite",
          "Onsite",
          "Onsite",
          "Onsite",
          "Onsite",
          "Onsite",
          "Onsite",
          "Onsite",
          "Onsite",
          "Onsite",
          "Onsite",
          "Onsite",
          "Onsite",
          "Onsite",
          "Onsite",
          "Onsite",
          "Onsite",
          "Onsite",
          "Onsite",
          "Onsite",
          "Onsite",
          "Onsite",
          "Onsite",
          "Onsite",
          "Onsite",
          "Onsite",
          "Onsite",
          "Onsite",
          "Onsite",
          "Onsite",
          "Onsite",
          "Onsite",
          "Onsite",
          "Onsite",
          "Onsite",
          "Onsite",
          "Onsite",
          "Onsite",
          "Onsite",
          "Onsite",
          "Onsite",
          "Onsite",
          "Onsite",
          "Onsite",
          "Onsite",
          "Onsite",
          "Onsite",
          "Onsite",
          "Onsite",
          "Onsite",
          "Onsite",
          "Onsite",
          "Onsite",
          "Onsite",
          "Onsite",
          "Onsite",
          "Onsite",
          "Onsite",
          "Onsite",
          "Onsite",
          "Onsite",
          "Onsite",
          "Onsite",
          "Onsite",
          "Onsite",
          "Onsite",
          "Onsite",
          "Onsite",
          "Onsite",
          "Onsite",
          "Onsite",
          "Onsite",
          "Onsite",
          "Onsite",
          "Onsite",
          "Onsite",
          "Onsite",
          "Onsite",
          "Onsite",
          "Onsite",
          "Onsite",
          "Onsite",
          "Onsite",
          "Onsite",
          "Onsite",
          "Onsite",
          "Onsite",
          "Onsite",
          "Onsite",
          "Onsite",
          "Onsite",
          "Onsite",
          "Onsite",
          "Onsite",
          "Onsite",
          "Onsite",
          "Onsite",
          "Onsite",
          "Onsite",
          "Onsite",
          "Onsite",
          "Onsite",
          "Onsite",
          "Onsite",
          "Onsite",
          "Onsite",
          "Onsite",
          "Onsite",
          "Onsite",
          "Onsite",
          "Onsite",
          "Onsite",
          "Onsite",
          "Onsite",
          "Onsite",
          "Onsite",
          "Onsite",
          "Onsite",
          "Onsite",
          "Onsite",
          "Onsite",
          "Onsite",
          "Onsite",
          "Onsite",
          "Onsite",
          "Onsite",
          "Onsite",
          "Onsite",
          "Onsite",
          "Onsite",
          "Onsite",
          "Onsite",
          "Onsite",
          "Onsite",
          "Onsite",
          "Onsite",
          "Onsite",
          "Onsite",
          "Onsite",
          "Onsite",
          "Onsite",
          "Onsite",
          "Onsite",
          "Onsite",
          "Onsite",
          "Onsite",
          "Onsite",
          "Onsite",
          "Onsite",
          "Onsite",
          "Onsite",
          "Onsite",
          "Onsite",
          "Onsite",
          "Onsite",
          "Onsite",
          "Onsite",
          "Onsite",
          "Onsite",
          "Onsite",
          "Onsite",
          "Onsite",
          "Onsite",
          "Onsite",
          "Onsite",
          "Onsite",
          "Onsite",
          "Onsite",
          "Onsite",
          "Onsite",
          "Onsite",
          "Onsite",
          "Onsite",
          "Onsite",
          "Onsite",
          "Onsite",
          "Onsite",
          "Onsite",
          "Onsite",
          "Onsite",
          "Onsite",
          "Onsite",
          "Onsite",
          "Onsite",
          "Onsite",
          "Onsite",
          "Onsite",
          "Onsite",
          "Onsite",
          "Onsite",
          "Onsite",
          "Onsite",
          "Onsite",
          "Onsite",
          "Onsite",
          "Onsite",
          "Onsite",
          "Onsite",
          "Onsite",
          "Onsite",
          "Onsite",
          "Onsite",
          "Onsite",
          "Onsite",
          "Onsite",
          "Onsite",
          "Onsite",
          "Onsite",
          "Onsite",
          "Onsite",
          "Onsite",
          "Onsite",
          "Onsite",
          "Onsite",
          "Onsite",
          "Onsite",
          "Onsite",
          "Onsite",
          "Onsite",
          "Onsite",
          "Onsite",
          "Onsite",
          "Onsite",
          "Onsite",
          "Onsite",
          "Onsite",
          "Onsite",
          "Onsite",
          "Onsite",
          "Onsite",
          "Onsite",
          "Onsite",
          "Onsite",
          "Onsite",
          "Onsite",
          "Onsite",
          "Onsite",
          "Onsite",
          "Onsite",
          "Onsite",
          "Onsite",
          "Onsite",
          "Onsite",
          "Onsite",
          "Onsite",
          "Onsite",
          "Onsite",
          "Onsite",
          "Onsite",
          "Onsite",
          "Onsite",
          "Onsite",
          "Onsite",
          "Onsite",
          "Onsite",
          "Onsite",
          "Onsite",
          "Onsite",
          "Onsite",
          "Onsite",
          "Onsite",
          "Onsite",
          "Onsite",
          "Onsite",
          "Onsite",
          "Onsite",
          "Onsite",
          "Onsite",
          "Onsite",
          "Onsite",
          "Onsite",
          "Onsite",
          "Onsite",
          "Onsite",
          "Onsite",
          "Onsite",
          "Onsite",
          "Onsite",
          "Onsite",
          "Onsite",
          "Onsite",
          "Onsite",
          "Onsite",
          "Onsite",
          "Onsite",
          "Onsite",
          "Onsite",
          "Onsite",
          "Onsite",
          "Onsite",
          "Onsite",
          "Onsite",
          "Onsite",
          "Onsite",
          "Onsite",
          "Onsite",
          "Onsite",
          "Onsite",
          "Onsite",
          "Onsite",
          "Onsite",
          "Onsite",
          "Onsite",
          "Onsite",
          "Onsite",
          "Onsite",
          "Onsite",
          "Onsite",
          "Onsite",
          "Onsite",
          "Onsite",
          "Onsite",
          "Onsite",
          "Onsite",
          "Onsite",
          "Onsite",
          "Onsite",
          "Onsite",
          "Onsite",
          "Onsite",
          "Onsite",
          "Onsite",
          "Onsite",
          "Onsite",
          "Onsite",
          "Onsite",
          "Onsite",
          "Onsite",
          "Onsite",
          "Onsite",
          "Onsite",
          "Onsite",
          "Onsite",
          "Onsite",
          "Onsite",
          "Onsite",
          "Onsite",
          "Onsite",
          "Onsite",
          "Onsite",
          "Onsite",
          "Onsite",
          "Onsite",
          "Onsite",
          "Onsite",
          "Onsite",
          "Onsite",
          "Onsite",
          "Onsite",
          "Onsite",
          "Onsite",
          "Onsite",
          "Onsite",
          "Onsite",
          "Onsite",
          "Onsite",
          "Onsite",
          "Onsite",
          "Onsite",
          "Onsite",
          "Onsite",
          "Onsite",
          "Onsite",
          "Onsite",
          "Onsite",
          "Onsite",
          "Onsite",
          "Onsite",
          "Onsite",
          "Onsite",
          "Onsite",
          "Onsite",
          "Onsite",
          "Onsite",
          "Onsite",
          "Onsite",
          "Onsite",
          "Onsite",
          "Onsite",
          "Onsite",
          "Onsite",
          "Onsite",
          "Onsite",
          "Onsite",
          "Onsite",
          "Onsite",
          "Onsite",
          "Onsite",
          "Onsite",
          "Onsite",
          "Onsite",
          "Onsite",
          "Onsite",
          "Onsite",
          "Onsite",
          "Onsite",
          "Onsite",
          "Onsite",
          "Onsite",
          "Onsite",
          "Onsite",
          "Onsite",
          "Onsite",
          "Onsite",
          "Onsite",
          "Onsite",
          "Onsite",
          "Onsite",
          "Onsite",
          "Onsite",
          "Onsite",
          "Onsite",
          "Onsite",
          "Onsite",
          "Onsite",
          "Onsite",
          "Onsite",
          "Onsite",
          "Onsite",
          "Onsite",
          "Onsite",
          "Onsite",
          "Onsite",
          "Onsite",
          "Onsite",
          "Onsite",
          "Onsite",
          "Onsite",
          "Onsite",
          "Onsite",
          "Onsite",
          "Onsite",
          "Onsite",
          "Onsite",
          "Onsite",
          "Onsite",
          "Onsite",
          "Onsite",
          "Onsite",
          "Onsite",
          "Onsite",
          "Onsite",
          "Onsite",
          "Onsite",
          "Onsite",
          "Onsite",
          "Onsite",
          "Onsite",
          "Onsite",
          "Onsite",
          "Onsite",
          "Onsite",
          "Onsite",
          "Onsite",
          "Onsite",
          "Onsite",
          "Onsite",
          "Onsite",
          "Onsite",
          "Onsite",
          "Onsite",
          "Onsite",
          "Onsite",
          "Onsite",
          "Onsite",
          "Onsite",
          "Onsite",
          "Onsite",
          "Onsite",
          "Onsite",
          "Onsite",
          "Onsite",
          "Onsite",
          "Onsite",
          "Onsite",
          "Onsite",
          "Onsite",
          "Onsite",
          "Onsite",
          "Onsite",
          "Onsite",
          "Onsite",
          "Onsite",
          "Onsite",
          "Onsite",
          "Onsite",
          "Onsite",
          "Onsite",
          "Onsite",
          "Onsite",
          "Onsite",
          "Onsite",
          "Onsite",
          "Onsite",
          "Onsite",
          "Onsite",
          "Onsite",
          "Onsite",
          "Onsite",
          "Onsite",
          "Onsite",
          "Onsite",
          "Onsite",
          "Onsite",
          "Onsite",
          "Onsite",
          "Onsite",
          "Onsite",
          "Onsite",
          "Onsite",
          "Onsite",
          "Onsite",
          "Onsite",
          "Onsite",
          "Onsite",
          "Onsite",
          "Onsite",
          "Onsite",
          "Onsite",
          "Onsite",
          "Onsite",
          "Onsite",
          "Onsite",
          "Onsite",
          "Onsite",
          "Onsite",
          "Onsite",
          "Onsite",
          "Onsite",
          "Onsite",
          "Onsite",
          "Onsite",
          "Onsite",
          "Onsite",
          "Onsite",
          "Onsite",
          "Onsite",
          "Onsite",
          "Onsite",
          "Onsite",
          "Onsite",
          "Onsite",
          "Onsite",
          "Onsite",
          "Onsite",
          "Onsite",
          "Onsite",
          "Onsite",
          "Onsite",
          "Onsite",
          "Onsite",
          "Onsite",
          "Onsite",
          "Onsite",
          "Onsite",
          "Onsite",
          "Onsite",
          "Onsite",
          "Onsite",
          "Onsite",
          "Onsite",
          "Onsite",
          "Onsite",
          "Onsite",
          "Onsite",
          "Onsite",
          "Onsite",
          "Onsite",
          "Onsite",
          "Onsite",
          "Onsite",
          "Onsite",
          "Onsite",
          "Onsite",
          "Onsite",
          "Onsite",
          "Onsite",
          "Onsite",
          "Onsite",
          "Onsite",
          "Onsite",
          "Onsite",
          "Onsite",
          "Onsite",
          "Onsite",
          "Onsite",
          "Onsite",
          "Onsite",
          "Onsite",
          "Onsite",
          "Onsite",
          "Onsite",
          "Onsite",
          "Onsite",
          "Onsite",
          "Onsite",
          "Onsite",
          "Onsite",
          "Onsite",
          "Onsite",
          "Onsite",
          "Onsite",
          "Onsite",
          "Onsite",
          "Onsite",
          "Onsite",
          "Onsite",
          "Onsite",
          "Onsite",
          "Onsite",
          "Onsite",
          "Onsite",
          "Onsite",
          "Onsite",
          "Onsite",
          "Onsite",
          "Onsite",
          "Onsite",
          "Onsite",
          "Onsite",
          "Onsite",
          "Onsite",
          "Onsite",
          "Onsite",
          "Onsite",
          "Onsite",
          "Onsite",
          "Onsite",
          "Onsite",
          "Onsite",
          "Onsite",
          "Onsite",
          "Onsite",
          "Onsite",
          "Onsite",
          "Onsite",
          "Onsite",
          "Onsite",
          "Onsite",
          "Onsite",
          "Onsite",
          "Onsite",
          "Onsite",
          "Onsite",
          "Onsite",
          "Onsite",
          "Onsite",
          "Onsite",
          "Onsite",
          "Onsite",
          "Onsite",
          "Onsite",
          "Onsite",
          "Onsite",
          "Onsite",
          "Onsite",
          "Onsite",
          "Onsite",
          "Onsite",
          "Onsite",
          "Onsite",
          "Onsite",
          "Onsite",
          "Onsite",
          "Onsite",
          "Onsite",
          "Onsite",
          "Onsite",
          "Onsite",
          "Onsite",
          "Onsite",
          "Onsite",
          "Onsite",
          "Onsite",
          "Onsite",
          "Onsite",
          "Onsite",
          "Onsite",
          "Onsite",
          "Onsite",
          "Onsite",
          "Onsite",
          "Onsite",
          "Onsite",
          "Onsite",
          "Onsite",
          "Onsite",
          "Onsite",
          "Onsite",
          "Onsite",
          "Onsite",
          "Onsite",
          "Onsite",
          "Onsite",
          "Onsite",
          "Onsite",
          "Onsite",
          "Onsite",
          "Onsite",
          "Onsite",
          "Onsite",
          "Onsite",
          "Onsite",
          "Onsite",
          "Onsite",
          "Onsite",
          "Onsite",
          "Onsite",
          "Onsite",
          "Onsite",
          "Onsite",
          "Onsite",
          "Onsite",
          "Onsite",
          "Onsite",
          "Onsite",
          "Onsite",
          "Onsite",
          "Onsite",
          "Onsite",
          "Onsite",
          "Onsite",
          "Onsite",
          "Onsite",
          "Onsite",
          "Onsite",
          "Onsite",
          "Onsite",
          "Onsite",
          "Onsite",
          "Onsite",
          "Onsite",
          "Onsite",
          "Onsite",
          "Onsite",
          "Onsite",
          "Onsite",
          "Onsite",
          "Onsite",
          "Onsite",
          "Onsite",
          "Onsite",
          "Onsite",
          "Onsite",
          "Onsite",
          "Onsite",
          "Onsite",
          "Onsite",
          "Onsite",
          "Onsite",
          "Onsite",
          "Onsite",
          "Onsite",
          "Onsite",
          "Onsite",
          "Onsite",
          "Onsite",
          "Onsite",
          "Onsite",
          "Onsite",
          "Onsite",
          "Onsite",
          "Onsite",
          "Onsite",
          "Onsite",
          "Onsite",
          "Onsite",
          "Onsite",
          "Onsite",
          "Onsite",
          "Onsite",
          "Onsite",
          "Onsite",
          "Onsite",
          "Onsite",
          "Onsite",
          "Onsite",
          "Onsite",
          "Onsite",
          "Onsite",
          "Onsite",
          "Onsite",
          "Onsite",
          "Onsite",
          "Onsite",
          "Onsite",
          "Onsite",
          "Onsite",
          "Onsite",
          "Onsite",
          "Onsite",
          "Onsite",
          "Onsite",
          "Onsite",
          "Onsite",
          "Onsite",
          "Onsite",
          "Onsite",
          "Onsite",
          "Onsite",
          "Onsite",
          "Onsite",
          "Onsite",
          "Onsite",
          "Onsite",
          "Onsite",
          "Onsite",
          "Onsite",
          "Onsite",
          "Onsite",
          "Onsite",
          "Onsite",
          "Onsite",
          "Onsite",
          "Onsite",
          "Onsite",
          "Onsite",
          "Onsite",
          "Onsite",
          "Onsite",
          "Onsite",
          "Onsite",
          "Onsite",
          "Onsite",
          "Onsite",
          "Onsite",
          "Onsite",
          "Onsite",
          "Onsite",
          "Onsite",
          "Onsite",
          "Onsite",
          "Onsite",
          "Onsite",
          "Onsite",
          "Onsite",
          "Onsite",
          "Onsite",
          "Onsite",
          "Onsite",
          "Onsite",
          "Onsite",
          "Onsite",
          "Onsite",
          "Onsite",
          "Onsite",
          "Onsite",
          "Onsite",
          "Onsite",
          "Onsite",
          "Onsite",
          "Onsite",
          "Onsite",
          "Onsite",
          "Onsite",
          "Onsite",
          "Onsite",
          "Onsite",
          "Onsite",
          "Onsite",
          "Onsite",
          "Onsite",
          "Onsite",
          "Onsite",
          "Onsite",
          "Onsite",
          "Onsite",
          "Onsite",
          "Onsite",
          "Onsite",
          "Onsite",
          "Onsite",
          "Onsite",
          "Onsite",
          "Onsite",
          "Onsite",
          "Onsite",
          "Onsite",
          "Onsite",
          "Onsite",
          "Onsite",
          "Onsite",
          "Onsite",
          "Onsite",
          "Onsite",
          "Onsite",
          "Onsite",
          "Onsite",
          "Onsite",
          "Onsite",
          "Onsite",
          "Onsite",
          "Onsite",
          "Onsite",
          "Onsite",
          "Onsite",
          "Onsite",
          "Onsite",
          "Onsite",
          "Onsite",
          "Onsite",
          "Onsite",
          "Onsite",
          "Onsite",
          "Onsite",
          "Onsite",
          "Onsite",
          "Onsite",
          "Onsite",
          "Onsite",
          "Onsite",
          "Onsite",
          "Onsite",
          "Onsite",
          "Onsite",
          "Onsite",
          "Onsite",
          "Onsite",
          "Onsite",
          "Onsite",
          "Onsite",
          "Onsite",
          "Onsite",
          "Onsite",
          "Onsite",
          "Onsite",
          "Onsite",
          "Onsite",
          "Onsite",
          "Onsite",
          "Onsite",
          "Onsite",
          "Onsite",
          "Onsite",
          "Onsite",
          "Onsite",
          "Onsite",
          "Onsite",
          "Onsite",
          "Onsite",
          "Onsite",
          "Onsite",
          "Onsite",
          "Onsite",
          "Onsite",
          "Onsite",
          "Onsite",
          "Onsite",
          "Onsite",
          "Onsite",
          "Onsite",
          "Onsite",
          "Onsite",
          "Onsite",
          "Onsite",
          "Onsite",
          "Onsite",
          "Onsite",
          "Onsite",
          "Onsite",
          "Onsite",
          "Onsite",
          "Onsite",
          "Onsite",
          "Onsite",
          "Onsite",
          "Onsite",
          "Onsite",
          "Onsite",
          "Onsite",
          "Onsite",
          "Onsite",
          "Onsite",
          "Onsite",
          "Onsite",
          "Onsite",
          "Onsite",
          "Onsite",
          "Onsite",
          "Onsite",
          "Onsite",
          "Onsite",
          "Onsite",
          "Onsite",
          "Onsite",
          "Onsite",
          "Onsite",
          "Onsite",
          "Onsite",
          "Onsite",
          "Onsite",
          "Onsite",
          "Onsite",
          "Onsite",
          "Onsite",
          "Onsite",
          "Onsite",
          "Onsite",
          "Onsite",
          "Onsite",
          "Onsite",
          "Onsite",
          "Onsite",
          "Onsite",
          "Onsite",
          "Onsite",
          "Onsite",
          "Onsite",
          "Onsite",
          "Onsite",
          "Onsite",
          "Onsite",
          "Onsite",
          "Onsite",
          "Onsite",
          "Onsite",
          "Onsite",
          "Onsite",
          "Onsite",
          "Onsite",
          "Onsite",
          "Onsite",
          "Onsite",
          "Onsite",
          "Onsite",
          "Onsite",
          "Onsite",
          "Onsite",
          "Onsite",
          "Onsite",
          "Onsite",
          "Onsite",
          "Onsite",
          "Onsite",
          "Onsite",
          "Onsite",
          "Onsite",
          "Onsite",
          "Onsite",
          "Onsite",
          "Onsite",
          "Onsite",
          "Onsite",
          "Onsite",
          "Onsite",
          "Onsite",
          "Onsite",
          "Onsite",
          "Onsite",
          "Onsite",
          "Onsite",
          "Onsite",
          "Onsite",
          "Onsite",
          "Onsite",
          "Onsite",
          "Onsite",
          "Onsite",
          "Onsite",
          "Onsite",
          "Onsite",
          "Onsite",
          "Onsite",
          "Onsite",
          "Onsite",
          "Onsite",
          "Onsite",
          "Onsite",
          "Onsite",
          "Onsite",
          "Onsite",
          "Onsite",
          "Onsite",
          "Onsite",
          "Onsite",
          "Onsite",
          "Onsite",
          "Onsite",
          "Onsite",
          "Onsite",
          "Onsite",
          "Onsite",
          "Onsite",
          "Onsite",
          "Onsite",
          "Onsite",
          "Onsite",
          "Onsite",
          "Onsite",
          "Onsite",
          "Onsite",
          "Onsite",
          "Onsite",
          "Onsite",
          "Onsite",
          "Onsite",
          "Onsite",
          "Onsite",
          "Onsite",
          "Onsite",
          "Onsite",
          "Onsite",
          "Onsite",
          "Onsite",
          "Onsite",
          "Onsite",
          "Onsite",
          "Onsite",
          "Onsite",
          "Onsite",
          "Onsite",
          "Onsite",
          "Onsite",
          "Onsite",
          "Onsite",
          "Onsite",
          "Onsite",
          "Onsite",
          "Onsite",
          "Onsite",
          "Onsite",
          "Onsite",
          "Onsite",
          "Onsite",
          "Onsite",
          "Onsite",
          "Onsite",
          "Onsite",
          "Onsite",
          "Onsite",
          "Onsite",
          "Onsite",
          "Onsite",
          "Onsite",
          "Onsite",
          "Onsite",
          "Onsite",
          "Onsite",
          "Onsite",
          "Onsite",
          "Onsite",
          "Onsite",
          "Onsite",
          "Onsite",
          "Onsite",
          "Onsite",
          "Onsite",
          "Onsite",
          "Onsite",
          "Onsite",
          "Onsite",
          "Onsite",
          "Onsite",
          "Onsite",
          "Onsite",
          "Onsite",
          "Onsite",
          "Onsite",
          "Onsite",
          "Onsite",
          "Onsite",
          "Onsite",
          "Onsite",
          "Onsite",
          "Onsite",
          "Onsite",
          "Onsite",
          "Onsite",
          "Onsite",
          "Onsite",
          "Onsite",
          "Onsite",
          "Onsite",
          "Onsite",
          "Onsite",
          "Onsite",
          "Onsite",
          "Onsite",
          "Onsite",
          "Onsite",
          "Onsite",
          "Onsite",
          "Onsite",
          "Onsite",
          "Onsite",
          "Onsite",
          "Onsite",
          "Onsite",
          "Onsite",
          "Onsite",
          "Onsite",
          "Onsite",
          "Onsite",
          "Onsite",
          "Onsite",
          "Onsite",
          "Onsite",
          "Onsite",
          "Onsite",
          "Onsite",
          "Onsite",
          "Onsite",
          "Onsite",
          "Onsite",
          "Onsite",
          "Onsite",
          "Onsite",
          "Onsite",
          "Onsite",
          "Onsite",
          "Onsite",
          "Onsite",
          "Onsite",
          "Onsite",
          "Onsite",
          "Onsite",
          "Onsite",
          "Onsite",
          "Onsite",
          "Onsite",
          "Onsite",
          "Onsite",
          "Onsite",
          "Onsite",
          "Onsite",
          "Onsite",
          "Onsite",
          "Onsite",
          "Onsite",
          "Onsite",
          "Onsite",
          "Onsite",
          "Onsite",
          "Onsite",
          "Onsite",
          "Onsite",
          "Onsite",
          "Onsite",
          "Onsite",
          "Onsite",
          "Onsite",
          "Onsite",
          "Onsite",
          "Onsite",
          "Onsite",
          "Onsite",
          "Onsite",
          "Onsite",
          "Onsite",
          "Onsite",
          "Onsite",
          "Onsite",
          "Onsite",
          "Onsite",
          "Onsite",
          "Onsite",
          "Onsite",
          "Onsite",
          "Onsite",
          "Onsite",
          "Onsite",
          "Onsite",
          "Onsite",
          "Onsite",
          "Onsite",
          "Onsite",
          "Onsite",
          "Onsite",
          "Onsite",
          "Onsite",
          "Onsite",
          "Onsite",
          "Onsite",
          "Onsite",
          "Onsite",
          "Onsite",
          "Onsite",
          "Onsite",
          "Onsite",
          "Onsite",
          "Onsite",
          "Onsite",
          "Onsite",
          "Onsite",
          "Onsite",
          "Onsite",
          "Onsite",
          "Onsite",
          "Onsite",
          "Onsite",
          "Onsite",
          "Onsite",
          "Onsite",
          "Onsite",
          "Onsite",
          "Onsite",
          "Onsite",
          "Onsite",
          "Onsite",
          "Onsite",
          "Onsite",
          "Onsite",
          "Onsite",
          "Onsite",
          "Onsite",
          "Onsite",
          "Onsite",
          "Onsite",
          "Onsite",
          "Onsite",
          "Onsite",
          "Onsite",
          "Onsite",
          "Onsite",
          "Onsite",
          "Onsite",
          "Onsite",
          "Onsite",
          "Onsite",
          "Onsite",
          "Onsite",
          "Onsite",
          "Onsite",
          "Onsite",
          "Onsite",
          "Onsite",
          "Onsite",
          "Onsite",
          "Onsite",
          "Onsite",
          "Onsite",
          "Onsite",
          "Onsite",
          "Onsite",
          "Onsite",
          "Onsite",
          "Onsite",
          "Onsite",
          "Onsite",
          "Onsite",
          "Onsite",
          "Onsite",
          "Onsite",
          "Onsite",
          "Onsite",
          "Onsite",
          "Onsite",
          "Onsite",
          "Onsite",
          "Onsite",
          "Onsite",
          "Onsite",
          "Onsite",
          "Onsite",
          "Onsite",
          "Onsite",
          "Onsite",
          "Onsite",
          "Onsite",
          "Onsite",
          "Onsite",
          "Onsite",
          "Onsite",
          "Onsite",
          "Onsite",
          "Onsite",
          "Onsite",
          "Onsite",
          "Onsite",
          "Onsite",
          "Onsite",
          "Onsite",
          "Onsite",
          "Onsite",
          "Onsite",
          "Onsite",
          "Onsite",
          "Onsite",
          "Onsite",
          "Onsite",
          "Onsite",
          "Onsite",
          "Onsite",
          "Onsite",
          "Onsite",
          "Onsite",
          "Onsite",
          "Onsite",
          "Onsite",
          "Onsite",
          "Onsite",
          "Onsite",
          "Onsite",
          "Onsite",
          "Onsite",
          "Onsite",
          "Onsite",
          "Onsite",
          "Onsite",
          "Onsite",
          "Onsite",
          "Onsite",
          "Onsite",
          "Onsite",
          "Onsite",
          "Onsite",
          "Onsite",
          "Onsite",
          "Onsite",
          "Onsite",
          "Onsite",
          "Onsite",
          "Onsite",
          "Onsite",
          "Onsite",
          "Onsite",
          "Onsite",
          "Onsite",
          "Onsite",
          "Onsite",
          "Onsite",
          "Onsite",
          "Onsite",
          "Onsite",
          "Onsite"
         ],
         "x0": " ",
         "xaxis": "x",
         "y": {
          "_inputArray": {
           "0": 2,
           "1": 2,
           "2": 2,
           "3": 2,
           "4": 3,
           "5": 2,
           "6": 2,
           "7": 1,
           "8": 2,
           "9": 2,
           "10": 2,
           "11": 5,
           "12": 3,
           "13": 4,
           "14": 1,
           "15": 2,
           "16": 3,
           "17": 2,
           "18": 3,
           "19": 4,
           "20": 2,
           "21": 3,
           "22": 3,
           "23": 2,
           "24": 1,
           "25": 1,
           "26": 2,
           "27": 3,
           "28": 3,
           "29": 2,
           "30": 2,
           "31": 2,
           "32": 1,
           "33": 2,
           "34": 5,
           "35": 2,
           "36": 3,
           "37": 2,
           "38": 3,
           "39": 4,
           "40": 2,
           "41": 1,
           "42": 4,
           "43": 2,
           "44": 3,
           "45": 2,
           "46": 3,
           "47": 3,
           "48": 2,
           "49": 2,
           "50": 1,
           "51": 1,
           "52": 3,
           "53": 1,
           "54": 3,
           "55": 2,
           "56": 3,
           "57": 2,
           "58": 1,
           "59": 1,
           "60": 3,
           "61": 3,
           "62": 1,
           "63": 3,
           "64": 3,
           "65": 3,
           "66": 3,
           "67": 3,
           "68": 1,
           "69": 1,
           "70": 3,
           "71": 4,
           "72": 1,
           "73": 3,
           "74": 2,
           "75": 3,
           "76": 1,
           "77": 1,
           "78": 2,
           "79": 4,
           "80": 3,
           "81": 3,
           "82": 2,
           "83": 1,
           "84": 1,
           "85": 3,
           "86": 5,
           "87": 2,
           "88": 3,
           "89": 5,
           "90": 3,
           "91": 2,
           "92": 5,
           "93": 2,
           "94": 3,
           "95": 2,
           "96": 1,
           "97": 1,
           "98": 2,
           "99": 5,
           "100": 2,
           "101": 3,
           "102": 1,
           "103": 2,
           "104": 2,
           "105": 5,
           "106": 1,
           "107": 3,
           "108": 2,
           "109": 1,
           "110": 1,
           "111": 2,
           "112": 1,
           "113": 2,
           "114": 3,
           "115": 3,
           "116": 4,
           "117": 2,
           "118": 2,
           "119": 3,
           "120": 4,
           "121": 5,
           "122": 3,
           "123": 1,
           "124": 1,
           "125": 2,
           "126": 3,
           "127": 1,
           "128": 2,
           "129": 3,
           "130": 5,
           "131": 3,
           "132": 2,
           "133": 2,
           "134": 5,
           "135": 3,
           "136": 5,
           "137": 1,
           "138": 2,
           "139": 3,
           "140": 3,
           "141": 5,
           "142": 4,
           "143": 3,
           "144": 3,
           "145": 2,
           "146": 1,
           "147": 1,
           "148": 4,
           "149": 4,
           "150": 2,
           "151": 2,
           "152": 3,
           "153": 4,
           "154": 3,
           "155": 2,
           "156": 1,
           "157": 2,
           "158": 2,
           "159": 2,
           "160": 3,
           "161": 2,
           "162": 1,
           "163": 2,
           "164": 3,
           "165": 1,
           "166": 3,
           "167": 3,
           "168": 5,
           "169": 2,
           "170": 2,
           "171": 3,
           "172": 2,
           "173": 1,
           "174": 3,
           "175": 1,
           "176": 3,
           "177": 3,
           "178": 1,
           "179": 3,
           "180": 1,
           "181": 2,
           "182": 3,
           "183": 3,
           "184": 5,
           "185": 5,
           "186": 3,
           "187": 4,
           "188": 1,
           "189": 2,
           "190": 5,
           "191": 5,
           "192": 2,
           "193": 4,
           "194": 4,
           "195": 5,
           "196": 2,
           "197": 2,
           "198": 3,
           "199": 3,
           "200": 2,
           "201": 2,
           "202": 2,
           "203": 1,
           "204": 3,
           "205": 3,
           "206": 3,
           "207": 3,
           "208": 2,
           "209": 1,
           "210": 3,
           "211": 3,
           "212": 1,
           "213": 1,
           "214": 1,
           "215": 1,
           "216": 2,
           "217": 4,
           "218": 2,
           "219": 1,
           "220": 3,
           "221": 3,
           "222": 2,
           "223": 2,
           "224": 1,
           "225": 1,
           "226": 3,
           "227": 3,
           "228": 4,
           "229": 3,
           "230": 1,
           "231": 3,
           "232": 4,
           "233": 3,
           "234": 1,
           "235": 2,
           "236": 1,
           "237": 3,
           "238": 2,
           "239": 1,
           "240": 2,
           "241": 1,
           "242": 4,
           "243": 1,
           "244": 1,
           "245": 1,
           "246": 1,
           "247": 2,
           "248": 3,
           "249": 3,
           "250": 2,
           "251": 1,
           "252": 2,
           "253": 3,
           "254": 2,
           "255": 3,
           "256": 1,
           "257": 2,
           "258": 2,
           "259": 2,
           "260": 1,
           "261": 3,
           "262": 2,
           "263": 2,
           "264": 2,
           "265": 5,
           "266": 2,
           "267": 3,
           "268": 3,
           "269": 3,
           "270": 3,
           "271": 2,
           "272": 2,
           "273": 2,
           "274": 3,
           "275": 3,
           "276": 5,
           "277": 1,
           "278": 2,
           "279": 2,
           "280": 4,
           "281": 3,
           "282": 2,
           "283": 2,
           "284": 2,
           "285": 2,
           "286": 1,
           "287": 2,
           "288": 2,
           "289": 1,
           "290": 1,
           "291": 2,
           "292": 4,
           "293": 2,
           "294": 3,
           "295": 2,
           "296": 1,
           "297": 2,
           "298": 1,
           "299": 3,
           "300": 4,
           "301": 2,
           "302": 2,
           "303": 2,
           "304": 3,
           "305": 2,
           "306": 2,
           "307": 3,
           "308": 3,
           "309": 3,
           "310": 3,
           "311": 2,
           "312": 4,
           "313": 3,
           "314": 5,
           "315": 3,
           "316": 3,
           "317": 1,
           "318": 5,
           "319": 3,
           "320": 3,
           "321": 3,
           "322": 5,
           "323": 3,
           "324": 1,
           "325": 2,
           "326": 4,
           "327": 3,
           "328": 2,
           "329": 1,
           "330": 1,
           "331": 3,
           "332": 3,
           "333": 3,
           "334": 3,
           "335": 3,
           "336": 3,
           "337": 5,
           "338": 4,
           "339": 2,
           "340": 3,
           "341": 2,
           "342": 3,
           "343": 1,
           "344": 2,
           "345": 1,
           "346": 4,
           "347": 5,
           "348": 4,
           "349": 1,
           "350": 3,
           "351": 2,
           "352": 3,
           "353": 2,
           "354": 2,
           "355": 1,
           "356": 2,
           "357": 2,
           "358": 3,
           "359": 3,
           "360": 2,
           "361": 3,
           "362": 1,
           "363": 2,
           "364": 1,
           "365": 3,
           "366": 2,
           "367": 5,
           "368": 3,
           "369": 2,
           "370": 2,
           "371": 1,
           "372": 3,
           "373": 1,
           "374": 2,
           "375": 2,
           "376": 1,
           "377": 1,
           "378": 2,
           "379": 3,
           "380": 3,
           "381": 2,
           "382": 1,
           "383": 2,
           "384": 1,
           "385": 2,
           "386": 1,
           "387": 3,
           "388": 2,
           "389": 3,
           "390": 2,
           "391": 2,
           "392": 3,
           "393": 4,
           "394": 1,
           "395": 2,
           "396": 2,
           "397": 3,
           "398": 3,
           "399": 4,
           "400": 2,
           "401": 5,
           "402": 1,
           "403": 2,
           "404": 2,
           "405": 3,
           "406": 5,
           "407": 4,
           "408": 2,
           "409": 2,
           "410": 1,
           "411": 1,
           "412": 2,
           "413": 2,
           "414": 2,
           "415": 2,
           "416": 2,
           "417": 1,
           "418": 5,
           "419": 2,
           "420": 5,
           "421": 3,
           "422": 3,
           "423": 2,
           "424": 1,
           "425": 1,
           "426": 2,
           "427": 2,
           "428": 1,
           "429": 1,
           "430": 1,
           "431": 4,
           "432": 3,
           "433": 2,
           "434": 1,
           "435": 1,
           "436": 2,
           "437": 2,
           "438": 1,
           "439": 1,
           "440": 1,
           "441": 2,
           "442": 2,
           "443": 5,
           "444": 3,
           "445": 2,
           "446": 2,
           "447": 2,
           "448": 2,
           "449": 2,
           "450": 1,
           "451": 2,
           "452": 2,
           "453": 3,
           "454": 2,
           "455": 1,
           "456": 3,
           "457": 2,
           "458": 2,
           "459": 3,
           "460": 2,
           "461": 2,
           "462": 1,
           "463": 2,
           "464": 2,
           "465": 1,
           "466": 2,
           "467": 3,
           "468": 2,
           "469": 1,
           "470": 2,
           "471": 2,
           "472": 1,
           "473": 3,
           "474": 5,
           "475": 4,
           "476": 3,
           "477": 1,
           "478": 2,
           "479": 4,
           "480": 2,
           "481": 1,
           "482": 2,
           "483": 3,
           "484": 5,
           "485": 1,
           "486": 5,
           "487": 2,
           "488": 2,
           "489": 2,
           "490": 3,
           "491": 1,
           "492": 1,
           "493": 2,
           "494": 2,
           "495": 1,
           "496": 4,
           "497": 4,
           "498": 1,
           "499": 2,
           "500": 1,
           "501": 3,
           "502": 2,
           "503": 4,
           "504": 2,
           "505": 3,
           "506": 4,
           "507": 1,
           "508": 2,
           "509": 2,
           "510": 1,
           "511": 5,
           "512": 3,
           "513": 1,
           "514": 1,
           "515": 3,
           "516": 1,
           "517": 3,
           "518": 4,
           "519": 1,
           "520": 2,
           "521": 3,
           "522": 3,
           "523": 2,
           "524": 3,
           "525": 2,
           "526": 4,
           "527": 3,
           "528": 3,
           "529": 2,
           "530": 3,
           "531": 5,
           "532": 4,
           "533": 2,
           "534": 2,
           "535": 2,
           "536": 3,
           "537": 2,
           "538": 2,
           "539": 3,
           "540": 1,
           "541": 2,
           "542": 2,
           "543": 1,
           "544": 2,
           "545": 3,
           "546": 1,
           "547": 3,
           "548": 1,
           "549": 1,
           "550": 3,
           "551": 3,
           "552": 3,
           "553": 4,
           "554": 3,
           "555": 1,
           "556": 1,
           "557": 3,
           "558": 1,
           "559": 5,
           "560": 4,
           "561": 2,
           "562": 3,
           "563": 1,
           "564": 5,
           "565": 3,
           "566": 1,
           "567": 4,
           "568": 2,
           "569": 1,
           "570": 2,
           "571": 4,
           "572": 2,
           "573": 3,
           "574": 1,
           "575": 3,
           "576": 3,
           "577": 1,
           "578": 2,
           "579": 3,
           "580": 4,
           "581": 3,
           "582": 2,
           "583": 2,
           "584": 2,
           "585": 2,
           "586": 3,
           "587": 3,
           "588": 2,
           "589": 2,
           "590": 2,
           "591": 2,
           "592": 2,
           "593": 3,
           "594": 1,
           "595": 4,
           "596": 1,
           "597": 2,
           "598": 2,
           "599": 3,
           "600": 1,
           "601": 1,
           "602": 2,
           "603": 3,
           "604": 5,
           "605": 3,
           "606": 3,
           "607": 1,
           "608": 2,
           "609": 3,
           "610": 3,
           "611": 4,
           "612": 2,
           "613": 1,
           "614": 1,
           "615": 1,
           "616": 3,
           "617": 1,
           "618": 1,
           "619": 2,
           "620": 3,
           "621": 1,
           "622": 2,
           "623": 2,
           "624": 2,
           "625": 5,
           "626": 2,
           "627": 1,
           "628": 2,
           "629": 3,
           "630": 3,
           "631": 3,
           "632": 1,
           "633": 2,
           "634": 2,
           "635": 2,
           "636": 2,
           "637": 3,
           "638": 1,
           "639": 3,
           "640": 3,
           "641": 3,
           "642": 3,
           "643": 2,
           "644": 3,
           "645": 2,
           "646": 1,
           "647": 3,
           "648": 3,
           "649": 2,
           "650": 2,
           "651": 5,
           "652": 1,
           "653": 5,
           "654": 4,
           "655": 3,
           "656": 2,
           "657": 2,
           "658": 1,
           "659": 1,
           "660": 1,
           "661": 2,
           "662": 1,
           "663": 4,
           "664": 5,
           "665": 3,
           "666": 2,
           "667": 2,
           "668": 2,
           "669": 2,
           "670": 3,
           "671": 4,
           "672": 3,
           "673": 1,
           "674": 2,
           "675": 1,
           "676": 3,
           "677": 3,
           "678": 2,
           "679": 3,
           "680": 2,
           "681": 4,
           "682": 1,
           "683": 3,
           "684": 1,
           "685": 3,
           "686": 1,
           "687": 1,
           "688": 2,
           "689": 2,
           "690": 3,
           "691": 1,
           "692": 3,
           "693": 2,
           "694": 5,
           "695": 1,
           "696": 3,
           "697": 5,
           "698": 5,
           "699": 4,
           "700": 2,
           "701": 5,
           "702": 2,
           "703": 3,
           "704": 4,
           "705": 2,
           "706": 3,
           "707": 2,
           "708": 3,
           "709": 3,
           "710": 3,
           "711": 2,
           "712": 3,
           "713": 2,
           "714": 1,
           "715": 1,
           "716": 1,
           "717": 2,
           "718": 2,
           "719": 2,
           "720": 2,
           "721": 1,
           "722": 2,
           "723": 2,
           "724": 2,
           "725": 2,
           "726": 4,
           "727": 2,
           "728": 1,
           "729": 1,
           "730": 2,
           "731": 1,
           "732": 1,
           "733": 1,
           "734": 2,
           "735": 4,
           "736": 3,
           "737": 3,
           "738": 1,
           "739": 1,
           "740": 2,
           "741": 1,
           "742": 2,
           "743": 2,
           "744": 2,
           "745": 2,
           "746": 1,
           "747": 2,
           "748": 5,
           "749": 3,
           "750": 3,
           "751": 1,
           "752": 2,
           "753": 2,
           "754": 1,
           "755": 3,
           "756": 2,
           "757": 4,
           "758": 2,
           "759": 2,
           "760": 1,
           "761": 1,
           "762": 3,
           "763": 2,
           "764": 5,
           "765": 3,
           "766": 1,
           "767": 2,
           "768": 2,
           "769": 3,
           "770": 2,
           "771": 3,
           "772": 3,
           "773": 2,
           "774": 2,
           "775": 3,
           "776": 3,
           "777": 2,
           "778": 1,
           "779": 4,
           "780": 2,
           "781": 2,
           "782": 3,
           "783": 1,
           "784": 4,
           "785": 3,
           "786": 2,
           "787": 2,
           "788": 1,
           "789": 3,
           "790": 2,
           "791": 3,
           "792": 3,
           "793": 2,
           "794": 4,
           "795": 3,
           "796": 2,
           "797": 1,
           "798": 1,
           "799": 1,
           "800": 4,
           "801": 3,
           "802": 2,
           "803": 1,
           "804": 1,
           "805": 5,
           "806": 4,
           "807": 3,
           "808": 2,
           "809": 2,
           "810": 4,
           "811": 2,
           "812": 3,
           "813": 1,
           "814": 3,
           "815": 3,
           "816": 2,
           "817": 3,
           "818": 1,
           "819": 1,
           "820": 4,
           "821": 4,
           "822": 2,
           "823": 5,
           "824": 3,
           "825": 2,
           "826": 2,
           "827": 2,
           "828": 2,
           "829": 1,
           "830": 2,
           "831": 3,
           "832": 2,
           "833": 3,
           "834": 2,
           "835": 1,
           "836": 4,
           "837": 3,
           "838": 1,
           "839": 2,
           "840": 3,
           "841": 3,
           "842": 2,
           "843": 2,
           "844": 2,
           "845": 1,
           "846": 2,
           "847": 3,
           "848": 1,
           "849": 3,
           "850": 3,
           "851": 5,
           "852": 3,
           "853": 5,
           "854": 2,
           "855": 3,
           "856": 3,
           "857": 1,
           "858": 1,
           "859": 3,
           "860": 1,
           "861": 2,
           "862": 3,
           "863": 2,
           "864": 2,
           "865": 2,
           "866": 3,
           "867": 1,
           "868": 1,
           "869": 1,
           "870": 1,
           "871": 3,
           "872": 4,
           "873": 3,
           "874": 2,
           "875": 1,
           "876": 4,
           "877": 3,
           "878": 3,
           "879": 2,
           "880": 3,
           "881": 1,
           "882": 1,
           "883": 1,
           "884": 2,
           "885": 1,
           "886": 1,
           "887": 1,
           "888": 3,
           "889": 4,
           "890": 2,
           "891": 1,
           "892": 3,
           "893": 2,
           "894": 3,
           "895": 4,
           "896": 3,
           "897": 5,
           "898": 2,
           "899": 1,
           "900": 2,
           "901": 2,
           "902": 4,
           "903": 1,
           "904": 3,
           "905": 5,
           "906": 3,
           "907": 2,
           "908": 3,
           "909": 3,
           "910": 3,
           "911": 2,
           "912": 3,
           "913": 1,
           "914": 2,
           "915": 1,
           "916": 2,
           "917": 4,
           "918": 1,
           "919": 2,
           "920": 3,
           "921": 2,
           "922": 1,
           "923": 2,
           "924": 5,
           "925": 1,
           "926": 1,
           "927": 3,
           "928": 1,
           "929": 1,
           "930": 2,
           "931": 2,
           "932": 2,
           "933": 4,
           "934": 2,
           "935": 2,
           "936": 1,
           "937": 3,
           "938": 3,
           "939": 5,
           "940": 4,
           "941": 2,
           "942": 1,
           "943": 1,
           "944": 3,
           "945": 2,
           "946": 1,
           "947": 2,
           "948": 2,
           "949": 2,
           "950": 2,
           "951": 3,
           "952": 2,
           "953": 1,
           "954": 4,
           "955": 3,
           "956": 3,
           "957": 1,
           "958": 2,
           "959": 2,
           "960": 1,
           "961": 4,
           "962": 5,
           "963": 3,
           "964": 4,
           "965": 2,
           "966": 2,
           "967": 2,
           "968": 2,
           "969": 3,
           "970": 2,
           "971": 3,
           "972": 1,
           "973": 2,
           "974": 3,
           "975": 3,
           "976": 3,
           "977": 5,
           "978": 3,
           "979": 1,
           "980": 2,
           "981": 2,
           "982": 4,
           "983": 1,
           "984": 5,
           "985": 3,
           "986": 1,
           "987": 2,
           "988": 1,
           "989": 1,
           "990": 1,
           "991": 3,
           "992": 1,
           "993": 2,
           "994": 3,
           "995": 2,
           "996": 5,
           "997": 2,
           "998": 1,
           "999": 1,
           "1000": 4,
           "1001": 2,
           "1002": 1,
           "1003": 3,
           "1004": 2,
           "1005": 2,
           "1006": 2,
           "1007": 2,
           "1008": 5,
           "1009": 2,
           "1010": 5,
           "1011": 5,
           "1012": 2,
           "1013": 4,
           "1014": 3,
           "1015": 2,
           "1016": 5,
           "1017": 2,
           "1018": 1,
           "1019": 2,
           "1020": 1,
           "1021": 2,
           "1022": 2,
           "1023": 2,
           "1024": 3,
           "1025": 3,
           "1026": 4,
           "1027": 3,
           "1028": 1,
           "1029": 3,
           "1030": 2,
           "1031": 1,
           "1032": 1,
           "1033": 3,
           "1034": 3,
           "1035": 1,
           "1036": 1,
           "1037": 2,
           "1038": 2,
           "1039": 4,
           "1040": 1,
           "1041": 2,
           "1042": 2,
           "1043": 1,
           "1044": 3,
           "1045": 3,
           "1046": 3,
           "1047": 2,
           "1048": 3,
           "1049": 2,
           "1050": 1,
           "1051": 1,
           "1052": 4,
           "1053": 3,
           "1054": 1,
           "1055": 2,
           "1056": 3,
           "1057": 2,
           "1058": 1,
           "1059": 2,
           "1060": 2,
           "1061": 3,
           "1062": 2,
           "1063": 2,
           "1064": 4,
           "1065": 5,
           "1066": 3,
           "1067": 3,
           "1068": 2,
           "1069": 3,
           "1070": 4,
           "1071": 1,
           "1072": 5,
           "1073": 4,
           "1074": 4,
           "1075": 2,
           "1076": 1,
           "1077": 2,
           "1078": 1,
           "1079": 2,
           "1080": 2,
           "1081": 4,
           "1082": 4,
           "1083": 4,
           "1084": 1,
           "1085": 1,
           "1086": 5,
           "1087": 2,
           "1088": 1,
           "1089": 3,
           "1090": 2,
           "1091": 5,
           "1092": 2,
           "1093": 2,
           "1094": 1,
           "1095": 4,
           "1096": 3,
           "1097": 2,
           "1098": 1,
           "1099": 2,
           "1100": 1,
           "1101": 4,
           "1102": 1,
           "1103": 3,
           "1104": 4,
           "1105": 3,
           "1106": 2,
           "1107": 5,
           "1108": 2,
           "1109": 3,
           "1110": 5,
           "1111": 2,
           "1112": 2,
           "1113": 1,
           "1114": 2,
           "1115": 3,
           "1116": 3,
           "1117": 3,
           "1118": 2,
           "1119": 1,
           "1120": 3,
           "1121": 2,
           "1122": 2,
           "1123": 2,
           "1124": 1,
           "1125": 1,
           "1126": 3,
           "1127": 2,
           "1128": 3,
           "1129": 2,
           "1130": 4,
           "1131": 2,
           "1132": 3,
           "1133": 3,
           "1134": 3,
           "1135": 2,
           "1136": 2,
           "1137": 3,
           "1138": 2,
           "1139": 5,
           "1140": 5,
           "1141": 5,
           "1142": 1,
           "1143": 2,
           "1144": 3,
           "1145": 3,
           "1146": 2,
           "1147": 2,
           "1148": 4,
           "1149": 2,
           "1150": 2,
           "1151": 4,
           "1152": 2,
           "1153": 5,
           "1154": 3,
           "1155": 5,
           "1156": 2,
           "1157": 3,
           "1158": 2,
           "1159": 2,
           "1160": 3,
           "1161": 1,
           "1162": 3,
           "1163": 2,
           "1164": 3,
           "1165": 2,
           "1166": 2,
           "1167": 1,
           "1168": 2,
           "1169": 1,
           "1170": 4,
           "1171": 2,
           "1172": 4,
           "1173": 2,
           "1174": 2,
           "1175": 1,
           "1176": 2,
           "1177": 4,
           "1178": 2,
           "1179": 1,
           "1180": 3,
           "1181": 4,
           "1182": 4,
           "1183": 2,
           "1184": 1,
           "1185": 2,
           "1186": 2,
           "1187": 1,
           "1188": 4,
           "1189": 2,
           "1190": 2,
           "1191": 3,
           "1192": 2,
           "1193": 2,
           "1194": 2,
           "1195": 3,
           "1196": 3,
           "1197": 2,
           "1198": 2,
           "1199": 5,
           "1200": 1,
           "1201": 3,
           "1202": 2,
           "1203": 3,
           "1204": 2,
           "1205": 3,
           "1206": 1,
           "1207": 3,
           "1208": 2,
           "1209": 2,
           "1210": 4,
           "1211": 2,
           "1212": 2,
           "1213": 3,
           "1214": 2,
           "1215": 3,
           "1216": 2,
           "1217": 2,
           "1218": 1,
           "1219": 3,
           "1220": 1,
           "1221": 1,
           "1222": 2,
           "1223": 2,
           "1224": 3,
           "1225": 2,
           "1226": 2,
           "1227": 3,
           "1228": 4,
           "1229": 2,
           "1230": 1,
           "1231": 4,
           "1232": 1,
           "1233": 3,
           "1234": 2,
           "1235": 2,
           "1236": 4,
           "1237": 2,
           "1238": 1,
           "1239": 3,
           "1240": 3,
           "1241": 2,
           "1242": 1,
           "1243": 1,
           "1244": 2,
           "1245": 3,
           "1246": 3,
           "1247": 2,
           "1248": 4,
           "1249": 2,
           "1250": 2,
           "1251": 3,
           "1252": 4,
           "1253": 3,
           "1254": 1,
           "1255": 2,
           "1256": 1,
           "1257": 2,
           "1258": 3,
           "1259": 2,
           "1260": 1,
           "1261": 1,
           "1262": 1,
           "1263": 2,
           "1264": 4,
           "1265": 3,
           "1266": 1,
           "1267": 3,
           "1268": 4,
           "1269": 4,
           "1270": 2,
           "1271": 2,
           "1272": 2,
           "1273": 1,
           "1274": 1,
           "1275": 3,
           "1276": 1,
           "1277": 1,
           "1278": 3,
           "1279": 3,
           "1280": 1,
           "1281": 1,
           "1282": 3,
           "1283": 1,
           "1284": 4,
           "1285": 2,
           "1286": 2,
           "1287": 1,
           "1288": 2,
           "1289": 2,
           "1290": 4,
           "1291": 1,
           "1292": 2,
           "1293": 2,
           "1294": 1,
           "1295": 2,
           "1296": 2,
           "1297": 1,
           "1298": 3,
           "1299": 4,
           "1300": 2,
           "1301": 1,
           "1302": 1,
           "1303": 1,
           "1304": 2,
           "1305": 2,
           "1306": 4,
           "1307": 2,
           "1308": 2,
           "1309": 2,
           "1310": 1,
           "1311": 2,
           "1312": 3,
           "1313": 2,
           "1314": 3,
           "1315": 2,
           "1316": 3,
           "1317": 1,
           "1318": 1,
           "1319": 1,
           "1320": 5,
           "1321": 1,
           "1322": 1,
           "1323": 3,
           "1324": 3,
           "1325": 3,
           "1326": 1,
           "1327": 2,
           "1328": 3,
           "1329": 2,
           "1330": 3,
           "1331": 2,
           "1332": 1,
           "1333": 4,
           "1334": 2,
           "1335": 1,
           "1336": 3,
           "1337": 4,
           "1338": 4,
           "1339": 1,
           "1340": 4,
           "1341": 1,
           "1342": 1,
           "1343": 3,
           "1344": 1,
           "1345": 3,
           "1346": 1,
           "1347": 1,
           "1348": 2,
           "1349": 3,
           "1350": 2,
           "1351": 2,
           "1352": 4,
           "1353": 1,
           "1354": 2,
           "1355": 1,
           "1356": 3,
           "1357": 4,
           "1358": 1,
           "1359": 2,
           "1360": 2,
           "1361": 5,
           "1362": 4,
           "1363": 1,
           "1364": 2,
           "1365": 3,
           "1366": 1,
           "1367": 1,
           "1368": 2,
           "1369": 1,
           "1370": 1,
           "1371": 2,
           "1372": 1,
           "1373": 3,
           "1374": 1,
           "1375": 5,
           "1376": 2,
           "1377": 5,
           "1378": 5,
           "1379": 3,
           "1380": 3,
           "1381": 3,
           "1382": 3,
           "1383": 3,
           "1384": 2,
           "1385": 3,
           "1386": 1,
           "1387": 1,
           "1388": 1,
           "1389": 3,
           "1390": 3,
           "1391": 5,
           "1392": 2,
           "1393": 3,
           "1394": 2,
           "1395": 4,
           "1396": 2,
           "1397": 1,
           "1398": 2,
           "1399": 2,
           "1400": 1,
           "1401": 2,
           "1402": 2,
           "1403": 1,
           "1404": 2,
           "1405": 4,
           "1406": 3,
           "1407": 5,
           "1408": 2,
           "1409": 2,
           "1410": 2,
           "1411": 3,
           "1412": 1,
           "1413": 2,
           "1414": 4,
           "1415": 2,
           "1416": 3,
           "1417": 4,
           "1418": 4,
           "1419": 5,
           "1420": 2,
           "1421": 1,
           "1422": 2,
           "1423": 1,
           "1424": 1,
           "1425": 1,
           "1426": 4,
           "1427": 1,
           "1428": 1,
           "1429": 4,
           "1430": 2,
           "1431": 3,
           "1432": 2,
           "1433": 2,
           "1434": 2,
           "1435": 1,
           "1436": 2,
           "1437": 2,
           "1438": 2,
           "1439": 1,
           "1440": 1,
           "1441": 2,
           "1442": 1,
           "1443": 2,
           "1444": 3,
           "1445": 1,
           "1446": 3,
           "1447": 2,
           "1448": 2,
           "1449": 3,
           "1450": 2,
           "1451": 2,
           "1452": 3,
           "1453": 2,
           "1454": 1,
           "1455": 1,
           "1456": 1,
           "1457": 4,
           "1458": 3,
           "1459": 4,
           "1460": 3,
           "1461": 2,
           "1462": 1,
           "1463": 2,
           "1464": 2,
           "1465": 3,
           "1466": 2,
           "1467": 2,
           "1468": 2,
           "1469": 5,
           "1470": 1,
           "1471": 3,
           "1472": 2,
           "1473": 1,
           "1474": 3,
           "1475": 1,
           "1476": 5,
           "1477": 5,
           "1478": 2,
           "1479": 2,
           "1480": 1,
           "1481": 2,
           "1482": 3,
           "1483": 1,
           "1484": 4,
           "1485": 1,
           "1486": 2,
           "1487": 3,
           "1488": 3,
           "1489": 2,
           "1490": 3,
           "1491": 4,
           "1492": 5,
           "1493": 3,
           "1494": 3,
           "1495": 3,
           "1496": 2,
           "1497": 2,
           "1498": 1,
           "1499": 2,
           "1500": 3,
           "1501": 3,
           "1502": 3,
           "1503": 4,
           "1504": 2,
           "1505": 5,
           "1506": 1,
           "1507": 1,
           "1508": 3,
           "1509": 3,
           "1510": 3,
           "1511": 2,
           "1512": 2,
           "1513": 2,
           "1514": 2,
           "1515": 1,
           "1516": 1,
           "1517": 1,
           "1518": 3,
           "1519": 4,
           "1520": 2,
           "1521": 2,
           "1522": 3,
           "1523": 2,
           "1524": 2,
           "1525": 4,
           "1526": 1,
           "1527": 2,
           "1528": 2,
           "1529": 2,
           "1530": 3,
           "1531": 3,
           "1532": 1,
           "1533": 3,
           "1534": 2,
           "1535": 2,
           "1536": 3,
           "1537": 1,
           "1538": 5,
           "1539": 2,
           "1540": 2,
           "1541": 2,
           "1542": 2,
           "1543": 2,
           "1544": 3,
           "1545": 1,
           "1546": 3,
           "1547": 4,
           "1548": 5,
           "1549": 3,
           "1550": 2,
           "1551": 1,
           "1552": 2,
           "1553": 2,
           "1554": 1,
           "1555": 2,
           "1556": 4,
           "1557": 3,
           "1558": 3,
           "1559": 3,
           "1560": 5,
           "1561": 2,
           "bdata": "AgICAgMCAgECAgIFAwQBAgMCAwQCAwMCAQECAwMCAgIBAgUCAwIDBAIBBAIDAgMDAgIBAQMBAwIDAgEBAwMBAwMDAwMBAQMEAQMCAwEBAgQDAwIBAQMFAgMFAwIFAgMCAQECBQIDAQICBQEDAgEBAgECAwMEAgIDBAUDAQECAwECAwUDAgIFAwUBAgMDBQQDAwIBAQQEAgIDBAMCAQICAgMCAQIDAQMDBQICAwIBAwEDAwEDAQIDAwUFAwQBAgUFAgQEBQICAwMCAgIBAwMDAwIBAwMBAQEBAgQCAQMDAgIBAQMDBAMBAwQDAQIBAwIBAgEEAQEBAQIDAwIBAgMCAwECAgIBAwICAgUCAwMDAwICAgMDBQECAgQDAgICAgECAgEBAgQCAwIBAgEDBAICAgMCAgMDAwMCBAMFAwMBBQMDAwUDAQIEAwIBAQMDAwMDAwUEAgMCAwECAQQFBAEDAgMCAgECAgMDAgMBAgEDAgUDAgIBAwECAgEBAgMDAgECAQIBAwIDAgIDBAECAgMDBAIFAQICAwUEAgIBAQICAgICAQUCBQMDAgEBAgIBAQEEAwIBAQICAQEBAgIFAwICAgICAQICAwIBAwICAwICAQICAQIDAgECAgEDBQQDAQIEAgECAwUBBQICAgMBAQICAQQEAQIBAwIEAgMEAQICAQUDAQEDAQMEAQIDAwIDAgQDAwIDBQQCAgIDAgIDAQICAQIDAQMBAQMDAwQDAQEDAQUEAgMBBQMBBAIBAgQCAwEDAwECAwQDAgICAgMDAgICAgIDAQQBAgIDAQECAwUDAwECAwMEAgEBAQMBAQIDAQICAgUCAQIDAwMBAgICAgMBAwMDAwIDAgEDAwICBQEFBAMCAgEBAQIBBAUDAgICAgMEAwECAQMDAgMCBAEDAQMBAQICAwEDAgUBAwUFBAIFAgMEAgMCAwMDAgMCAQEBAgICAgECAgICBAIBAQIBAQECBAMDAQECAQICAgIBAgUDAwECAgEDAgQCAgEBAwIFAwECAgMCAwMCAgMDAgEEAgIDAQQDAgIBAwIDAwIEAwIBAQEEAwIBAQUEAwICBAIDAQMDAgMBAQQEAgUDAgICAgECAwIDAgEEAwECAwMCAgIBAgMBAwMFAwUCAwMBAQMBAgMCAgIDAQEBAQMEAwIBBAMDAgMBAQECAQEBAwQCAQMCAwQDBQIBAgIEAQMFAwIDAwMCAwECAQIEAQIDAgECBQEBAwEBAgICBAICAQMDBQQCAQEDAgECAgICAwIBBAMDAQICAQQFAwQCAgICAwIDAQIDAwMFAwECAgQBBQMBAgEBAQMBAgMCBQIBAQQCAQMCAgICBQIFBQIEAwIFAgECAQICAgMDBAMBAwIBAQMDAQECAgQBAgIBAwMDAgMCAQEEAwECAwIBAgIDAgIEBQMDAgMEAQUEBAIBAgECAgQEBAEBBQIBAwIFAgIBBAMCAQIBBAEDBAMCBQIDBQICAQIDAwMCAQMCAgIBAQMCAwIEAgMDAwICAwIFBQUBAgMDAgIEAgIEAgUDBQIDAgIDAQMCAwICAQIBBAIEAgIBAgQCAQMEBAIBAgIBBAICAwICAgMDAgIFAQMCAwIDAQMCAgQCAgMCAwICAQMBAQICAwICAwQCAQQBAwICBAIBAwMCAQECAwMCBAICAwQDAQIBAgMCAQEBAgQDAQMEBAICAgEBAwEBAwMBAQMBBAICAQICBAECAgECAgEDBAIBAQECAgQCAgIBAgMCAwIDAQEBBQEBAwMDAQIDAgMCAQQCAQMEBAEEAQEDAQMBAQIDAgIEAQIBAwQBAgIFBAECAwEBAgEBAgEDAQUCBQUDAwMDAwIDAQEBAwMFAgMCBAIBAgIBAgIBAgQDBQICAgMBAgQCAwQEBQIBAgEBAQQBAQQCAwICAgECAgIBAQIBAgMBAwICAwICAwIBAQEEAwQDAgECAgMCAgIFAQMCAQMBBQUCAgECAwEEAQIDAwIDBAUDAwMCAgECAwMDBAIFAQEDAwMCAgICAQEBAwQCAgMCAgQBAgICAwMBAwICAwEFAgICAgIDAQMEBQMCAQICAQIEAwMDBQI=",
           "dtype": "i1",
           "shape": "1562"
          },
          "bdata": "AgICAgMCAgECAgIFAwQBAgMCAwQCAwMCAQECAwMCAgIBAgUCAwIDBAIBBAIDAgMDAgIBAQMBAwIDAgEBAwMBAwMDAwMBAQMEAQMCAwEBAgQDAwIBAQMFAgMFAwIFAgMCAQECBQIDAQICBQEDAgEBAgECAwMEAgIDBAUDAQECAwECAwUDAgIFAwUBAgMDBQQDAwIBAQQEAgIDBAMCAQICAgMCAQIDAQMDBQICAwIBAwEDAwEDAQIDAwUFAwQBAgUFAgQEBQICAwMCAgIBAwMDAwIBAwMBAQEBAgQCAQMDAgIBAQMDBAMBAwQDAQIBAwIBAgEEAQEBAQIDAwIBAgMCAwECAgIBAwICAgUCAwMDAwICAgMDBQECAgQDAgICAgECAgEBAgQCAwIBAgEDBAICAgMCAgMDAwMCBAMFAwMBBQMDAwUDAQIEAwIBAQMDAwMDAwUEAgMCAwECAQQFBAEDAgMCAgECAgMDAgMBAgEDAgUDAgIBAwECAgEBAgMDAgECAQIBAwIDAgIDBAECAgMDBAIFAQICAwUEAgIBAQICAgICAQUCBQMDAgEBAgIBAQEEAwIBAQICAQEBAgIFAwICAgICAQICAwIBAwICAwICAQICAQIDAgECAgEDBQQDAQIEAgECAwUBBQICAgMBAQICAQQEAQIBAwIEAgMEAQICAQUDAQEDAQMEAQIDAwIDAgQDAwIDBQQCAgIDAgIDAQICAQIDAQMBAQMDAwQDAQEDAQUEAgMBBQMBBAIBAgQCAwEDAwECAwQDAgICAgMDAgICAgIDAQQBAgIDAQECAwUDAwECAwMEAgEBAQMBAQIDAQICAgUCAQIDAwMBAgICAgMBAwMDAwIDAgEDAwICBQEFBAMCAgEBAQIBBAUDAgICAgMEAwECAQMDAgMCBAEDAQMBAQICAwEDAgUBAwUFBAIFAgMEAgMCAwMDAgMCAQEBAgICAgECAgICBAIBAQIBAQECBAMDAQECAQICAgIBAgUDAwECAgEDAgQCAgEBAwIFAwECAgMCAwMCAgMDAgEEAgIDAQQDAgIBAwIDAwIEAwIBAQEEAwIBAQUEAwICBAIDAQMDAgMBAQQEAgUDAgICAgECAwIDAgEEAwECAwMCAgIBAgMBAwMFAwUCAwMBAQMBAgMCAgIDAQEBAQMEAwIBBAMDAgMBAQECAQEBAwQCAQMCAwQDBQIBAgIEAQMFAwIDAwMCAwECAQIEAQIDAgECBQEBAwEBAgICBAICAQMDBQQCAQEDAgECAgICAwIBBAMDAQICAQQFAwQCAgICAwIDAQIDAwMFAwECAgQBBQMBAgEBAQMBAgMCBQIBAQQCAQMCAgICBQIFBQIEAwIFAgECAQICAgMDBAMBAwIBAQMDAQECAgQBAgIBAwMDAgMCAQEEAwECAwIBAgIDAgIEBQMDAgMEAQUEBAIBAgECAgQEBAEBBQIBAwIFAgIBBAMCAQIBBAEDBAMCBQIDBQICAQIDAwMCAQMCAgIBAQMCAwIEAgMDAwICAwIFBQUBAgMDAgIEAgIEAgUDBQIDAgIDAQMCAwICAQIBBAIEAgIBAgQCAQMEBAIBAgIBBAICAwICAgMDAgIFAQMCAwIDAQMCAgQCAgMCAwICAQMBAQICAwICAwQCAQQBAwICBAIBAwMCAQECAwMCBAICAwQDAQIBAgMCAQEBAgQDAQMEBAICAgEBAwEBAwMBAQMBBAICAQICBAECAgECAgEDBAIBAQECAgQCAgIBAgMCAwIDAQEBBQEBAwMDAQIDAgMCAQQCAQMEBAEEAQEDAQMBAQIDAgIEAQIBAwQBAgIFBAECAwEBAgEBAgEDAQUCBQUDAwMDAwIDAQEBAwMFAgMCBAIBAgIBAgIBAgQDBQICAgMBAgQCAwQEBQIBAgEBAQQBAQQCAwICAgECAgIBAQIBAgMBAwICAwICAwIBAQEEAwQDAgECAgMCAgIFAQMCAQMBBQUCAgECAwEEAQIDAwIDBAUDAwMCAgECAwMDBAIFAQEDAwMCAgICAQEBAwQCAgMCAgQBAgICAwMBAwICAwEFAgICAgIDAQMEBQMCAQICAQIEAwMDBQI=",
          "dtype": "i1"
         },
         "y0": " ",
         "yaxis": "y"
        },
        {
         "alignmentgroup": "True",
         "hovertemplate": "Work_Arrangement=%{x}<br>Social_Isolation_Score=%{y}<extra></extra>",
         "legendgroup": "Hybrid",
         "marker": {
          "color": "#EF553B"
         },
         "name": "Hybrid",
         "notched": false,
         "offsetgroup": "Hybrid",
         "orientation": "v",
         "showlegend": true,
         "type": "box",
         "x": [
          "Hybrid",
          "Hybrid",
          "Hybrid",
          "Hybrid",
          "Hybrid",
          "Hybrid",
          "Hybrid",
          "Hybrid",
          "Hybrid",
          "Hybrid",
          "Hybrid",
          "Hybrid",
          "Hybrid",
          "Hybrid",
          "Hybrid",
          "Hybrid",
          "Hybrid",
          "Hybrid",
          "Hybrid",
          "Hybrid",
          "Hybrid",
          "Hybrid",
          "Hybrid",
          "Hybrid",
          "Hybrid",
          "Hybrid",
          "Hybrid",
          "Hybrid",
          "Hybrid",
          "Hybrid",
          "Hybrid",
          "Hybrid",
          "Hybrid",
          "Hybrid",
          "Hybrid",
          "Hybrid",
          "Hybrid",
          "Hybrid",
          "Hybrid",
          "Hybrid",
          "Hybrid",
          "Hybrid",
          "Hybrid",
          "Hybrid",
          "Hybrid",
          "Hybrid",
          "Hybrid",
          "Hybrid",
          "Hybrid",
          "Hybrid",
          "Hybrid",
          "Hybrid",
          "Hybrid",
          "Hybrid",
          "Hybrid",
          "Hybrid",
          "Hybrid",
          "Hybrid",
          "Hybrid",
          "Hybrid",
          "Hybrid",
          "Hybrid",
          "Hybrid",
          "Hybrid",
          "Hybrid",
          "Hybrid",
          "Hybrid",
          "Hybrid",
          "Hybrid",
          "Hybrid",
          "Hybrid",
          "Hybrid",
          "Hybrid",
          "Hybrid",
          "Hybrid",
          "Hybrid",
          "Hybrid",
          "Hybrid",
          "Hybrid",
          "Hybrid",
          "Hybrid",
          "Hybrid",
          "Hybrid",
          "Hybrid",
          "Hybrid",
          "Hybrid",
          "Hybrid",
          "Hybrid",
          "Hybrid",
          "Hybrid",
          "Hybrid",
          "Hybrid",
          "Hybrid",
          "Hybrid",
          "Hybrid",
          "Hybrid",
          "Hybrid",
          "Hybrid",
          "Hybrid",
          "Hybrid",
          "Hybrid",
          "Hybrid",
          "Hybrid",
          "Hybrid",
          "Hybrid",
          "Hybrid",
          "Hybrid",
          "Hybrid",
          "Hybrid",
          "Hybrid",
          "Hybrid",
          "Hybrid",
          "Hybrid",
          "Hybrid",
          "Hybrid",
          "Hybrid",
          "Hybrid",
          "Hybrid",
          "Hybrid",
          "Hybrid",
          "Hybrid",
          "Hybrid",
          "Hybrid",
          "Hybrid",
          "Hybrid",
          "Hybrid",
          "Hybrid",
          "Hybrid",
          "Hybrid",
          "Hybrid",
          "Hybrid",
          "Hybrid",
          "Hybrid",
          "Hybrid",
          "Hybrid",
          "Hybrid",
          "Hybrid",
          "Hybrid",
          "Hybrid",
          "Hybrid",
          "Hybrid",
          "Hybrid",
          "Hybrid",
          "Hybrid",
          "Hybrid",
          "Hybrid",
          "Hybrid",
          "Hybrid",
          "Hybrid",
          "Hybrid",
          "Hybrid",
          "Hybrid",
          "Hybrid",
          "Hybrid",
          "Hybrid",
          "Hybrid",
          "Hybrid",
          "Hybrid",
          "Hybrid",
          "Hybrid",
          "Hybrid",
          "Hybrid",
          "Hybrid",
          "Hybrid",
          "Hybrid",
          "Hybrid",
          "Hybrid",
          "Hybrid",
          "Hybrid",
          "Hybrid",
          "Hybrid",
          "Hybrid",
          "Hybrid",
          "Hybrid",
          "Hybrid",
          "Hybrid",
          "Hybrid",
          "Hybrid",
          "Hybrid",
          "Hybrid",
          "Hybrid",
          "Hybrid",
          "Hybrid",
          "Hybrid",
          "Hybrid",
          "Hybrid",
          "Hybrid",
          "Hybrid",
          "Hybrid",
          "Hybrid",
          "Hybrid",
          "Hybrid",
          "Hybrid",
          "Hybrid",
          "Hybrid",
          "Hybrid",
          "Hybrid",
          "Hybrid",
          "Hybrid",
          "Hybrid",
          "Hybrid",
          "Hybrid",
          "Hybrid",
          "Hybrid",
          "Hybrid",
          "Hybrid",
          "Hybrid",
          "Hybrid",
          "Hybrid",
          "Hybrid",
          "Hybrid",
          "Hybrid",
          "Hybrid",
          "Hybrid",
          "Hybrid",
          "Hybrid",
          "Hybrid",
          "Hybrid",
          "Hybrid",
          "Hybrid",
          "Hybrid",
          "Hybrid",
          "Hybrid",
          "Hybrid",
          "Hybrid",
          "Hybrid",
          "Hybrid",
          "Hybrid",
          "Hybrid",
          "Hybrid",
          "Hybrid",
          "Hybrid",
          "Hybrid",
          "Hybrid",
          "Hybrid",
          "Hybrid",
          "Hybrid",
          "Hybrid",
          "Hybrid",
          "Hybrid",
          "Hybrid",
          "Hybrid",
          "Hybrid",
          "Hybrid",
          "Hybrid",
          "Hybrid",
          "Hybrid",
          "Hybrid",
          "Hybrid",
          "Hybrid",
          "Hybrid",
          "Hybrid",
          "Hybrid",
          "Hybrid",
          "Hybrid",
          "Hybrid",
          "Hybrid",
          "Hybrid",
          "Hybrid",
          "Hybrid",
          "Hybrid",
          "Hybrid",
          "Hybrid",
          "Hybrid",
          "Hybrid",
          "Hybrid",
          "Hybrid",
          "Hybrid",
          "Hybrid",
          "Hybrid",
          "Hybrid",
          "Hybrid",
          "Hybrid",
          "Hybrid",
          "Hybrid",
          "Hybrid",
          "Hybrid",
          "Hybrid",
          "Hybrid",
          "Hybrid",
          "Hybrid",
          "Hybrid",
          "Hybrid",
          "Hybrid",
          "Hybrid",
          "Hybrid",
          "Hybrid",
          "Hybrid",
          "Hybrid",
          "Hybrid",
          "Hybrid",
          "Hybrid",
          "Hybrid",
          "Hybrid",
          "Hybrid",
          "Hybrid",
          "Hybrid",
          "Hybrid",
          "Hybrid",
          "Hybrid",
          "Hybrid",
          "Hybrid",
          "Hybrid",
          "Hybrid",
          "Hybrid",
          "Hybrid",
          "Hybrid",
          "Hybrid",
          "Hybrid",
          "Hybrid",
          "Hybrid",
          "Hybrid",
          "Hybrid",
          "Hybrid",
          "Hybrid",
          "Hybrid",
          "Hybrid",
          "Hybrid",
          "Hybrid",
          "Hybrid",
          "Hybrid",
          "Hybrid",
          "Hybrid",
          "Hybrid",
          "Hybrid",
          "Hybrid",
          "Hybrid",
          "Hybrid",
          "Hybrid",
          "Hybrid",
          "Hybrid",
          "Hybrid",
          "Hybrid",
          "Hybrid",
          "Hybrid",
          "Hybrid",
          "Hybrid",
          "Hybrid",
          "Hybrid",
          "Hybrid",
          "Hybrid",
          "Hybrid",
          "Hybrid",
          "Hybrid",
          "Hybrid",
          "Hybrid",
          "Hybrid",
          "Hybrid",
          "Hybrid",
          "Hybrid",
          "Hybrid",
          "Hybrid",
          "Hybrid",
          "Hybrid",
          "Hybrid",
          "Hybrid",
          "Hybrid",
          "Hybrid",
          "Hybrid",
          "Hybrid",
          "Hybrid",
          "Hybrid",
          "Hybrid",
          "Hybrid",
          "Hybrid",
          "Hybrid",
          "Hybrid",
          "Hybrid",
          "Hybrid",
          "Hybrid",
          "Hybrid",
          "Hybrid",
          "Hybrid",
          "Hybrid",
          "Hybrid",
          "Hybrid",
          "Hybrid",
          "Hybrid",
          "Hybrid",
          "Hybrid",
          "Hybrid",
          "Hybrid",
          "Hybrid",
          "Hybrid",
          "Hybrid",
          "Hybrid",
          "Hybrid",
          "Hybrid",
          "Hybrid",
          "Hybrid",
          "Hybrid",
          "Hybrid",
          "Hybrid",
          "Hybrid",
          "Hybrid",
          "Hybrid",
          "Hybrid",
          "Hybrid",
          "Hybrid",
          "Hybrid",
          "Hybrid",
          "Hybrid",
          "Hybrid",
          "Hybrid",
          "Hybrid",
          "Hybrid",
          "Hybrid",
          "Hybrid",
          "Hybrid",
          "Hybrid",
          "Hybrid",
          "Hybrid",
          "Hybrid",
          "Hybrid",
          "Hybrid",
          "Hybrid",
          "Hybrid",
          "Hybrid",
          "Hybrid",
          "Hybrid",
          "Hybrid",
          "Hybrid",
          "Hybrid",
          "Hybrid",
          "Hybrid",
          "Hybrid",
          "Hybrid",
          "Hybrid",
          "Hybrid",
          "Hybrid",
          "Hybrid",
          "Hybrid",
          "Hybrid",
          "Hybrid",
          "Hybrid",
          "Hybrid",
          "Hybrid",
          "Hybrid",
          "Hybrid",
          "Hybrid",
          "Hybrid",
          "Hybrid",
          "Hybrid",
          "Hybrid",
          "Hybrid",
          "Hybrid",
          "Hybrid",
          "Hybrid",
          "Hybrid",
          "Hybrid",
          "Hybrid",
          "Hybrid",
          "Hybrid",
          "Hybrid",
          "Hybrid",
          "Hybrid",
          "Hybrid",
          "Hybrid",
          "Hybrid",
          "Hybrid",
          "Hybrid",
          "Hybrid",
          "Hybrid",
          "Hybrid",
          "Hybrid",
          "Hybrid",
          "Hybrid",
          "Hybrid",
          "Hybrid",
          "Hybrid",
          "Hybrid",
          "Hybrid",
          "Hybrid",
          "Hybrid",
          "Hybrid",
          "Hybrid",
          "Hybrid",
          "Hybrid",
          "Hybrid",
          "Hybrid",
          "Hybrid",
          "Hybrid",
          "Hybrid",
          "Hybrid",
          "Hybrid",
          "Hybrid",
          "Hybrid",
          "Hybrid",
          "Hybrid",
          "Hybrid",
          "Hybrid",
          "Hybrid",
          "Hybrid",
          "Hybrid",
          "Hybrid",
          "Hybrid",
          "Hybrid",
          "Hybrid",
          "Hybrid",
          "Hybrid",
          "Hybrid",
          "Hybrid",
          "Hybrid",
          "Hybrid",
          "Hybrid",
          "Hybrid",
          "Hybrid",
          "Hybrid",
          "Hybrid",
          "Hybrid",
          "Hybrid",
          "Hybrid",
          "Hybrid",
          "Hybrid",
          "Hybrid",
          "Hybrid",
          "Hybrid",
          "Hybrid",
          "Hybrid",
          "Hybrid",
          "Hybrid",
          "Hybrid",
          "Hybrid",
          "Hybrid",
          "Hybrid",
          "Hybrid",
          "Hybrid",
          "Hybrid",
          "Hybrid",
          "Hybrid",
          "Hybrid",
          "Hybrid",
          "Hybrid",
          "Hybrid",
          "Hybrid",
          "Hybrid",
          "Hybrid",
          "Hybrid",
          "Hybrid",
          "Hybrid",
          "Hybrid",
          "Hybrid",
          "Hybrid",
          "Hybrid",
          "Hybrid",
          "Hybrid",
          "Hybrid",
          "Hybrid",
          "Hybrid",
          "Hybrid",
          "Hybrid",
          "Hybrid",
          "Hybrid",
          "Hybrid",
          "Hybrid",
          "Hybrid",
          "Hybrid",
          "Hybrid",
          "Hybrid",
          "Hybrid",
          "Hybrid",
          "Hybrid",
          "Hybrid",
          "Hybrid",
          "Hybrid",
          "Hybrid",
          "Hybrid",
          "Hybrid",
          "Hybrid",
          "Hybrid",
          "Hybrid",
          "Hybrid",
          "Hybrid",
          "Hybrid",
          "Hybrid",
          "Hybrid",
          "Hybrid",
          "Hybrid",
          "Hybrid",
          "Hybrid",
          "Hybrid",
          "Hybrid",
          "Hybrid",
          "Hybrid",
          "Hybrid",
          "Hybrid",
          "Hybrid",
          "Hybrid",
          "Hybrid",
          "Hybrid",
          "Hybrid",
          "Hybrid",
          "Hybrid",
          "Hybrid",
          "Hybrid",
          "Hybrid",
          "Hybrid",
          "Hybrid",
          "Hybrid",
          "Hybrid",
          "Hybrid",
          "Hybrid",
          "Hybrid",
          "Hybrid",
          "Hybrid",
          "Hybrid",
          "Hybrid",
          "Hybrid",
          "Hybrid",
          "Hybrid",
          "Hybrid",
          "Hybrid",
          "Hybrid",
          "Hybrid",
          "Hybrid",
          "Hybrid",
          "Hybrid",
          "Hybrid",
          "Hybrid",
          "Hybrid",
          "Hybrid",
          "Hybrid",
          "Hybrid",
          "Hybrid",
          "Hybrid",
          "Hybrid",
          "Hybrid",
          "Hybrid",
          "Hybrid",
          "Hybrid",
          "Hybrid",
          "Hybrid",
          "Hybrid",
          "Hybrid",
          "Hybrid",
          "Hybrid",
          "Hybrid",
          "Hybrid",
          "Hybrid",
          "Hybrid",
          "Hybrid",
          "Hybrid",
          "Hybrid",
          "Hybrid",
          "Hybrid",
          "Hybrid",
          "Hybrid",
          "Hybrid",
          "Hybrid",
          "Hybrid",
          "Hybrid",
          "Hybrid",
          "Hybrid",
          "Hybrid",
          "Hybrid",
          "Hybrid",
          "Hybrid",
          "Hybrid",
          "Hybrid",
          "Hybrid",
          "Hybrid",
          "Hybrid",
          "Hybrid",
          "Hybrid",
          "Hybrid",
          "Hybrid",
          "Hybrid",
          "Hybrid",
          "Hybrid",
          "Hybrid",
          "Hybrid",
          "Hybrid",
          "Hybrid",
          "Hybrid",
          "Hybrid",
          "Hybrid",
          "Hybrid",
          "Hybrid",
          "Hybrid",
          "Hybrid",
          "Hybrid",
          "Hybrid",
          "Hybrid",
          "Hybrid",
          "Hybrid",
          "Hybrid",
          "Hybrid",
          "Hybrid",
          "Hybrid",
          "Hybrid",
          "Hybrid",
          "Hybrid",
          "Hybrid",
          "Hybrid",
          "Hybrid",
          "Hybrid",
          "Hybrid",
          "Hybrid",
          "Hybrid",
          "Hybrid",
          "Hybrid",
          "Hybrid",
          "Hybrid",
          "Hybrid",
          "Hybrid",
          "Hybrid",
          "Hybrid",
          "Hybrid",
          "Hybrid",
          "Hybrid",
          "Hybrid",
          "Hybrid",
          "Hybrid",
          "Hybrid",
          "Hybrid",
          "Hybrid",
          "Hybrid",
          "Hybrid",
          "Hybrid",
          "Hybrid",
          "Hybrid",
          "Hybrid",
          "Hybrid",
          "Hybrid",
          "Hybrid",
          "Hybrid",
          "Hybrid",
          "Hybrid",
          "Hybrid",
          "Hybrid",
          "Hybrid",
          "Hybrid",
          "Hybrid",
          "Hybrid",
          "Hybrid",
          "Hybrid",
          "Hybrid",
          "Hybrid",
          "Hybrid",
          "Hybrid",
          "Hybrid",
          "Hybrid",
          "Hybrid",
          "Hybrid",
          "Hybrid",
          "Hybrid",
          "Hybrid",
          "Hybrid",
          "Hybrid",
          "Hybrid",
          "Hybrid",
          "Hybrid",
          "Hybrid",
          "Hybrid",
          "Hybrid",
          "Hybrid",
          "Hybrid",
          "Hybrid",
          "Hybrid",
          "Hybrid",
          "Hybrid",
          "Hybrid",
          "Hybrid",
          "Hybrid",
          "Hybrid",
          "Hybrid",
          "Hybrid",
          "Hybrid",
          "Hybrid",
          "Hybrid",
          "Hybrid",
          "Hybrid",
          "Hybrid",
          "Hybrid",
          "Hybrid",
          "Hybrid",
          "Hybrid",
          "Hybrid",
          "Hybrid",
          "Hybrid",
          "Hybrid",
          "Hybrid",
          "Hybrid",
          "Hybrid",
          "Hybrid",
          "Hybrid",
          "Hybrid",
          "Hybrid",
          "Hybrid",
          "Hybrid",
          "Hybrid",
          "Hybrid",
          "Hybrid",
          "Hybrid",
          "Hybrid",
          "Hybrid",
          "Hybrid",
          "Hybrid",
          "Hybrid",
          "Hybrid",
          "Hybrid",
          "Hybrid",
          "Hybrid",
          "Hybrid",
          "Hybrid",
          "Hybrid",
          "Hybrid",
          "Hybrid",
          "Hybrid",
          "Hybrid",
          "Hybrid",
          "Hybrid",
          "Hybrid",
          "Hybrid",
          "Hybrid",
          "Hybrid",
          "Hybrid",
          "Hybrid",
          "Hybrid",
          "Hybrid",
          "Hybrid",
          "Hybrid",
          "Hybrid",
          "Hybrid",
          "Hybrid",
          "Hybrid",
          "Hybrid",
          "Hybrid",
          "Hybrid",
          "Hybrid",
          "Hybrid",
          "Hybrid",
          "Hybrid",
          "Hybrid",
          "Hybrid",
          "Hybrid",
          "Hybrid",
          "Hybrid",
          "Hybrid",
          "Hybrid",
          "Hybrid",
          "Hybrid",
          "Hybrid",
          "Hybrid",
          "Hybrid",
          "Hybrid",
          "Hybrid",
          "Hybrid",
          "Hybrid",
          "Hybrid",
          "Hybrid",
          "Hybrid",
          "Hybrid",
          "Hybrid",
          "Hybrid",
          "Hybrid",
          "Hybrid",
          "Hybrid",
          "Hybrid",
          "Hybrid",
          "Hybrid",
          "Hybrid",
          "Hybrid",
          "Hybrid",
          "Hybrid",
          "Hybrid",
          "Hybrid",
          "Hybrid",
          "Hybrid",
          "Hybrid",
          "Hybrid",
          "Hybrid",
          "Hybrid",
          "Hybrid",
          "Hybrid",
          "Hybrid",
          "Hybrid",
          "Hybrid",
          "Hybrid",
          "Hybrid",
          "Hybrid",
          "Hybrid",
          "Hybrid",
          "Hybrid",
          "Hybrid",
          "Hybrid",
          "Hybrid",
          "Hybrid",
          "Hybrid",
          "Hybrid",
          "Hybrid",
          "Hybrid",
          "Hybrid",
          "Hybrid",
          "Hybrid",
          "Hybrid",
          "Hybrid",
          "Hybrid",
          "Hybrid",
          "Hybrid",
          "Hybrid",
          "Hybrid",
          "Hybrid",
          "Hybrid",
          "Hybrid",
          "Hybrid",
          "Hybrid",
          "Hybrid",
          "Hybrid",
          "Hybrid",
          "Hybrid",
          "Hybrid",
          "Hybrid",
          "Hybrid",
          "Hybrid",
          "Hybrid",
          "Hybrid",
          "Hybrid",
          "Hybrid",
          "Hybrid",
          "Hybrid",
          "Hybrid",
          "Hybrid",
          "Hybrid",
          "Hybrid",
          "Hybrid",
          "Hybrid",
          "Hybrid",
          "Hybrid",
          "Hybrid",
          "Hybrid",
          "Hybrid",
          "Hybrid",
          "Hybrid",
          "Hybrid",
          "Hybrid",
          "Hybrid",
          "Hybrid",
          "Hybrid",
          "Hybrid",
          "Hybrid",
          "Hybrid",
          "Hybrid",
          "Hybrid",
          "Hybrid",
          "Hybrid",
          "Hybrid",
          "Hybrid",
          "Hybrid",
          "Hybrid",
          "Hybrid",
          "Hybrid",
          "Hybrid",
          "Hybrid",
          "Hybrid",
          "Hybrid",
          "Hybrid",
          "Hybrid",
          "Hybrid",
          "Hybrid",
          "Hybrid",
          "Hybrid",
          "Hybrid",
          "Hybrid",
          "Hybrid",
          "Hybrid",
          "Hybrid",
          "Hybrid",
          "Hybrid",
          "Hybrid",
          "Hybrid",
          "Hybrid",
          "Hybrid",
          "Hybrid",
          "Hybrid",
          "Hybrid",
          "Hybrid",
          "Hybrid",
          "Hybrid",
          "Hybrid",
          "Hybrid",
          "Hybrid",
          "Hybrid",
          "Hybrid",
          "Hybrid",
          "Hybrid",
          "Hybrid",
          "Hybrid",
          "Hybrid",
          "Hybrid",
          "Hybrid",
          "Hybrid",
          "Hybrid",
          "Hybrid",
          "Hybrid",
          "Hybrid",
          "Hybrid",
          "Hybrid",
          "Hybrid",
          "Hybrid",
          "Hybrid",
          "Hybrid",
          "Hybrid",
          "Hybrid",
          "Hybrid",
          "Hybrid",
          "Hybrid"
         ],
         "x0": " ",
         "xaxis": "x",
         "y": {
          "_inputArray": {
           "0": 4,
           "1": 1,
           "2": 2,
           "3": 5,
           "4": 1,
           "5": 1,
           "6": 1,
           "7": 3,
           "8": 4,
           "9": 3,
           "10": 4,
           "11": 3,
           "12": 3,
           "13": 2,
           "14": 2,
           "15": 3,
           "16": 2,
           "17": 2,
           "18": 2,
           "19": 4,
           "20": 2,
           "21": 3,
           "22": 1,
           "23": 2,
           "24": 1,
           "25": 1,
           "26": 2,
           "27": 4,
           "28": 3,
           "29": 4,
           "30": 2,
           "31": 2,
           "32": 5,
           "33": 5,
           "34": 3,
           "35": 3,
           "36": 4,
           "37": 4,
           "38": 1,
           "39": 1,
           "40": 1,
           "41": 1,
           "42": 3,
           "43": 1,
           "44": 2,
           "45": 1,
           "46": 3,
           "47": 3,
           "48": 1,
           "49": 4,
           "50": 4,
           "51": 3,
           "52": 1,
           "53": 5,
           "54": 3,
           "55": 3,
           "56": 5,
           "57": 3,
           "58": 2,
           "59": 5,
           "60": 4,
           "61": 2,
           "62": 3,
           "63": 2,
           "64": 3,
           "65": 3,
           "66": 1,
           "67": 3,
           "68": 3,
           "69": 2,
           "70": 3,
           "71": 3,
           "72": 3,
           "73": 2,
           "74": 3,
           "75": 3,
           "76": 2,
           "77": 2,
           "78": 3,
           "79": 1,
           "80": 3,
           "81": 4,
           "82": 3,
           "83": 2,
           "84": 4,
           "85": 3,
           "86": 3,
           "87": 3,
           "88": 1,
           "89": 2,
           "90": 2,
           "91": 2,
           "92": 4,
           "93": 4,
           "94": 4,
           "95": 3,
           "96": 4,
           "97": 1,
           "98": 3,
           "99": 4,
           "100": 3,
           "101": 3,
           "102": 2,
           "103": 3,
           "104": 3,
           "105": 3,
           "106": 3,
           "107": 4,
           "108": 1,
           "109": 2,
           "110": 2,
           "111": 2,
           "112": 1,
           "113": 3,
           "114": 3,
           "115": 3,
           "116": 4,
           "117": 2,
           "118": 5,
           "119": 3,
           "120": 2,
           "121": 2,
           "122": 4,
           "123": 2,
           "124": 5,
           "125": 4,
           "126": 2,
           "127": 3,
           "128": 3,
           "129": 4,
           "130": 1,
           "131": 3,
           "132": 3,
           "133": 2,
           "134": 3,
           "135": 4,
           "136": 5,
           "137": 3,
           "138": 2,
           "139": 1,
           "140": 4,
           "141": 2,
           "142": 2,
           "143": 4,
           "144": 4,
           "145": 4,
           "146": 1,
           "147": 5,
           "148": 2,
           "149": 3,
           "150": 1,
           "151": 1,
           "152": 4,
           "153": 1,
           "154": 4,
           "155": 2,
           "156": 5,
           "157": 2,
           "158": 2,
           "159": 1,
           "160": 5,
           "161": 2,
           "162": 3,
           "163": 2,
           "164": 3,
           "165": 2,
           "166": 3,
           "167": 2,
           "168": 3,
           "169": 2,
           "170": 1,
           "171": 4,
           "172": 3,
           "173": 4,
           "174": 2,
           "175": 1,
           "176": 1,
           "177": 3,
           "178": 2,
           "179": 3,
           "180": 3,
           "181": 1,
           "182": 4,
           "183": 2,
           "184": 4,
           "185": 4,
           "186": 2,
           "187": 3,
           "188": 3,
           "189": 1,
           "190": 2,
           "191": 2,
           "192": 1,
           "193": 5,
           "194": 3,
           "195": 2,
           "196": 1,
           "197": 1,
           "198": 1,
           "199": 3,
           "200": 4,
           "201": 1,
           "202": 2,
           "203": 1,
           "204": 2,
           "205": 3,
           "206": 1,
           "207": 3,
           "208": 2,
           "209": 2,
           "210": 3,
           "211": 1,
           "212": 2,
           "213": 1,
           "214": 4,
           "215": 3,
           "216": 4,
           "217": 3,
           "218": 4,
           "219": 3,
           "220": 3,
           "221": 3,
           "222": 2,
           "223": 2,
           "224": 3,
           "225": 1,
           "226": 3,
           "227": 4,
           "228": 2,
           "229": 2,
           "230": 3,
           "231": 3,
           "232": 4,
           "233": 1,
           "234": 2,
           "235": 3,
           "236": 3,
           "237": 2,
           "238": 3,
           "239": 1,
           "240": 3,
           "241": 2,
           "242": 3,
           "243": 1,
           "244": 2,
           "245": 3,
           "246": 3,
           "247": 3,
           "248": 3,
           "249": 3,
           "250": 2,
           "251": 1,
           "252": 3,
           "253": 4,
           "254": 4,
           "255": 3,
           "256": 3,
           "257": 1,
           "258": 1,
           "259": 2,
           "260": 2,
           "261": 2,
           "262": 3,
           "263": 3,
           "264": 4,
           "265": 1,
           "266": 3,
           "267": 3,
           "268": 3,
           "269": 4,
           "270": 3,
           "271": 3,
           "272": 1,
           "273": 4,
           "274": 3,
           "275": 3,
           "276": 2,
           "277": 3,
           "278": 4,
           "279": 3,
           "280": 4,
           "281": 1,
           "282": 4,
           "283": 3,
           "284": 2,
           "285": 2,
           "286": 3,
           "287": 4,
           "288": 2,
           "289": 4,
           "290": 2,
           "291": 2,
           "292": 2,
           "293": 2,
           "294": 2,
           "295": 4,
           "296": 2,
           "297": 2,
           "298": 2,
           "299": 3,
           "300": 5,
           "301": 3,
           "302": 1,
           "303": 3,
           "304": 3,
           "305": 3,
           "306": 5,
           "307": 4,
           "308": 3,
           "309": 3,
           "310": 3,
           "311": 2,
           "312": 3,
           "313": 5,
           "314": 1,
           "315": 2,
           "316": 3,
           "317": 3,
           "318": 2,
           "319": 3,
           "320": 1,
           "321": 4,
           "322": 3,
           "323": 1,
           "324": 4,
           "325": 4,
           "326": 2,
           "327": 2,
           "328": 3,
           "329": 3,
           "330": 4,
           "331": 3,
           "332": 1,
           "333": 5,
           "334": 3,
           "335": 3,
           "336": 1,
           "337": 2,
           "338": 1,
           "339": 5,
           "340": 4,
           "341": 4,
           "342": 5,
           "343": 2,
           "344": 4,
           "345": 1,
           "346": 3,
           "347": 3,
           "348": 1,
           "349": 3,
           "350": 3,
           "351": 3,
           "352": 3,
           "353": 2,
           "354": 1,
           "355": 3,
           "356": 4,
           "357": 4,
           "358": 3,
           "359": 3,
           "360": 5,
           "361": 4,
           "362": 2,
           "363": 2,
           "364": 2,
           "365": 5,
           "366": 1,
           "367": 4,
           "368": 3,
           "369": 5,
           "370": 1,
           "371": 3,
           "372": 5,
           "373": 1,
           "374": 3,
           "375": 1,
           "376": 3,
           "377": 3,
           "378": 2,
           "379": 2,
           "380": 2,
           "381": 3,
           "382": 2,
           "383": 3,
           "384": 3,
           "385": 4,
           "386": 2,
           "387": 2,
           "388": 3,
           "389": 3,
           "390": 1,
           "391": 5,
           "392": 2,
           "393": 1,
           "394": 1,
           "395": 3,
           "396": 3,
           "397": 3,
           "398": 4,
           "399": 2,
           "400": 5,
           "401": 4,
           "402": 2,
           "403": 2,
           "404": 3,
           "405": 2,
           "406": 3,
           "407": 3,
           "408": 4,
           "409": 1,
           "410": 4,
           "411": 2,
           "412": 2,
           "413": 2,
           "414": 4,
           "415": 3,
           "416": 1,
           "417": 3,
           "418": 1,
           "419": 3,
           "420": 3,
           "421": 4,
           "422": 5,
           "423": 4,
           "424": 2,
           "425": 2,
           "426": 1,
           "427": 4,
           "428": 5,
           "429": 3,
           "430": 1,
           "431": 2,
           "432": 2,
           "433": 4,
           "434": 5,
           "435": 4,
           "436": 4,
           "437": 4,
           "438": 3,
           "439": 3,
           "440": 2,
           "441": 4,
           "442": 2,
           "443": 3,
           "444": 3,
           "445": 3,
           "446": 4,
           "447": 2,
           "448": 5,
           "449": 1,
           "450": 3,
           "451": 3,
           "452": 4,
           "453": 3,
           "454": 3,
           "455": 3,
           "456": 2,
           "457": 2,
           "458": 2,
           "459": 3,
           "460": 4,
           "461": 2,
           "462": 3,
           "463": 3,
           "464": 3,
           "465": 2,
           "466": 4,
           "467": 2,
           "468": 2,
           "469": 4,
           "470": 2,
           "471": 3,
           "472": 1,
           "473": 3,
           "474": 3,
           "475": 1,
           "476": 2,
           "477": 3,
           "478": 2,
           "479": 1,
           "480": 3,
           "481": 2,
           "482": 3,
           "483": 3,
           "484": 1,
           "485": 3,
           "486": 2,
           "487": 2,
           "488": 2,
           "489": 2,
           "490": 2,
           "491": 3,
           "492": 1,
           "493": 3,
           "494": 2,
           "495": 3,
           "496": 5,
           "497": 1,
           "498": 5,
           "499": 4,
           "500": 3,
           "501": 2,
           "502": 3,
           "503": 1,
           "504": 3,
           "505": 2,
           "506": 4,
           "507": 2,
           "508": 4,
           "509": 3,
           "510": 2,
           "511": 4,
           "512": 4,
           "513": 4,
           "514": 2,
           "515": 3,
           "516": 3,
           "517": 3,
           "518": 2,
           "519": 2,
           "520": 5,
           "521": 4,
           "522": 3,
           "523": 3,
           "524": 4,
           "525": 2,
           "526": 3,
           "527": 3,
           "528": 2,
           "529": 3,
           "530": 1,
           "531": 3,
           "532": 4,
           "533": 3,
           "534": 2,
           "535": 3,
           "536": 1,
           "537": 2,
           "538": 4,
           "539": 3,
           "540": 1,
           "541": 2,
           "542": 3,
           "543": 3,
           "544": 2,
           "545": 2,
           "546": 3,
           "547": 3,
           "548": 2,
           "549": 4,
           "550": 2,
           "551": 4,
           "552": 4,
           "553": 3,
           "554": 2,
           "555": 4,
           "556": 1,
           "557": 2,
           "558": 2,
           "559": 3,
           "560": 4,
           "561": 2,
           "562": 3,
           "563": 1,
           "564": 4,
           "565": 3,
           "566": 2,
           "567": 1,
           "568": 3,
           "569": 4,
           "570": 4,
           "571": 3,
           "572": 5,
           "573": 3,
           "574": 3,
           "575": 1,
           "576": 3,
           "577": 4,
           "578": 1,
           "579": 2,
           "580": 3,
           "581": 1,
           "582": 4,
           "583": 5,
           "584": 2,
           "585": 4,
           "586": 3,
           "587": 2,
           "588": 3,
           "589": 4,
           "590": 3,
           "591": 3,
           "592": 4,
           "593": 3,
           "594": 4,
           "595": 3,
           "596": 3,
           "597": 1,
           "598": 4,
           "599": 4,
           "600": 3,
           "601": 4,
           "602": 3,
           "603": 3,
           "604": 3,
           "605": 4,
           "606": 4,
           "607": 4,
           "608": 1,
           "609": 4,
           "610": 3,
           "611": 1,
           "612": 4,
           "613": 2,
           "614": 3,
           "615": 2,
           "616": 3,
           "617": 2,
           "618": 5,
           "619": 4,
           "620": 3,
           "621": 4,
           "622": 4,
           "623": 1,
           "624": 2,
           "625": 3,
           "626": 4,
           "627": 3,
           "628": 3,
           "629": 4,
           "630": 2,
           "631": 2,
           "632": 4,
           "633": 3,
           "634": 3,
           "635": 3,
           "636": 3,
           "637": 4,
           "638": 3,
           "639": 3,
           "640": 1,
           "641": 5,
           "642": 2,
           "643": 2,
           "644": 2,
           "645": 3,
           "646": 4,
           "647": 3,
           "648": 5,
           "649": 4,
           "650": 5,
           "651": 1,
           "652": 1,
           "653": 4,
           "654": 3,
           "655": 1,
           "656": 5,
           "657": 3,
           "658": 2,
           "659": 3,
           "660": 1,
           "661": 3,
           "662": 3,
           "663": 1,
           "664": 1,
           "665": 4,
           "666": 2,
           "667": 5,
           "668": 4,
           "669": 1,
           "670": 1,
           "671": 3,
           "672": 1,
           "673": 4,
           "674": 3,
           "675": 2,
           "676": 2,
           "677": 3,
           "678": 2,
           "679": 3,
           "680": 3,
           "681": 1,
           "682": 3,
           "683": 2,
           "684": 1,
           "685": 4,
           "686": 3,
           "687": 4,
           "688": 2,
           "689": 3,
           "690": 4,
           "691": 4,
           "692": 2,
           "693": 3,
           "694": 1,
           "695": 1,
           "696": 4,
           "697": 2,
           "698": 4,
           "699": 1,
           "700": 4,
           "701": 5,
           "702": 3,
           "703": 2,
           "704": 3,
           "705": 1,
           "706": 2,
           "707": 1,
           "708": 3,
           "709": 3,
           "710": 4,
           "711": 4,
           "712": 3,
           "713": 3,
           "714": 1,
           "715": 4,
           "716": 3,
           "717": 3,
           "718": 2,
           "719": 1,
           "720": 1,
           "721": 1,
           "722": 1,
           "723": 2,
           "724": 1,
           "725": 3,
           "726": 3,
           "727": 3,
           "728": 4,
           "729": 5,
           "730": 4,
           "731": 2,
           "732": 1,
           "733": 4,
           "734": 1,
           "735": 4,
           "736": 4,
           "737": 3,
           "738": 2,
           "739": 3,
           "740": 3,
           "741": 3,
           "742": 3,
           "743": 3,
           "744": 1,
           "745": 4,
           "746": 3,
           "747": 4,
           "748": 2,
           "749": 4,
           "750": 3,
           "751": 5,
           "752": 3,
           "753": 3,
           "754": 2,
           "755": 3,
           "756": 3,
           "757": 3,
           "758": 3,
           "759": 3,
           "760": 4,
           "761": 3,
           "762": 2,
           "763": 1,
           "764": 3,
           "765": 2,
           "766": 1,
           "767": 4,
           "768": 3,
           "769": 4,
           "770": 2,
           "771": 4,
           "772": 3,
           "773": 3,
           "774": 4,
           "775": 3,
           "776": 2,
           "777": 3,
           "778": 2,
           "779": 2,
           "780": 3,
           "781": 2,
           "782": 1,
           "783": 3,
           "784": 3,
           "785": 5,
           "786": 2,
           "787": 4,
           "788": 2,
           "789": 4,
           "790": 4,
           "791": 4,
           "792": 1,
           "793": 1,
           "794": 4,
           "795": 4,
           "796": 3,
           "797": 2,
           "798": 2,
           "799": 1,
           "800": 3,
           "801": 1,
           "802": 5,
           "803": 1,
           "804": 2,
           "805": 3,
           "806": 4,
           "807": 4,
           "808": 3,
           "809": 4,
           "810": 3,
           "811": 3,
           "812": 4,
           "813": 4,
           "814": 3,
           "815": 2,
           "816": 4,
           "817": 1,
           "818": 5,
           "819": 2,
           "820": 3,
           "821": 1,
           "822": 5,
           "823": 3,
           "824": 2,
           "825": 1,
           "826": 2,
           "827": 2,
           "828": 2,
           "829": 1,
           "830": 2,
           "831": 2,
           "832": 4,
           "833": 2,
           "834": 3,
           "835": 3,
           "836": 2,
           "837": 3,
           "838": 2,
           "839": 3,
           "840": 1,
           "841": 3,
           "842": 3,
           "843": 3,
           "844": 1,
           "845": 2,
           "846": 3,
           "847": 3,
           "848": 3,
           "849": 4,
           "850": 4,
           "851": 3,
           "852": 3,
           "853": 2,
           "854": 4,
           "855": 1,
           "856": 4,
           "857": 4,
           "858": 3,
           "859": 2,
           "860": 3,
           "861": 3,
           "862": 2,
           "863": 3,
           "864": 4,
           "865": 2,
           "866": 3,
           "867": 3,
           "868": 3,
           "869": 2,
           "870": 4,
           "871": 2,
           "872": 4,
           "873": 4,
           "874": 3,
           "875": 2,
           "876": 1,
           "877": 1,
           "878": 4,
           "879": 1,
           "880": 2,
           "881": 2,
           "882": 4,
           "883": 4,
           "884": 3,
           "885": 4,
           "886": 3,
           "887": 1,
           "888": 2,
           "889": 2,
           "890": 4,
           "891": 3,
           "892": 4,
           "893": 3,
           "894": 4,
           "895": 3,
           "896": 2,
           "897": 1,
           "898": 1,
           "899": 3,
           "900": 4,
           "901": 5,
           "902": 1,
           "903": 2,
           "904": 2,
           "905": 4,
           "906": 3,
           "907": 3,
           "908": 3,
           "909": 3,
           "910": 3,
           "911": 4,
           "912": 3,
           "913": 1,
           "914": 2,
           "915": 3,
           "916": 4,
           "917": 2,
           "918": 3,
           "919": 1,
           "920": 1,
           "921": 4,
           "922": 4,
           "923": 4,
           "924": 1,
           "925": 3,
           "926": 2,
           "927": 4,
           "928": 3,
           "929": 1,
           "930": 4,
           "931": 3,
           "932": 3,
           "933": 5,
           "934": 4,
           "935": 4,
           "936": 3,
           "937": 3,
           "938": 3,
           "939": 3,
           "940": 2,
           "941": 3,
           "942": 1,
           "943": 1,
           "944": 2,
           "945": 4,
           "946": 3,
           "947": 5,
           "948": 3,
           "949": 3,
           "950": 4,
           "951": 1,
           "952": 3,
           "953": 1,
           "954": 3,
           "955": 2,
           "956": 3,
           "957": 2,
           "958": 4,
           "959": 2,
           "960": 2,
           "961": 3,
           "962": 2,
           "963": 2,
           "964": 2,
           "965": 3,
           "966": 2,
           "967": 3,
           "968": 4,
           "969": 2,
           "970": 3,
           "971": 2,
           "972": 2,
           "973": 4,
           "974": 3,
           "975": 4,
           "976": 1,
           "977": 3,
           "978": 4,
           "979": 3,
           "980": 4,
           "981": 1,
           "982": 3,
           "983": 3,
           "984": 1,
           "985": 1,
           "986": 5,
           "987": 3,
           "988": 3,
           "989": 2,
           "990": 1,
           "991": 3,
           "992": 2,
           "993": 3,
           "994": 3,
           "995": 4,
           "996": 3,
           "997": 3,
           "998": 3,
           "999": 1,
           "1000": 1,
           "1001": 1,
           "1002": 2,
           "1003": 4,
           "1004": 2,
           "1005": 2,
           "1006": 3,
           "bdata": "BAECBQEBAQMEAwQDAwICAwICAgQCAwECAQECBAMEAgIFBQMDBAQBAQEBAwECAQMDAQQEAwEFAwMFAwIFBAIDAgMDAQMDAgMDAwIDAwICAwEDBAMCBAMDAwECAgIEBAQDBAEDBAMDAgMDAwMEAQICAgEDAwMEAgUDAgIEAgUEAgMDBAEDAwIDBAUDAgEEAgIEBAQBBQIDAQEEAQQCBQICAQUCAwIDAgMCAwIBBAMEAgEBAwIDAwEEAgQEAgMDAQICAQUDAgEBAQMEAQIBAgMBAwICAwECAQQDBAMEAwMDAgIDAQMEAgIDAwQBAgMDAgMBAwIDAQIDAwMDAwIBAwQEAwMBAQICAgMDBAEDAwMEAwMBBAMDAgMEAwQBBAMCAgMEAgQCAgICAgQCAgIDBQMBAwMDBQQDAwMCAwUBAgMDAgMBBAMBBAQCAgMDBAMBBQMDAQIBBQQEBQIEAQMDAQMDAwMCAQMEBAMDBQQCAgIFAQQDBQEDBQEDAQMDAgICAwIDAwQCAgMDAQUCAQEDAwMEAgUEAgIDAgMDBAEEAgICBAMBAwEDAwQFBAICAQQFAwECAgQFBAQEAwMCBAIDAwMEAgUBAwMEAwMDAgICAwQCAwMDAgQCAgQCAwEDAwECAwIBAwIDAwEDAgICAgIDAQMCAwUBBQQDAgMBAwIEAgQDAgQEBAIDAwMCAgUEAwMEAgMDAgMBAwQDAgMBAgQDAQIDAwICAwMCBAIEBAMCBAECAgMEAgMBBAMCAQMEBAMFAwMBAwQBAgMBBAUCBAMCAwQDAwQDBAMDAQQEAwQDAwMEBAQBBAMBBAIDAgMCBQQDBAQBAgMEAwMEAgIEAwMDAwQDAwEFAgICAwQDBQQFAQEEAwEFAwIDAQMDAQEEAgUEAQEDAQQDAgIDAgMDAQMCAQQDBAIDBAQCAwEBBAIEAQQFAwIDAQIBAwMEBAMDAQQDAwIBAQEBAgEDAwMEBQQCAQQBBAQDAgMDAwMDAQQDBAIEAwUDAwIDAwMDAwQDAgEDAgEEAwQCBAMDBAMCAwICAwIBAwMFAgQCBAQEAQEEBAMCAgEDAQUBAgMEBAMEAwMEBAMCBAEFAgMBBQMCAQICAgECAgQCAwMCAwIDAQMDAwECAwMDBAQDAwIEAQQEAwIDAwIDBAIDAwMCBAIEBAMCAQEEAQICBAQDBAMBAgIEAwQDBAMCAQEDBAUBAgIEAwMDAwMEAwECAwQCAwEBBAQEAQMCBAMBBAMDBQQEAwMDAwIDAQECBAMFAwMEAQMBAwIDAgQCAgMCAgIDAgMEAgMCAgQDBAEDBAMEAQMDAQEFAwMCAQMCAwMEAwMDAQEBAgQCAgM=",
           "dtype": "i1",
           "shape": "1007"
          },
          "bdata": "BAECBQEBAQMEAwQDAwICAwICAgQCAwECAQECBAMEAgIFBQMDBAQBAQEBAwECAQMDAQQEAwEFAwMFAwIFBAIDAgMDAQMDAgMDAwIDAwICAwEDBAMCBAMDAwECAgIEBAQDBAEDBAMDAgMDAwMEAQICAgEDAwMEAgUDAgIEAgUEAgMDBAEDAwIDBAUDAgEEAgIEBAQBBQIDAQEEAQQCBQICAQUCAwIDAgMCAwIBBAMEAgEBAwIDAwEEAgQEAgMDAQICAQUDAgEBAQMEAQIBAgMBAwICAwECAQQDBAMEAwMDAgIDAQMEAgIDAwQBAgMDAgMBAwIDAQIDAwMDAwIBAwQEAwMBAQICAgMDBAEDAwMEAwMBBAMDAgMEAwQBBAMCAgMEAgQCAgICAgQCAgIDBQMBAwMDBQQDAwMCAwUBAgMDAgMBBAMBBAQCAgMDBAMBBQMDAQIBBQQEBQIEAQMDAQMDAwMCAQMEBAMDBQQCAgIFAQQDBQEDBQEDAQMDAgICAwIDAwQCAgMDAQUCAQEDAwMEAgUEAgIDAgMDBAEEAgICBAMBAwEDAwQFBAICAQQFAwECAgQFBAQEAwMCBAIDAwMEAgUBAwMEAwMDAgICAwQCAwMDAgQCAgQCAwEDAwECAwIBAwIDAwEDAgICAgIDAQMCAwUBBQQDAgMBAwIEAgQDAgQEBAIDAwMCAgUEAwMEAgMDAgMBAwQDAgMBAgQDAQIDAwICAwMCBAIEBAMCBAECAgMEAgMBBAMCAQMEBAMFAwMBAwQBAgMBBAUCBAMCAwQDAwQDBAMDAQQEAwQDAwMEBAQBBAMBBAIDAgMCBQQDBAQBAgMEAwMEAgIEAwMDAwQDAwEFAgICAwQDBQQFAQEEAwEFAwIDAQMDAQEEAgUEAQEDAQQDAgIDAgMDAQMCAQQDBAIDBAQCAwEBBAIEAQQFAwIDAQIBAwMEBAMDAQQDAwIBAQEBAgEDAwMEBQQCAQQBBAQDAgMDAwMDAQQDBAIEAwUDAwIDAwMDAwQDAgEDAgEEAwQCBAMDBAMCAwICAwIBAwMFAgQCBAQEAQEEBAMCAgEDAQUBAgMEBAMEAwMEBAMCBAEFAgMBBQMCAQICAgECAgQCAwMCAwIDAQMDAwECAwMDBAQDAwIEAQQEAwIDAwIDBAIDAwMCBAIEBAMCAQEEAQICBAQDBAMBAgIEAwQDBAMCAQEDBAUBAgIEAwMDAwMEAwECAwQCAwEBBAQEAQMCBAMBBAMDBQQEAwMDAwIDAQECBAMFAwMEAQMBAwIDAgQCAgMCAgIDAgMEAgMCAgQDBAEDBAMEAQMDAQEFAwMCAQMCAwMEAwMDAQEBAgQCAgM=",
          "dtype": "i1"
         },
         "y0": " ",
         "yaxis": "y"
        },
        {
         "alignmentgroup": "True",
         "hovertemplate": "Work_Arrangement=%{x}<br>Social_Isolation_Score=%{y}<extra></extra>",
         "legendgroup": "Remote",
         "marker": {
          "color": "#00cc96"
         },
         "name": "Remote",
         "notched": false,
         "offsetgroup": "Remote",
         "orientation": "v",
         "showlegend": true,
         "type": "box",
         "x": [
          "Remote",
          "Remote",
          "Remote",
          "Remote",
          "Remote",
          "Remote",
          "Remote",
          "Remote",
          "Remote",
          "Remote",
          "Remote",
          "Remote",
          "Remote",
          "Remote",
          "Remote",
          "Remote",
          "Remote",
          "Remote",
          "Remote",
          "Remote",
          "Remote",
          "Remote",
          "Remote",
          "Remote",
          "Remote",
          "Remote",
          "Remote",
          "Remote",
          "Remote",
          "Remote",
          "Remote",
          "Remote",
          "Remote",
          "Remote",
          "Remote",
          "Remote",
          "Remote",
          "Remote",
          "Remote",
          "Remote",
          "Remote",
          "Remote",
          "Remote",
          "Remote",
          "Remote",
          "Remote",
          "Remote",
          "Remote",
          "Remote",
          "Remote",
          "Remote",
          "Remote",
          "Remote",
          "Remote",
          "Remote",
          "Remote",
          "Remote",
          "Remote",
          "Remote",
          "Remote",
          "Remote",
          "Remote",
          "Remote",
          "Remote",
          "Remote",
          "Remote",
          "Remote",
          "Remote",
          "Remote",
          "Remote",
          "Remote",
          "Remote",
          "Remote",
          "Remote",
          "Remote",
          "Remote",
          "Remote",
          "Remote",
          "Remote",
          "Remote",
          "Remote",
          "Remote",
          "Remote",
          "Remote",
          "Remote",
          "Remote",
          "Remote",
          "Remote",
          "Remote",
          "Remote",
          "Remote",
          "Remote",
          "Remote",
          "Remote",
          "Remote",
          "Remote",
          "Remote",
          "Remote",
          "Remote",
          "Remote",
          "Remote",
          "Remote",
          "Remote",
          "Remote",
          "Remote",
          "Remote",
          "Remote",
          "Remote",
          "Remote",
          "Remote",
          "Remote",
          "Remote",
          "Remote",
          "Remote",
          "Remote",
          "Remote",
          "Remote",
          "Remote",
          "Remote",
          "Remote",
          "Remote",
          "Remote",
          "Remote",
          "Remote",
          "Remote",
          "Remote",
          "Remote",
          "Remote",
          "Remote",
          "Remote",
          "Remote",
          "Remote",
          "Remote",
          "Remote",
          "Remote",
          "Remote",
          "Remote",
          "Remote",
          "Remote",
          "Remote",
          "Remote",
          "Remote",
          "Remote",
          "Remote",
          "Remote",
          "Remote",
          "Remote",
          "Remote",
          "Remote",
          "Remote",
          "Remote",
          "Remote",
          "Remote",
          "Remote",
          "Remote",
          "Remote",
          "Remote",
          "Remote",
          "Remote",
          "Remote",
          "Remote",
          "Remote",
          "Remote",
          "Remote",
          "Remote",
          "Remote",
          "Remote",
          "Remote",
          "Remote",
          "Remote",
          "Remote",
          "Remote",
          "Remote",
          "Remote",
          "Remote",
          "Remote",
          "Remote",
          "Remote",
          "Remote",
          "Remote",
          "Remote",
          "Remote",
          "Remote",
          "Remote",
          "Remote",
          "Remote",
          "Remote",
          "Remote",
          "Remote",
          "Remote",
          "Remote",
          "Remote",
          "Remote",
          "Remote",
          "Remote",
          "Remote",
          "Remote",
          "Remote",
          "Remote",
          "Remote",
          "Remote",
          "Remote",
          "Remote",
          "Remote",
          "Remote",
          "Remote",
          "Remote",
          "Remote",
          "Remote",
          "Remote",
          "Remote",
          "Remote",
          "Remote",
          "Remote",
          "Remote",
          "Remote",
          "Remote",
          "Remote",
          "Remote",
          "Remote",
          "Remote",
          "Remote",
          "Remote",
          "Remote",
          "Remote",
          "Remote",
          "Remote",
          "Remote",
          "Remote",
          "Remote",
          "Remote",
          "Remote",
          "Remote",
          "Remote",
          "Remote",
          "Remote",
          "Remote",
          "Remote",
          "Remote",
          "Remote",
          "Remote",
          "Remote",
          "Remote",
          "Remote",
          "Remote",
          "Remote",
          "Remote",
          "Remote",
          "Remote",
          "Remote",
          "Remote",
          "Remote",
          "Remote",
          "Remote",
          "Remote",
          "Remote",
          "Remote",
          "Remote",
          "Remote",
          "Remote",
          "Remote",
          "Remote",
          "Remote",
          "Remote",
          "Remote",
          "Remote",
          "Remote",
          "Remote",
          "Remote",
          "Remote",
          "Remote",
          "Remote",
          "Remote",
          "Remote",
          "Remote",
          "Remote",
          "Remote",
          "Remote",
          "Remote",
          "Remote",
          "Remote",
          "Remote",
          "Remote",
          "Remote",
          "Remote",
          "Remote",
          "Remote",
          "Remote",
          "Remote",
          "Remote",
          "Remote",
          "Remote",
          "Remote",
          "Remote",
          "Remote",
          "Remote",
          "Remote",
          "Remote",
          "Remote",
          "Remote",
          "Remote",
          "Remote",
          "Remote",
          "Remote",
          "Remote",
          "Remote",
          "Remote",
          "Remote",
          "Remote",
          "Remote",
          "Remote",
          "Remote",
          "Remote",
          "Remote",
          "Remote",
          "Remote",
          "Remote",
          "Remote",
          "Remote",
          "Remote",
          "Remote",
          "Remote",
          "Remote",
          "Remote",
          "Remote",
          "Remote",
          "Remote",
          "Remote",
          "Remote",
          "Remote",
          "Remote",
          "Remote",
          "Remote",
          "Remote",
          "Remote",
          "Remote",
          "Remote",
          "Remote",
          "Remote",
          "Remote",
          "Remote",
          "Remote",
          "Remote",
          "Remote",
          "Remote",
          "Remote",
          "Remote",
          "Remote",
          "Remote",
          "Remote",
          "Remote",
          "Remote",
          "Remote",
          "Remote",
          "Remote",
          "Remote",
          "Remote",
          "Remote",
          "Remote",
          "Remote",
          "Remote",
          "Remote",
          "Remote",
          "Remote",
          "Remote",
          "Remote",
          "Remote",
          "Remote",
          "Remote",
          "Remote",
          "Remote",
          "Remote",
          "Remote",
          "Remote",
          "Remote",
          "Remote",
          "Remote",
          "Remote",
          "Remote",
          "Remote",
          "Remote",
          "Remote",
          "Remote",
          "Remote",
          "Remote",
          "Remote",
          "Remote",
          "Remote",
          "Remote",
          "Remote",
          "Remote",
          "Remote",
          "Remote",
          "Remote",
          "Remote",
          "Remote",
          "Remote",
          "Remote",
          "Remote",
          "Remote",
          "Remote",
          "Remote",
          "Remote",
          "Remote",
          "Remote",
          "Remote",
          "Remote",
          "Remote",
          "Remote",
          "Remote",
          "Remote",
          "Remote",
          "Remote",
          "Remote",
          "Remote",
          "Remote",
          "Remote",
          "Remote",
          "Remote",
          "Remote",
          "Remote",
          "Remote",
          "Remote",
          "Remote",
          "Remote",
          "Remote",
          "Remote",
          "Remote",
          "Remote",
          "Remote",
          "Remote",
          "Remote",
          "Remote",
          "Remote",
          "Remote",
          "Remote",
          "Remote",
          "Remote",
          "Remote",
          "Remote",
          "Remote",
          "Remote",
          "Remote",
          "Remote",
          "Remote",
          "Remote",
          "Remote",
          "Remote",
          "Remote",
          "Remote",
          "Remote",
          "Remote",
          "Remote",
          "Remote",
          "Remote",
          "Remote",
          "Remote",
          "Remote",
          "Remote",
          "Remote",
          "Remote",
          "Remote",
          "Remote",
          "Remote",
          "Remote",
          "Remote",
          "Remote",
          "Remote",
          "Remote",
          "Remote",
          "Remote",
          "Remote",
          "Remote",
          "Remote",
          "Remote",
          "Remote",
          "Remote",
          "Remote",
          "Remote",
          "Remote",
          "Remote",
          "Remote",
          "Remote",
          "Remote",
          "Remote",
          "Remote",
          "Remote",
          "Remote",
          "Remote",
          "Remote",
          "Remote",
          "Remote",
          "Remote",
          "Remote",
          "Remote",
          "Remote",
          "Remote",
          "Remote",
          "Remote",
          "Remote",
          "Remote",
          "Remote",
          "Remote",
          "Remote",
          "Remote",
          "Remote",
          "Remote",
          "Remote",
          "Remote",
          "Remote",
          "Remote",
          "Remote",
          "Remote",
          "Remote",
          "Remote",
          "Remote",
          "Remote",
          "Remote",
          "Remote",
          "Remote",
          "Remote",
          "Remote",
          "Remote",
          "Remote",
          "Remote",
          "Remote",
          "Remote",
          "Remote",
          "Remote",
          "Remote",
          "Remote",
          "Remote",
          "Remote",
          "Remote",
          "Remote",
          "Remote",
          "Remote",
          "Remote",
          "Remote",
          "Remote",
          "Remote",
          "Remote",
          "Remote",
          "Remote",
          "Remote",
          "Remote",
          "Remote",
          "Remote",
          "Remote",
          "Remote",
          "Remote",
          "Remote",
          "Remote",
          "Remote",
          "Remote",
          "Remote",
          "Remote",
          "Remote",
          "Remote",
          "Remote",
          "Remote",
          "Remote",
          "Remote",
          "Remote",
          "Remote",
          "Remote",
          "Remote",
          "Remote",
          "Remote",
          "Remote",
          "Remote",
          "Remote",
          "Remote",
          "Remote",
          "Remote",
          "Remote",
          "Remote",
          "Remote",
          "Remote",
          "Remote",
          "Remote",
          "Remote",
          "Remote",
          "Remote",
          "Remote",
          "Remote",
          "Remote",
          "Remote"
         ],
         "x0": " ",
         "xaxis": "x",
         "y": {
          "_inputArray": {
           "0": 4,
           "1": 4,
           "2": 5,
           "3": 4,
           "4": 4,
           "5": 3,
           "6": 5,
           "7": 3,
           "8": 3,
           "9": 5,
           "10": 4,
           "11": 2,
           "12": 1,
           "13": 4,
           "14": 3,
           "15": 2,
           "16": 3,
           "17": 4,
           "18": 4,
           "19": 4,
           "20": 3,
           "21": 5,
           "22": 3,
           "23": 5,
           "24": 4,
           "25": 2,
           "26": 3,
           "27": 5,
           "28": 5,
           "29": 4,
           "30": 3,
           "31": 4,
           "32": 5,
           "33": 5,
           "34": 3,
           "35": 5,
           "36": 3,
           "37": 3,
           "38": 5,
           "39": 3,
           "40": 4,
           "41": 4,
           "42": 1,
           "43": 5,
           "44": 4,
           "45": 5,
           "46": 2,
           "47": 5,
           "48": 3,
           "49": 3,
           "50": 5,
           "51": 3,
           "52": 1,
           "53": 5,
           "54": 4,
           "55": 1,
           "56": 4,
           "57": 5,
           "58": 3,
           "59": 2,
           "60": 4,
           "61": 5,
           "62": 4,
           "63": 1,
           "64": 4,
           "65": 3,
           "66": 3,
           "67": 5,
           "68": 2,
           "69": 4,
           "70": 3,
           "71": 3,
           "72": 3,
           "73": 5,
           "74": 3,
           "75": 4,
           "76": 3,
           "77": 4,
           "78": 3,
           "79": 5,
           "80": 3,
           "81": 4,
           "82": 2,
           "83": 5,
           "84": 2,
           "85": 4,
           "86": 3,
           "87": 3,
           "88": 1,
           "89": 4,
           "90": 5,
           "91": 4,
           "92": 1,
           "93": 4,
           "94": 4,
           "95": 4,
           "96": 4,
           "97": 5,
           "98": 4,
           "99": 4,
           "100": 4,
           "101": 3,
           "102": 3,
           "103": 3,
           "104": 5,
           "105": 4,
           "106": 5,
           "107": 5,
           "108": 3,
           "109": 4,
           "110": 4,
           "111": 4,
           "112": 5,
           "113": 3,
           "114": 1,
           "115": 3,
           "116": 3,
           "117": 3,
           "118": 4,
           "119": 1,
           "120": 2,
           "121": 5,
           "122": 2,
           "123": 4,
           "124": 4,
           "125": 3,
           "126": 3,
           "127": 3,
           "128": 4,
           "129": 3,
           "130": 4,
           "131": 3,
           "132": 4,
           "133": 2,
           "134": 5,
           "135": 2,
           "136": 4,
           "137": 3,
           "138": 4,
           "139": 5,
           "140": 3,
           "141": 1,
           "142": 3,
           "143": 3,
           "144": 3,
           "145": 1,
           "146": 5,
           "147": 5,
           "148": 3,
           "149": 3,
           "150": 4,
           "151": 2,
           "152": 3,
           "153": 4,
           "154": 5,
           "155": 4,
           "156": 4,
           "157": 4,
           "158": 5,
           "159": 4,
           "160": 5,
           "161": 4,
           "162": 3,
           "163": 2,
           "164": 4,
           "165": 3,
           "166": 3,
           "167": 3,
           "168": 5,
           "169": 5,
           "170": 5,
           "171": 4,
           "172": 1,
           "173": 1,
           "174": 3,
           "175": 1,
           "176": 2,
           "177": 3,
           "178": 3,
           "179": 4,
           "180": 4,
           "181": 4,
           "182": 5,
           "183": 5,
           "184": 3,
           "185": 4,
           "186": 4,
           "187": 3,
           "188": 4,
           "189": 4,
           "190": 1,
           "191": 3,
           "192": 2,
           "193": 3,
           "194": 1,
           "195": 5,
           "196": 3,
           "197": 4,
           "198": 2,
           "199": 4,
           "200": 1,
           "201": 4,
           "202": 3,
           "203": 3,
           "204": 1,
           "205": 5,
           "206": 5,
           "207": 4,
           "208": 4,
           "209": 2,
           "210": 3,
           "211": 3,
           "212": 2,
           "213": 3,
           "214": 5,
           "215": 4,
           "216": 3,
           "217": 5,
           "218": 5,
           "219": 4,
           "220": 5,
           "221": 4,
           "222": 4,
           "223": 3,
           "224": 3,
           "225": 4,
           "226": 3,
           "227": 3,
           "228": 3,
           "229": 2,
           "230": 3,
           "231": 5,
           "232": 3,
           "233": 4,
           "234": 3,
           "235": 2,
           "236": 5,
           "237": 5,
           "238": 3,
           "239": 4,
           "240": 4,
           "241": 1,
           "242": 1,
           "243": 1,
           "244": 3,
           "245": 4,
           "246": 5,
           "247": 3,
           "248": 1,
           "249": 5,
           "250": 5,
           "251": 3,
           "252": 3,
           "253": 2,
           "254": 4,
           "255": 5,
           "256": 4,
           "257": 5,
           "258": 3,
           "259": 4,
           "260": 3,
           "261": 5,
           "262": 4,
           "263": 2,
           "264": 4,
           "265": 2,
           "266": 5,
           "267": 5,
           "268": 3,
           "269": 4,
           "270": 4,
           "271": 4,
           "272": 4,
           "273": 4,
           "274": 2,
           "275": 1,
           "276": 5,
           "277": 4,
           "278": 5,
           "279": 2,
           "280": 4,
           "281": 4,
           "282": 3,
           "283": 3,
           "284": 3,
           "285": 3,
           "286": 2,
           "287": 3,
           "288": 4,
           "289": 3,
           "290": 3,
           "291": 4,
           "292": 4,
           "293": 3,
           "294": 4,
           "295": 5,
           "296": 3,
           "297": 3,
           "298": 5,
           "299": 4,
           "300": 4,
           "301": 4,
           "302": 3,
           "303": 4,
           "304": 5,
           "305": 3,
           "306": 3,
           "307": 1,
           "308": 4,
           "309": 3,
           "310": 3,
           "311": 1,
           "312": 3,
           "313": 3,
           "314": 4,
           "315": 1,
           "316": 4,
           "317": 4,
           "318": 3,
           "319": 3,
           "320": 3,
           "321": 1,
           "322": 5,
           "323": 4,
           "324": 4,
           "325": 4,
           "326": 4,
           "327": 3,
           "328": 5,
           "329": 5,
           "330": 5,
           "331": 4,
           "332": 1,
           "333": 4,
           "334": 2,
           "335": 2,
           "336": 3,
           "337": 5,
           "338": 4,
           "339": 5,
           "340": 5,
           "341": 5,
           "342": 4,
           "343": 4,
           "344": 4,
           "345": 3,
           "346": 4,
           "347": 1,
           "348": 5,
           "349": 1,
           "350": 5,
           "351": 4,
           "352": 4,
           "353": 2,
           "354": 3,
           "355": 5,
           "356": 4,
           "357": 2,
           "358": 4,
           "359": 1,
           "360": 4,
           "361": 1,
           "362": 5,
           "363": 2,
           "364": 4,
           "365": 3,
           "366": 3,
           "367": 4,
           "368": 2,
           "369": 4,
           "370": 5,
           "371": 5,
           "372": 5,
           "373": 3,
           "374": 4,
           "375": 3,
           "376": 4,
           "377": 4,
           "378": 3,
           "379": 4,
           "380": 2,
           "381": 4,
           "382": 4,
           "383": 2,
           "384": 4,
           "385": 5,
           "386": 5,
           "387": 4,
           "388": 4,
           "389": 2,
           "390": 3,
           "391": 3,
           "392": 4,
           "393": 4,
           "394": 5,
           "395": 4,
           "396": 3,
           "397": 4,
           "398": 4,
           "399": 3,
           "400": 2,
           "401": 5,
           "402": 3,
           "403": 2,
           "404": 5,
           "405": 4,
           "406": 4,
           "407": 2,
           "408": 5,
           "409": 4,
           "410": 3,
           "411": 5,
           "412": 3,
           "413": 5,
           "414": 4,
           "415": 3,
           "416": 4,
           "417": 5,
           "418": 3,
           "419": 5,
           "420": 3,
           "421": 4,
           "422": 5,
           "423": 5,
           "424": 4,
           "425": 4,
           "426": 4,
           "427": 3,
           "428": 2,
           "429": 5,
           "430": 2,
           "431": 2,
           "432": 2,
           "433": 3,
           "434": 1,
           "435": 4,
           "436": 4,
           "437": 1,
           "438": 4,
           "439": 2,
           "440": 3,
           "441": 4,
           "442": 1,
           "443": 5,
           "444": 3,
           "445": 5,
           "446": 5,
           "447": 5,
           "448": 4,
           "449": 4,
           "450": 4,
           "451": 4,
           "452": 2,
           "453": 4,
           "454": 4,
           "455": 5,
           "456": 1,
           "457": 4,
           "458": 3,
           "459": 4,
           "460": 3,
           "461": 5,
           "462": 2,
           "463": 5,
           "464": 2,
           "465": 3,
           "466": 4,
           "467": 3,
           "468": 3,
           "469": 3,
           "470": 2,
           "471": 2,
           "472": 3,
           "473": 4,
           "474": 4,
           "475": 4,
           "476": 3,
           "477": 5,
           "478": 4,
           "479": 3,
           "480": 4,
           "481": 4,
           "482": 4,
           "483": 3,
           "484": 4,
           "485": 2,
           "486": 2,
           "487": 3,
           "488": 2,
           "489": 3,
           "490": 4,
           "491": 5,
           "492": 2,
           "493": 3,
           "494": 3,
           "495": 4,
           "496": 4,
           "497": 5,
           "498": 5,
           "499": 3,
           "500": 5,
           "501": 3,
           "502": 4,
           "503": 4,
           "504": 4,
           "505": 4,
           "506": 4,
           "507": 5,
           "508": 4,
           "509": 4,
           "510": 5,
           "511": 4,
           "512": 4,
           "513": 1,
           "514": 4,
           "515": 5,
           "516": 3,
           "517": 5,
           "518": 3,
           "519": 3,
           "520": 5,
           "521": 1,
           "522": 3,
           "523": 4,
           "524": 1,
           "525": 3,
           "526": 5,
           "527": 4,
           "528": 3,
           "529": 4,
           "530": 4,
           "531": 2,
           "532": 3,
           "533": 3,
           "534": 4,
           "535": 3,
           "536": 4,
           "537": 3,
           "538": 4,
           "539": 4,
           "540": 5,
           "541": 2,
           "542": 3,
           "543": 5,
           "544": 4,
           "545": 4,
           "546": 4,
           "547": 5,
           "548": 3,
           "549": 4,
           "550": 3,
           "551": 3,
           "552": 3,
           "553": 4,
           "554": 2,
           "555": 4,
           "556": 1,
           "557": 5,
           "558": 5,
           "559": 5,
           "560": 3,
           "561": 4,
           "562": 2,
           "563": 2,
           "564": 2,
           "565": 3,
           "566": 4,
           "567": 4,
           "568": 3,
           "569": 5,
           "570": 3,
           "571": 4,
           "572": 4,
           "573": 1,
           "574": 4,
           "575": 3,
           "576": 5,
           "577": 3,
           "578": 2,
           "579": 1,
           "580": 5,
           "581": 5,
           "582": 5,
           "583": 3,
           "584": 3,
           "585": 1,
           "586": 1,
           "587": 4,
           "bdata": "BAQFBAQDBQMDBQQCAQQDAgMEBAQDBQMFBAIDBQUEAwQFBQMFAwMFAwQEAQUEBQIFAwMFAwEFBAEEBQMCBAUEAQQDAwUCBAMDAwUDBAMEAwUDBAIFAgQDAwEEBQQBBAQEBAUEBAQDAwMFBAUFAwQEBAUDAQMDAwQBAgUCBAQDAwMEAwQDBAIFAgQDBAUDAQMDAwEFBQMDBAIDBAUEBAQFBAUEAwIEAwMDBQUFBAEBAwECAwMEBAQFBQMEBAMEBAEDAgMBBQMEAgQBBAMDAQUFBAQCAwMCAwUEAwUFBAUEBAMDBAMDAwIDBQMEAwIFBQMEBAEBAQMEBQMBBQUDAwIEBQQFAwQDBQQCBAIFBQMEBAQEBAIBBQQFAgQEAwMDAwIDBAMDBAQDBAUDAwUEBAQDBAUDAwEEAwMBAwMEAQQEAwMDAQUEBAQEAwUFBQQBBAICAwUEBQUFBAQEAwQBBQEFBAQCAwUEAgQBBAEFAgQDAwQCBAUFBQMEAwQEAwQCBAQCBAUFBAQCAwMEBAUEAwQEAwIFAwIFBAQCBQQDBQMFBAMEBQMFAwQFBQQEBAMCBQICAgMBBAQBBAIDBAEFAwUFBQQEBAQCBAQFAQQDBAMFAgUCAwQDAwMCAgMEBAQDBQQDBAQEAwQCAgMCAwQFAgMDBAQFBQMFAwQEBAQEBQQEBQQEAQQFAwUDAwUBAwQBAwUEAwQEAgMDBAMEAwQEBQIDBQQEBAUDBAMDAwQCBAEFBQUDBAICAgMEBAMFAwQEAQQDBQMCAQUFBQMDAQEE",
           "dtype": "i1",
           "shape": "588"
          },
          "bdata": "BAQFBAQDBQMDBQQCAQQDAgMEBAQDBQMFBAIDBQUEAwQFBQMFAwMFAwQEAQUEBQIFAwMFAwEFBAEEBQMCBAUEAQQDAwUCBAMDAwUDBAMEAwUDBAIFAgQDAwEEBQQBBAQEBAUEBAQDAwMFBAUFAwQEBAUDAQMDAwQBAgUCBAQDAwMEAwQDBAIFAgQDBAUDAQMDAwEFBQMDBAIDBAUEBAQFBAUEAwIEAwMDBQUFBAEBAwECAwMEBAQFBQMEBAMEBAEDAgMBBQMEAgQBBAMDAQUFBAQCAwMCAwUEAwUFBAUEBAMDBAMDAwIDBQMEAwIFBQMEBAEBAQMEBQMBBQUDAwIEBQQFAwQDBQQCBAIFBQMEBAQEBAIBBQQFAgQEAwMDAwIDBAMDBAQDBAUDAwUEBAQDBAUDAwEEAwMBAwMEAQQEAwMDAQUEBAQEAwUFBQQBBAICAwUEBQUFBAQEAwQBBQEFBAQCAwUEAgQBBAEFAgQDAwQCBAUFBQMEAwQEAwQCBAQCBAUFBAQCAwMEBAUEAwQEAwIFAwIFBAQCBQQDBQMFBAMEBQMFAwQFBQQEBAMCBQICAgMBBAQBBAIDBAEFAwUFBQQEBAQCBAQFAQQDBAMFAgUCAwQDAwMCAgMEBAQDBQQDBAQEAwQCAgMCAwQFAgMDBAQFBQMFAwQEBAQEBQQEBQQEAQQFAwUDAwUBAwQBAwUEAwQEAgMDBAMEAwQEBQIDBQQEBAUDBAMDAwQCBAEFBQUDBAICAgMEBAMFAwQEAQQDBQMCAQUFBQMDAQEE",
          "dtype": "i1"
         },
         "y0": " ",
         "yaxis": "y"
        }
       ],
       "layout": {
        "autosize": true,
        "boxmode": "overlay",
        "legend": {
         "title": {
          "text": "Work_Arrangement"
         },
         "tracegroupgap": 0
        },
        "template": {
         "data": {
          "bar": [
           {
            "error_x": {
             "color": "#2a3f5f"
            },
            "error_y": {
             "color": "#2a3f5f"
            },
            "marker": {
             "line": {
              "color": "#E5ECF6",
              "width": 0.5
             },
             "pattern": {
              "fillmode": "overlay",
              "size": 10,
              "solidity": 0.2
             }
            },
            "type": "bar"
           }
          ],
          "barpolar": [
           {
            "marker": {
             "line": {
              "color": "#E5ECF6",
              "width": 0.5
             },
             "pattern": {
              "fillmode": "overlay",
              "size": 10,
              "solidity": 0.2
             }
            },
            "type": "barpolar"
           }
          ],
          "carpet": [
           {
            "aaxis": {
             "endlinecolor": "#2a3f5f",
             "gridcolor": "white",
             "linecolor": "white",
             "minorgridcolor": "white",
             "startlinecolor": "#2a3f5f"
            },
            "baxis": {
             "endlinecolor": "#2a3f5f",
             "gridcolor": "white",
             "linecolor": "white",
             "minorgridcolor": "white",
             "startlinecolor": "#2a3f5f"
            },
            "type": "carpet"
           }
          ],
          "choropleth": [
           {
            "colorbar": {
             "outlinewidth": 0,
             "ticks": ""
            },
            "type": "choropleth"
           }
          ],
          "contour": [
           {
            "colorbar": {
             "outlinewidth": 0,
             "ticks": ""
            },
            "colorscale": [
             [
              0,
              "#0d0887"
             ],
             [
              0.1111111111111111,
              "#46039f"
             ],
             [
              0.2222222222222222,
              "#7201a8"
             ],
             [
              0.3333333333333333,
              "#9c179e"
             ],
             [
              0.4444444444444444,
              "#bd3786"
             ],
             [
              0.5555555555555556,
              "#d8576b"
             ],
             [
              0.6666666666666666,
              "#ed7953"
             ],
             [
              0.7777777777777778,
              "#fb9f3a"
             ],
             [
              0.8888888888888888,
              "#fdca26"
             ],
             [
              1,
              "#f0f921"
             ]
            ],
            "type": "contour"
           }
          ],
          "contourcarpet": [
           {
            "colorbar": {
             "outlinewidth": 0,
             "ticks": ""
            },
            "type": "contourcarpet"
           }
          ],
          "heatmap": [
           {
            "colorbar": {
             "outlinewidth": 0,
             "ticks": ""
            },
            "colorscale": [
             [
              0,
              "#0d0887"
             ],
             [
              0.1111111111111111,
              "#46039f"
             ],
             [
              0.2222222222222222,
              "#7201a8"
             ],
             [
              0.3333333333333333,
              "#9c179e"
             ],
             [
              0.4444444444444444,
              "#bd3786"
             ],
             [
              0.5555555555555556,
              "#d8576b"
             ],
             [
              0.6666666666666666,
              "#ed7953"
             ],
             [
              0.7777777777777778,
              "#fb9f3a"
             ],
             [
              0.8888888888888888,
              "#fdca26"
             ],
             [
              1,
              "#f0f921"
             ]
            ],
            "type": "heatmap"
           }
          ],
          "histogram": [
           {
            "marker": {
             "pattern": {
              "fillmode": "overlay",
              "size": 10,
              "solidity": 0.2
             }
            },
            "type": "histogram"
           }
          ],
          "histogram2d": [
           {
            "colorbar": {
             "outlinewidth": 0,
             "ticks": ""
            },
            "colorscale": [
             [
              0,
              "#0d0887"
             ],
             [
              0.1111111111111111,
              "#46039f"
             ],
             [
              0.2222222222222222,
              "#7201a8"
             ],
             [
              0.3333333333333333,
              "#9c179e"
             ],
             [
              0.4444444444444444,
              "#bd3786"
             ],
             [
              0.5555555555555556,
              "#d8576b"
             ],
             [
              0.6666666666666666,
              "#ed7953"
             ],
             [
              0.7777777777777778,
              "#fb9f3a"
             ],
             [
              0.8888888888888888,
              "#fdca26"
             ],
             [
              1,
              "#f0f921"
             ]
            ],
            "type": "histogram2d"
           }
          ],
          "histogram2dcontour": [
           {
            "colorbar": {
             "outlinewidth": 0,
             "ticks": ""
            },
            "colorscale": [
             [
              0,
              "#0d0887"
             ],
             [
              0.1111111111111111,
              "#46039f"
             ],
             [
              0.2222222222222222,
              "#7201a8"
             ],
             [
              0.3333333333333333,
              "#9c179e"
             ],
             [
              0.4444444444444444,
              "#bd3786"
             ],
             [
              0.5555555555555556,
              "#d8576b"
             ],
             [
              0.6666666666666666,
              "#ed7953"
             ],
             [
              0.7777777777777778,
              "#fb9f3a"
             ],
             [
              0.8888888888888888,
              "#fdca26"
             ],
             [
              1,
              "#f0f921"
             ]
            ],
            "type": "histogram2dcontour"
           }
          ],
          "mesh3d": [
           {
            "colorbar": {
             "outlinewidth": 0,
             "ticks": ""
            },
            "type": "mesh3d"
           }
          ],
          "parcoords": [
           {
            "line": {
             "colorbar": {
              "outlinewidth": 0,
              "ticks": ""
             }
            },
            "type": "parcoords"
           }
          ],
          "pie": [
           {
            "automargin": true,
            "type": "pie"
           }
          ],
          "scatter": [
           {
            "fillpattern": {
             "fillmode": "overlay",
             "size": 10,
             "solidity": 0.2
            },
            "type": "scatter"
           }
          ],
          "scatter3d": [
           {
            "line": {
             "colorbar": {
              "outlinewidth": 0,
              "ticks": ""
             }
            },
            "marker": {
             "colorbar": {
              "outlinewidth": 0,
              "ticks": ""
             }
            },
            "type": "scatter3d"
           }
          ],
          "scattercarpet": [
           {
            "marker": {
             "colorbar": {
              "outlinewidth": 0,
              "ticks": ""
             }
            },
            "type": "scattercarpet"
           }
          ],
          "scattergeo": [
           {
            "marker": {
             "colorbar": {
              "outlinewidth": 0,
              "ticks": ""
             }
            },
            "type": "scattergeo"
           }
          ],
          "scattergl": [
           {
            "marker": {
             "colorbar": {
              "outlinewidth": 0,
              "ticks": ""
             }
            },
            "type": "scattergl"
           }
          ],
          "scattermap": [
           {
            "marker": {
             "colorbar": {
              "outlinewidth": 0,
              "ticks": ""
             }
            },
            "type": "scattermap"
           }
          ],
          "scattermapbox": [
           {
            "marker": {
             "colorbar": {
              "outlinewidth": 0,
              "ticks": ""
             }
            },
            "type": "scattermapbox"
           }
          ],
          "scatterpolar": [
           {
            "marker": {
             "colorbar": {
              "outlinewidth": 0,
              "ticks": ""
             }
            },
            "type": "scatterpolar"
           }
          ],
          "scatterpolargl": [
           {
            "marker": {
             "colorbar": {
              "outlinewidth": 0,
              "ticks": ""
             }
            },
            "type": "scatterpolargl"
           }
          ],
          "scatterternary": [
           {
            "marker": {
             "colorbar": {
              "outlinewidth": 0,
              "ticks": ""
             }
            },
            "type": "scatterternary"
           }
          ],
          "surface": [
           {
            "colorbar": {
             "outlinewidth": 0,
             "ticks": ""
            },
            "colorscale": [
             [
              0,
              "#0d0887"
             ],
             [
              0.1111111111111111,
              "#46039f"
             ],
             [
              0.2222222222222222,
              "#7201a8"
             ],
             [
              0.3333333333333333,
              "#9c179e"
             ],
             [
              0.4444444444444444,
              "#bd3786"
             ],
             [
              0.5555555555555556,
              "#d8576b"
             ],
             [
              0.6666666666666666,
              "#ed7953"
             ],
             [
              0.7777777777777778,
              "#fb9f3a"
             ],
             [
              0.8888888888888888,
              "#fdca26"
             ],
             [
              1,
              "#f0f921"
             ]
            ],
            "type": "surface"
           }
          ],
          "table": [
           {
            "cells": {
             "fill": {
              "color": "#EBF0F8"
             },
             "line": {
              "color": "white"
             }
            },
            "header": {
             "fill": {
              "color": "#C8D4E3"
             },
             "line": {
              "color": "white"
             }
            },
            "type": "table"
           }
          ]
         },
         "layout": {
          "annotationdefaults": {
           "arrowcolor": "#2a3f5f",
           "arrowhead": 0,
           "arrowwidth": 1
          },
          "autotypenumbers": "strict",
          "coloraxis": {
           "colorbar": {
            "outlinewidth": 0,
            "ticks": ""
           }
          },
          "colorscale": {
           "diverging": [
            [
             0,
             "#8e0152"
            ],
            [
             0.1,
             "#c51b7d"
            ],
            [
             0.2,
             "#de77ae"
            ],
            [
             0.3,
             "#f1b6da"
            ],
            [
             0.4,
             "#fde0ef"
            ],
            [
             0.5,
             "#f7f7f7"
            ],
            [
             0.6,
             "#e6f5d0"
            ],
            [
             0.7,
             "#b8e186"
            ],
            [
             0.8,
             "#7fbc41"
            ],
            [
             0.9,
             "#4d9221"
            ],
            [
             1,
             "#276419"
            ]
           ],
           "sequential": [
            [
             0,
             "#0d0887"
            ],
            [
             0.1111111111111111,
             "#46039f"
            ],
            [
             0.2222222222222222,
             "#7201a8"
            ],
            [
             0.3333333333333333,
             "#9c179e"
            ],
            [
             0.4444444444444444,
             "#bd3786"
            ],
            [
             0.5555555555555556,
             "#d8576b"
            ],
            [
             0.6666666666666666,
             "#ed7953"
            ],
            [
             0.7777777777777778,
             "#fb9f3a"
            ],
            [
             0.8888888888888888,
             "#fdca26"
            ],
            [
             1,
             "#f0f921"
            ]
           ],
           "sequentialminus": [
            [
             0,
             "#0d0887"
            ],
            [
             0.1111111111111111,
             "#46039f"
            ],
            [
             0.2222222222222222,
             "#7201a8"
            ],
            [
             0.3333333333333333,
             "#9c179e"
            ],
            [
             0.4444444444444444,
             "#bd3786"
            ],
            [
             0.5555555555555556,
             "#d8576b"
            ],
            [
             0.6666666666666666,
             "#ed7953"
            ],
            [
             0.7777777777777778,
             "#fb9f3a"
            ],
            [
             0.8888888888888888,
             "#fdca26"
            ],
            [
             1,
             "#f0f921"
            ]
           ]
          },
          "colorway": [
           "#636efa",
           "#EF553B",
           "#00cc96",
           "#ab63fa",
           "#FFA15A",
           "#19d3f3",
           "#FF6692",
           "#B6E880",
           "#FF97FF",
           "#FECB52"
          ],
          "font": {
           "color": "#2a3f5f"
          },
          "geo": {
           "bgcolor": "white",
           "lakecolor": "white",
           "landcolor": "#E5ECF6",
           "showlakes": true,
           "showland": true,
           "subunitcolor": "white"
          },
          "hoverlabel": {
           "align": "left"
          },
          "hovermode": "closest",
          "mapbox": {
           "style": "light"
          },
          "paper_bgcolor": "white",
          "plot_bgcolor": "#E5ECF6",
          "polar": {
           "angularaxis": {
            "gridcolor": "white",
            "linecolor": "white",
            "ticks": ""
           },
           "bgcolor": "#E5ECF6",
           "radialaxis": {
            "gridcolor": "white",
            "linecolor": "white",
            "ticks": ""
           }
          },
          "scene": {
           "xaxis": {
            "backgroundcolor": "#E5ECF6",
            "gridcolor": "white",
            "gridwidth": 2,
            "linecolor": "white",
            "showbackground": true,
            "ticks": "",
            "zerolinecolor": "white"
           },
           "yaxis": {
            "backgroundcolor": "#E5ECF6",
            "gridcolor": "white",
            "gridwidth": 2,
            "linecolor": "white",
            "showbackground": true,
            "ticks": "",
            "zerolinecolor": "white"
           },
           "zaxis": {
            "backgroundcolor": "#E5ECF6",
            "gridcolor": "white",
            "gridwidth": 2,
            "linecolor": "white",
            "showbackground": true,
            "ticks": "",
            "zerolinecolor": "white"
           }
          },
          "shapedefaults": {
           "line": {
            "color": "#2a3f5f"
           }
          },
          "ternary": {
           "aaxis": {
            "gridcolor": "white",
            "linecolor": "white",
            "ticks": ""
           },
           "baxis": {
            "gridcolor": "white",
            "linecolor": "white",
            "ticks": ""
           },
           "bgcolor": "#E5ECF6",
           "caxis": {
            "gridcolor": "white",
            "linecolor": "white",
            "ticks": ""
           }
          },
          "title": {
           "x": 0.05
          },
          "xaxis": {
           "automargin": true,
           "gridcolor": "white",
           "linecolor": "white",
           "ticks": "",
           "title": {
            "standoff": 15
           },
           "zerolinecolor": "white",
           "zerolinewidth": 2
          },
          "yaxis": {
           "automargin": true,
           "gridcolor": "white",
           "linecolor": "white",
           "ticks": "",
           "title": {
            "standoff": 15
           },
           "zerolinecolor": "white",
           "zerolinewidth": 2
          }
         }
        },
        "title": {
         "text": "Work Arrangement vs Social_Isolation_Score ",
         "x": 0.5
        },
        "xaxis": {
         "anchor": "y",
         "autorange": true,
         "categoryarray": [
          "Onsite",
          "Hybrid",
          "Remote"
         ],
         "categoryorder": "array",
         "domain": [
          0,
          1
         ],
         "range": [
          -0.5,
          2.5
         ],
         "title": {
          "text": "Work_Arrangement"
         },
         "type": "category"
        },
        "yaxis": {
         "anchor": "x",
         "autorange": true,
         "domain": [
          0,
          1
         ],
         "range": [
          0.7777777777777778,
          5.222222222222222
         ],
         "title": {
          "text": "Social_Isolation_Score"
         },
         "type": "linear"
        }
       }
      }
     },
     "metadata": {},
     "output_type": "display_data"
    }
   ],
   "source": [
    "#work Arrangement vs Social Isolation Score\n",
    "fig=px.box(df,x='Work_Arrangement',y='Social_Isolation_Score',color='Work_Arrangement',\n",
    "           title='Work Arrangement vs Social_Isolation_Score ')\n",
    "fig.update_layout(title_x=0.5)\n",
    "fig.show()"
   ]
  },
  {
   "cell_type": "code",
   "execution_count": 25,
   "id": "061a2234-1a86-495d-b7a7-59c7ae4f7325",
   "metadata": {},
   "outputs": [
    {
     "data": {
      "text/html": [
       "<div>\n",
       "<style scoped>\n",
       "    .dataframe tbody tr th:only-of-type {\n",
       "        vertical-align: middle;\n",
       "    }\n",
       "\n",
       "    .dataframe tbody tr th {\n",
       "        vertical-align: top;\n",
       "    }\n",
       "\n",
       "    .dataframe thead th {\n",
       "        text-align: right;\n",
       "    }\n",
       "</style>\n",
       "<table border=\"1\" class=\"dataframe\">\n",
       "  <thead>\n",
       "    <tr style=\"text-align: right;\">\n",
       "      <th></th>\n",
       "      <th>Industry</th>\n",
       "      <th>Mental_Health_Status</th>\n",
       "      <th>Count</th>\n",
       "    </tr>\n",
       "  </thead>\n",
       "  <tbody>\n",
       "    <tr>\n",
       "      <th>0</th>\n",
       "      <td>Customer Service</td>\n",
       "      <td>ADHD</td>\n",
       "      <td>26</td>\n",
       "    </tr>\n",
       "    <tr>\n",
       "      <th>1</th>\n",
       "      <td>Customer Service</td>\n",
       "      <td>Anxiety</td>\n",
       "      <td>21</td>\n",
       "    </tr>\n",
       "    <tr>\n",
       "      <th>2</th>\n",
       "      <td>Customer Service</td>\n",
       "      <td>Burnout</td>\n",
       "      <td>20</td>\n",
       "    </tr>\n",
       "    <tr>\n",
       "      <th>3</th>\n",
       "      <td>Customer Service</td>\n",
       "      <td>Depression</td>\n",
       "      <td>21</td>\n",
       "    </tr>\n",
       "    <tr>\n",
       "      <th>4</th>\n",
       "      <td>Customer Service</td>\n",
       "      <td>PTSD</td>\n",
       "      <td>62</td>\n",
       "    </tr>\n",
       "    <tr>\n",
       "      <th>5</th>\n",
       "      <td>Customer Service</td>\n",
       "      <td>Stress Disorder</td>\n",
       "      <td>23</td>\n",
       "    </tr>\n",
       "    <tr>\n",
       "      <th>6</th>\n",
       "      <td>Education</td>\n",
       "      <td>ADHD</td>\n",
       "      <td>33</td>\n",
       "    </tr>\n",
       "    <tr>\n",
       "      <th>7</th>\n",
       "      <td>Education</td>\n",
       "      <td>Anxiety</td>\n",
       "      <td>35</td>\n",
       "    </tr>\n",
       "    <tr>\n",
       "      <th>8</th>\n",
       "      <td>Education</td>\n",
       "      <td>Burnout</td>\n",
       "      <td>37</td>\n",
       "    </tr>\n",
       "    <tr>\n",
       "      <th>9</th>\n",
       "      <td>Education</td>\n",
       "      <td>Depression</td>\n",
       "      <td>35</td>\n",
       "    </tr>\n",
       "    <tr>\n",
       "      <th>10</th>\n",
       "      <td>Education</td>\n",
       "      <td>PTSD</td>\n",
       "      <td>115</td>\n",
       "    </tr>\n",
       "    <tr>\n",
       "      <th>11</th>\n",
       "      <td>Education</td>\n",
       "      <td>Stress Disorder</td>\n",
       "      <td>32</td>\n",
       "    </tr>\n",
       "    <tr>\n",
       "      <th>12</th>\n",
       "      <td>Finance</td>\n",
       "      <td>ADHD</td>\n",
       "      <td>31</td>\n",
       "    </tr>\n",
       "    <tr>\n",
       "      <th>13</th>\n",
       "      <td>Finance</td>\n",
       "      <td>Anxiety</td>\n",
       "      <td>49</td>\n",
       "    </tr>\n",
       "    <tr>\n",
       "      <th>14</th>\n",
       "      <td>Finance</td>\n",
       "      <td>Burnout</td>\n",
       "      <td>43</td>\n",
       "    </tr>\n",
       "    <tr>\n",
       "      <th>15</th>\n",
       "      <td>Finance</td>\n",
       "      <td>Depression</td>\n",
       "      <td>59</td>\n",
       "    </tr>\n",
       "    <tr>\n",
       "      <th>16</th>\n",
       "      <td>Finance</td>\n",
       "      <td>PTSD</td>\n",
       "      <td>143</td>\n",
       "    </tr>\n",
       "    <tr>\n",
       "      <th>17</th>\n",
       "      <td>Finance</td>\n",
       "      <td>Stress Disorder</td>\n",
       "      <td>42</td>\n",
       "    </tr>\n",
       "    <tr>\n",
       "      <th>18</th>\n",
       "      <td>Healthcare</td>\n",
       "      <td>ADHD</td>\n",
       "      <td>39</td>\n",
       "    </tr>\n",
       "    <tr>\n",
       "      <th>19</th>\n",
       "      <td>Healthcare</td>\n",
       "      <td>Anxiety</td>\n",
       "      <td>31</td>\n",
       "    </tr>\n",
       "    <tr>\n",
       "      <th>20</th>\n",
       "      <td>Healthcare</td>\n",
       "      <td>Burnout</td>\n",
       "      <td>33</td>\n",
       "    </tr>\n",
       "    <tr>\n",
       "      <th>21</th>\n",
       "      <td>Healthcare</td>\n",
       "      <td>Depression</td>\n",
       "      <td>23</td>\n",
       "    </tr>\n",
       "    <tr>\n",
       "      <th>22</th>\n",
       "      <td>Healthcare</td>\n",
       "      <td>PTSD</td>\n",
       "      <td>90</td>\n",
       "    </tr>\n",
       "    <tr>\n",
       "      <th>23</th>\n",
       "      <td>Healthcare</td>\n",
       "      <td>Stress Disorder</td>\n",
       "      <td>31</td>\n",
       "    </tr>\n",
       "    <tr>\n",
       "      <th>24</th>\n",
       "      <td>Manufacturing</td>\n",
       "      <td>ADHD</td>\n",
       "      <td>49</td>\n",
       "    </tr>\n",
       "    <tr>\n",
       "      <th>25</th>\n",
       "      <td>Manufacturing</td>\n",
       "      <td>Anxiety</td>\n",
       "      <td>44</td>\n",
       "    </tr>\n",
       "    <tr>\n",
       "      <th>26</th>\n",
       "      <td>Manufacturing</td>\n",
       "      <td>Burnout</td>\n",
       "      <td>54</td>\n",
       "    </tr>\n",
       "    <tr>\n",
       "      <th>27</th>\n",
       "      <td>Manufacturing</td>\n",
       "      <td>Depression</td>\n",
       "      <td>39</td>\n",
       "    </tr>\n",
       "    <tr>\n",
       "      <th>28</th>\n",
       "      <td>Manufacturing</td>\n",
       "      <td>PTSD</td>\n",
       "      <td>147</td>\n",
       "    </tr>\n",
       "    <tr>\n",
       "      <th>29</th>\n",
       "      <td>Manufacturing</td>\n",
       "      <td>Stress Disorder</td>\n",
       "      <td>37</td>\n",
       "    </tr>\n",
       "    <tr>\n",
       "      <th>30</th>\n",
       "      <td>Marketing</td>\n",
       "      <td>ADHD</td>\n",
       "      <td>25</td>\n",
       "    </tr>\n",
       "    <tr>\n",
       "      <th>31</th>\n",
       "      <td>Marketing</td>\n",
       "      <td>Anxiety</td>\n",
       "      <td>20</td>\n",
       "    </tr>\n",
       "    <tr>\n",
       "      <th>32</th>\n",
       "      <td>Marketing</td>\n",
       "      <td>Burnout</td>\n",
       "      <td>32</td>\n",
       "    </tr>\n",
       "    <tr>\n",
       "      <th>33</th>\n",
       "      <td>Marketing</td>\n",
       "      <td>Depression</td>\n",
       "      <td>23</td>\n",
       "    </tr>\n",
       "    <tr>\n",
       "      <th>34</th>\n",
       "      <td>Marketing</td>\n",
       "      <td>PTSD</td>\n",
       "      <td>75</td>\n",
       "    </tr>\n",
       "    <tr>\n",
       "      <th>35</th>\n",
       "      <td>Marketing</td>\n",
       "      <td>Stress Disorder</td>\n",
       "      <td>27</td>\n",
       "    </tr>\n",
       "    <tr>\n",
       "      <th>36</th>\n",
       "      <td>Professional Services</td>\n",
       "      <td>ADHD</td>\n",
       "      <td>76</td>\n",
       "    </tr>\n",
       "    <tr>\n",
       "      <th>37</th>\n",
       "      <td>Professional Services</td>\n",
       "      <td>Anxiety</td>\n",
       "      <td>95</td>\n",
       "    </tr>\n",
       "    <tr>\n",
       "      <th>38</th>\n",
       "      <td>Professional Services</td>\n",
       "      <td>Burnout</td>\n",
       "      <td>88</td>\n",
       "    </tr>\n",
       "    <tr>\n",
       "      <th>39</th>\n",
       "      <td>Professional Services</td>\n",
       "      <td>Depression</td>\n",
       "      <td>99</td>\n",
       "    </tr>\n",
       "    <tr>\n",
       "      <th>40</th>\n",
       "      <td>Professional Services</td>\n",
       "      <td>PTSD</td>\n",
       "      <td>277</td>\n",
       "    </tr>\n",
       "    <tr>\n",
       "      <th>41</th>\n",
       "      <td>Professional Services</td>\n",
       "      <td>Stress Disorder</td>\n",
       "      <td>95</td>\n",
       "    </tr>\n",
       "    <tr>\n",
       "      <th>42</th>\n",
       "      <td>Retail</td>\n",
       "      <td>ADHD</td>\n",
       "      <td>26</td>\n",
       "    </tr>\n",
       "    <tr>\n",
       "      <th>43</th>\n",
       "      <td>Retail</td>\n",
       "      <td>Anxiety</td>\n",
       "      <td>25</td>\n",
       "    </tr>\n",
       "    <tr>\n",
       "      <th>44</th>\n",
       "      <td>Retail</td>\n",
       "      <td>Burnout</td>\n",
       "      <td>25</td>\n",
       "    </tr>\n",
       "    <tr>\n",
       "      <th>45</th>\n",
       "      <td>Retail</td>\n",
       "      <td>Depression</td>\n",
       "      <td>27</td>\n",
       "    </tr>\n",
       "    <tr>\n",
       "      <th>46</th>\n",
       "      <td>Retail</td>\n",
       "      <td>PTSD</td>\n",
       "      <td>69</td>\n",
       "    </tr>\n",
       "    <tr>\n",
       "      <th>47</th>\n",
       "      <td>Retail</td>\n",
       "      <td>Stress Disorder</td>\n",
       "      <td>16</td>\n",
       "    </tr>\n",
       "    <tr>\n",
       "      <th>48</th>\n",
       "      <td>Technology</td>\n",
       "      <td>ADHD</td>\n",
       "      <td>80</td>\n",
       "    </tr>\n",
       "    <tr>\n",
       "      <th>49</th>\n",
       "      <td>Technology</td>\n",
       "      <td>Anxiety</td>\n",
       "      <td>74</td>\n",
       "    </tr>\n",
       "    <tr>\n",
       "      <th>50</th>\n",
       "      <td>Technology</td>\n",
       "      <td>Burnout</td>\n",
       "      <td>60</td>\n",
       "    </tr>\n",
       "    <tr>\n",
       "      <th>51</th>\n",
       "      <td>Technology</td>\n",
       "      <td>Depression</td>\n",
       "      <td>60</td>\n",
       "    </tr>\n",
       "    <tr>\n",
       "      <th>52</th>\n",
       "      <td>Technology</td>\n",
       "      <td>PTSD</td>\n",
       "      <td>244</td>\n",
       "    </tr>\n",
       "    <tr>\n",
       "      <th>53</th>\n",
       "      <td>Technology</td>\n",
       "      <td>Stress Disorder</td>\n",
       "      <td>75</td>\n",
       "    </tr>\n",
       "  </tbody>\n",
       "</table>\n",
       "</div>"
      ],
      "text/plain": [
       "                 Industry Mental_Health_Status  Count\n",
       "0        Customer Service                 ADHD     26\n",
       "1        Customer Service              Anxiety     21\n",
       "2        Customer Service              Burnout     20\n",
       "3        Customer Service           Depression     21\n",
       "4        Customer Service                 PTSD     62\n",
       "5        Customer Service      Stress Disorder     23\n",
       "6               Education                 ADHD     33\n",
       "7               Education              Anxiety     35\n",
       "8               Education              Burnout     37\n",
       "9               Education           Depression     35\n",
       "10              Education                 PTSD    115\n",
       "11              Education      Stress Disorder     32\n",
       "12                Finance                 ADHD     31\n",
       "13                Finance              Anxiety     49\n",
       "14                Finance              Burnout     43\n",
       "15                Finance           Depression     59\n",
       "16                Finance                 PTSD    143\n",
       "17                Finance      Stress Disorder     42\n",
       "18             Healthcare                 ADHD     39\n",
       "19             Healthcare              Anxiety     31\n",
       "20             Healthcare              Burnout     33\n",
       "21             Healthcare           Depression     23\n",
       "22             Healthcare                 PTSD     90\n",
       "23             Healthcare      Stress Disorder     31\n",
       "24          Manufacturing                 ADHD     49\n",
       "25          Manufacturing              Anxiety     44\n",
       "26          Manufacturing              Burnout     54\n",
       "27          Manufacturing           Depression     39\n",
       "28          Manufacturing                 PTSD    147\n",
       "29          Manufacturing      Stress Disorder     37\n",
       "30              Marketing                 ADHD     25\n",
       "31              Marketing              Anxiety     20\n",
       "32              Marketing              Burnout     32\n",
       "33              Marketing           Depression     23\n",
       "34              Marketing                 PTSD     75\n",
       "35              Marketing      Stress Disorder     27\n",
       "36  Professional Services                 ADHD     76\n",
       "37  Professional Services              Anxiety     95\n",
       "38  Professional Services              Burnout     88\n",
       "39  Professional Services           Depression     99\n",
       "40  Professional Services                 PTSD    277\n",
       "41  Professional Services      Stress Disorder     95\n",
       "42                 Retail                 ADHD     26\n",
       "43                 Retail              Anxiety     25\n",
       "44                 Retail              Burnout     25\n",
       "45                 Retail           Depression     27\n",
       "46                 Retail                 PTSD     69\n",
       "47                 Retail      Stress Disorder     16\n",
       "48             Technology                 ADHD     80\n",
       "49             Technology              Anxiety     74\n",
       "50             Technology              Burnout     60\n",
       "51             Technology           Depression     60\n",
       "52             Technology                 PTSD    244\n",
       "53             Technology      Stress Disorder     75"
      ]
     },
     "execution_count": 25,
     "metadata": {},
     "output_type": "execute_result"
    }
   ],
   "source": [
    "industry_mental_health = df.groupby(['Industry', 'Mental_Health_Status']).size().reset_index(name='Count')\n",
    "industry_mental_health"
   ]
  },
  {
   "cell_type": "code",
   "execution_count": 38,
   "id": "de66d99e-8161-4afc-938c-de732f384686",
   "metadata": {},
   "outputs": [
    {
     "data": {
      "application/vnd.plotly.v1+json": {
       "config": {
        "plotlyServerURL": "https://plot.ly"
       },
       "data": [
        {
         "alignmentgroup": "True",
         "hovertemplate": "Mental_Health_Status=ADHD<br>Industry=%{x}<br>Count=%{y}<extra></extra>",
         "legendgroup": "ADHD",
         "marker": {
          "color": "#636efa",
          "pattern": {
           "shape": ""
          }
         },
         "name": "ADHD",
         "offsetgroup": "ADHD",
         "orientation": "v",
         "showlegend": true,
         "textposition": "auto",
         "type": "bar",
         "x": [
          "Customer Service",
          "Education",
          "Finance",
          "Healthcare",
          "Manufacturing",
          "Marketing",
          "Professional Services",
          "Retail",
          "Technology"
         ],
         "xaxis": "x",
         "y": {
          "_inputArray": {
           "0": 26,
           "1": 33,
           "2": 31,
           "3": 39,
           "4": 49,
           "5": 25,
           "6": 76,
           "7": 26,
           "8": 80,
           "bdata": "GiEfJzEZTBpQ",
           "dtype": "i1",
           "shape": "9"
          },
          "bdata": "GiEfJzEZTBpQ",
          "dtype": "i1"
         },
         "yaxis": "y"
        },
        {
         "alignmentgroup": "True",
         "hovertemplate": "Mental_Health_Status=Anxiety<br>Industry=%{x}<br>Count=%{y}<extra></extra>",
         "legendgroup": "Anxiety",
         "marker": {
          "color": "#EF553B",
          "pattern": {
           "shape": ""
          }
         },
         "name": "Anxiety",
         "offsetgroup": "Anxiety",
         "orientation": "v",
         "showlegend": true,
         "textposition": "auto",
         "type": "bar",
         "x": [
          "Customer Service",
          "Education",
          "Finance",
          "Healthcare",
          "Manufacturing",
          "Marketing",
          "Professional Services",
          "Retail",
          "Technology"
         ],
         "xaxis": "x",
         "y": {
          "_inputArray": {
           "0": 21,
           "1": 35,
           "2": 49,
           "3": 31,
           "4": 44,
           "5": 20,
           "6": 95,
           "7": 25,
           "8": 74,
           "bdata": "FSMxHywUXxlK",
           "dtype": "i1",
           "shape": "9"
          },
          "bdata": "FSMxHywUXxlK",
          "dtype": "i1"
         },
         "yaxis": "y"
        },
        {
         "alignmentgroup": "True",
         "hovertemplate": "Mental_Health_Status=Burnout<br>Industry=%{x}<br>Count=%{y}<extra></extra>",
         "legendgroup": "Burnout",
         "marker": {
          "color": "#00cc96",
          "pattern": {
           "shape": ""
          }
         },
         "name": "Burnout",
         "offsetgroup": "Burnout",
         "orientation": "v",
         "showlegend": true,
         "textposition": "auto",
         "type": "bar",
         "x": [
          "Customer Service",
          "Education",
          "Finance",
          "Healthcare",
          "Manufacturing",
          "Marketing",
          "Professional Services",
          "Retail",
          "Technology"
         ],
         "xaxis": "x",
         "y": {
          "_inputArray": {
           "0": 20,
           "1": 37,
           "2": 43,
           "3": 33,
           "4": 54,
           "5": 32,
           "6": 88,
           "7": 25,
           "8": 60,
           "bdata": "FCUrITYgWBk8",
           "dtype": "i1",
           "shape": "9"
          },
          "bdata": "FCUrITYgWBk8",
          "dtype": "i1"
         },
         "yaxis": "y"
        },
        {
         "alignmentgroup": "True",
         "hovertemplate": "Mental_Health_Status=Depression<br>Industry=%{x}<br>Count=%{y}<extra></extra>",
         "legendgroup": "Depression",
         "marker": {
          "color": "#ab63fa",
          "pattern": {
           "shape": ""
          }
         },
         "name": "Depression",
         "offsetgroup": "Depression",
         "orientation": "v",
         "showlegend": true,
         "textposition": "auto",
         "type": "bar",
         "x": [
          "Customer Service",
          "Education",
          "Finance",
          "Healthcare",
          "Manufacturing",
          "Marketing",
          "Professional Services",
          "Retail",
          "Technology"
         ],
         "xaxis": "x",
         "y": {
          "_inputArray": {
           "0": 21,
           "1": 35,
           "2": 59,
           "3": 23,
           "4": 39,
           "5": 23,
           "6": 99,
           "7": 27,
           "8": 60,
           "bdata": "FSM7FycXYxs8",
           "dtype": "i1",
           "shape": "9"
          },
          "bdata": "FSM7FycXYxs8",
          "dtype": "i1"
         },
         "yaxis": "y"
        },
        {
         "alignmentgroup": "True",
         "hovertemplate": "Mental_Health_Status=PTSD<br>Industry=%{x}<br>Count=%{y}<extra></extra>",
         "legendgroup": "PTSD",
         "marker": {
          "color": "#FFA15A",
          "pattern": {
           "shape": ""
          }
         },
         "name": "PTSD",
         "offsetgroup": "PTSD",
         "orientation": "v",
         "showlegend": true,
         "textposition": "auto",
         "type": "bar",
         "x": [
          "Customer Service",
          "Education",
          "Finance",
          "Healthcare",
          "Manufacturing",
          "Marketing",
          "Professional Services",
          "Retail",
          "Technology"
         ],
         "xaxis": "x",
         "y": {
          "_inputArray": {
           "0": 62,
           "1": 115,
           "2": 143,
           "3": 90,
           "4": 147,
           "5": 75,
           "6": 277,
           "7": 69,
           "8": 244,
           "bdata": "PgBzAI8AWgCTAEsAFQFFAPQA",
           "dtype": "i2",
           "shape": "9"
          },
          "bdata": "PgBzAI8AWgCTAEsAFQFFAPQA",
          "dtype": "i2"
         },
         "yaxis": "y"
        },
        {
         "alignmentgroup": "True",
         "hovertemplate": "Mental_Health_Status=Stress Disorder<br>Industry=%{x}<br>Count=%{y}<extra></extra>",
         "legendgroup": "Stress Disorder",
         "marker": {
          "color": "#19d3f3",
          "pattern": {
           "shape": ""
          }
         },
         "name": "Stress Disorder",
         "offsetgroup": "Stress Disorder",
         "orientation": "v",
         "showlegend": true,
         "textposition": "auto",
         "type": "bar",
         "x": [
          "Customer Service",
          "Education",
          "Finance",
          "Healthcare",
          "Manufacturing",
          "Marketing",
          "Professional Services",
          "Retail",
          "Technology"
         ],
         "xaxis": "x",
         "y": {
          "_inputArray": {
           "0": 23,
           "1": 32,
           "2": 42,
           "3": 31,
           "4": 37,
           "5": 27,
           "6": 95,
           "7": 16,
           "8": 75,
           "bdata": "FyAqHyUbXxBL",
           "dtype": "i1",
           "shape": "9"
          },
          "bdata": "FyAqHyUbXxBL",
          "dtype": "i1"
         },
         "yaxis": "y"
        }
       ],
       "layout": {
        "autosize": true,
        "barmode": "group",
        "legend": {
         "title": {
          "text": "Mental_Health_Status"
         },
         "tracegroupgap": 0
        },
        "template": {
         "data": {
          "bar": [
           {
            "error_x": {
             "color": "#2a3f5f"
            },
            "error_y": {
             "color": "#2a3f5f"
            },
            "marker": {
             "line": {
              "color": "#E5ECF6",
              "width": 0.5
             },
             "pattern": {
              "fillmode": "overlay",
              "size": 10,
              "solidity": 0.2
             }
            },
            "type": "bar"
           }
          ],
          "barpolar": [
           {
            "marker": {
             "line": {
              "color": "#E5ECF6",
              "width": 0.5
             },
             "pattern": {
              "fillmode": "overlay",
              "size": 10,
              "solidity": 0.2
             }
            },
            "type": "barpolar"
           }
          ],
          "carpet": [
           {
            "aaxis": {
             "endlinecolor": "#2a3f5f",
             "gridcolor": "white",
             "linecolor": "white",
             "minorgridcolor": "white",
             "startlinecolor": "#2a3f5f"
            },
            "baxis": {
             "endlinecolor": "#2a3f5f",
             "gridcolor": "white",
             "linecolor": "white",
             "minorgridcolor": "white",
             "startlinecolor": "#2a3f5f"
            },
            "type": "carpet"
           }
          ],
          "choropleth": [
           {
            "colorbar": {
             "outlinewidth": 0,
             "ticks": ""
            },
            "type": "choropleth"
           }
          ],
          "contour": [
           {
            "colorbar": {
             "outlinewidth": 0,
             "ticks": ""
            },
            "colorscale": [
             [
              0,
              "#0d0887"
             ],
             [
              0.1111111111111111,
              "#46039f"
             ],
             [
              0.2222222222222222,
              "#7201a8"
             ],
             [
              0.3333333333333333,
              "#9c179e"
             ],
             [
              0.4444444444444444,
              "#bd3786"
             ],
             [
              0.5555555555555556,
              "#d8576b"
             ],
             [
              0.6666666666666666,
              "#ed7953"
             ],
             [
              0.7777777777777778,
              "#fb9f3a"
             ],
             [
              0.8888888888888888,
              "#fdca26"
             ],
             [
              1,
              "#f0f921"
             ]
            ],
            "type": "contour"
           }
          ],
          "contourcarpet": [
           {
            "colorbar": {
             "outlinewidth": 0,
             "ticks": ""
            },
            "type": "contourcarpet"
           }
          ],
          "heatmap": [
           {
            "colorbar": {
             "outlinewidth": 0,
             "ticks": ""
            },
            "colorscale": [
             [
              0,
              "#0d0887"
             ],
             [
              0.1111111111111111,
              "#46039f"
             ],
             [
              0.2222222222222222,
              "#7201a8"
             ],
             [
              0.3333333333333333,
              "#9c179e"
             ],
             [
              0.4444444444444444,
              "#bd3786"
             ],
             [
              0.5555555555555556,
              "#d8576b"
             ],
             [
              0.6666666666666666,
              "#ed7953"
             ],
             [
              0.7777777777777778,
              "#fb9f3a"
             ],
             [
              0.8888888888888888,
              "#fdca26"
             ],
             [
              1,
              "#f0f921"
             ]
            ],
            "type": "heatmap"
           }
          ],
          "histogram": [
           {
            "marker": {
             "pattern": {
              "fillmode": "overlay",
              "size": 10,
              "solidity": 0.2
             }
            },
            "type": "histogram"
           }
          ],
          "histogram2d": [
           {
            "colorbar": {
             "outlinewidth": 0,
             "ticks": ""
            },
            "colorscale": [
             [
              0,
              "#0d0887"
             ],
             [
              0.1111111111111111,
              "#46039f"
             ],
             [
              0.2222222222222222,
              "#7201a8"
             ],
             [
              0.3333333333333333,
              "#9c179e"
             ],
             [
              0.4444444444444444,
              "#bd3786"
             ],
             [
              0.5555555555555556,
              "#d8576b"
             ],
             [
              0.6666666666666666,
              "#ed7953"
             ],
             [
              0.7777777777777778,
              "#fb9f3a"
             ],
             [
              0.8888888888888888,
              "#fdca26"
             ],
             [
              1,
              "#f0f921"
             ]
            ],
            "type": "histogram2d"
           }
          ],
          "histogram2dcontour": [
           {
            "colorbar": {
             "outlinewidth": 0,
             "ticks": ""
            },
            "colorscale": [
             [
              0,
              "#0d0887"
             ],
             [
              0.1111111111111111,
              "#46039f"
             ],
             [
              0.2222222222222222,
              "#7201a8"
             ],
             [
              0.3333333333333333,
              "#9c179e"
             ],
             [
              0.4444444444444444,
              "#bd3786"
             ],
             [
              0.5555555555555556,
              "#d8576b"
             ],
             [
              0.6666666666666666,
              "#ed7953"
             ],
             [
              0.7777777777777778,
              "#fb9f3a"
             ],
             [
              0.8888888888888888,
              "#fdca26"
             ],
             [
              1,
              "#f0f921"
             ]
            ],
            "type": "histogram2dcontour"
           }
          ],
          "mesh3d": [
           {
            "colorbar": {
             "outlinewidth": 0,
             "ticks": ""
            },
            "type": "mesh3d"
           }
          ],
          "parcoords": [
           {
            "line": {
             "colorbar": {
              "outlinewidth": 0,
              "ticks": ""
             }
            },
            "type": "parcoords"
           }
          ],
          "pie": [
           {
            "automargin": true,
            "type": "pie"
           }
          ],
          "scatter": [
           {
            "fillpattern": {
             "fillmode": "overlay",
             "size": 10,
             "solidity": 0.2
            },
            "type": "scatter"
           }
          ],
          "scatter3d": [
           {
            "line": {
             "colorbar": {
              "outlinewidth": 0,
              "ticks": ""
             }
            },
            "marker": {
             "colorbar": {
              "outlinewidth": 0,
              "ticks": ""
             }
            },
            "type": "scatter3d"
           }
          ],
          "scattercarpet": [
           {
            "marker": {
             "colorbar": {
              "outlinewidth": 0,
              "ticks": ""
             }
            },
            "type": "scattercarpet"
           }
          ],
          "scattergeo": [
           {
            "marker": {
             "colorbar": {
              "outlinewidth": 0,
              "ticks": ""
             }
            },
            "type": "scattergeo"
           }
          ],
          "scattergl": [
           {
            "marker": {
             "colorbar": {
              "outlinewidth": 0,
              "ticks": ""
             }
            },
            "type": "scattergl"
           }
          ],
          "scattermap": [
           {
            "marker": {
             "colorbar": {
              "outlinewidth": 0,
              "ticks": ""
             }
            },
            "type": "scattermap"
           }
          ],
          "scattermapbox": [
           {
            "marker": {
             "colorbar": {
              "outlinewidth": 0,
              "ticks": ""
             }
            },
            "type": "scattermapbox"
           }
          ],
          "scatterpolar": [
           {
            "marker": {
             "colorbar": {
              "outlinewidth": 0,
              "ticks": ""
             }
            },
            "type": "scatterpolar"
           }
          ],
          "scatterpolargl": [
           {
            "marker": {
             "colorbar": {
              "outlinewidth": 0,
              "ticks": ""
             }
            },
            "type": "scatterpolargl"
           }
          ],
          "scatterternary": [
           {
            "marker": {
             "colorbar": {
              "outlinewidth": 0,
              "ticks": ""
             }
            },
            "type": "scatterternary"
           }
          ],
          "surface": [
           {
            "colorbar": {
             "outlinewidth": 0,
             "ticks": ""
            },
            "colorscale": [
             [
              0,
              "#0d0887"
             ],
             [
              0.1111111111111111,
              "#46039f"
             ],
             [
              0.2222222222222222,
              "#7201a8"
             ],
             [
              0.3333333333333333,
              "#9c179e"
             ],
             [
              0.4444444444444444,
              "#bd3786"
             ],
             [
              0.5555555555555556,
              "#d8576b"
             ],
             [
              0.6666666666666666,
              "#ed7953"
             ],
             [
              0.7777777777777778,
              "#fb9f3a"
             ],
             [
              0.8888888888888888,
              "#fdca26"
             ],
             [
              1,
              "#f0f921"
             ]
            ],
            "type": "surface"
           }
          ],
          "table": [
           {
            "cells": {
             "fill": {
              "color": "#EBF0F8"
             },
             "line": {
              "color": "white"
             }
            },
            "header": {
             "fill": {
              "color": "#C8D4E3"
             },
             "line": {
              "color": "white"
             }
            },
            "type": "table"
           }
          ]
         },
         "layout": {
          "annotationdefaults": {
           "arrowcolor": "#2a3f5f",
           "arrowhead": 0,
           "arrowwidth": 1
          },
          "autotypenumbers": "strict",
          "coloraxis": {
           "colorbar": {
            "outlinewidth": 0,
            "ticks": ""
           }
          },
          "colorscale": {
           "diverging": [
            [
             0,
             "#8e0152"
            ],
            [
             0.1,
             "#c51b7d"
            ],
            [
             0.2,
             "#de77ae"
            ],
            [
             0.3,
             "#f1b6da"
            ],
            [
             0.4,
             "#fde0ef"
            ],
            [
             0.5,
             "#f7f7f7"
            ],
            [
             0.6,
             "#e6f5d0"
            ],
            [
             0.7,
             "#b8e186"
            ],
            [
             0.8,
             "#7fbc41"
            ],
            [
             0.9,
             "#4d9221"
            ],
            [
             1,
             "#276419"
            ]
           ],
           "sequential": [
            [
             0,
             "#0d0887"
            ],
            [
             0.1111111111111111,
             "#46039f"
            ],
            [
             0.2222222222222222,
             "#7201a8"
            ],
            [
             0.3333333333333333,
             "#9c179e"
            ],
            [
             0.4444444444444444,
             "#bd3786"
            ],
            [
             0.5555555555555556,
             "#d8576b"
            ],
            [
             0.6666666666666666,
             "#ed7953"
            ],
            [
             0.7777777777777778,
             "#fb9f3a"
            ],
            [
             0.8888888888888888,
             "#fdca26"
            ],
            [
             1,
             "#f0f921"
            ]
           ],
           "sequentialminus": [
            [
             0,
             "#0d0887"
            ],
            [
             0.1111111111111111,
             "#46039f"
            ],
            [
             0.2222222222222222,
             "#7201a8"
            ],
            [
             0.3333333333333333,
             "#9c179e"
            ],
            [
             0.4444444444444444,
             "#bd3786"
            ],
            [
             0.5555555555555556,
             "#d8576b"
            ],
            [
             0.6666666666666666,
             "#ed7953"
            ],
            [
             0.7777777777777778,
             "#fb9f3a"
            ],
            [
             0.8888888888888888,
             "#fdca26"
            ],
            [
             1,
             "#f0f921"
            ]
           ]
          },
          "colorway": [
           "#636efa",
           "#EF553B",
           "#00cc96",
           "#ab63fa",
           "#FFA15A",
           "#19d3f3",
           "#FF6692",
           "#B6E880",
           "#FF97FF",
           "#FECB52"
          ],
          "font": {
           "color": "#2a3f5f"
          },
          "geo": {
           "bgcolor": "white",
           "lakecolor": "white",
           "landcolor": "#E5ECF6",
           "showlakes": true,
           "showland": true,
           "subunitcolor": "white"
          },
          "hoverlabel": {
           "align": "left"
          },
          "hovermode": "closest",
          "mapbox": {
           "style": "light"
          },
          "paper_bgcolor": "white",
          "plot_bgcolor": "#E5ECF6",
          "polar": {
           "angularaxis": {
            "gridcolor": "white",
            "linecolor": "white",
            "ticks": ""
           },
           "bgcolor": "#E5ECF6",
           "radialaxis": {
            "gridcolor": "white",
            "linecolor": "white",
            "ticks": ""
           }
          },
          "scene": {
           "xaxis": {
            "backgroundcolor": "#E5ECF6",
            "gridcolor": "white",
            "gridwidth": 2,
            "linecolor": "white",
            "showbackground": true,
            "ticks": "",
            "zerolinecolor": "white"
           },
           "yaxis": {
            "backgroundcolor": "#E5ECF6",
            "gridcolor": "white",
            "gridwidth": 2,
            "linecolor": "white",
            "showbackground": true,
            "ticks": "",
            "zerolinecolor": "white"
           },
           "zaxis": {
            "backgroundcolor": "#E5ECF6",
            "gridcolor": "white",
            "gridwidth": 2,
            "linecolor": "white",
            "showbackground": true,
            "ticks": "",
            "zerolinecolor": "white"
           }
          },
          "shapedefaults": {
           "line": {
            "color": "#2a3f5f"
           }
          },
          "ternary": {
           "aaxis": {
            "gridcolor": "white",
            "linecolor": "white",
            "ticks": ""
           },
           "baxis": {
            "gridcolor": "white",
            "linecolor": "white",
            "ticks": ""
           },
           "bgcolor": "#E5ECF6",
           "caxis": {
            "gridcolor": "white",
            "linecolor": "white",
            "ticks": ""
           }
          },
          "title": {
           "x": 0.05
          },
          "xaxis": {
           "automargin": true,
           "gridcolor": "white",
           "linecolor": "white",
           "ticks": "",
           "title": {
            "standoff": 15
           },
           "zerolinecolor": "white",
           "zerolinewidth": 2
          },
          "yaxis": {
           "automargin": true,
           "gridcolor": "white",
           "linecolor": "white",
           "ticks": "",
           "title": {
            "standoff": 15
           },
           "zerolinecolor": "white",
           "zerolinewidth": 2
          }
         }
        },
        "title": {
         "text": "Industry vs Mental Health Status",
         "x": 0.5
        },
        "xaxis": {
         "anchor": "y",
         "autorange": true,
         "domain": [
          0,
          1
         ],
         "range": [
          -0.5,
          8.5
         ],
         "title": {
          "text": "Industry"
         },
         "type": "category"
        },
        "yaxis": {
         "anchor": "x",
         "autorange": true,
         "domain": [
          0,
          1
         ],
         "range": [
          0,
          291.57894736842104
         ],
         "title": {
          "text": "Count"
         },
         "type": "linear"
        }
       }
      },
      "image/png": "[encoded data removed]"
     },
     "metadata": {},
     "output_type": "display_data"
    }
   ],
   "source": [
    "#Industry vs Mental Health Status \n",
    "fig = px.bar(industry_mental_health,x='Industry',y='Count',color='Mental_Health_Status',barmode='group',\n",
    "                title='Industry vs Mental Health Status'\n",
    "            )\n",
    "fig.update_layout(title_x=0.5)\n",
    "fig.show()"
   ]
  },
  {
   "cell_type": "code",
   "execution_count": 27,
   "id": "5a2d87f3-a643-46c2-b094-b44a3f4a54da",
   "metadata": {},
   "outputs": [
    {
     "data": {
      "text/html": [
       "<div>\n",
       "<style scoped>\n",
       "    .dataframe tbody tr th:only-of-type {\n",
       "        vertical-align: middle;\n",
       "    }\n",
       "\n",
       "    .dataframe tbody tr th {\n",
       "        vertical-align: top;\n",
       "    }\n",
       "\n",
       "    .dataframe thead th {\n",
       "        text-align: right;\n",
       "    }\n",
       "</style>\n",
       "<table border=\"1\" class=\"dataframe\">\n",
       "  <thead>\n",
       "    <tr style=\"text-align: right;\">\n",
       "      <th></th>\n",
       "      <th>Region</th>\n",
       "      <th>Burnout_Level</th>\n",
       "      <th>Count</th>\n",
       "    </tr>\n",
       "  </thead>\n",
       "  <tbody>\n",
       "    <tr>\n",
       "      <th>0</th>\n",
       "      <td>Africa</td>\n",
       "      <td>High</td>\n",
       "      <td>166</td>\n",
       "    </tr>\n",
       "    <tr>\n",
       "      <th>1</th>\n",
       "      <td>Africa</td>\n",
       "      <td>Low</td>\n",
       "      <td>128</td>\n",
       "    </tr>\n",
       "    <tr>\n",
       "      <th>2</th>\n",
       "      <td>Africa</td>\n",
       "      <td>Medium</td>\n",
       "      <td>238</td>\n",
       "    </tr>\n",
       "    <tr>\n",
       "      <th>3</th>\n",
       "      <td>Asia</td>\n",
       "      <td>High</td>\n",
       "      <td>176</td>\n",
       "    </tr>\n",
       "    <tr>\n",
       "      <th>4</th>\n",
       "      <td>Asia</td>\n",
       "      <td>Low</td>\n",
       "      <td>110</td>\n",
       "    </tr>\n",
       "    <tr>\n",
       "      <th>5</th>\n",
       "      <td>Asia</td>\n",
       "      <td>Medium</td>\n",
       "      <td>231</td>\n",
       "    </tr>\n",
       "    <tr>\n",
       "      <th>6</th>\n",
       "      <td>Europe</td>\n",
       "      <td>High</td>\n",
       "      <td>169</td>\n",
       "    </tr>\n",
       "    <tr>\n",
       "      <th>7</th>\n",
       "      <td>Europe</td>\n",
       "      <td>Low</td>\n",
       "      <td>132</td>\n",
       "    </tr>\n",
       "    <tr>\n",
       "      <th>8</th>\n",
       "      <td>Europe</td>\n",
       "      <td>Medium</td>\n",
       "      <td>212</td>\n",
       "    </tr>\n",
       "    <tr>\n",
       "      <th>9</th>\n",
       "      <td>North America</td>\n",
       "      <td>High</td>\n",
       "      <td>158</td>\n",
       "    </tr>\n",
       "    <tr>\n",
       "      <th>10</th>\n",
       "      <td>North America</td>\n",
       "      <td>Low</td>\n",
       "      <td>126</td>\n",
       "    </tr>\n",
       "    <tr>\n",
       "      <th>11</th>\n",
       "      <td>North America</td>\n",
       "      <td>Medium</td>\n",
       "      <td>213</td>\n",
       "    </tr>\n",
       "    <tr>\n",
       "      <th>12</th>\n",
       "      <td>Oceania</td>\n",
       "      <td>High</td>\n",
       "      <td>174</td>\n",
       "    </tr>\n",
       "    <tr>\n",
       "      <th>13</th>\n",
       "      <td>Oceania</td>\n",
       "      <td>Low</td>\n",
       "      <td>126</td>\n",
       "    </tr>\n",
       "    <tr>\n",
       "      <th>14</th>\n",
       "      <td>Oceania</td>\n",
       "      <td>Medium</td>\n",
       "      <td>223</td>\n",
       "    </tr>\n",
       "    <tr>\n",
       "      <th>15</th>\n",
       "      <td>South America</td>\n",
       "      <td>High</td>\n",
       "      <td>203</td>\n",
       "    </tr>\n",
       "    <tr>\n",
       "      <th>16</th>\n",
       "      <td>South America</td>\n",
       "      <td>Low</td>\n",
       "      <td>123</td>\n",
       "    </tr>\n",
       "    <tr>\n",
       "      <th>17</th>\n",
       "      <td>South America</td>\n",
       "      <td>Medium</td>\n",
       "      <td>249</td>\n",
       "    </tr>\n",
       "  </tbody>\n",
       "</table>\n",
       "</div>"
      ],
      "text/plain": [
       "           Region Burnout_Level  Count\n",
       "0          Africa          High    166\n",
       "1          Africa           Low    128\n",
       "2          Africa        Medium    238\n",
       "3            Asia          High    176\n",
       "4            Asia           Low    110\n",
       "5            Asia        Medium    231\n",
       "6          Europe          High    169\n",
       "7          Europe           Low    132\n",
       "8          Europe        Medium    212\n",
       "9   North America          High    158\n",
       "10  North America           Low    126\n",
       "11  North America        Medium    213\n",
       "12        Oceania          High    174\n",
       "13        Oceania           Low    126\n",
       "14        Oceania        Medium    223\n",
       "15  South America          High    203\n",
       "16  South America           Low    123\n",
       "17  South America        Medium    249"
      ]
     },
     "execution_count": 27,
     "metadata": {},
     "output_type": "execute_result"
    }
   ],
   "source": [
    "# Region vs Burnout Level\n",
    "region_burnout = df.groupby(['Region', 'Burnout_Level']).size().reset_index(name='Count')\n",
    "region_burnout\n",
    "\n"
   ]
  },
  {
   "cell_type": "code",
   "execution_count": 28,
   "id": "914b6be4-6e70-4b0e-b541-e4f5af8c2fc9",
   "metadata": {},
   "outputs": [
    {
     "data": {
      "application/vnd.plotly.v1+json": {
       "config": {
        "plotlyServerURL": "https://plot.ly"
       },
       "data": [
        {
         "alignmentgroup": "True",
         "hovertemplate": "Burnout_Level=High<br>Region=%{x}<br>Count=%{y}<extra></extra>",
         "legendgroup": "High",
         "marker": {
          "color": "#636efa",
          "pattern": {
           "shape": ""
          }
         },
         "name": "High",
         "offsetgroup": "High",
         "orientation": "v",
         "showlegend": true,
         "textposition": "auto",
         "type": "bar",
         "x": [
          "Africa",
          "Asia",
          "Europe",
          "North America",
          "Oceania",
          "South America"
         ],
         "xaxis": "x",
         "y": {
          "_inputArray": {
           "0": 166,
           "1": 176,
           "2": 169,
           "3": 158,
           "4": 174,
           "5": 203,
           "bdata": "pgCwAKkAngCuAMsA",
           "dtype": "i2",
           "shape": "6"
          },
          "bdata": "pgCwAKkAngCuAMsA",
          "dtype": "i2"
         },
         "yaxis": "y"
        },
        {
         "alignmentgroup": "True",
         "hovertemplate": "Burnout_Level=Low<br>Region=%{x}<br>Count=%{y}<extra></extra>",
         "legendgroup": "Low",
         "marker": {
          "color": "#EF553B",
          "pattern": {
           "shape": ""
          }
         },
         "name": "Low",
         "offsetgroup": "Low",
         "orientation": "v",
         "showlegend": true,
         "textposition": "auto",
         "type": "bar",
         "x": [
          "Africa",
          "Asia",
          "Europe",
          "North America",
          "Oceania",
          "South America"
         ],
         "xaxis": "x",
         "y": {
          "_inputArray": {
           "0": 128,
           "1": 110,
           "2": 132,
           "3": 126,
           "4": 126,
           "5": 123,
           "bdata": "gABuAIQAfgB+AHsA",
           "dtype": "i2",
           "shape": "6"
          },
          "bdata": "gABuAIQAfgB+AHsA",
          "dtype": "i2"
         },
         "yaxis": "y"
        },
        {
         "alignmentgroup": "True",
         "hovertemplate": "Burnout_Level=Medium<br>Region=%{x}<br>Count=%{y}<extra></extra>",
         "legendgroup": "Medium",
         "marker": {
          "color": "#00cc96",
          "pattern": {
           "shape": ""
          }
         },
         "name": "Medium",
         "offsetgroup": "Medium",
         "orientation": "v",
         "showlegend": true,
         "textposition": "auto",
         "type": "bar",
         "x": [
          "Africa",
          "Asia",
          "Europe",
          "North America",
          "Oceania",
          "South America"
         ],
         "xaxis": "x",
         "y": {
          "_inputArray": {
           "0": 238,
           "1": 231,
           "2": 212,
           "3": 213,
           "4": 223,
           "5": 249,
           "bdata": "7gDnANQA1QDfAPkA",
           "dtype": "i2",
           "shape": "6"
          },
          "bdata": "7gDnANQA1QDfAPkA",
          "dtype": "i2"
         },
         "yaxis": "y"
        }
       ],
       "layout": {
        "autosize": true,
        "barmode": "group",
        "legend": {
         "title": {
          "text": "Burnout_Level"
         },
         "tracegroupgap": 0
        },
        "template": {
         "data": {
          "bar": [
           {
            "error_x": {
             "color": "#2a3f5f"
            },
            "error_y": {
             "color": "#2a3f5f"
            },
            "marker": {
             "line": {
              "color": "#E5ECF6",
              "width": 0.5
             },
             "pattern": {
              "fillmode": "overlay",
              "size": 10,
              "solidity": 0.2
             }
            },
            "type": "bar"
           }
          ],
          "barpolar": [
           {
            "marker": {
             "line": {
              "color": "#E5ECF6",
              "width": 0.5
             },
             "pattern": {
              "fillmode": "overlay",
              "size": 10,
              "solidity": 0.2
             }
            },
            "type": "barpolar"
           }
          ],
          "carpet": [
           {
            "aaxis": {
             "endlinecolor": "#2a3f5f",
             "gridcolor": "white",
             "linecolor": "white",
             "minorgridcolor": "white",
             "startlinecolor": "#2a3f5f"
            },
            "baxis": {
             "endlinecolor": "#2a3f5f",
             "gridcolor": "white",
             "linecolor": "white",
             "minorgridcolor": "white",
             "startlinecolor": "#2a3f5f"
            },
            "type": "carpet"
           }
          ],
          "choropleth": [
           {
            "colorbar": {
             "outlinewidth": 0,
             "ticks": ""
            },
            "type": "choropleth"
           }
          ],
          "contour": [
           {
            "colorbar": {
             "outlinewidth": 0,
             "ticks": ""
            },
            "colorscale": [
             [
              0,
              "#0d0887"
             ],
             [
              0.1111111111111111,
              "#46039f"
             ],
             [
              0.2222222222222222,
              "#7201a8"
             ],
             [
              0.3333333333333333,
              "#9c179e"
             ],
             [
              0.4444444444444444,
              "#bd3786"
             ],
             [
              0.5555555555555556,
              "#d8576b"
             ],
             [
              0.6666666666666666,
              "#ed7953"
             ],
             [
              0.7777777777777778,
              "#fb9f3a"
             ],
             [
              0.8888888888888888,
              "#fdca26"
             ],
             [
              1,
              "#f0f921"
             ]
            ],
            "type": "contour"
           }
          ],
          "contourcarpet": [
           {
            "colorbar": {
             "outlinewidth": 0,
             "ticks": ""
            },
            "type": "contourcarpet"
           }
          ],
          "heatmap": [
           {
            "colorbar": {
             "outlinewidth": 0,
             "ticks": ""
            },
            "colorscale": [
             [
              0,
              "#0d0887"
             ],
             [
              0.1111111111111111,
              "#46039f"
             ],
             [
              0.2222222222222222,
              "#7201a8"
             ],
             [
              0.3333333333333333,
              "#9c179e"
             ],
             [
              0.4444444444444444,
              "#bd3786"
             ],
             [
              0.5555555555555556,
              "#d8576b"
             ],
             [
              0.6666666666666666,
              "#ed7953"
             ],
             [
              0.7777777777777778,
              "#fb9f3a"
             ],
             [
              0.8888888888888888,
              "#fdca26"
             ],
             [
              1,
              "#f0f921"
             ]
            ],
            "type": "heatmap"
           }
          ],
          "histogram": [
           {
            "marker": {
             "pattern": {
              "fillmode": "overlay",
              "size": 10,
              "solidity": 0.2
             }
            },
            "type": "histogram"
           }
          ],
          "histogram2d": [
           {
            "colorbar": {
             "outlinewidth": 0,
             "ticks": ""
            },
            "colorscale": [
             [
              0,
              "#0d0887"
             ],
             [
              0.1111111111111111,
              "#46039f"
             ],
             [
              0.2222222222222222,
              "#7201a8"
             ],
             [
              0.3333333333333333,
              "#9c179e"
             ],
             [
              0.4444444444444444,
              "#bd3786"
             ],
             [
              0.5555555555555556,
              "#d8576b"
             ],
             [
              0.6666666666666666,
              "#ed7953"
             ],
             [
              0.7777777777777778,
              "#fb9f3a"
             ],
             [
              0.8888888888888888,
              "#fdca26"
             ],
             [
              1,
              "#f0f921"
             ]
            ],
            "type": "histogram2d"
           }
          ],
          "histogram2dcontour": [
           {
            "colorbar": {
             "outlinewidth": 0,
             "ticks": ""
            },
            "colorscale": [
             [
              0,
              "#0d0887"
             ],
             [
              0.1111111111111111,
              "#46039f"
             ],
             [
              0.2222222222222222,
              "#7201a8"
             ],
             [
              0.3333333333333333,
              "#9c179e"
             ],
             [
              0.4444444444444444,
              "#bd3786"
             ],
             [
              0.5555555555555556,
              "#d8576b"
             ],
             [
              0.6666666666666666,
              "#ed7953"
             ],
             [
              0.7777777777777778,
              "#fb9f3a"
             ],
             [
              0.8888888888888888,
              "#fdca26"
             ],
             [
              1,
              "#f0f921"
             ]
            ],
            "type": "histogram2dcontour"
           }
          ],
          "mesh3d": [
           {
            "colorbar": {
             "outlinewidth": 0,
             "ticks": ""
            },
            "type": "mesh3d"
           }
          ],
          "parcoords": [
           {
            "line": {
             "colorbar": {
              "outlinewidth": 0,
              "ticks": ""
             }
            },
            "type": "parcoords"
           }
          ],
          "pie": [
           {
            "automargin": true,
            "type": "pie"
           }
          ],
          "scatter": [
           {
            "fillpattern": {
             "fillmode": "overlay",
             "size": 10,
             "solidity": 0.2
            },
            "type": "scatter"
           }
          ],
          "scatter3d": [
           {
            "line": {
             "colorbar": {
              "outlinewidth": 0,
              "ticks": ""
             }
            },
            "marker": {
             "colorbar": {
              "outlinewidth": 0,
              "ticks": ""
             }
            },
            "type": "scatter3d"
           }
          ],
          "scattercarpet": [
           {
            "marker": {
             "colorbar": {
              "outlinewidth": 0,
              "ticks": ""
             }
            },
            "type": "scattercarpet"
           }
          ],
          "scattergeo": [
           {
            "marker": {
             "colorbar": {
              "outlinewidth": 0,
              "ticks": ""
             }
            },
            "type": "scattergeo"
           }
          ],
          "scattergl": [
           {
            "marker": {
             "colorbar": {
              "outlinewidth": 0,
              "ticks": ""
             }
            },
            "type": "scattergl"
           }
          ],
          "scattermap": [
           {
            "marker": {
             "colorbar": {
              "outlinewidth": 0,
              "ticks": ""
             }
            },
            "type": "scattermap"
           }
          ],
          "scattermapbox": [
           {
            "marker": {
             "colorbar": {
              "outlinewidth": 0,
              "ticks": ""
             }
            },
            "type": "scattermapbox"
           }
          ],
          "scatterpolar": [
           {
            "marker": {
             "colorbar": {
              "outlinewidth": 0,
              "ticks": ""
             }
            },
            "type": "scatterpolar"
           }
          ],
          "scatterpolargl": [
           {
            "marker": {
             "colorbar": {
              "outlinewidth": 0,
              "ticks": ""
             }
            },
            "type": "scatterpolargl"
           }
          ],
          "scatterternary": [
           {
            "marker": {
             "colorbar": {
              "outlinewidth": 0,
              "ticks": ""
             }
            },
            "type": "scatterternary"
           }
          ],
          "surface": [
           {
            "colorbar": {
             "outlinewidth": 0,
             "ticks": ""
            },
            "colorscale": [
             [
              0,
              "#0d0887"
             ],
             [
              0.1111111111111111,
              "#46039f"
             ],
             [
              0.2222222222222222,
              "#7201a8"
             ],
             [
              0.3333333333333333,
              "#9c179e"
             ],
             [
              0.4444444444444444,
              "#bd3786"
             ],
             [
              0.5555555555555556,
              "#d8576b"
             ],
             [
              0.6666666666666666,
              "#ed7953"
             ],
             [
              0.7777777777777778,
              "#fb9f3a"
             ],
             [
              0.8888888888888888,
              "#fdca26"
             ],
             [
              1,
              "#f0f921"
             ]
            ],
            "type": "surface"
           }
          ],
          "table": [
           {
            "cells": {
             "fill": {
              "color": "#EBF0F8"
             },
             "line": {
              "color": "white"
             }
            },
            "header": {
             "fill": {
              "color": "#C8D4E3"
             },
             "line": {
              "color": "white"
             }
            },
            "type": "table"
           }
          ]
         },
         "layout": {
          "annotationdefaults": {
           "arrowcolor": "#2a3f5f",
           "arrowhead": 0,
           "arrowwidth": 1
          },
          "autotypenumbers": "strict",
          "coloraxis": {
           "colorbar": {
            "outlinewidth": 0,
            "ticks": ""
           }
          },
          "colorscale": {
           "diverging": [
            [
             0,
             "#8e0152"
            ],
            [
             0.1,
             "#c51b7d"
            ],
            [
             0.2,
             "#de77ae"
            ],
            [
             0.3,
             "#f1b6da"
            ],
            [
             0.4,
             "#fde0ef"
            ],
            [
             0.5,
             "#f7f7f7"
            ],
            [
             0.6,
             "#e6f5d0"
            ],
            [
             0.7,
             "#b8e186"
            ],
            [
             0.8,
             "#7fbc41"
            ],
            [
             0.9,
             "#4d9221"
            ],
            [
             1,
             "#276419"
            ]
           ],
           "sequential": [
            [
             0,
             "#0d0887"
            ],
            [
             0.1111111111111111,
             "#46039f"
            ],
            [
             0.2222222222222222,
             "#7201a8"
            ],
            [
             0.3333333333333333,
             "#9c179e"
            ],
            [
             0.4444444444444444,
             "#bd3786"
            ],
            [
             0.5555555555555556,
             "#d8576b"
            ],
            [
             0.6666666666666666,
             "#ed7953"
            ],
            [
             0.7777777777777778,
             "#fb9f3a"
            ],
            [
             0.8888888888888888,
             "#fdca26"
            ],
            [
             1,
             "#f0f921"
            ]
           ],
           "sequentialminus": [
            [
             0,
             "#0d0887"
            ],
            [
             0.1111111111111111,
             "#46039f"
            ],
            [
             0.2222222222222222,
             "#7201a8"
            ],
            [
             0.3333333333333333,
             "#9c179e"
            ],
            [
             0.4444444444444444,
             "#bd3786"
            ],
            [
             0.5555555555555556,
             "#d8576b"
            ],
            [
             0.6666666666666666,
             "#ed7953"
            ],
            [
             0.7777777777777778,
             "#fb9f3a"
            ],
            [
             0.8888888888888888,
             "#fdca26"
            ],
            [
             1,
             "#f0f921"
            ]
           ]
          },
          "colorway": [
           "#636efa",
           "#EF553B",
           "#00cc96",
           "#ab63fa",
           "#FFA15A",
           "#19d3f3",
           "#FF6692",
           "#B6E880",
           "#FF97FF",
           "#FECB52"
          ],
          "font": {
           "color": "#2a3f5f"
          },
          "geo": {
           "bgcolor": "white",
           "lakecolor": "white",
           "landcolor": "#E5ECF6",
           "showlakes": true,
           "showland": true,
           "subunitcolor": "white"
          },
          "hoverlabel": {
           "align": "left"
          },
          "hovermode": "closest",
          "mapbox": {
           "style": "light"
          },
          "paper_bgcolor": "white",
          "plot_bgcolor": "#E5ECF6",
          "polar": {
           "angularaxis": {
            "gridcolor": "white",
            "linecolor": "white",
            "ticks": ""
           },
           "bgcolor": "#E5ECF6",
           "radialaxis": {
            "gridcolor": "white",
            "linecolor": "white",
            "ticks": ""
           }
          },
          "scene": {
           "xaxis": {
            "backgroundcolor": "#E5ECF6",
            "gridcolor": "white",
            "gridwidth": 2,
            "linecolor": "white",
            "showbackground": true,
            "ticks": "",
            "zerolinecolor": "white"
           },
           "yaxis": {
            "backgroundcolor": "#E5ECF6",
            "gridcolor": "white",
            "gridwidth": 2,
            "linecolor": "white",
            "showbackground": true,
            "ticks": "",
            "zerolinecolor": "white"
           },
           "zaxis": {
            "backgroundcolor": "#E5ECF6",
            "gridcolor": "white",
            "gridwidth": 2,
            "linecolor": "white",
            "showbackground": true,
            "ticks": "",
            "zerolinecolor": "white"
           }
          },
          "shapedefaults": {
           "line": {
            "color": "#2a3f5f"
           }
          },
          "ternary": {
           "aaxis": {
            "gridcolor": "white",
            "linecolor": "white",
            "ticks": ""
           },
           "baxis": {
            "gridcolor": "white",
            "linecolor": "white",
            "ticks": ""
           },
           "bgcolor": "#E5ECF6",
           "caxis": {
            "gridcolor": "white",
            "linecolor": "white",
            "ticks": ""
           }
          },
          "title": {
           "x": 0.05
          },
          "xaxis": {
           "automargin": true,
           "gridcolor": "white",
           "linecolor": "white",
           "ticks": "",
           "title": {
            "standoff": 15
           },
           "zerolinecolor": "white",
           "zerolinewidth": 2
          },
          "yaxis": {
           "automargin": true,
           "gridcolor": "white",
           "linecolor": "white",
           "ticks": "",
           "title": {
            "standoff": 15
           },
           "zerolinecolor": "white",
           "zerolinewidth": 2
          }
         }
        },
        "title": {
         "text": "Region vs Burnout Level",
         "x": 0.5
        },
        "xaxis": {
         "anchor": "y",
         "autorange": true,
         "domain": [
          0,
          1
         ],
         "range": [
          -0.5,
          5.5
         ],
         "title": {
          "text": "Region"
         },
         "type": "category"
        },
        "yaxis": {
         "anchor": "x",
         "autorange": true,
         "domain": [
          0,
          1
         ],
         "range": [
          0,
          262.10526315789474
         ],
         "title": {
          "text": "Count"
         },
         "type": "linear"
        }
       }
      }
     },
     "metadata": {},
     "output_type": "display_data"
    }
   ],
   "source": [
    "fig = px.bar( region_burnout, x='Region',y='Count',color='Burnout_Level',barmode='group',title='Region vs Burnout Level')\n",
    "fig.update_layout(title_x=0.5)\n",
    "fig.show()\n",
    "    "
   ]
  },
  {
   "cell_type": "code",
   "execution_count": 40,
   "id": "3ed8de66-d24d-4e96-81bb-3cf2b2968437",
   "metadata": {},
   "outputs": [
    {
     "data": {
      "text/html": [
       "<div>\n",
       "<style scoped>\n",
       "    .dataframe tbody tr th:only-of-type {\n",
       "        vertical-align: middle;\n",
       "    }\n",
       "\n",
       "    .dataframe tbody tr th {\n",
       "        vertical-align: top;\n",
       "    }\n",
       "\n",
       "    .dataframe thead th {\n",
       "        text-align: right;\n",
       "    }\n",
       "</style>\n",
       "<table border=\"1\" class=\"dataframe\">\n",
       "  <thead>\n",
       "    <tr style=\"text-align: right;\">\n",
       "      <th></th>\n",
       "      <th>Work_Arrangement</th>\n",
       "      <th>Burnout_Level</th>\n",
       "      <th>Count</th>\n",
       "    </tr>\n",
       "  </thead>\n",
       "  <tbody>\n",
       "    <tr>\n",
       "      <th>0</th>\n",
       "      <td>Hybrid</td>\n",
       "      <td>High</td>\n",
       "      <td>360</td>\n",
       "    </tr>\n",
       "    <tr>\n",
       "      <th>1</th>\n",
       "      <td>Hybrid</td>\n",
       "      <td>Low</td>\n",
       "      <td>193</td>\n",
       "    </tr>\n",
       "    <tr>\n",
       "      <th>2</th>\n",
       "      <td>Hybrid</td>\n",
       "      <td>Medium</td>\n",
       "      <td>454</td>\n",
       "    </tr>\n",
       "    <tr>\n",
       "      <th>3</th>\n",
       "      <td>Onsite</td>\n",
       "      <td>High</td>\n",
       "      <td>413</td>\n",
       "    </tr>\n",
       "    <tr>\n",
       "      <th>4</th>\n",
       "      <td>Onsite</td>\n",
       "      <td>Low</td>\n",
       "      <td>471</td>\n",
       "    </tr>\n",
       "    <tr>\n",
       "      <th>5</th>\n",
       "      <td>Onsite</td>\n",
       "      <td>Medium</td>\n",
       "      <td>678</td>\n",
       "    </tr>\n",
       "    <tr>\n",
       "      <th>6</th>\n",
       "      <td>Remote</td>\n",
       "      <td>High</td>\n",
       "      <td>273</td>\n",
       "    </tr>\n",
       "    <tr>\n",
       "      <th>7</th>\n",
       "      <td>Remote</td>\n",
       "      <td>Low</td>\n",
       "      <td>81</td>\n",
       "    </tr>\n",
       "    <tr>\n",
       "      <th>8</th>\n",
       "      <td>Remote</td>\n",
       "      <td>Medium</td>\n",
       "      <td>234</td>\n",
       "    </tr>\n",
       "  </tbody>\n",
       "</table>\n",
       "</div>"
      ],
      "text/plain": [
       "  Work_Arrangement Burnout_Level  Count\n",
       "0           Hybrid          High    360\n",
       "1           Hybrid           Low    193\n",
       "2           Hybrid        Medium    454\n",
       "3           Onsite          High    413\n",
       "4           Onsite           Low    471\n",
       "5           Onsite        Medium    678\n",
       "6           Remote          High    273\n",
       "7           Remote           Low     81\n",
       "8           Remote        Medium    234"
      ]
     },
     "execution_count": 40,
     "metadata": {},
     "output_type": "execute_result"
    }
   ],
   "source": [
    "grouped = df.groupby(['Work_Arrangement', 'Burnout_Level']).size().reset_index(name='Count')\n",
    "grouped\n",
    "\n"
   ]
  },
  {
   "cell_type": "code",
   "execution_count": 41,
   "id": "53b7304e-2c9b-4ad7-8a32-7ccd58ce0c8e",
   "metadata": {},
   "outputs": [
    {
     "data": {
      "application/vnd.plotly.v1+json": {
       "config": {
        "plotlyServerURL": "https://plot.ly"
       },
       "data": [
        {
         "customdata": [
          [
           "High"
          ],
          [
           "Low"
          ],
          [
           "Medium"
          ]
         ],
         "domain": {
          "x": [
           0,
           0.31999999999999995
          ],
          "y": [
           0,
           1
          ]
         },
         "hovertemplate": "Work_Arrangement=Hybrid<br>Burnout_Level=%{customdata[0]}<br>Count=%{value}<extra></extra>",
         "labels": [
          "High",
          "Low",
          "Medium"
         ],
         "legendgroup": "",
         "marker": {
          "colors": [
           "#636efa",
           "#EF553B",
           "#00cc96"
          ]
         },
         "name": "",
         "showlegend": true,
         "textinfo": "percent+label",
         "type": "pie",
         "values": {
          "_inputArray": {
           "0": 360,
           "1": 193,
           "2": 454,
           "bdata": "aAHBAMYB",
           "dtype": "i2",
           "shape": "3"
          },
          "bdata": "aAHBAMYB",
          "dtype": "i2"
         }
        },
        {
         "customdata": [
          [
           "High"
          ],
          [
           "Low"
          ],
          [
           "Medium"
          ]
         ],
         "domain": {
          "x": [
           0.33999999999999997,
           0.6599999999999999
          ],
          "y": [
           0,
           1
          ]
         },
         "hovertemplate": "Work_Arrangement=Onsite<br>Burnout_Level=%{customdata[0]}<br>Count=%{value}<extra></extra>",
         "labels": [
          "High",
          "Low",
          "Medium"
         ],
         "legendgroup": "",
         "marker": {
          "colors": [
           "#636efa",
           "#EF553B",
           "#00cc96"
          ]
         },
         "name": "",
         "showlegend": true,
         "textinfo": "percent+label",
         "type": "pie",
         "values": {
          "_inputArray": {
           "0": 413,
           "1": 471,
           "2": 678,
           "bdata": "nQHXAaYC",
           "dtype": "i2",
           "shape": "3"
          },
          "bdata": "nQHXAaYC",
          "dtype": "i2"
         }
        },
        {
         "customdata": [
          [
           "High"
          ],
          [
           "Low"
          ],
          [
           "Medium"
          ]
         ],
         "domain": {
          "x": [
           0.6799999999999999,
           0.9999999999999999
          ],
          "y": [
           0,
           1
          ]
         },
         "hovertemplate": "Work_Arrangement=Remote<br>Burnout_Level=%{customdata[0]}<br>Count=%{value}<extra></extra>",
         "labels": [
          "High",
          "Low",
          "Medium"
         ],
         "legendgroup": "",
         "marker": {
          "colors": [
           "#636efa",
           "#EF553B",
           "#00cc96"
          ]
         },
         "name": "",
         "showlegend": true,
         "textinfo": "percent+label",
         "type": "pie",
         "values": {
          "_inputArray": {
           "0": 273,
           "1": 81,
           "2": 234,
           "bdata": "EQFRAOoA",
           "dtype": "i2",
           "shape": "3"
          },
          "bdata": "EQFRAOoA",
          "dtype": "i2"
         }
        }
       ],
       "layout": {
        "annotations": [
         {
          "font": {},
          "showarrow": false,
          "text": "Work_Arrangement=Hybrid",
          "x": 0.15999999999999998,
          "xanchor": "center",
          "xref": "paper",
          "y": 1,
          "yanchor": "bottom",
          "yref": "paper"
         },
         {
          "font": {},
          "showarrow": false,
          "text": "Work_Arrangement=Onsite",
          "x": 0.49999999999999994,
          "xanchor": "center",
          "xref": "paper",
          "y": 1,
          "yanchor": "bottom",
          "yref": "paper"
         },
         {
          "font": {},
          "showarrow": false,
          "text": "Work_Arrangement=Remote",
          "x": 0.8399999999999999,
          "xanchor": "center",
          "xref": "paper",
          "y": 1,
          "yanchor": "bottom",
          "yref": "paper"
         }
        ],
        "autosize": true,
        "legend": {
         "tracegroupgap": 0
        },
        "template": {
         "data": {
          "bar": [
           {
            "error_x": {
             "color": "#2a3f5f"
            },
            "error_y": {
             "color": "#2a3f5f"
            },
            "marker": {
             "line": {
              "color": "#E5ECF6",
              "width": 0.5
             },
             "pattern": {
              "fillmode": "overlay",
              "size": 10,
              "solidity": 0.2
             }
            },
            "type": "bar"
           }
          ],
          "barpolar": [
           {
            "marker": {
             "line": {
              "color": "#E5ECF6",
              "width": 0.5
             },
             "pattern": {
              "fillmode": "overlay",
              "size": 10,
              "solidity": 0.2
             }
            },
            "type": "barpolar"
           }
          ],
          "carpet": [
           {
            "aaxis": {
             "endlinecolor": "#2a3f5f",
             "gridcolor": "white",
             "linecolor": "white",
             "minorgridcolor": "white",
             "startlinecolor": "#2a3f5f"
            },
            "baxis": {
             "endlinecolor": "#2a3f5f",
             "gridcolor": "white",
             "linecolor": "white",
             "minorgridcolor": "white",
             "startlinecolor": "#2a3f5f"
            },
            "type": "carpet"
           }
          ],
          "choropleth": [
           {
            "colorbar": {
             "outlinewidth": 0,
             "ticks": ""
            },
            "type": "choropleth"
           }
          ],
          "contour": [
           {
            "colorbar": {
             "outlinewidth": 0,
             "ticks": ""
            },
            "colorscale": [
             [
              0,
              "#0d0887"
             ],
             [
              0.1111111111111111,
              "#46039f"
             ],
             [
              0.2222222222222222,
              "#7201a8"
             ],
             [
              0.3333333333333333,
              "#9c179e"
             ],
             [
              0.4444444444444444,
              "#bd3786"
             ],
             [
              0.5555555555555556,
              "#d8576b"
             ],
             [
              0.6666666666666666,
              "#ed7953"
             ],
             [
              0.7777777777777778,
              "#fb9f3a"
             ],
             [
              0.8888888888888888,
              "#fdca26"
             ],
             [
              1,
              "#f0f921"
             ]
            ],
            "type": "contour"
           }
          ],
          "contourcarpet": [
           {
            "colorbar": {
             "outlinewidth": 0,
             "ticks": ""
            },
            "type": "contourcarpet"
           }
          ],
          "heatmap": [
           {
            "colorbar": {
             "outlinewidth": 0,
             "ticks": ""
            },
            "colorscale": [
             [
              0,
              "#0d0887"
             ],
             [
              0.1111111111111111,
              "#46039f"
             ],
             [
              0.2222222222222222,
              "#7201a8"
             ],
             [
              0.3333333333333333,
              "#9c179e"
             ],
             [
              0.4444444444444444,
              "#bd3786"
             ],
             [
              0.5555555555555556,
              "#d8576b"
             ],
             [
              0.6666666666666666,
              "#ed7953"
             ],
             [
              0.7777777777777778,
              "#fb9f3a"
             ],
             [
              0.8888888888888888,
              "#fdca26"
             ],
             [
              1,
              "#f0f921"
             ]
            ],
            "type": "heatmap"
           }
          ],
          "histogram": [
           {
            "marker": {
             "pattern": {
              "fillmode": "overlay",
              "size": 10,
              "solidity": 0.2
             }
            },
            "type": "histogram"
           }
          ],
          "histogram2d": [
           {
            "colorbar": {
             "outlinewidth": 0,
             "ticks": ""
            },
            "colorscale": [
             [
              0,
              "#0d0887"
             ],
             [
              0.1111111111111111,
              "#46039f"
             ],
             [
              0.2222222222222222,
              "#7201a8"
             ],
             [
              0.3333333333333333,
              "#9c179e"
             ],
             [
              0.4444444444444444,
              "#bd3786"
             ],
             [
              0.5555555555555556,
              "#d8576b"
             ],
             [
              0.6666666666666666,
              "#ed7953"
             ],
             [
              0.7777777777777778,
              "#fb9f3a"
             ],
             [
              0.8888888888888888,
              "#fdca26"
             ],
             [
              1,
              "#f0f921"
             ]
            ],
            "type": "histogram2d"
           }
          ],
          "histogram2dcontour": [
           {
            "colorbar": {
             "outlinewidth": 0,
             "ticks": ""
            },
            "colorscale": [
             [
              0,
              "#0d0887"
             ],
             [
              0.1111111111111111,
              "#46039f"
             ],
             [
              0.2222222222222222,
              "#7201a8"
             ],
             [
              0.3333333333333333,
              "#9c179e"
             ],
             [
              0.4444444444444444,
              "#bd3786"
             ],
             [
              0.5555555555555556,
              "#d8576b"
             ],
             [
              0.6666666666666666,
              "#ed7953"
             ],
             [
              0.7777777777777778,
              "#fb9f3a"
             ],
             [
              0.8888888888888888,
              "#fdca26"
             ],
             [
              1,
              "#f0f921"
             ]
            ],
            "type": "histogram2dcontour"
           }
          ],
          "mesh3d": [
           {
            "colorbar": {
             "outlinewidth": 0,
             "ticks": ""
            },
            "type": "mesh3d"
           }
          ],
          "parcoords": [
           {
            "line": {
             "colorbar": {
              "outlinewidth": 0,
              "ticks": ""
             }
            },
            "type": "parcoords"
           }
          ],
          "pie": [
           {
            "automargin": true,
            "type": "pie"
           }
          ],
          "scatter": [
           {
            "fillpattern": {
             "fillmode": "overlay",
             "size": 10,
             "solidity": 0.2
            },
            "type": "scatter"
           }
          ],
          "scatter3d": [
           {
            "line": {
             "colorbar": {
              "outlinewidth": 0,
              "ticks": ""
             }
            },
            "marker": {
             "colorbar": {
              "outlinewidth": 0,
              "ticks": ""
             }
            },
            "type": "scatter3d"
           }
          ],
          "scattercarpet": [
           {
            "marker": {
             "colorbar": {
              "outlinewidth": 0,
              "ticks": ""
             }
            },
            "type": "scattercarpet"
           }
          ],
          "scattergeo": [
           {
            "marker": {
             "colorbar": {
              "outlinewidth": 0,
              "ticks": ""
             }
            },
            "type": "scattergeo"
           }
          ],
          "scattergl": [
           {
            "marker": {
             "colorbar": {
              "outlinewidth": 0,
              "ticks": ""
             }
            },
            "type": "scattergl"
           }
          ],
          "scattermap": [
           {
            "marker": {
             "colorbar": {
              "outlinewidth": 0,
              "ticks": ""
             }
            },
            "type": "scattermap"
           }
          ],
          "scattermapbox": [
           {
            "marker": {
             "colorbar": {
              "outlinewidth": 0,
              "ticks": ""
             }
            },
            "type": "scattermapbox"
           }
          ],
          "scatterpolar": [
           {
            "marker": {
             "colorbar": {
              "outlinewidth": 0,
              "ticks": ""
             }
            },
            "type": "scatterpolar"
           }
          ],
          "scatterpolargl": [
           {
            "marker": {
             "colorbar": {
              "outlinewidth": 0,
              "ticks": ""
             }
            },
            "type": "scatterpolargl"
           }
          ],
          "scatterternary": [
           {
            "marker": {
             "colorbar": {
              "outlinewidth": 0,
              "ticks": ""
             }
            },
            "type": "scatterternary"
           }
          ],
          "surface": [
           {
            "colorbar": {
             "outlinewidth": 0,
             "ticks": ""
            },
            "colorscale": [
             [
              0,
              "#0d0887"
             ],
             [
              0.1111111111111111,
              "#46039f"
             ],
             [
              0.2222222222222222,
              "#7201a8"
             ],
             [
              0.3333333333333333,
              "#9c179e"
             ],
             [
              0.4444444444444444,
              "#bd3786"
             ],
             [
              0.5555555555555556,
              "#d8576b"
             ],
             [
              0.6666666666666666,
              "#ed7953"
             ],
             [
              0.7777777777777778,
              "#fb9f3a"
             ],
             [
              0.8888888888888888,
              "#fdca26"
             ],
             [
              1,
              "#f0f921"
             ]
            ],
            "type": "surface"
           }
          ],
          "table": [
           {
            "cells": {
             "fill": {
              "color": "#EBF0F8"
             },
             "line": {
              "color": "white"
             }
            },
            "header": {
             "fill": {
              "color": "#C8D4E3"
             },
             "line": {
              "color": "white"
             }
            },
            "type": "table"
           }
          ]
         },
         "layout": {
          "annotationdefaults": {
           "arrowcolor": "#2a3f5f",
           "arrowhead": 0,
           "arrowwidth": 1
          },
          "autotypenumbers": "strict",
          "coloraxis": {
           "colorbar": {
            "outlinewidth": 0,
            "ticks": ""
           }
          },
          "colorscale": {
           "diverging": [
            [
             0,
             "#8e0152"
            ],
            [
             0.1,
             "#c51b7d"
            ],
            [
             0.2,
             "#de77ae"
            ],
            [
             0.3,
             "#f1b6da"
            ],
            [
             0.4,
             "#fde0ef"
            ],
            [
             0.5,
             "#f7f7f7"
            ],
            [
             0.6,
             "#e6f5d0"
            ],
            [
             0.7,
             "#b8e186"
            ],
            [
             0.8,
             "#7fbc41"
            ],
            [
             0.9,
             "#4d9221"
            ],
            [
             1,
             "#276419"
            ]
           ],
           "sequential": [
            [
             0,
             "#0d0887"
            ],
            [
             0.1111111111111111,
             "#46039f"
            ],
            [
             0.2222222222222222,
             "#7201a8"
            ],
            [
             0.3333333333333333,
             "#9c179e"
            ],
            [
             0.4444444444444444,
             "#bd3786"
            ],
            [
             0.5555555555555556,
             "#d8576b"
            ],
            [
             0.6666666666666666,
             "#ed7953"
            ],
            [
             0.7777777777777778,
             "#fb9f3a"
            ],
            [
             0.8888888888888888,
             "#fdca26"
            ],
            [
             1,
             "#f0f921"
            ]
           ],
           "sequentialminus": [
            [
             0,
             "#0d0887"
            ],
            [
             0.1111111111111111,
             "#46039f"
            ],
            [
             0.2222222222222222,
             "#7201a8"
            ],
            [
             0.3333333333333333,
             "#9c179e"
            ],
            [
             0.4444444444444444,
             "#bd3786"
            ],
            [
             0.5555555555555556,
             "#d8576b"
            ],
            [
             0.6666666666666666,
             "#ed7953"
            ],
            [
             0.7777777777777778,
             "#fb9f3a"
            ],
            [
             0.8888888888888888,
             "#fdca26"
            ],
            [
             1,
             "#f0f921"
            ]
           ]
          },
          "colorway": [
           "#636efa",
           "#EF553B",
           "#00cc96",
           "#ab63fa",
           "#FFA15A",
           "#19d3f3",
           "#FF6692",
           "#B6E880",
           "#FF97FF",
           "#FECB52"
          ],
          "font": {
           "color": "#2a3f5f"
          },
          "geo": {
           "bgcolor": "white",
           "lakecolor": "white",
           "landcolor": "#E5ECF6",
           "showlakes": true,
           "showland": true,
           "subunitcolor": "white"
          },
          "hoverlabel": {
           "align": "left"
          },
          "hovermode": "closest",
          "mapbox": {
           "style": "light"
          },
          "paper_bgcolor": "white",
          "plot_bgcolor": "#E5ECF6",
          "polar": {
           "angularaxis": {
            "gridcolor": "white",
            "linecolor": "white",
            "ticks": ""
           },
           "bgcolor": "#E5ECF6",
           "radialaxis": {
            "gridcolor": "white",
            "linecolor": "white",
            "ticks": ""
           }
          },
          "scene": {
           "xaxis": {
            "backgroundcolor": "#E5ECF6",
            "gridcolor": "white",
            "gridwidth": 2,
            "linecolor": "white",
            "showbackground": true,
            "ticks": "",
            "zerolinecolor": "white"
           },
           "yaxis": {
            "backgroundcolor": "#E5ECF6",
            "gridcolor": "white",
            "gridwidth": 2,
            "linecolor": "white",
            "showbackground": true,
            "ticks": "",
            "zerolinecolor": "white"
           },
           "zaxis": {
            "backgroundcolor": "#E5ECF6",
            "gridcolor": "white",
            "gridwidth": 2,
            "linecolor": "white",
            "showbackground": true,
            "ticks": "",
            "zerolinecolor": "white"
           }
          },
          "shapedefaults": {
           "line": {
            "color": "#2a3f5f"
           }
          },
          "ternary": {
           "aaxis": {
            "gridcolor": "white",
            "linecolor": "white",
            "ticks": ""
           },
           "baxis": {
            "gridcolor": "white",
            "linecolor": "white",
            "ticks": ""
           },
           "bgcolor": "#E5ECF6",
           "caxis": {
            "gridcolor": "white",
            "linecolor": "white",
            "ticks": ""
           }
          },
          "title": {
           "x": 0.05
          },
          "xaxis": {
           "automargin": true,
           "gridcolor": "white",
           "linecolor": "white",
           "ticks": "",
           "title": {
            "standoff": 15
           },
           "zerolinecolor": "white",
           "zerolinewidth": 2
          },
          "yaxis": {
           "automargin": true,
           "gridcolor": "white",
           "linecolor": "white",
           "ticks": "",
           "title": {
            "standoff": 15
           },
           "zerolinecolor": "white",
           "zerolinewidth": 2
          }
         }
        },
        "title": {
         "text": "Work Arrangement vs Burnout Level",
         "x": 0.5
        }
       }
      },
      "image/png": "[encoded data removed]"
     },
     "metadata": {},
     "output_type": "display_data"
    }
   ],
   "source": [
    "# Work Arrangement vs Burnout Level\n",
    "fig=px.pie(grouped,'Burnout_Level', values='Count',facet_col='Work_Arrangement',color='Burnout_Level',\n",
    "           title='Work Arrangement vs Burnout Level'\n",
    "          )\n",
    "fig.update_layout(title_x=0.5,)\n",
    "fig.update_traces(textinfo='percent+label')\n",
    "fig.show()\n"
   ]
  },
  {
   "cell_type": "code",
   "execution_count": 31,
   "id": "cd25a428-1423-46e6-a6bc-955f88c1eb61",
   "metadata": {},
   "outputs": [
    {
     "data": {
      "text/html": [
       "<div>\n",
       "<style scoped>\n",
       "    .dataframe tbody tr th:only-of-type {\n",
       "        vertical-align: middle;\n",
       "    }\n",
       "\n",
       "    .dataframe tbody tr th {\n",
       "        vertical-align: top;\n",
       "    }\n",
       "\n",
       "    .dataframe thead th {\n",
       "        text-align: right;\n",
       "    }\n",
       "</style>\n",
       "<table border=\"1\" class=\"dataframe\">\n",
       "  <thead>\n",
       "    <tr style=\"text-align: right;\">\n",
       "      <th></th>\n",
       "      <th>Age</th>\n",
       "      <th>Social_Isolation_Score</th>\n",
       "    </tr>\n",
       "  </thead>\n",
       "  <tbody>\n",
       "    <tr>\n",
       "      <th>0</th>\n",
       "      <td>22</td>\n",
       "      <td>2.486111</td>\n",
       "    </tr>\n",
       "    <tr>\n",
       "      <th>1</th>\n",
       "      <td>23</td>\n",
       "      <td>2.848485</td>\n",
       "    </tr>\n",
       "    <tr>\n",
       "      <th>2</th>\n",
       "      <td>24</td>\n",
       "      <td>2.780488</td>\n",
       "    </tr>\n",
       "    <tr>\n",
       "      <th>3</th>\n",
       "      <td>25</td>\n",
       "      <td>2.716667</td>\n",
       "    </tr>\n",
       "    <tr>\n",
       "      <th>4</th>\n",
       "      <td>26</td>\n",
       "      <td>2.720588</td>\n",
       "    </tr>\n",
       "    <tr>\n",
       "      <th>5</th>\n",
       "      <td>27</td>\n",
       "      <td>2.530120</td>\n",
       "    </tr>\n",
       "    <tr>\n",
       "      <th>6</th>\n",
       "      <td>28</td>\n",
       "      <td>2.775862</td>\n",
       "    </tr>\n",
       "    <tr>\n",
       "      <th>7</th>\n",
       "      <td>29</td>\n",
       "      <td>2.500000</td>\n",
       "    </tr>\n",
       "    <tr>\n",
       "      <th>8</th>\n",
       "      <td>30</td>\n",
       "      <td>2.666667</td>\n",
       "    </tr>\n",
       "    <tr>\n",
       "      <th>9</th>\n",
       "      <td>31</td>\n",
       "      <td>2.750000</td>\n",
       "    </tr>\n",
       "    <tr>\n",
       "      <th>10</th>\n",
       "      <td>32</td>\n",
       "      <td>2.846154</td>\n",
       "    </tr>\n",
       "    <tr>\n",
       "      <th>11</th>\n",
       "      <td>33</td>\n",
       "      <td>2.637681</td>\n",
       "    </tr>\n",
       "    <tr>\n",
       "      <th>12</th>\n",
       "      <td>34</td>\n",
       "      <td>2.985915</td>\n",
       "    </tr>\n",
       "    <tr>\n",
       "      <th>13</th>\n",
       "      <td>35</td>\n",
       "      <td>3.030769</td>\n",
       "    </tr>\n",
       "    <tr>\n",
       "      <th>14</th>\n",
       "      <td>36</td>\n",
       "      <td>2.480000</td>\n",
       "    </tr>\n",
       "    <tr>\n",
       "      <th>15</th>\n",
       "      <td>37</td>\n",
       "      <td>2.750000</td>\n",
       "    </tr>\n",
       "    <tr>\n",
       "      <th>16</th>\n",
       "      <td>38</td>\n",
       "      <td>2.688525</td>\n",
       "    </tr>\n",
       "    <tr>\n",
       "      <th>17</th>\n",
       "      <td>39</td>\n",
       "      <td>2.796875</td>\n",
       "    </tr>\n",
       "    <tr>\n",
       "      <th>18</th>\n",
       "      <td>40</td>\n",
       "      <td>2.500000</td>\n",
       "    </tr>\n",
       "    <tr>\n",
       "      <th>19</th>\n",
       "      <td>41</td>\n",
       "      <td>2.803922</td>\n",
       "    </tr>\n",
       "    <tr>\n",
       "      <th>20</th>\n",
       "      <td>42</td>\n",
       "      <td>2.859375</td>\n",
       "    </tr>\n",
       "    <tr>\n",
       "      <th>21</th>\n",
       "      <td>43</td>\n",
       "      <td>2.641304</td>\n",
       "    </tr>\n",
       "    <tr>\n",
       "      <th>22</th>\n",
       "      <td>44</td>\n",
       "      <td>2.653333</td>\n",
       "    </tr>\n",
       "    <tr>\n",
       "      <th>23</th>\n",
       "      <td>45</td>\n",
       "      <td>3.055556</td>\n",
       "    </tr>\n",
       "    <tr>\n",
       "      <th>24</th>\n",
       "      <td>46</td>\n",
       "      <td>2.538462</td>\n",
       "    </tr>\n",
       "    <tr>\n",
       "      <th>25</th>\n",
       "      <td>47</td>\n",
       "      <td>2.726190</td>\n",
       "    </tr>\n",
       "    <tr>\n",
       "      <th>26</th>\n",
       "      <td>48</td>\n",
       "      <td>2.763158</td>\n",
       "    </tr>\n",
       "    <tr>\n",
       "      <th>27</th>\n",
       "      <td>49</td>\n",
       "      <td>2.428571</td>\n",
       "    </tr>\n",
       "    <tr>\n",
       "      <th>28</th>\n",
       "      <td>50</td>\n",
       "      <td>2.776316</td>\n",
       "    </tr>\n",
       "    <tr>\n",
       "      <th>29</th>\n",
       "      <td>51</td>\n",
       "      <td>2.716418</td>\n",
       "    </tr>\n",
       "    <tr>\n",
       "      <th>30</th>\n",
       "      <td>52</td>\n",
       "      <td>2.658228</td>\n",
       "    </tr>\n",
       "    <tr>\n",
       "      <th>31</th>\n",
       "      <td>53</td>\n",
       "      <td>2.684211</td>\n",
       "    </tr>\n",
       "    <tr>\n",
       "      <th>32</th>\n",
       "      <td>54</td>\n",
       "      <td>2.569444</td>\n",
       "    </tr>\n",
       "    <tr>\n",
       "      <th>33</th>\n",
       "      <td>55</td>\n",
       "      <td>2.525424</td>\n",
       "    </tr>\n",
       "    <tr>\n",
       "      <th>34</th>\n",
       "      <td>56</td>\n",
       "      <td>2.977273</td>\n",
       "    </tr>\n",
       "    <tr>\n",
       "      <th>35</th>\n",
       "      <td>57</td>\n",
       "      <td>2.557143</td>\n",
       "    </tr>\n",
       "    <tr>\n",
       "      <th>36</th>\n",
       "      <td>58</td>\n",
       "      <td>2.616438</td>\n",
       "    </tr>\n",
       "    <tr>\n",
       "      <th>37</th>\n",
       "      <td>59</td>\n",
       "      <td>2.422535</td>\n",
       "    </tr>\n",
       "    <tr>\n",
       "      <th>38</th>\n",
       "      <td>60</td>\n",
       "      <td>2.736842</td>\n",
       "    </tr>\n",
       "    <tr>\n",
       "      <th>39</th>\n",
       "      <td>61</td>\n",
       "      <td>2.632353</td>\n",
       "    </tr>\n",
       "    <tr>\n",
       "      <th>40</th>\n",
       "      <td>62</td>\n",
       "      <td>2.869048</td>\n",
       "    </tr>\n",
       "    <tr>\n",
       "      <th>41</th>\n",
       "      <td>63</td>\n",
       "      <td>2.514286</td>\n",
       "    </tr>\n",
       "    <tr>\n",
       "      <th>42</th>\n",
       "      <td>64</td>\n",
       "      <td>2.968254</td>\n",
       "    </tr>\n",
       "    <tr>\n",
       "      <th>43</th>\n",
       "      <td>65</td>\n",
       "      <td>2.743243</td>\n",
       "    </tr>\n",
       "  </tbody>\n",
       "</table>\n",
       "</div>"
      ],
      "text/plain": [
       "    Age  Social_Isolation_Score\n",
       "0    22                2.486111\n",
       "1    23                2.848485\n",
       "2    24                2.780488\n",
       "3    25                2.716667\n",
       "4    26                2.720588\n",
       "5    27                2.530120\n",
       "6    28                2.775862\n",
       "7    29                2.500000\n",
       "8    30                2.666667\n",
       "9    31                2.750000\n",
       "10   32                2.846154\n",
       "11   33                2.637681\n",
       "12   34                2.985915\n",
       "13   35                3.030769\n",
       "14   36                2.480000\n",
       "15   37                2.750000\n",
       "16   38                2.688525\n",
       "17   39                2.796875\n",
       "18   40                2.500000\n",
       "19   41                2.803922\n",
       "20   42                2.859375\n",
       "21   43                2.641304\n",
       "22   44                2.653333\n",
       "23   45                3.055556\n",
       "24   46                2.538462\n",
       "25   47                2.726190\n",
       "26   48                2.763158\n",
       "27   49                2.428571\n",
       "28   50                2.776316\n",
       "29   51                2.716418\n",
       "30   52                2.658228\n",
       "31   53                2.684211\n",
       "32   54                2.569444\n",
       "33   55                2.525424\n",
       "34   56                2.977273\n",
       "35   57                2.557143\n",
       "36   58                2.616438\n",
       "37   59                2.422535\n",
       "38   60                2.736842\n",
       "39   61                2.632353\n",
       "40   62                2.869048\n",
       "41   63                2.514286\n",
       "42   64                2.968254\n",
       "43   65                2.743243"
      ]
     },
     "execution_count": 31,
     "metadata": {},
     "output_type": "execute_result"
    }
   ],
   "source": [
    "# Age vs Social Isolation Score\n",
    "age_isolation=df.groupby('Age')['Social_Isolation_Score'].mean().reset_index()\n",
    "age_isolation"
   ]
  },
  {
   "cell_type": "code",
   "execution_count": 32,
   "id": "22962405-7394-45e3-acf9-d9050b0a7ece",
   "metadata": {},
   "outputs": [
    {
     "data": {
      "application/vnd.plotly.v1+json": {
       "config": {
        "plotlyServerURL": "https://plot.ly"
       },
       "data": [
        {
         "hovertemplate": "Age=%{x}<br>Social_Isolation_Score=%{y}<extra></extra>",
         "legendgroup": "",
         "line": {
          "color": "#636efa",
          "dash": "solid"
         },
         "marker": {
          "symbol": "circle"
         },
         "mode": "lines+markers",
         "name": "",
         "orientation": "v",
         "showlegend": false,
         "type": "scatter",
         "x": {
          "_inputArray": {
           "0": 22,
           "1": 23,
           "2": 24,
           "3": 25,
           "4": 26,
           "5": 27,
           "6": 28,
           "7": 29,
           "8": 30,
           "9": 31,
           "10": 32,
           "11": 33,
           "12": 34,
           "13": 35,
           "14": 36,
           "15": 37,
           "16": 38,
           "17": 39,
           "18": 40,
           "19": 41,
           "20": 42,
           "21": 43,
           "22": 44,
           "23": 45,
           "24": 46,
           "25": 47,
           "26": 48,
           "27": 49,
           "28": 50,
           "29": 51,
           "30": 52,
           "31": 53,
           "32": 54,
           "33": 55,
           "34": 56,
           "35": 57,
           "36": 58,
           "37": 59,
           "38": 60,
           "39": 61,
           "40": 62,
           "41": 63,
           "42": 64,
           "43": 65,
           "bdata": "FhcYGRobHB0eHyAhIiMkJSYnKCkqKywtLi8wMTIzNDU2Nzg5Ojs8PT4/QEE=",
           "dtype": "i1",
           "shape": "44"
          },
          "bdata": "FhcYGRobHB0eHyAhIiMkJSYnKCkqKywtLi8wMTIzNDU2Nzg5Ojs8PT4/QEE=",
          "dtype": "i1"
         },
         "xaxis": "x",
         "y": {
          "_inputArray": {
           "0": 2.486111111111111,
           "1": 2.8484848484848486,
           "2": 2.7804878048780486,
           "3": 2.716666666666667,
           "4": 2.7205882352941178,
           "5": 2.5301204819277108,
           "6": 2.7758620689655173,
           "7": 2.5,
           "8": 2.6666666666666665,
           "9": 2.75,
           "10": 2.8461538461538463,
           "11": 2.63768115942029,
           "12": 2.9859154929577465,
           "13": 3.0307692307692307,
           "14": 2.48,
           "15": 2.75,
           "16": 2.6885245901639343,
           "17": 2.796875,
           "18": 2.5,
           "19": 2.803921568627451,
           "20": 2.859375,
           "21": 2.641304347826087,
           "22": 2.6533333333333333,
           "23": 3.0555555555555554,
           "24": 2.5384615384615383,
           "25": 2.7261904761904763,
           "26": 2.763157894736842,
           "27": 2.4285714285714284,
           "28": 2.776315789473684,
           "29": 2.716417910447761,
           "30": 2.6582278481012658,
           "31": 2.6842105263157894,
           "32": 2.5694444444444446,
           "33": 2.5254237288135593,
           "34": 2.977272727272727,
           "35": 2.557142857142857,
           "36": 2.6164383561643834,
           "37": 2.4225352112676055,
           "38": 2.736842105263158,
           "39": 2.6323529411764706,
           "40": 2.869047619047619,
           "41": 2.5142857142857142,
           "42": 2.9682539682539684,
           "43": 2.7432432432432434,
           "bdata": "OY7jOI7jA0DKJptssskGQD4G52NwPgZAvLu7u7u7BUDEw8PDw8MFQOGNps6vPQRAc08jLPc0BkAAAAAAAAAEQFVVVVVVVQVAAAAAAAAABkBP7MRO7MQGQFLiZ5T4GQVAZfx2qSfjB0DwAz/wAz8IQNejcD0K1wNAAAAAAAAABkCb9ykuGYIFQAAAAAAAYAZAAAAAAAAABEBubm5ubm4GQAAAAAAA4AZAspCFLGQhBUA6baDTBjoFQBzHcRzHcQhA7MRO7MROBED0PM/zPM8FQK+hvIbyGgZA27Zt27ZtA0BeQ3kN5TUGQGMiPVA5uwVAiEpH9gxEBUCU11BeQ3kFQOQ4juM4jgRAdV8eWxE0BEDRRRdddNEHQFAHdVAHdQRA586dO3fuBEArbA4kWmEDQFFeQ3kN5QVADw8PDw8PBUA9z/M8z/MGQNRBHdRBHQRA8Pu+7/u+B0Ajn3WDKfIFQA==",
           "dtype": "f8",
           "shape": "44"
          },
          "bdata": "OY7jOI7jA0DKJptssskGQD4G52NwPgZAvLu7u7u7BUDEw8PDw8MFQOGNps6vPQRAc08jLPc0BkAAAAAAAAAEQFVVVVVVVQVAAAAAAAAABkBP7MRO7MQGQFLiZ5T4GQVAZfx2qSfjB0DwAz/wAz8IQNejcD0K1wNAAAAAAAAABkCb9ykuGYIFQAAAAAAAYAZAAAAAAAAABEBubm5ubm4GQAAAAAAA4AZAspCFLGQhBUA6baDTBjoFQBzHcRzHcQhA7MRO7MROBED0PM/zPM8FQK+hvIbyGgZA27Zt27ZtA0BeQ3kN5TUGQGMiPVA5uwVAiEpH9gxEBUCU11BeQ3kFQOQ4juM4jgRAdV8eWxE0BEDRRRdddNEHQFAHdVAHdQRA586dO3fuBEArbA4kWmEDQFFeQ3kN5QVADw8PDw8PBUA9z/M8z/MGQNRBHdRBHQRA8Pu+7/u+B0Ajn3WDKfIFQA==",
          "dtype": "f8"
         },
         "yaxis": "y"
        }
       ],
       "layout": {
        "autosize": true,
        "legend": {
         "tracegroupgap": 0
        },
        "template": {
         "data": {
          "bar": [
           {
            "error_x": {
             "color": "#2a3f5f"
            },
            "error_y": {
             "color": "#2a3f5f"
            },
            "marker": {
             "line": {
              "color": "#E5ECF6",
              "width": 0.5
             },
             "pattern": {
              "fillmode": "overlay",
              "size": 10,
              "solidity": 0.2
             }
            },
            "type": "bar"
           }
          ],
          "barpolar": [
           {
            "marker": {
             "line": {
              "color": "#E5ECF6",
              "width": 0.5
             },
             "pattern": {
              "fillmode": "overlay",
              "size": 10,
              "solidity": 0.2
             }
            },
            "type": "barpolar"
           }
          ],
          "carpet": [
           {
            "aaxis": {
             "endlinecolor": "#2a3f5f",
             "gridcolor": "white",
             "linecolor": "white",
             "minorgridcolor": "white",
             "startlinecolor": "#2a3f5f"
            },
            "baxis": {
             "endlinecolor": "#2a3f5f",
             "gridcolor": "white",
             "linecolor": "white",
             "minorgridcolor": "white",
             "startlinecolor": "#2a3f5f"
            },
            "type": "carpet"
           }
          ],
          "choropleth": [
           {
            "colorbar": {
             "outlinewidth": 0,
             "ticks": ""
            },
            "type": "choropleth"
           }
          ],
          "contour": [
           {
            "colorbar": {
             "outlinewidth": 0,
             "ticks": ""
            },
            "colorscale": [
             [
              0,
              "#0d0887"
             ],
             [
              0.1111111111111111,
              "#46039f"
             ],
             [
              0.2222222222222222,
              "#7201a8"
             ],
             [
              0.3333333333333333,
              "#9c179e"
             ],
             [
              0.4444444444444444,
              "#bd3786"
             ],
             [
              0.5555555555555556,
              "#d8576b"
             ],
             [
              0.6666666666666666,
              "#ed7953"
             ],
             [
              0.7777777777777778,
              "#fb9f3a"
             ],
             [
              0.8888888888888888,
              "#fdca26"
             ],
             [
              1,
              "#f0f921"
             ]
            ],
            "type": "contour"
           }
          ],
          "contourcarpet": [
           {
            "colorbar": {
             "outlinewidth": 0,
             "ticks": ""
            },
            "type": "contourcarpet"
           }
          ],
          "heatmap": [
           {
            "colorbar": {
             "outlinewidth": 0,
             "ticks": ""
            },
            "colorscale": [
             [
              0,
              "#0d0887"
             ],
             [
              0.1111111111111111,
              "#46039f"
             ],
             [
              0.2222222222222222,
              "#7201a8"
             ],
             [
              0.3333333333333333,
              "#9c179e"
             ],
             [
              0.4444444444444444,
              "#bd3786"
             ],
             [
              0.5555555555555556,
              "#d8576b"
             ],
             [
              0.6666666666666666,
              "#ed7953"
             ],
             [
              0.7777777777777778,
              "#fb9f3a"
             ],
             [
              0.8888888888888888,
              "#fdca26"
             ],
             [
              1,
              "#f0f921"
             ]
            ],
            "type": "heatmap"
           }
          ],
          "histogram": [
           {
            "marker": {
             "pattern": {
              "fillmode": "overlay",
              "size": 10,
              "solidity": 0.2
             }
            },
            "type": "histogram"
           }
          ],
          "histogram2d": [
           {
            "colorbar": {
             "outlinewidth": 0,
             "ticks": ""
            },
            "colorscale": [
             [
              0,
              "#0d0887"
             ],
             [
              0.1111111111111111,
              "#46039f"
             ],
             [
              0.2222222222222222,
              "#7201a8"
             ],
             [
              0.3333333333333333,
              "#9c179e"
             ],
             [
              0.4444444444444444,
              "#bd3786"
             ],
             [
              0.5555555555555556,
              "#d8576b"
             ],
             [
              0.6666666666666666,
              "#ed7953"
             ],
             [
              0.7777777777777778,
              "#fb9f3a"
             ],
             [
              0.8888888888888888,
              "#fdca26"
             ],
             [
              1,
              "#f0f921"
             ]
            ],
            "type": "histogram2d"
           }
          ],
          "histogram2dcontour": [
           {
            "colorbar": {
             "outlinewidth": 0,
             "ticks": ""
            },
            "colorscale": [
             [
              0,
              "#0d0887"
             ],
             [
              0.1111111111111111,
              "#46039f"
             ],
             [
              0.2222222222222222,
              "#7201a8"
             ],
             [
              0.3333333333333333,
              "#9c179e"
             ],
             [
              0.4444444444444444,
              "#bd3786"
             ],
             [
              0.5555555555555556,
              "#d8576b"
             ],
             [
              0.6666666666666666,
              "#ed7953"
             ],
             [
              0.7777777777777778,
              "#fb9f3a"
             ],
             [
              0.8888888888888888,
              "#fdca26"
             ],
             [
              1,
              "#f0f921"
             ]
            ],
            "type": "histogram2dcontour"
           }
          ],
          "mesh3d": [
           {
            "colorbar": {
             "outlinewidth": 0,
             "ticks": ""
            },
            "type": "mesh3d"
           }
          ],
          "parcoords": [
           {
            "line": {
             "colorbar": {
              "outlinewidth": 0,
              "ticks": ""
             }
            },
            "type": "parcoords"
           }
          ],
          "pie": [
           {
            "automargin": true,
            "type": "pie"
           }
          ],
          "scatter": [
           {
            "fillpattern": {
             "fillmode": "overlay",
             "size": 10,
             "solidity": 0.2
            },
            "type": "scatter"
           }
          ],
          "scatter3d": [
           {
            "line": {
             "colorbar": {
              "outlinewidth": 0,
              "ticks": ""
             }
            },
            "marker": {
             "colorbar": {
              "outlinewidth": 0,
              "ticks": ""
             }
            },
            "type": "scatter3d"
           }
          ],
          "scattercarpet": [
           {
            "marker": {
             "colorbar": {
              "outlinewidth": 0,
              "ticks": ""
             }
            },
            "type": "scattercarpet"
           }
          ],
          "scattergeo": [
           {
            "marker": {
             "colorbar": {
              "outlinewidth": 0,
              "ticks": ""
             }
            },
            "type": "scattergeo"
           }
          ],
          "scattergl": [
           {
            "marker": {
             "colorbar": {
              "outlinewidth": 0,
              "ticks": ""
             }
            },
            "type": "scattergl"
           }
          ],
          "scattermap": [
           {
            "marker": {
             "colorbar": {
              "outlinewidth": 0,
              "ticks": ""
             }
            },
            "type": "scattermap"
           }
          ],
          "scattermapbox": [
           {
            "marker": {
             "colorbar": {
              "outlinewidth": 0,
              "ticks": ""
             }
            },
            "type": "scattermapbox"
           }
          ],
          "scatterpolar": [
           {
            "marker": {
             "colorbar": {
              "outlinewidth": 0,
              "ticks": ""
             }
            },
            "type": "scatterpolar"
           }
          ],
          "scatterpolargl": [
           {
            "marker": {
             "colorbar": {
              "outlinewidth": 0,
              "ticks": ""
             }
            },
            "type": "scatterpolargl"
           }
          ],
          "scatterternary": [
           {
            "marker": {
             "colorbar": {
              "outlinewidth": 0,
              "ticks": ""
             }
            },
            "type": "scatterternary"
           }
          ],
          "surface": [
           {
            "colorbar": {
             "outlinewidth": 0,
             "ticks": ""
            },
            "colorscale": [
             [
              0,
              "#0d0887"
             ],
             [
              0.1111111111111111,
              "#46039f"
             ],
             [
              0.2222222222222222,
              "#7201a8"
             ],
             [
              0.3333333333333333,
              "#9c179e"
             ],
             [
              0.4444444444444444,
              "#bd3786"
             ],
             [
              0.5555555555555556,
              "#d8576b"
             ],
             [
              0.6666666666666666,
              "#ed7953"
             ],
             [
              0.7777777777777778,
              "#fb9f3a"
             ],
             [
              0.8888888888888888,
              "#fdca26"
             ],
             [
              1,
              "#f0f921"
             ]
            ],
            "type": "surface"
           }
          ],
          "table": [
           {
            "cells": {
             "fill": {
              "color": "#EBF0F8"
             },
             "line": {
              "color": "white"
             }
            },
            "header": {
             "fill": {
              "color": "#C8D4E3"
             },
             "line": {
              "color": "white"
             }
            },
            "type": "table"
           }
          ]
         },
         "layout": {
          "annotationdefaults": {
           "arrowcolor": "#2a3f5f",
           "arrowhead": 0,
           "arrowwidth": 1
          },
          "autotypenumbers": "strict",
          "coloraxis": {
           "colorbar": {
            "outlinewidth": 0,
            "ticks": ""
           }
          },
          "colorscale": {
           "diverging": [
            [
             0,
             "#8e0152"
            ],
            [
             0.1,
             "#c51b7d"
            ],
            [
             0.2,
             "#de77ae"
            ],
            [
             0.3,
             "#f1b6da"
            ],
            [
             0.4,
             "#fde0ef"
            ],
            [
             0.5,
             "#f7f7f7"
            ],
            [
             0.6,
             "#e6f5d0"
            ],
            [
             0.7,
             "#b8e186"
            ],
            [
             0.8,
             "#7fbc41"
            ],
            [
             0.9,
             "#4d9221"
            ],
            [
             1,
             "#276419"
            ]
           ],
           "sequential": [
            [
             0,
             "#0d0887"
            ],
            [
             0.1111111111111111,
             "#46039f"
            ],
            [
             0.2222222222222222,
             "#7201a8"
            ],
            [
             0.3333333333333333,
             "#9c179e"
            ],
            [
             0.4444444444444444,
             "#bd3786"
            ],
            [
             0.5555555555555556,
             "#d8576b"
            ],
            [
             0.6666666666666666,
             "#ed7953"
            ],
            [
             0.7777777777777778,
             "#fb9f3a"
            ],
            [
             0.8888888888888888,
             "#fdca26"
            ],
            [
             1,
             "#f0f921"
            ]
           ],
           "sequentialminus": [
            [
             0,
             "#0d0887"
            ],
            [
             0.1111111111111111,
             "#46039f"
            ],
            [
             0.2222222222222222,
             "#7201a8"
            ],
            [
             0.3333333333333333,
             "#9c179e"
            ],
            [
             0.4444444444444444,
             "#bd3786"
            ],
            [
             0.5555555555555556,
             "#d8576b"
            ],
            [
             0.6666666666666666,
             "#ed7953"
            ],
            [
             0.7777777777777778,
             "#fb9f3a"
            ],
            [
             0.8888888888888888,
             "#fdca26"
            ],
            [
             1,
             "#f0f921"
            ]
           ]
          },
          "colorway": [
           "#636efa",
           "#EF553B",
           "#00cc96",
           "#ab63fa",
           "#FFA15A",
           "#19d3f3",
           "#FF6692",
           "#B6E880",
           "#FF97FF",
           "#FECB52"
          ],
          "font": {
           "color": "#2a3f5f"
          },
          "geo": {
           "bgcolor": "white",
           "lakecolor": "white",
           "landcolor": "#E5ECF6",
           "showlakes": true,
           "showland": true,
           "subunitcolor": "white"
          },
          "hoverlabel": {
           "align": "left"
          },
          "hovermode": "closest",
          "mapbox": {
           "style": "light"
          },
          "paper_bgcolor": "white",
          "plot_bgcolor": "#E5ECF6",
          "polar": {
           "angularaxis": {
            "gridcolor": "white",
            "linecolor": "white",
            "ticks": ""
           },
           "bgcolor": "#E5ECF6",
           "radialaxis": {
            "gridcolor": "white",
            "linecolor": "white",
            "ticks": ""
           }
          },
          "scene": {
           "xaxis": {
            "backgroundcolor": "#E5ECF6",
            "gridcolor": "white",
            "gridwidth": 2,
            "linecolor": "white",
            "showbackground": true,
            "ticks": "",
            "zerolinecolor": "white"
           },
           "yaxis": {
            "backgroundcolor": "#E5ECF6",
            "gridcolor": "white",
            "gridwidth": 2,
            "linecolor": "white",
            "showbackground": true,
            "ticks": "",
            "zerolinecolor": "white"
           },
           "zaxis": {
            "backgroundcolor": "#E5ECF6",
            "gridcolor": "white",
            "gridwidth": 2,
            "linecolor": "white",
            "showbackground": true,
            "ticks": "",
            "zerolinecolor": "white"
           }
          },
          "shapedefaults": {
           "line": {
            "color": "#2a3f5f"
           }
          },
          "ternary": {
           "aaxis": {
            "gridcolor": "white",
            "linecolor": "white",
            "ticks": ""
           },
           "baxis": {
            "gridcolor": "white",
            "linecolor": "white",
            "ticks": ""
           },
           "bgcolor": "#E5ECF6",
           "caxis": {
            "gridcolor": "white",
            "linecolor": "white",
            "ticks": ""
           }
          },
          "title": {
           "x": 0.05
          },
          "xaxis": {
           "automargin": true,
           "gridcolor": "white",
           "linecolor": "white",
           "ticks": "",
           "title": {
            "standoff": 15
           },
           "zerolinecolor": "white",
           "zerolinewidth": 2
          },
          "yaxis": {
           "automargin": true,
           "gridcolor": "white",
           "linecolor": "white",
           "ticks": "",
           "title": {
            "standoff": 15
           },
           "zerolinecolor": "white",
           "zerolinewidth": 2
          }
         }
        },
        "title": {
         "text": "Age vs Social_Isolation_Score",
         "x": 0.5
        },
        "xaxis": {
         "anchor": "y",
         "autorange": true,
         "domain": [
          0,
          1
         ],
         "range": [
          19.23667711598746,
          67.76332288401254
         ],
         "title": {
          "text": "Age"
         },
         "type": "linear"
        },
        "yaxis": {
         "anchor": "x",
         "autorange": true,
         "domain": [
          0,
          1
         ],
         "range": [
          2.3702956682923864,
          3.1077950985307745
         ],
         "title": {
          "text": "Average Social Isolation Score"
         },
         "type": "linear"
        }
       }
      }
     },
     "metadata": {},
     "output_type": "display_data"
    }
   ],
   "source": [
    "# Age vs Social Isolation Score\n",
    "fig = px.line(age_isolation,x='Age',y='Social_Isolation_Score',title='Age vs Social_Isolation_Score',markers=True)\n",
    "fig.update_layout(title_x=0.5, xaxis_title='Age', yaxis_title='Average Social Isolation Score')\n",
    "fig.show()\n",
    " \n"
   ]
  },
  {
   "cell_type": "code",
   "execution_count": 33,
   "id": "fcff01c1-e240-4818-952e-aa2899bcc7c8",
   "metadata": {},
   "outputs": [
    {
     "data": {
      "text/html": [
       "<div>\n",
       "<style scoped>\n",
       "    .dataframe tbody tr th:only-of-type {\n",
       "        vertical-align: middle;\n",
       "    }\n",
       "\n",
       "    .dataframe tbody tr th {\n",
       "        vertical-align: top;\n",
       "    }\n",
       "\n",
       "    .dataframe thead th {\n",
       "        text-align: right;\n",
       "    }\n",
       "</style>\n",
       "<table border=\"1\" class=\"dataframe\">\n",
       "  <thead>\n",
       "    <tr style=\"text-align: right;\">\n",
       "      <th></th>\n",
       "      <th>Survey_Date</th>\n",
       "      <th>Age</th>\n",
       "      <th>Gender</th>\n",
       "      <th>Region</th>\n",
       "      <th>Industry</th>\n",
       "      <th>Job_Role</th>\n",
       "      <th>Work_Arrangement</th>\n",
       "      <th>Hours_Per_Week</th>\n",
       "      <th>Mental_Health_Status</th>\n",
       "      <th>Burnout_Level</th>\n",
       "      <th>Work_Life_Balance_Score</th>\n",
       "      <th>Physical_Health_Issues</th>\n",
       "      <th>Social_Isolation_Score</th>\n",
       "      <th>Salary_Range</th>\n",
       "      <th>Physical_Issue_Split</th>\n",
       "    </tr>\n",
       "  </thead>\n",
       "  <tbody>\n",
       "    <tr>\n",
       "      <th>0</th>\n",
       "      <td>2025-06-01</td>\n",
       "      <td>27</td>\n",
       "      <td>Female</td>\n",
       "      <td>Asia</td>\n",
       "      <td>Professional Services</td>\n",
       "      <td>Data Analyst</td>\n",
       "      <td>Onsite</td>\n",
       "      <td>64</td>\n",
       "      <td>Stress Disorder</td>\n",
       "      <td>High</td>\n",
       "      <td>3</td>\n",
       "      <td>Shoulder Pain; Neck Pain</td>\n",
       "      <td>2</td>\n",
       "      <td>$40K-60K</td>\n",
       "      <td>Shoulder Pain</td>\n",
       "    </tr>\n",
       "    <tr>\n",
       "      <th>0</th>\n",
       "      <td>2025-06-01</td>\n",
       "      <td>27</td>\n",
       "      <td>Female</td>\n",
       "      <td>Asia</td>\n",
       "      <td>Professional Services</td>\n",
       "      <td>Data Analyst</td>\n",
       "      <td>Onsite</td>\n",
       "      <td>64</td>\n",
       "      <td>Stress Disorder</td>\n",
       "      <td>High</td>\n",
       "      <td>3</td>\n",
       "      <td>Shoulder Pain; Neck Pain</td>\n",
       "      <td>2</td>\n",
       "      <td>$40K-60K</td>\n",
       "      <td>Neck Pain</td>\n",
       "    </tr>\n",
       "    <tr>\n",
       "      <th>1</th>\n",
       "      <td>2025-06-01</td>\n",
       "      <td>37</td>\n",
       "      <td>Female</td>\n",
       "      <td>Asia</td>\n",
       "      <td>Professional Services</td>\n",
       "      <td>Data Analyst</td>\n",
       "      <td>Onsite</td>\n",
       "      <td>37</td>\n",
       "      <td>Stress Disorder</td>\n",
       "      <td>High</td>\n",
       "      <td>4</td>\n",
       "      <td>Back Pain</td>\n",
       "      <td>2</td>\n",
       "      <td>$80K-100K</td>\n",
       "      <td>Back Pain</td>\n",
       "    </tr>\n",
       "    <tr>\n",
       "      <th>2</th>\n",
       "      <td>2025-06-01</td>\n",
       "      <td>32</td>\n",
       "      <td>Female</td>\n",
       "      <td>Africa</td>\n",
       "      <td>Education</td>\n",
       "      <td>Business Analyst</td>\n",
       "      <td>Onsite</td>\n",
       "      <td>36</td>\n",
       "      <td>ADHD</td>\n",
       "      <td>High</td>\n",
       "      <td>3</td>\n",
       "      <td>Shoulder Pain; Eye Strain</td>\n",
       "      <td>2</td>\n",
       "      <td>$80K-100K</td>\n",
       "      <td>Shoulder Pain</td>\n",
       "    </tr>\n",
       "    <tr>\n",
       "      <th>2</th>\n",
       "      <td>2025-06-01</td>\n",
       "      <td>32</td>\n",
       "      <td>Female</td>\n",
       "      <td>Africa</td>\n",
       "      <td>Education</td>\n",
       "      <td>Business Analyst</td>\n",
       "      <td>Onsite</td>\n",
       "      <td>36</td>\n",
       "      <td>ADHD</td>\n",
       "      <td>High</td>\n",
       "      <td>3</td>\n",
       "      <td>Shoulder Pain; Eye Strain</td>\n",
       "      <td>2</td>\n",
       "      <td>$80K-100K</td>\n",
       "      <td>Eye Strain</td>\n",
       "    </tr>\n",
       "    <tr>\n",
       "      <th>...</th>\n",
       "      <td>...</td>\n",
       "      <td>...</td>\n",
       "      <td>...</td>\n",
       "      <td>...</td>\n",
       "      <td>...</td>\n",
       "      <td>...</td>\n",
       "      <td>...</td>\n",
       "      <td>...</td>\n",
       "      <td>...</td>\n",
       "      <td>...</td>\n",
       "      <td>...</td>\n",
       "      <td>...</td>\n",
       "      <td>...</td>\n",
       "      <td>...</td>\n",
       "      <td>...</td>\n",
       "    </tr>\n",
       "    <tr>\n",
       "      <th>3155</th>\n",
       "      <td>2025-06-26</td>\n",
       "      <td>38</td>\n",
       "      <td>Male</td>\n",
       "      <td>North America</td>\n",
       "      <td>Education</td>\n",
       "      <td>Operations Manager</td>\n",
       "      <td>Onsite</td>\n",
       "      <td>52</td>\n",
       "      <td>Depression</td>\n",
       "      <td>Medium</td>\n",
       "      <td>3</td>\n",
       "      <td>Shoulder Pain; Eye Strain; Neck Pain</td>\n",
       "      <td>5</td>\n",
       "      <td>$80K-100K</td>\n",
       "      <td>Shoulder Pain</td>\n",
       "    </tr>\n",
       "    <tr>\n",
       "      <th>3155</th>\n",
       "      <td>2025-06-26</td>\n",
       "      <td>38</td>\n",
       "      <td>Male</td>\n",
       "      <td>North America</td>\n",
       "      <td>Education</td>\n",
       "      <td>Operations Manager</td>\n",
       "      <td>Onsite</td>\n",
       "      <td>52</td>\n",
       "      <td>Depression</td>\n",
       "      <td>Medium</td>\n",
       "      <td>3</td>\n",
       "      <td>Shoulder Pain; Eye Strain; Neck Pain</td>\n",
       "      <td>5</td>\n",
       "      <td>$80K-100K</td>\n",
       "      <td>Eye Strain</td>\n",
       "    </tr>\n",
       "    <tr>\n",
       "      <th>3155</th>\n",
       "      <td>2025-06-26</td>\n",
       "      <td>38</td>\n",
       "      <td>Male</td>\n",
       "      <td>North America</td>\n",
       "      <td>Education</td>\n",
       "      <td>Operations Manager</td>\n",
       "      <td>Onsite</td>\n",
       "      <td>52</td>\n",
       "      <td>Depression</td>\n",
       "      <td>Medium</td>\n",
       "      <td>3</td>\n",
       "      <td>Shoulder Pain; Eye Strain; Neck Pain</td>\n",
       "      <td>5</td>\n",
       "      <td>$80K-100K</td>\n",
       "      <td>Neck Pain</td>\n",
       "    </tr>\n",
       "    <tr>\n",
       "      <th>3156</th>\n",
       "      <td>2025-06-26</td>\n",
       "      <td>54</td>\n",
       "      <td>Female</td>\n",
       "      <td>North America</td>\n",
       "      <td>Healthcare</td>\n",
       "      <td>Technical Writer</td>\n",
       "      <td>Onsite</td>\n",
       "      <td>39</td>\n",
       "      <td>Burnout</td>\n",
       "      <td>Medium</td>\n",
       "      <td>4</td>\n",
       "      <td>Back Pain; Eye Strain</td>\n",
       "      <td>2</td>\n",
       "      <td>$100K-120K</td>\n",
       "      <td>Back Pain</td>\n",
       "    </tr>\n",
       "    <tr>\n",
       "      <th>3156</th>\n",
       "      <td>2025-06-26</td>\n",
       "      <td>54</td>\n",
       "      <td>Female</td>\n",
       "      <td>North America</td>\n",
       "      <td>Healthcare</td>\n",
       "      <td>Technical Writer</td>\n",
       "      <td>Onsite</td>\n",
       "      <td>39</td>\n",
       "      <td>Burnout</td>\n",
       "      <td>Medium</td>\n",
       "      <td>4</td>\n",
       "      <td>Back Pain; Eye Strain</td>\n",
       "      <td>2</td>\n",
       "      <td>$100K-120K</td>\n",
       "      <td>Eye Strain</td>\n",
       "    </tr>\n",
       "  </tbody>\n",
       "</table>\n",
       "<p>6499 rows × 15 columns</p>\n",
       "</div>"
      ],
      "text/plain": [
       "     Survey_Date  Age  Gender         Region               Industry  \\\n",
       "0     2025-06-01   27  Female           Asia  Professional Services   \n",
       "0     2025-06-01   27  Female           Asia  Professional Services   \n",
       "1     2025-06-01   37  Female           Asia  Professional Services   \n",
       "2     2025-06-01   32  Female         Africa              Education   \n",
       "2     2025-06-01   32  Female         Africa              Education   \n",
       "...          ...  ...     ...            ...                    ...   \n",
       "3155  2025-06-26   38    Male  North America              Education   \n",
       "3155  2025-06-26   38    Male  North America              Education   \n",
       "3155  2025-06-26   38    Male  North America              Education   \n",
       "3156  2025-06-26   54  Female  North America             Healthcare   \n",
       "3156  2025-06-26   54  Female  North America             Healthcare   \n",
       "\n",
       "                Job_Role Work_Arrangement  Hours_Per_Week  \\\n",
       "0           Data Analyst           Onsite              64   \n",
       "0           Data Analyst           Onsite              64   \n",
       "1           Data Analyst           Onsite              37   \n",
       "2       Business Analyst           Onsite              36   \n",
       "2       Business Analyst           Onsite              36   \n",
       "...                  ...              ...             ...   \n",
       "3155  Operations Manager           Onsite              52   \n",
       "3155  Operations Manager           Onsite              52   \n",
       "3155  Operations Manager           Onsite              52   \n",
       "3156    Technical Writer           Onsite              39   \n",
       "3156    Technical Writer           Onsite              39   \n",
       "\n",
       "     Mental_Health_Status Burnout_Level  Work_Life_Balance_Score  \\\n",
       "0         Stress Disorder          High                        3   \n",
       "0         Stress Disorder          High                        3   \n",
       "1         Stress Disorder          High                        4   \n",
       "2                    ADHD          High                        3   \n",
       "2                    ADHD          High                        3   \n",
       "...                   ...           ...                      ...   \n",
       "3155           Depression        Medium                        3   \n",
       "3155           Depression        Medium                        3   \n",
       "3155           Depression        Medium                        3   \n",
       "3156              Burnout        Medium                        4   \n",
       "3156              Burnout        Medium                        4   \n",
       "\n",
       "                    Physical_Health_Issues  Social_Isolation_Score  \\\n",
       "0                 Shoulder Pain; Neck Pain                       2   \n",
       "0                 Shoulder Pain; Neck Pain                       2   \n",
       "1                                Back Pain                       2   \n",
       "2                Shoulder Pain; Eye Strain                       2   \n",
       "2                Shoulder Pain; Eye Strain                       2   \n",
       "...                                    ...                     ...   \n",
       "3155  Shoulder Pain; Eye Strain; Neck Pain                       5   \n",
       "3155  Shoulder Pain; Eye Strain; Neck Pain                       5   \n",
       "3155  Shoulder Pain; Eye Strain; Neck Pain                       5   \n",
       "3156                 Back Pain; Eye Strain                       2   \n",
       "3156                 Back Pain; Eye Strain                       2   \n",
       "\n",
       "     Salary_Range Physical_Issue_Split  \n",
       "0        $40K-60K        Shoulder Pain  \n",
       "0        $40K-60K            Neck Pain  \n",
       "1       $80K-100K            Back Pain  \n",
       "2       $80K-100K        Shoulder Pain  \n",
       "2       $80K-100K           Eye Strain  \n",
       "...           ...                  ...  \n",
       "3155    $80K-100K        Shoulder Pain  \n",
       "3155    $80K-100K           Eye Strain  \n",
       "3155    $80K-100K            Neck Pain  \n",
       "3156   $100K-120K            Back Pain  \n",
       "3156   $100K-120K           Eye Strain  \n",
       "\n",
       "[6499 rows x 15 columns]"
      ]
     },
     "execution_count": 33,
     "metadata": {},
     "output_type": "execute_result"
    }
   ],
   "source": [
    "#Physical Health Issues vs Mental Health Status\n",
    "df_exploded = df.assign(\n",
    "    Physical_Issue_Split=df['Physical_Health_Issues'].str.split('; ')\n",
    ").explode('Physical_Issue_Split')\n",
    "df_exploded"
   ]
  },
  {
   "cell_type": "code",
   "execution_count": 34,
   "id": "718a674b-cf47-4c35-bb70-4f68a27ea9e4",
   "metadata": {},
   "outputs": [
    {
     "data": {
      "text/html": [
       "<div>\n",
       "<style scoped>\n",
       "    .dataframe tbody tr th:only-of-type {\n",
       "        vertical-align: middle;\n",
       "    }\n",
       "\n",
       "    .dataframe tbody tr th {\n",
       "        vertical-align: top;\n",
       "    }\n",
       "\n",
       "    .dataframe thead th {\n",
       "        text-align: right;\n",
       "    }\n",
       "</style>\n",
       "<table border=\"1\" class=\"dataframe\">\n",
       "  <thead>\n",
       "    <tr style=\"text-align: right;\">\n",
       "      <th></th>\n",
       "      <th>Physical_Issue_Split</th>\n",
       "      <th>Mental_Health_Status</th>\n",
       "      <th>Count</th>\n",
       "    </tr>\n",
       "  </thead>\n",
       "  <tbody>\n",
       "    <tr>\n",
       "      <th>0</th>\n",
       "      <td>Back Pain</td>\n",
       "      <td>ADHD</td>\n",
       "      <td>195</td>\n",
       "    </tr>\n",
       "    <tr>\n",
       "      <th>1</th>\n",
       "      <td>Back Pain</td>\n",
       "      <td>Anxiety</td>\n",
       "      <td>186</td>\n",
       "    </tr>\n",
       "    <tr>\n",
       "      <th>2</th>\n",
       "      <td>Back Pain</td>\n",
       "      <td>Burnout</td>\n",
       "      <td>191</td>\n",
       "    </tr>\n",
       "    <tr>\n",
       "      <th>3</th>\n",
       "      <td>Back Pain</td>\n",
       "      <td>Depression</td>\n",
       "      <td>195</td>\n",
       "    </tr>\n",
       "    <tr>\n",
       "      <th>4</th>\n",
       "      <td>Back Pain</td>\n",
       "      <td>PTSD</td>\n",
       "      <td>617</td>\n",
       "    </tr>\n",
       "    <tr>\n",
       "      <th>5</th>\n",
       "      <td>Back Pain</td>\n",
       "      <td>Stress Disorder</td>\n",
       "      <td>179</td>\n",
       "    </tr>\n",
       "    <tr>\n",
       "      <th>6</th>\n",
       "      <td>Eye Strain</td>\n",
       "      <td>ADHD</td>\n",
       "      <td>222</td>\n",
       "    </tr>\n",
       "    <tr>\n",
       "      <th>7</th>\n",
       "      <td>Eye Strain</td>\n",
       "      <td>Anxiety</td>\n",
       "      <td>244</td>\n",
       "    </tr>\n",
       "    <tr>\n",
       "      <th>8</th>\n",
       "      <td>Eye Strain</td>\n",
       "      <td>Burnout</td>\n",
       "      <td>241</td>\n",
       "    </tr>\n",
       "    <tr>\n",
       "      <th>9</th>\n",
       "      <td>Eye Strain</td>\n",
       "      <td>Depression</td>\n",
       "      <td>227</td>\n",
       "    </tr>\n",
       "    <tr>\n",
       "      <th>10</th>\n",
       "      <td>Eye Strain</td>\n",
       "      <td>PTSD</td>\n",
       "      <td>728</td>\n",
       "    </tr>\n",
       "    <tr>\n",
       "      <th>11</th>\n",
       "      <td>Eye Strain</td>\n",
       "      <td>Stress Disorder</td>\n",
       "      <td>222</td>\n",
       "    </tr>\n",
       "    <tr>\n",
       "      <th>12</th>\n",
       "      <td>Neck Pain</td>\n",
       "      <td>ADHD</td>\n",
       "      <td>98</td>\n",
       "    </tr>\n",
       "    <tr>\n",
       "      <th>13</th>\n",
       "      <td>Neck Pain</td>\n",
       "      <td>Anxiety</td>\n",
       "      <td>91</td>\n",
       "    </tr>\n",
       "    <tr>\n",
       "      <th>14</th>\n",
       "      <td>Neck Pain</td>\n",
       "      <td>Burnout</td>\n",
       "      <td>104</td>\n",
       "    </tr>\n",
       "    <tr>\n",
       "      <th>15</th>\n",
       "      <td>Neck Pain</td>\n",
       "      <td>Depression</td>\n",
       "      <td>104</td>\n",
       "    </tr>\n",
       "    <tr>\n",
       "      <th>16</th>\n",
       "      <td>Neck Pain</td>\n",
       "      <td>PTSD</td>\n",
       "      <td>298</td>\n",
       "    </tr>\n",
       "    <tr>\n",
       "      <th>17</th>\n",
       "      <td>Neck Pain</td>\n",
       "      <td>Stress Disorder</td>\n",
       "      <td>103</td>\n",
       "    </tr>\n",
       "    <tr>\n",
       "      <th>18</th>\n",
       "      <td>Shoulder Pain</td>\n",
       "      <td>ADHD</td>\n",
       "      <td>192</td>\n",
       "    </tr>\n",
       "    <tr>\n",
       "      <th>19</th>\n",
       "      <td>Shoulder Pain</td>\n",
       "      <td>Anxiety</td>\n",
       "      <td>228</td>\n",
       "    </tr>\n",
       "    <tr>\n",
       "      <th>20</th>\n",
       "      <td>Shoulder Pain</td>\n",
       "      <td>Burnout</td>\n",
       "      <td>238</td>\n",
       "    </tr>\n",
       "    <tr>\n",
       "      <th>21</th>\n",
       "      <td>Shoulder Pain</td>\n",
       "      <td>Depression</td>\n",
       "      <td>226</td>\n",
       "    </tr>\n",
       "    <tr>\n",
       "      <th>22</th>\n",
       "      <td>Shoulder Pain</td>\n",
       "      <td>PTSD</td>\n",
       "      <td>705</td>\n",
       "    </tr>\n",
       "    <tr>\n",
       "      <th>23</th>\n",
       "      <td>Shoulder Pain</td>\n",
       "      <td>Stress Disorder</td>\n",
       "      <td>198</td>\n",
       "    </tr>\n",
       "    <tr>\n",
       "      <th>24</th>\n",
       "      <td>Wrist Pain</td>\n",
       "      <td>ADHD</td>\n",
       "      <td>60</td>\n",
       "    </tr>\n",
       "    <tr>\n",
       "      <th>25</th>\n",
       "      <td>Wrist Pain</td>\n",
       "      <td>Anxiety</td>\n",
       "      <td>72</td>\n",
       "    </tr>\n",
       "    <tr>\n",
       "      <th>26</th>\n",
       "      <td>Wrist Pain</td>\n",
       "      <td>Burnout</td>\n",
       "      <td>50</td>\n",
       "    </tr>\n",
       "    <tr>\n",
       "      <th>27</th>\n",
       "      <td>Wrist Pain</td>\n",
       "      <td>Depression</td>\n",
       "      <td>46</td>\n",
       "    </tr>\n",
       "    <tr>\n",
       "      <th>28</th>\n",
       "      <td>Wrist Pain</td>\n",
       "      <td>PTSD</td>\n",
       "      <td>186</td>\n",
       "    </tr>\n",
       "    <tr>\n",
       "      <th>29</th>\n",
       "      <td>Wrist Pain</td>\n",
       "      <td>Stress Disorder</td>\n",
       "      <td>53</td>\n",
       "    </tr>\n",
       "  </tbody>\n",
       "</table>\n",
       "</div>"
      ],
      "text/plain": [
       "   Physical_Issue_Split Mental_Health_Status  Count\n",
       "0             Back Pain                 ADHD    195\n",
       "1             Back Pain              Anxiety    186\n",
       "2             Back Pain              Burnout    191\n",
       "3             Back Pain           Depression    195\n",
       "4             Back Pain                 PTSD    617\n",
       "5             Back Pain      Stress Disorder    179\n",
       "6            Eye Strain                 ADHD    222\n",
       "7            Eye Strain              Anxiety    244\n",
       "8            Eye Strain              Burnout    241\n",
       "9            Eye Strain           Depression    227\n",
       "10           Eye Strain                 PTSD    728\n",
       "11           Eye Strain      Stress Disorder    222\n",
       "12            Neck Pain                 ADHD     98\n",
       "13            Neck Pain              Anxiety     91\n",
       "14            Neck Pain              Burnout    104\n",
       "15            Neck Pain           Depression    104\n",
       "16            Neck Pain                 PTSD    298\n",
       "17            Neck Pain      Stress Disorder    103\n",
       "18        Shoulder Pain                 ADHD    192\n",
       "19        Shoulder Pain              Anxiety    228\n",
       "20        Shoulder Pain              Burnout    238\n",
       "21        Shoulder Pain           Depression    226\n",
       "22        Shoulder Pain                 PTSD    705\n",
       "23        Shoulder Pain      Stress Disorder    198\n",
       "24           Wrist Pain                 ADHD     60\n",
       "25           Wrist Pain              Anxiety     72\n",
       "26           Wrist Pain              Burnout     50\n",
       "27           Wrist Pain           Depression     46\n",
       "28           Wrist Pain                 PTSD    186\n",
       "29           Wrist Pain      Stress Disorder     53"
      ]
     },
     "execution_count": 34,
     "metadata": {},
     "output_type": "execute_result"
    }
   ],
   "source": [
    "grouped = df_exploded.groupby(\n",
    "    ['Physical_Issue_Split', 'Mental_Health_Status']\n",
    ").size().reset_index(name='Count')\n",
    "grouped"
   ]
  },
  {
   "cell_type": "code",
   "execution_count": 35,
   "id": "f5e4153b-721a-405a-962c-142d2c67ca9f",
   "metadata": {},
   "outputs": [
    {
     "data": {
      "application/vnd.plotly.v1+json": {
       "config": {
        "plotlyServerURL": "https://plot.ly"
       },
       "data": [
        {
         "hovertemplate": "Mental_Health_Status=ADHD<br>Physical_Issue_Split=%{x}<br>Count=%{y}<extra></extra>",
         "legendgroup": "ADHD",
         "marker": {
          "color": "#636efa",
          "pattern": {
           "shape": ""
          }
         },
         "name": "ADHD",
         "orientation": "v",
         "showlegend": true,
         "textposition": "auto",
         "type": "bar",
         "x": [
          "Back Pain",
          "Eye Strain",
          "Neck Pain",
          "Shoulder Pain",
          "Wrist Pain"
         ],
         "xaxis": "x",
         "y": {
          "_inputArray": {
           "0": 195,
           "1": 222,
           "2": 98,
           "3": 192,
           "4": 60,
           "bdata": "wwDeAGIAwAA8AA==",
           "dtype": "i2",
           "shape": "5"
          },
          "bdata": "wwDeAGIAwAA8AA==",
          "dtype": "i2"
         },
         "yaxis": "y"
        },
        {
         "hovertemplate": "Mental_Health_Status=Anxiety<br>Physical_Issue_Split=%{x}<br>Count=%{y}<extra></extra>",
         "legendgroup": "Anxiety",
         "marker": {
          "color": "#EF553B",
          "pattern": {
           "shape": ""
          }
         },
         "name": "Anxiety",
         "orientation": "v",
         "showlegend": true,
         "textposition": "auto",
         "type": "bar",
         "x": [
          "Back Pain",
          "Eye Strain",
          "Neck Pain",
          "Shoulder Pain",
          "Wrist Pain"
         ],
         "xaxis": "x",
         "y": {
          "_inputArray": {
           "0": 186,
           "1": 244,
           "2": 91,
           "3": 228,
           "4": 72,
           "bdata": "ugD0AFsA5ABIAA==",
           "dtype": "i2",
           "shape": "5"
          },
          "bdata": "ugD0AFsA5ABIAA==",
          "dtype": "i2"
         },
         "yaxis": "y"
        },
        {
         "hovertemplate": "Mental_Health_Status=Burnout<br>Physical_Issue_Split=%{x}<br>Count=%{y}<extra></extra>",
         "legendgroup": "Burnout",
         "marker": {
          "color": "#00cc96",
          "pattern": {
           "shape": ""
          }
         },
         "name": "Burnout",
         "orientation": "v",
         "showlegend": true,
         "textposition": "auto",
         "type": "bar",
         "x": [
          "Back Pain",
          "Eye Strain",
          "Neck Pain",
          "Shoulder Pain",
          "Wrist Pain"
         ],
         "xaxis": "x",
         "y": {
          "_inputArray": {
           "0": 191,
           "1": 241,
           "2": 104,
           "3": 238,
           "4": 50,
           "bdata": "vwDxAGgA7gAyAA==",
           "dtype": "i2",
           "shape": "5"
          },
          "bdata": "vwDxAGgA7gAyAA==",
          "dtype": "i2"
         },
         "yaxis": "y"
        },
        {
         "hovertemplate": "Mental_Health_Status=Depression<br>Physical_Issue_Split=%{x}<br>Count=%{y}<extra></extra>",
         "legendgroup": "Depression",
         "marker": {
          "color": "#ab63fa",
          "pattern": {
           "shape": ""
          }
         },
         "name": "Depression",
         "orientation": "v",
         "showlegend": true,
         "textposition": "auto",
         "type": "bar",
         "x": [
          "Back Pain",
          "Eye Strain",
          "Neck Pain",
          "Shoulder Pain",
          "Wrist Pain"
         ],
         "xaxis": "x",
         "y": {
          "_inputArray": {
           "0": 195,
           "1": 227,
           "2": 104,
           "3": 226,
           "4": 46,
           "bdata": "wwDjAGgA4gAuAA==",
           "dtype": "i2",
           "shape": "5"
          },
          "bdata": "wwDjAGgA4gAuAA==",
          "dtype": "i2"
         },
         "yaxis": "y"
        },
        {
         "hovertemplate": "Mental_Health_Status=PTSD<br>Physical_Issue_Split=%{x}<br>Count=%{y}<extra></extra>",
         "legendgroup": "PTSD",
         "marker": {
          "color": "#FFA15A",
          "pattern": {
           "shape": ""
          }
         },
         "name": "PTSD",
         "orientation": "v",
         "showlegend": true,
         "textposition": "auto",
         "type": "bar",
         "x": [
          "Back Pain",
          "Eye Strain",
          "Neck Pain",
          "Shoulder Pain",
          "Wrist Pain"
         ],
         "xaxis": "x",
         "y": {
          "_inputArray": {
           "0": 617,
           "1": 728,
           "2": 298,
           "3": 705,
           "4": 186,
           "bdata": "aQLYAioBwQK6AA==",
           "dtype": "i2",
           "shape": "5"
          },
          "bdata": "aQLYAioBwQK6AA==",
          "dtype": "i2"
         },
         "yaxis": "y"
        },
        {
         "hovertemplate": "Mental_Health_Status=Stress Disorder<br>Physical_Issue_Split=%{x}<br>Count=%{y}<extra></extra>",
         "legendgroup": "Stress Disorder",
         "marker": {
          "color": "#19d3f3",
          "pattern": {
           "shape": ""
          }
         },
         "name": "Stress Disorder",
         "orientation": "v",
         "showlegend": true,
         "textposition": "auto",
         "type": "bar",
         "x": [
          "Back Pain",
          "Eye Strain",
          "Neck Pain",
          "Shoulder Pain",
          "Wrist Pain"
         ],
         "xaxis": "x",
         "y": {
          "_inputArray": {
           "0": 179,
           "1": 222,
           "2": 103,
           "3": 198,
           "4": 53,
           "bdata": "swDeAGcAxgA1AA==",
           "dtype": "i2",
           "shape": "5"
          },
          "bdata": "swDeAGcAxgA1AA==",
          "dtype": "i2"
         },
         "yaxis": "y"
        }
       ],
       "layout": {
        "autosize": true,
        "barmode": "stack",
        "legend": {
         "title": {
          "text": "Mental_Health_Status"
         },
         "tracegroupgap": 0
        },
        "template": {
         "data": {
          "bar": [
           {
            "error_x": {
             "color": "#2a3f5f"
            },
            "error_y": {
             "color": "#2a3f5f"
            },
            "marker": {
             "line": {
              "color": "#E5ECF6",
              "width": 0.5
             },
             "pattern": {
              "fillmode": "overlay",
              "size": 10,
              "solidity": 0.2
             }
            },
            "type": "bar"
           }
          ],
          "barpolar": [
           {
            "marker": {
             "line": {
              "color": "#E5ECF6",
              "width": 0.5
             },
             "pattern": {
              "fillmode": "overlay",
              "size": 10,
              "solidity": 0.2
             }
            },
            "type": "barpolar"
           }
          ],
          "carpet": [
           {
            "aaxis": {
             "endlinecolor": "#2a3f5f",
             "gridcolor": "white",
             "linecolor": "white",
             "minorgridcolor": "white",
             "startlinecolor": "#2a3f5f"
            },
            "baxis": {
             "endlinecolor": "#2a3f5f",
             "gridcolor": "white",
             "linecolor": "white",
             "minorgridcolor": "white",
             "startlinecolor": "#2a3f5f"
            },
            "type": "carpet"
           }
          ],
          "choropleth": [
           {
            "colorbar": {
             "outlinewidth": 0,
             "ticks": ""
            },
            "type": "choropleth"
           }
          ],
          "contour": [
           {
            "colorbar": {
             "outlinewidth": 0,
             "ticks": ""
            },
            "colorscale": [
             [
              0,
              "#0d0887"
             ],
             [
              0.1111111111111111,
              "#46039f"
             ],
             [
              0.2222222222222222,
              "#7201a8"
             ],
             [
              0.3333333333333333,
              "#9c179e"
             ],
             [
              0.4444444444444444,
              "#bd3786"
             ],
             [
              0.5555555555555556,
              "#d8576b"
             ],
             [
              0.6666666666666666,
              "#ed7953"
             ],
             [
              0.7777777777777778,
              "#fb9f3a"
             ],
             [
              0.8888888888888888,
              "#fdca26"
             ],
             [
              1,
              "#f0f921"
             ]
            ],
            "type": "contour"
           }
          ],
          "contourcarpet": [
           {
            "colorbar": {
             "outlinewidth": 0,
             "ticks": ""
            },
            "type": "contourcarpet"
           }
          ],
          "heatmap": [
           {
            "colorbar": {
             "outlinewidth": 0,
             "ticks": ""
            },
            "colorscale": [
             [
              0,
              "#0d0887"
             ],
             [
              0.1111111111111111,
              "#46039f"
             ],
             [
              0.2222222222222222,
              "#7201a8"
             ],
             [
              0.3333333333333333,
              "#9c179e"
             ],
             [
              0.4444444444444444,
              "#bd3786"
             ],
             [
              0.5555555555555556,
              "#d8576b"
             ],
             [
              0.6666666666666666,
              "#ed7953"
             ],
             [
              0.7777777777777778,
              "#fb9f3a"
             ],
             [
              0.8888888888888888,
              "#fdca26"
             ],
             [
              1,
              "#f0f921"
             ]
            ],
            "type": "heatmap"
           }
          ],
          "histogram": [
           {
            "marker": {
             "pattern": {
              "fillmode": "overlay",
              "size": 10,
              "solidity": 0.2
             }
            },
            "type": "histogram"
           }
          ],
          "histogram2d": [
           {
            "colorbar": {
             "outlinewidth": 0,
             "ticks": ""
            },
            "colorscale": [
             [
              0,
              "#0d0887"
             ],
             [
              0.1111111111111111,
              "#46039f"
             ],
             [
              0.2222222222222222,
              "#7201a8"
             ],
             [
              0.3333333333333333,
              "#9c179e"
             ],
             [
              0.4444444444444444,
              "#bd3786"
             ],
             [
              0.5555555555555556,
              "#d8576b"
             ],
             [
              0.6666666666666666,
              "#ed7953"
             ],
             [
              0.7777777777777778,
              "#fb9f3a"
             ],
             [
              0.8888888888888888,
              "#fdca26"
             ],
             [
              1,
              "#f0f921"
             ]
            ],
            "type": "histogram2d"
           }
          ],
          "histogram2dcontour": [
           {
            "colorbar": {
             "outlinewidth": 0,
             "ticks": ""
            },
            "colorscale": [
             [
              0,
              "#0d0887"
             ],
             [
              0.1111111111111111,
              "#46039f"
             ],
             [
              0.2222222222222222,
              "#7201a8"
             ],
             [
              0.3333333333333333,
              "#9c179e"
             ],
             [
              0.4444444444444444,
              "#bd3786"
             ],
             [
              0.5555555555555556,
              "#d8576b"
             ],
             [
              0.6666666666666666,
              "#ed7953"
             ],
             [
              0.7777777777777778,
              "#fb9f3a"
             ],
             [
              0.8888888888888888,
              "#fdca26"
             ],
             [
              1,
              "#f0f921"
             ]
            ],
            "type": "histogram2dcontour"
           }
          ],
          "mesh3d": [
           {
            "colorbar": {
             "outlinewidth": 0,
             "ticks": ""
            },
            "type": "mesh3d"
           }
          ],
          "parcoords": [
           {
            "line": {
             "colorbar": {
              "outlinewidth": 0,
              "ticks": ""
             }
            },
            "type": "parcoords"
           }
          ],
          "pie": [
           {
            "automargin": true,
            "type": "pie"
           }
          ],
          "scatter": [
           {
            "fillpattern": {
             "fillmode": "overlay",
             "size": 10,
             "solidity": 0.2
            },
            "type": "scatter"
           }
          ],
          "scatter3d": [
           {
            "line": {
             "colorbar": {
              "outlinewidth": 0,
              "ticks": ""
             }
            },
            "marker": {
             "colorbar": {
              "outlinewidth": 0,
              "ticks": ""
             }
            },
            "type": "scatter3d"
           }
          ],
          "scattercarpet": [
           {
            "marker": {
             "colorbar": {
              "outlinewidth": 0,
              "ticks": ""
             }
            },
            "type": "scattercarpet"
           }
          ],
          "scattergeo": [
           {
            "marker": {
             "colorbar": {
              "outlinewidth": 0,
              "ticks": ""
             }
            },
            "type": "scattergeo"
           }
          ],
          "scattergl": [
           {
            "marker": {
             "colorbar": {
              "outlinewidth": 0,
              "ticks": ""
             }
            },
            "type": "scattergl"
           }
          ],
          "scattermap": [
           {
            "marker": {
             "colorbar": {
              "outlinewidth": 0,
              "ticks": ""
             }
            },
            "type": "scattermap"
           }
          ],
          "scattermapbox": [
           {
            "marker": {
             "colorbar": {
              "outlinewidth": 0,
              "ticks": ""
             }
            },
            "type": "scattermapbox"
           }
          ],
          "scatterpolar": [
           {
            "marker": {
             "colorbar": {
              "outlinewidth": 0,
              "ticks": ""
             }
            },
            "type": "scatterpolar"
           }
          ],
          "scatterpolargl": [
           {
            "marker": {
             "colorbar": {
              "outlinewidth": 0,
              "ticks": ""
             }
            },
            "type": "scatterpolargl"
           }
          ],
          "scatterternary": [
           {
            "marker": {
             "colorbar": {
              "outlinewidth": 0,
              "ticks": ""
             }
            },
            "type": "scatterternary"
           }
          ],
          "surface": [
           {
            "colorbar": {
             "outlinewidth": 0,
             "ticks": ""
            },
            "colorscale": [
             [
              0,
              "#0d0887"
             ],
             [
              0.1111111111111111,
              "#46039f"
             ],
             [
              0.2222222222222222,
              "#7201a8"
             ],
             [
              0.3333333333333333,
              "#9c179e"
             ],
             [
              0.4444444444444444,
              "#bd3786"
             ],
             [
              0.5555555555555556,
              "#d8576b"
             ],
             [
              0.6666666666666666,
              "#ed7953"
             ],
             [
              0.7777777777777778,
              "#fb9f3a"
             ],
             [
              0.8888888888888888,
              "#fdca26"
             ],
             [
              1,
              "#f0f921"
             ]
            ],
            "type": "surface"
           }
          ],
          "table": [
           {
            "cells": {
             "fill": {
              "color": "#EBF0F8"
             },
             "line": {
              "color": "white"
             }
            },
            "header": {
             "fill": {
              "color": "#C8D4E3"
             },
             "line": {
              "color": "white"
             }
            },
            "type": "table"
           }
          ]
         },
         "layout": {
          "annotationdefaults": {
           "arrowcolor": "#2a3f5f",
           "arrowhead": 0,
           "arrowwidth": 1
          },
          "autotypenumbers": "strict",
          "coloraxis": {
           "colorbar": {
            "outlinewidth": 0,
            "ticks": ""
           }
          },
          "colorscale": {
           "diverging": [
            [
             0,
             "#8e0152"
            ],
            [
             0.1,
             "#c51b7d"
            ],
            [
             0.2,
             "#de77ae"
            ],
            [
             0.3,
             "#f1b6da"
            ],
            [
             0.4,
             "#fde0ef"
            ],
            [
             0.5,
             "#f7f7f7"
            ],
            [
             0.6,
             "#e6f5d0"
            ],
            [
             0.7,
             "#b8e186"
            ],
            [
             0.8,
             "#7fbc41"
            ],
            [
             0.9,
             "#4d9221"
            ],
            [
             1,
             "#276419"
            ]
           ],
           "sequential": [
            [
             0,
             "#0d0887"
            ],
            [
             0.1111111111111111,
             "#46039f"
            ],
            [
             0.2222222222222222,
             "#7201a8"
            ],
            [
             0.3333333333333333,
             "#9c179e"
            ],
            [
             0.4444444444444444,
             "#bd3786"
            ],
            [
             0.5555555555555556,
             "#d8576b"
            ],
            [
             0.6666666666666666,
             "#ed7953"
            ],
            [
             0.7777777777777778,
             "#fb9f3a"
            ],
            [
             0.8888888888888888,
             "#fdca26"
            ],
            [
             1,
             "#f0f921"
            ]
           ],
           "sequentialminus": [
            [
             0,
             "#0d0887"
            ],
            [
             0.1111111111111111,
             "#46039f"
            ],
            [
             0.2222222222222222,
             "#7201a8"
            ],
            [
             0.3333333333333333,
             "#9c179e"
            ],
            [
             0.4444444444444444,
             "#bd3786"
            ],
            [
             0.5555555555555556,
             "#d8576b"
            ],
            [
             0.6666666666666666,
             "#ed7953"
            ],
            [
             0.7777777777777778,
             "#fb9f3a"
            ],
            [
             0.8888888888888888,
             "#fdca26"
            ],
            [
             1,
             "#f0f921"
            ]
           ]
          },
          "colorway": [
           "#636efa",
           "#EF553B",
           "#00cc96",
           "#ab63fa",
           "#FFA15A",
           "#19d3f3",
           "#FF6692",
           "#B6E880",
           "#FF97FF",
           "#FECB52"
          ],
          "font": {
           "color": "#2a3f5f"
          },
          "geo": {
           "bgcolor": "white",
           "lakecolor": "white",
           "landcolor": "#E5ECF6",
           "showlakes": true,
           "showland": true,
           "subunitcolor": "white"
          },
          "hoverlabel": {
           "align": "left"
          },
          "hovermode": "closest",
          "mapbox": {
           "style": "light"
          },
          "paper_bgcolor": "white",
          "plot_bgcolor": "#E5ECF6",
          "polar": {
           "angularaxis": {
            "gridcolor": "white",
            "linecolor": "white",
            "ticks": ""
           },
           "bgcolor": "#E5ECF6",
           "radialaxis": {
            "gridcolor": "white",
            "linecolor": "white",
            "ticks": ""
           }
          },
          "scene": {
           "xaxis": {
            "backgroundcolor": "#E5ECF6",
            "gridcolor": "white",
            "gridwidth": 2,
            "linecolor": "white",
            "showbackground": true,
            "ticks": "",
            "zerolinecolor": "white"
           },
           "yaxis": {
            "backgroundcolor": "#E5ECF6",
            "gridcolor": "white",
            "gridwidth": 2,
            "linecolor": "white",
            "showbackground": true,
            "ticks": "",
            "zerolinecolor": "white"
           },
           "zaxis": {
            "backgroundcolor": "#E5ECF6",
            "gridcolor": "white",
            "gridwidth": 2,
            "linecolor": "white",
            "showbackground": true,
            "ticks": "",
            "zerolinecolor": "white"
           }
          },
          "shapedefaults": {
           "line": {
            "color": "#2a3f5f"
           }
          },
          "ternary": {
           "aaxis": {
            "gridcolor": "white",
            "linecolor": "white",
            "ticks": ""
           },
           "baxis": {
            "gridcolor": "white",
            "linecolor": "white",
            "ticks": ""
           },
           "bgcolor": "#E5ECF6",
           "caxis": {
            "gridcolor": "white",
            "linecolor": "white",
            "ticks": ""
           }
          },
          "title": {
           "x": 0.05
          },
          "xaxis": {
           "automargin": true,
           "gridcolor": "white",
           "linecolor": "white",
           "ticks": "",
           "title": {
            "standoff": 15
           },
           "zerolinecolor": "white",
           "zerolinewidth": 2
          },
          "yaxis": {
           "automargin": true,
           "gridcolor": "white",
           "linecolor": "white",
           "ticks": "",
           "title": {
            "standoff": 15
           },
           "zerolinecolor": "white",
           "zerolinewidth": 2
          }
         }
        },
        "title": {
         "text": "Individual Physical Health Issues vs Mental Health",
         "x": 0.5
        },
        "xaxis": {
         "anchor": "y",
         "autorange": true,
         "domain": [
          0,
          1
         ],
         "range": [
          -0.5,
          4.5
         ],
         "title": {
          "text": "Physical Issue"
         },
         "type": "category"
        },
        "yaxis": {
         "anchor": "x",
         "autorange": true,
         "domain": [
          0,
          1
         ],
         "range": [
          0,
          1983.157894736842
         ],
         "title": {
          "text": "Count"
         },
         "type": "linear"
        }
       }
      }
     },
     "metadata": {},
     "output_type": "display_data"
    }
   ],
   "source": [
    "fig = px.bar(grouped, x='Physical_Issue_Split',y='Count',color='Mental_Health_Status',title='Individual Physical Health Issues vs Mental Health',\n",
    "             barmode='stack')\n",
    "fig.update_layout(title_x=0.5, xaxis_title='Physical Issue', yaxis_title='Count')\n",
    "fig.show()\n"
   ]
  },
  {
   "cell_type": "code",
   "execution_count": 36,
   "id": "35199d81-6583-47f2-ba31-f9058389a4e1",
   "metadata": {},
   "outputs": [
    {
     "data": {
      "text/html": [
       "<div>\n",
       "<style scoped>\n",
       "    .dataframe tbody tr th:only-of-type {\n",
       "        vertical-align: middle;\n",
       "    }\n",
       "\n",
       "    .dataframe tbody tr th {\n",
       "        vertical-align: top;\n",
       "    }\n",
       "\n",
       "    .dataframe thead th {\n",
       "        text-align: right;\n",
       "    }\n",
       "</style>\n",
       "<table border=\"1\" class=\"dataframe\">\n",
       "  <thead>\n",
       "    <tr style=\"text-align: right;\">\n",
       "      <th></th>\n",
       "      <th>Physical_Issue_Split</th>\n",
       "      <th>Work_Arrangement</th>\n",
       "      <th>Count</th>\n",
       "    </tr>\n",
       "  </thead>\n",
       "  <tbody>\n",
       "    <tr>\n",
       "      <th>0</th>\n",
       "      <td>Back Pain</td>\n",
       "      <td>Hybrid</td>\n",
       "      <td>488</td>\n",
       "    </tr>\n",
       "    <tr>\n",
       "      <th>1</th>\n",
       "      <td>Back Pain</td>\n",
       "      <td>Onsite</td>\n",
       "      <td>778</td>\n",
       "    </tr>\n",
       "    <tr>\n",
       "      <th>2</th>\n",
       "      <td>Back Pain</td>\n",
       "      <td>Remote</td>\n",
       "      <td>297</td>\n",
       "    </tr>\n",
       "    <tr>\n",
       "      <th>3</th>\n",
       "      <td>Eye Strain</td>\n",
       "      <td>Hybrid</td>\n",
       "      <td>603</td>\n",
       "    </tr>\n",
       "    <tr>\n",
       "      <th>4</th>\n",
       "      <td>Eye Strain</td>\n",
       "      <td>Onsite</td>\n",
       "      <td>935</td>\n",
       "    </tr>\n",
       "    <tr>\n",
       "      <th>5</th>\n",
       "      <td>Eye Strain</td>\n",
       "      <td>Remote</td>\n",
       "      <td>346</td>\n",
       "    </tr>\n",
       "    <tr>\n",
       "      <th>6</th>\n",
       "      <td>Neck Pain</td>\n",
       "      <td>Hybrid</td>\n",
       "      <td>229</td>\n",
       "    </tr>\n",
       "    <tr>\n",
       "      <th>7</th>\n",
       "      <td>Neck Pain</td>\n",
       "      <td>Onsite</td>\n",
       "      <td>398</td>\n",
       "    </tr>\n",
       "    <tr>\n",
       "      <th>8</th>\n",
       "      <td>Neck Pain</td>\n",
       "      <td>Remote</td>\n",
       "      <td>171</td>\n",
       "    </tr>\n",
       "    <tr>\n",
       "      <th>9</th>\n",
       "      <td>Shoulder Pain</td>\n",
       "      <td>Hybrid</td>\n",
       "      <td>588</td>\n",
       "    </tr>\n",
       "    <tr>\n",
       "      <th>10</th>\n",
       "      <td>Shoulder Pain</td>\n",
       "      <td>Onsite</td>\n",
       "      <td>880</td>\n",
       "    </tr>\n",
       "    <tr>\n",
       "      <th>11</th>\n",
       "      <td>Shoulder Pain</td>\n",
       "      <td>Remote</td>\n",
       "      <td>319</td>\n",
       "    </tr>\n",
       "    <tr>\n",
       "      <th>12</th>\n",
       "      <td>Wrist Pain</td>\n",
       "      <td>Hybrid</td>\n",
       "      <td>132</td>\n",
       "    </tr>\n",
       "    <tr>\n",
       "      <th>13</th>\n",
       "      <td>Wrist Pain</td>\n",
       "      <td>Onsite</td>\n",
       "      <td>237</td>\n",
       "    </tr>\n",
       "    <tr>\n",
       "      <th>14</th>\n",
       "      <td>Wrist Pain</td>\n",
       "      <td>Remote</td>\n",
       "      <td>98</td>\n",
       "    </tr>\n",
       "  </tbody>\n",
       "</table>\n",
       "</div>"
      ],
      "text/plain": [
       "   Physical_Issue_Split Work_Arrangement  Count\n",
       "0             Back Pain           Hybrid    488\n",
       "1             Back Pain           Onsite    778\n",
       "2             Back Pain           Remote    297\n",
       "3            Eye Strain           Hybrid    603\n",
       "4            Eye Strain           Onsite    935\n",
       "5            Eye Strain           Remote    346\n",
       "6             Neck Pain           Hybrid    229\n",
       "7             Neck Pain           Onsite    398\n",
       "8             Neck Pain           Remote    171\n",
       "9         Shoulder Pain           Hybrid    588\n",
       "10        Shoulder Pain           Onsite    880\n",
       "11        Shoulder Pain           Remote    319\n",
       "12           Wrist Pain           Hybrid    132\n",
       "13           Wrist Pain           Onsite    237\n",
       "14           Wrist Pain           Remote     98"
      ]
     },
     "execution_count": 36,
     "metadata": {},
     "output_type": "execute_result"
    }
   ],
   "source": [
    "grouped = df_exploded.groupby(\n",
    "    ['Physical_Issue_Split', 'Work_Arrangement']\n",
    ").size().reset_index(name='Count')\n",
    "grouped"
   ]
  },
  {
   "cell_type": "code",
   "execution_count": 37,
   "id": "d1875820-d8b0-4de1-b671-7b225298437f",
   "metadata": {},
   "outputs": [
    {
     "data": {
      "application/vnd.plotly.v1+json": {
       "config": {
        "plotlyServerURL": "https://plot.ly"
       },
       "data": [
        {
         "branchvalues": "total",
         "domain": {
          "x": [
           0,
           1
          ],
          "y": [
           0,
           1
          ]
         },
         "hovertemplate": "labels=%{label}<br>Count=%{value}<br>parent=%{parent}<br>id=%{id}<extra></extra>",
         "ids": [
          "Hybrid/Back Pain",
          "Onsite/Back Pain",
          "Remote/Back Pain",
          "Hybrid/Eye Strain",
          "Onsite/Eye Strain",
          "Remote/Eye Strain",
          "Hybrid/Neck Pain",
          "Onsite/Neck Pain",
          "Remote/Neck Pain",
          "Hybrid/Shoulder Pain",
          "Onsite/Shoulder Pain",
          "Remote/Shoulder Pain",
          "Hybrid/Wrist Pain",
          "Onsite/Wrist Pain",
          "Remote/Wrist Pain",
          "Hybrid",
          "Onsite",
          "Remote"
         ],
         "labels": [
          "Back Pain",
          "Back Pain",
          "Back Pain",
          "Eye Strain",
          "Eye Strain",
          "Eye Strain",
          "Neck Pain",
          "Neck Pain",
          "Neck Pain",
          "Shoulder Pain",
          "Shoulder Pain",
          "Shoulder Pain",
          "Wrist Pain",
          "Wrist Pain",
          "Wrist Pain",
          "Hybrid",
          "Onsite",
          "Remote"
         ],
         "name": "",
         "parents": [
          "Hybrid",
          "Onsite",
          "Remote",
          "Hybrid",
          "Onsite",
          "Remote",
          "Hybrid",
          "Onsite",
          "Remote",
          "Hybrid",
          "Onsite",
          "Remote",
          "Hybrid",
          "Onsite",
          "Remote",
          "",
          "",
          ""
         ],
         "type": "treemap",
         "values": {
          "_inputArray": {
           "0": 488,
           "1": 778,
           "2": 297,
           "3": 603,
           "4": 935,
           "5": 346,
           "6": 229,
           "7": 398,
           "8": 171,
           "9": 588,
           "10": 880,
           "11": 319,
           "12": 132,
           "13": 237,
           "14": 98,
           "15": 2040,
           "16": 3228,
           "17": 1231,
           "bdata": "AAAAAACAfkAAAAAAAFCIQAAAAAAAkHJAAAAAAADYgkAAAAAAADiNQAAAAAAAoHVAAAAAAACgbEAAAAAAAOB4QAAAAAAAYGVAAAAAAABggkAAAAAAAICLQAAAAAAA8HNAAAAAAACAYEAAAAAAAKBtQAAAAAAAgFhAAAAAAADgn0AAAAAAADipQAAAAAAAPJNA",
           "dtype": "f8",
           "shape": "18"
          },
          "bdata": "AAAAAACAfkAAAAAAAFCIQAAAAAAAkHJAAAAAAADYgkAAAAAAADiNQAAAAAAAoHVAAAAAAACgbEAAAAAAAOB4QAAAAAAAYGVAAAAAAABggkAAAAAAAICLQAAAAAAA8HNAAAAAAACAYEAAAAAAAKBtQAAAAAAAgFhAAAAAAADgn0AAAAAAADipQAAAAAAAPJNA",
          "dtype": "f8"
         }
        }
       ],
       "layout": {
        "autosize": true,
        "legend": {
         "tracegroupgap": 0
        },
        "template": {
         "data": {
          "bar": [
           {
            "error_x": {
             "color": "#2a3f5f"
            },
            "error_y": {
             "color": "#2a3f5f"
            },
            "marker": {
             "line": {
              "color": "#E5ECF6",
              "width": 0.5
             },
             "pattern": {
              "fillmode": "overlay",
              "size": 10,
              "solidity": 0.2
             }
            },
            "type": "bar"
           }
          ],
          "barpolar": [
           {
            "marker": {
             "line": {
              "color": "#E5ECF6",
              "width": 0.5
             },
             "pattern": {
              "fillmode": "overlay",
              "size": 10,
              "solidity": 0.2
             }
            },
            "type": "barpolar"
           }
          ],
          "carpet": [
           {
            "aaxis": {
             "endlinecolor": "#2a3f5f",
             "gridcolor": "white",
             "linecolor": "white",
             "minorgridcolor": "white",
             "startlinecolor": "#2a3f5f"
            },
            "baxis": {
             "endlinecolor": "#2a3f5f",
             "gridcolor": "white",
             "linecolor": "white",
             "minorgridcolor": "white",
             "startlinecolor": "#2a3f5f"
            },
            "type": "carpet"
           }
          ],
          "choropleth": [
           {
            "colorbar": {
             "outlinewidth": 0,
             "ticks": ""
            },
            "type": "choropleth"
           }
          ],
          "contour": [
           {
            "colorbar": {
             "outlinewidth": 0,
             "ticks": ""
            },
            "colorscale": [
             [
              0,
              "#0d0887"
             ],
             [
              0.1111111111111111,
              "#46039f"
             ],
             [
              0.2222222222222222,
              "#7201a8"
             ],
             [
              0.3333333333333333,
              "#9c179e"
             ],
             [
              0.4444444444444444,
              "#bd3786"
             ],
             [
              0.5555555555555556,
              "#d8576b"
             ],
             [
              0.6666666666666666,
              "#ed7953"
             ],
             [
              0.7777777777777778,
              "#fb9f3a"
             ],
             [
              0.8888888888888888,
              "#fdca26"
             ],
             [
              1,
              "#f0f921"
             ]
            ],
            "type": "contour"
           }
          ],
          "contourcarpet": [
           {
            "colorbar": {
             "outlinewidth": 0,
             "ticks": ""
            },
            "type": "contourcarpet"
           }
          ],
          "heatmap": [
           {
            "colorbar": {
             "outlinewidth": 0,
             "ticks": ""
            },
            "colorscale": [
             [
              0,
              "#0d0887"
             ],
             [
              0.1111111111111111,
              "#46039f"
             ],
             [
              0.2222222222222222,
              "#7201a8"
             ],
             [
              0.3333333333333333,
              "#9c179e"
             ],
             [
              0.4444444444444444,
              "#bd3786"
             ],
             [
              0.5555555555555556,
              "#d8576b"
             ],
             [
              0.6666666666666666,
              "#ed7953"
             ],
             [
              0.7777777777777778,
              "#fb9f3a"
             ],
             [
              0.8888888888888888,
              "#fdca26"
             ],
             [
              1,
              "#f0f921"
             ]
            ],
            "type": "heatmap"
           }
          ],
          "histogram": [
           {
            "marker": {
             "pattern": {
              "fillmode": "overlay",
              "size": 10,
              "solidity": 0.2
             }
            },
            "type": "histogram"
           }
          ],
          "histogram2d": [
           {
            "colorbar": {
             "outlinewidth": 0,
             "ticks": ""
            },
            "colorscale": [
             [
              0,
              "#0d0887"
             ],
             [
              0.1111111111111111,
              "#46039f"
             ],
             [
              0.2222222222222222,
              "#7201a8"
             ],
             [
              0.3333333333333333,
              "#9c179e"
             ],
             [
              0.4444444444444444,
              "#bd3786"
             ],
             [
              0.5555555555555556,
              "#d8576b"
             ],
             [
              0.6666666666666666,
              "#ed7953"
             ],
             [
              0.7777777777777778,
              "#fb9f3a"
             ],
             [
              0.8888888888888888,
              "#fdca26"
             ],
             [
              1,
              "#f0f921"
             ]
            ],
            "type": "histogram2d"
           }
          ],
          "histogram2dcontour": [
           {
            "colorbar": {
             "outlinewidth": 0,
             "ticks": ""
            },
            "colorscale": [
             [
              0,
              "#0d0887"
             ],
             [
              0.1111111111111111,
              "#46039f"
             ],
             [
              0.2222222222222222,
              "#7201a8"
             ],
             [
              0.3333333333333333,
              "#9c179e"
             ],
             [
              0.4444444444444444,
              "#bd3786"
             ],
             [
              0.5555555555555556,
              "#d8576b"
             ],
             [
              0.6666666666666666,
              "#ed7953"
             ],
             [
              0.7777777777777778,
              "#fb9f3a"
             ],
             [
              0.8888888888888888,
              "#fdca26"
             ],
             [
              1,
              "#f0f921"
             ]
            ],
            "type": "histogram2dcontour"
           }
          ],
          "mesh3d": [
           {
            "colorbar": {
             "outlinewidth": 0,
             "ticks": ""
            },
            "type": "mesh3d"
           }
          ],
          "parcoords": [
           {
            "line": {
             "colorbar": {
              "outlinewidth": 0,
              "ticks": ""
             }
            },
            "type": "parcoords"
           }
          ],
          "pie": [
           {
            "automargin": true,
            "type": "pie"
           }
          ],
          "scatter": [
           {
            "fillpattern": {
             "fillmode": "overlay",
             "size": 10,
             "solidity": 0.2
            },
            "type": "scatter"
           }
          ],
          "scatter3d": [
           {
            "line": {
             "colorbar": {
              "outlinewidth": 0,
              "ticks": ""
             }
            },
            "marker": {
             "colorbar": {
              "outlinewidth": 0,
              "ticks": ""
             }
            },
            "type": "scatter3d"
           }
          ],
          "scattercarpet": [
           {
            "marker": {
             "colorbar": {
              "outlinewidth": 0,
              "ticks": ""
             }
            },
            "type": "scattercarpet"
           }
          ],
          "scattergeo": [
           {
            "marker": {
             "colorbar": {
              "outlinewidth": 0,
              "ticks": ""
             }
            },
            "type": "scattergeo"
           }
          ],
          "scattergl": [
           {
            "marker": {
             "colorbar": {
              "outlinewidth": 0,
              "ticks": ""
             }
            },
            "type": "scattergl"
           }
          ],
          "scattermap": [
           {
            "marker": {
             "colorbar": {
              "outlinewidth": 0,
              "ticks": ""
             }
            },
            "type": "scattermap"
           }
          ],
          "scattermapbox": [
           {
            "marker": {
             "colorbar": {
              "outlinewidth": 0,
              "ticks": ""
             }
            },
            "type": "scattermapbox"
           }
          ],
          "scatterpolar": [
           {
            "marker": {
             "colorbar": {
              "outlinewidth": 0,
              "ticks": ""
             }
            },
            "type": "scatterpolar"
           }
          ],
          "scatterpolargl": [
           {
            "marker": {
             "colorbar": {
              "outlinewidth": 0,
              "ticks": ""
             }
            },
            "type": "scatterpolargl"
           }
          ],
          "scatterternary": [
           {
            "marker": {
             "colorbar": {
              "outlinewidth": 0,
              "ticks": ""
             }
            },
            "type": "scatterternary"
           }
          ],
          "surface": [
           {
            "colorbar": {
             "outlinewidth": 0,
             "ticks": ""
            },
            "colorscale": [
             [
              0,
              "#0d0887"
             ],
             [
              0.1111111111111111,
              "#46039f"
             ],
             [
              0.2222222222222222,
              "#7201a8"
             ],
             [
              0.3333333333333333,
              "#9c179e"
             ],
             [
              0.4444444444444444,
              "#bd3786"
             ],
             [
              0.5555555555555556,
              "#d8576b"
             ],
             [
              0.6666666666666666,
              "#ed7953"
             ],
             [
              0.7777777777777778,
              "#fb9f3a"
             ],
             [
              0.8888888888888888,
              "#fdca26"
             ],
             [
              1,
              "#f0f921"
             ]
            ],
            "type": "surface"
           }
          ],
          "table": [
           {
            "cells": {
             "fill": {
              "color": "#EBF0F8"
             },
             "line": {
              "color": "white"
             }
            },
            "header": {
             "fill": {
              "color": "#C8D4E3"
             },
             "line": {
              "color": "white"
             }
            },
            "type": "table"
           }
          ]
         },
         "layout": {
          "annotationdefaults": {
           "arrowcolor": "#2a3f5f",
           "arrowhead": 0,
           "arrowwidth": 1
          },
          "autotypenumbers": "strict",
          "coloraxis": {
           "colorbar": {
            "outlinewidth": 0,
            "ticks": ""
           }
          },
          "colorscale": {
           "diverging": [
            [
             0,
             "#8e0152"
            ],
            [
             0.1,
             "#c51b7d"
            ],
            [
             0.2,
             "#de77ae"
            ],
            [
             0.3,
             "#f1b6da"
            ],
            [
             0.4,
             "#fde0ef"
            ],
            [
             0.5,
             "#f7f7f7"
            ],
            [
             0.6,
             "#e6f5d0"
            ],
            [
             0.7,
             "#b8e186"
            ],
            [
             0.8,
             "#7fbc41"
            ],
            [
             0.9,
             "#4d9221"
            ],
            [
             1,
             "#276419"
            ]
           ],
           "sequential": [
            [
             0,
             "#0d0887"
            ],
            [
             0.1111111111111111,
             "#46039f"
            ],
            [
             0.2222222222222222,
             "#7201a8"
            ],
            [
             0.3333333333333333,
             "#9c179e"
            ],
            [
             0.4444444444444444,
             "#bd3786"
            ],
            [
             0.5555555555555556,
             "#d8576b"
            ],
            [
             0.6666666666666666,
             "#ed7953"
            ],
            [
             0.7777777777777778,
             "#fb9f3a"
            ],
            [
             0.8888888888888888,
             "#fdca26"
            ],
            [
             1,
             "#f0f921"
            ]
           ],
           "sequentialminus": [
            [
             0,
             "#0d0887"
            ],
            [
             0.1111111111111111,
             "#46039f"
            ],
            [
             0.2222222222222222,
             "#7201a8"
            ],
            [
             0.3333333333333333,
             "#9c179e"
            ],
            [
             0.4444444444444444,
             "#bd3786"
            ],
            [
             0.5555555555555556,
             "#d8576b"
            ],
            [
             0.6666666666666666,
             "#ed7953"
            ],
            [
             0.7777777777777778,
             "#fb9f3a"
            ],
            [
             0.8888888888888888,
             "#fdca26"
            ],
            [
             1,
             "#f0f921"
            ]
           ]
          },
          "colorway": [
           "#636efa",
           "#EF553B",
           "#00cc96",
           "#ab63fa",
           "#FFA15A",
           "#19d3f3",
           "#FF6692",
           "#B6E880",
           "#FF97FF",
           "#FECB52"
          ],
          "font": {
           "color": "#2a3f5f"
          },
          "geo": {
           "bgcolor": "white",
           "lakecolor": "white",
           "landcolor": "#E5ECF6",
           "showlakes": true,
           "showland": true,
           "subunitcolor": "white"
          },
          "hoverlabel": {
           "align": "left"
          },
          "hovermode": "closest",
          "mapbox": {
           "style": "light"
          },
          "paper_bgcolor": "white",
          "plot_bgcolor": "#E5ECF6",
          "polar": {
           "angularaxis": {
            "gridcolor": "white",
            "linecolor": "white",
            "ticks": ""
           },
           "bgcolor": "#E5ECF6",
           "radialaxis": {
            "gridcolor": "white",
            "linecolor": "white",
            "ticks": ""
           }
          },
          "scene": {
           "xaxis": {
            "backgroundcolor": "#E5ECF6",
            "gridcolor": "white",
            "gridwidth": 2,
            "linecolor": "white",
            "showbackground": true,
            "ticks": "",
            "zerolinecolor": "white"
           },
           "yaxis": {
            "backgroundcolor": "#E5ECF6",
            "gridcolor": "white",
            "gridwidth": 2,
            "linecolor": "white",
            "showbackground": true,
            "ticks": "",
            "zerolinecolor": "white"
           },
           "zaxis": {
            "backgroundcolor": "#E5ECF6",
            "gridcolor": "white",
            "gridwidth": 2,
            "linecolor": "white",
            "showbackground": true,
            "ticks": "",
            "zerolinecolor": "white"
           }
          },
          "shapedefaults": {
           "line": {
            "color": "#2a3f5f"
           }
          },
          "ternary": {
           "aaxis": {
            "gridcolor": "white",
            "linecolor": "white",
            "ticks": ""
           },
           "baxis": {
            "gridcolor": "white",
            "linecolor": "white",
            "ticks": ""
           },
           "bgcolor": "#E5ECF6",
           "caxis": {
            "gridcolor": "white",
            "linecolor": "white",
            "ticks": ""
           }
          },
          "title": {
           "x": 0.05
          },
          "xaxis": {
           "automargin": true,
           "gridcolor": "white",
           "linecolor": "white",
           "ticks": "",
           "title": {
            "standoff": 15
           },
           "zerolinecolor": "white",
           "zerolinewidth": 2
          },
          "yaxis": {
           "automargin": true,
           "gridcolor": "white",
           "linecolor": "white",
           "ticks": "",
           "title": {
            "standoff": 15
           },
           "zerolinecolor": "white",
           "zerolinewidth": 2
          }
         }
        },
        "title": {
         "text": "Physical Health Issues Across Work Arrangements",
         "x": 0.5
        }
       }
      }
     },
     "metadata": {},
     "output_type": "display_data"
    }
   ],
   "source": [
    "#Physical Health issue Vs Work Arrangement\n",
    "fig = px.treemap(grouped,path=['Work_Arrangement','Physical_Issue_Split'],values='Count',\n",
    "             title='Physical Health Issues Across Work Arrangements')\n",
    "\n",
    "fig.update_layout(title_x=0.5)\n",
    "fig.show()\n"
   ]
  },
  {
   "cell_type": "code",
   "execution_count": null,
   "id": "dbb18a30-96b8-44cd-863b-355763debb52",
   "metadata": {},
   "outputs": [],
   "source": [
    "#Mental Health Condition by Physical Health Issues and Salary Range\n"
   ]
  },
  {
   "cell_type": "code",
   "execution_count": null,
   "id": "53c43c0b-ad68-411a-b842-e68d0328599b",
   "metadata": {},
   "outputs": [],
   "source": []
  }
 ],
 "metadata": {
  "kernelspec": {
   "display_name": "Python 3 (ipykernel)",
   "language": "python",
   "name": "python3"
  },
  "language_info": {
   "codemirror_mode": {
    "name": "ipython",
    "version": 3
   },
   "file_extension": ".py",
   "mimetype": "text/x-python",
   "name": "python",
   "nbconvert_exporter": "python",
   "pygments_lexer": "ipython3",
   "version": "3.13.3"
  }
 },
 "nbformat": 4,
 "nbformat_minor": 5
}
